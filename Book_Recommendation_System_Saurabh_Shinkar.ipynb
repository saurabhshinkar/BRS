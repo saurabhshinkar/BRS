{
  "nbformat": 4,
  "nbformat_minor": 0,
  "metadata": {
    "colab": {
      "provenance": [],
      "authorship_tag": "ABX9TyPm+JEjOO4ahBZxDXtXy2oG",
      "include_colab_link": true
    },
    "kernelspec": {
      "name": "python3",
      "display_name": "Python 3"
    },
    "language_info": {
      "name": "python"
    }
  },
  "cells": [
    {
      "cell_type": "markdown",
      "metadata": {
        "id": "view-in-github",
        "colab_type": "text"
      },
      "source": [
        "<a href=\"https://colab.research.google.com/github/saurabhshinkar/BRS/blob/main/Book_Recommendation_System_Saurabh_Shinkar.ipynb\" target=\"_parent\"><img src=\"https://colab.research.google.com/assets/colab-badge.svg\" alt=\"Open In Colab\"/></a>"
      ]
    },
    {
      "cell_type": "markdown",
      "source": [
        "# **Project Title : Book Recommendation System**"
      ],
      "metadata": {
        "id": "7bY7HkMRzp9E"
      }
    },
    {
      "cell_type": "markdown",
      "source": [
        "### <b> Problem Description </b>\n",
        "###During the last few decades, with the rise of Youtube, Amazon, Netflix, and many other such web services, recommender systems have taken more and more place in our lives. From e-commerce (suggest to buyers articles that could interest them) to online advertisement (suggest to users the right contents, matching their preferences), recommender systems are today unavoidable in our daily online journeys.\n",
        "\n",
        "\n",
        "### In a very general way, recommender systems are algorithms aimed at suggesting relevant items to users (items being movies to watch, text to read, products to buy, or anything else depending on industries).\n",
        "###Recommender systems are really critical in some industries as they can generate a huge amount of income when they are efficient or also be a way to stand out significantly from competitors. The main objective is to create a book recommendation system for users."
      ],
      "metadata": {
        "id": "J0QtEwhZz0-b"
      }
    },
    {
      "cell_type": "markdown",
      "source": [
        "## <b> Data Description </b>\n",
        "\n",
        "The Book-Crossing dataset comprises 3 files.\n",
        "\n",
        "### <b>Users: </b>\n",
        "Contains the users. Note that user IDs (User-ID) have been anonymized and map to\n",
        "integers. Demographic data is provided (Location, Age) if available. Otherwise, these fields contain NULL values.\n",
        "\n",
        "### <b>Books: </b> \n",
        "Books are identified by their respective ISBN. Invalid ISBNs have already been removed from the dataset. Moreover, some content-based information is given (Book-Title,Book-Author, Year-Of-Publication, Publisher), obtained from Amazon Web Services. Note that in the case of several authors, only the first is provided. URLs linking to cover images are also given, appearing in three different flavors (Image-URL-S,Image-URL-M, Image-URL-L), i.e., small, medium large. These URLs point to the Amazon website.\n",
        "\n",
        "### <b>Ratings: </b> \n",
        "Contains the book rating information. Ratings (Book-Rating) are either explicit,\n",
        "expressed on a scale from 1-10 (higher values denoting higher appreciation), or implicit, expressed by 0.\n",
        "\n",
        "\n"
      ],
      "metadata": {
        "id": "syA8fAa91Y9K"
      }
    },
    {
      "cell_type": "markdown",
      "source": [
        "# **Importing** **Libraries**"
      ],
      "metadata": {
        "id": "80ROGXcm2hcT"
      }
    },
    {
      "cell_type": "code",
      "source": [
        "#Import all library that will be used in entire project\n",
        "!pip install scikit-surprise\n",
        "%matplotlib inline\n",
        "import pandas as pd\n",
        "import matplotlib.pyplot as plt\n",
        "import seaborn as sns\n",
        "import numpy as np\n",
        "from scipy.stats import norm\n",
        "from sklearn.preprocessing import MinMaxScaler\n",
        "from sklearn.preprocessing import StandardScaler\n",
        "from sklearn.metrics import roc_auc_score, confusion_matrix,accuracy_score,f1_score,roc_curve, roc_auc_score,classification_report,precision_score, recall_score\n",
        "from sklearn.model_selection import train_test_split\n",
        "from scipy import stats\n",
        "import warnings\n",
        "warnings.filterwarnings('ignore')\n",
        "\n",
        "import pandas as pd\n",
        " \n",
        "import ast\n",
        " \n",
        "from sklearn.metrics.pairwise import cosine_similarity\n",
        " \n",
        "import seaborn as sns\n",
        " \n",
        "import numpy as np\n",
        " \n",
        "import matplotlib.pyplot as plt\n",
        " \n",
        "from sklearn.neighbors import NearestNeighbors\n",
        " \n",
        "from scipy.sparse import csr_matrix\n",
        " \n",
        "from surprise import Reader, Dataset\n",
        " \n",
        "from surprise.model_selection import train_test_split\n",
        " \n",
        "from surprise import SVDpp, accuracy\n",
        " \n",
        "from surprise.model_selection import cross_validate\n",
        " \n",
        "from collections import defaultdict\n",
        " \n",
        "from surprise import SVD, SVDpp, NMF\n",
        " \n",
        "from surprise import SlopeOne, CoClustering\n",
        " \n",
        "import matplotlib"
      ],
      "metadata": {
        "id": "EYNDHysN0aVl",
        "outputId": "9073b859-f07e-404c-fb7c-b91f8fb686cb",
        "colab": {
          "base_uri": "https://localhost:8080/"
        }
      },
      "execution_count": 1,
      "outputs": [
        {
          "output_type": "stream",
          "name": "stdout",
          "text": [
            "Looking in indexes: https://pypi.org/simple, https://us-python.pkg.dev/colab-wheels/public/simple/\n",
            "Collecting scikit-surprise\n",
            "  Downloading scikit-surprise-1.1.1.tar.gz (11.8 MB)\n",
            "\u001b[K     |████████████████████████████████| 11.8 MB 7.7 MB/s \n",
            "\u001b[?25hRequirement already satisfied: joblib>=0.11 in /usr/local/lib/python3.7/dist-packages (from scikit-surprise) (1.1.0)\n",
            "Requirement already satisfied: numpy>=1.11.2 in /usr/local/lib/python3.7/dist-packages (from scikit-surprise) (1.21.6)\n",
            "Requirement already satisfied: scipy>=1.0.0 in /usr/local/lib/python3.7/dist-packages (from scikit-surprise) (1.7.3)\n",
            "Requirement already satisfied: six>=1.10.0 in /usr/local/lib/python3.7/dist-packages (from scikit-surprise) (1.15.0)\n",
            "Building wheels for collected packages: scikit-surprise\n",
            "  Building wheel for scikit-surprise (setup.py) ... \u001b[?25l\u001b[?25hdone\n",
            "  Created wheel for scikit-surprise: filename=scikit_surprise-1.1.1-cp37-cp37m-linux_x86_64.whl size=1633981 sha256=7d2b751e6838a5fbbae2fe4c87559259c9be086539061d5eb13950359b9d8fd4\n",
            "  Stored in directory: /root/.cache/pip/wheels/76/44/74/b498c42be47b2406bd27994e16c5188e337c657025ab400c1c\n",
            "Successfully built scikit-surprise\n",
            "Installing collected packages: scikit-surprise\n",
            "Successfully installed scikit-surprise-1.1.1\n"
          ]
        }
      ]
    },
    {
      "cell_type": "markdown",
      "source": [
        "# **Mount Drive And Import Data**"
      ],
      "metadata": {
        "id": "0Zh-PeAc2pF_"
      }
    },
    {
      "cell_type": "code",
      "source": [
        "#Mount google drive for access of the play store dataset\n",
        "from google.colab import drive\n",
        "drive.mount('/content/drive')"
      ],
      "metadata": {
        "colab": {
          "base_uri": "https://localhost:8080/"
        },
        "id": "6zk3ohXy2qb7",
        "outputId": "6552063d-2677-4018-9051-29354f848ff8"
      },
      "execution_count": 2,
      "outputs": [
        {
          "output_type": "stream",
          "name": "stdout",
          "text": [
            "Mounted at /content/drive\n"
          ]
        }
      ]
    },
    {
      "cell_type": "code",
      "source": [
        "#Importing users data\n",
        "File_path='/content/drive/MyDrive/Capstone Projects/Book Recommendation System/'\n",
        "users= pd.read_csv(File_path + 'Users.csv')\n",
        "\n",
        "#Importing books data\n",
        "books= pd.read_csv(File_path + 'Books.csv')\n",
        "\n",
        "#Importing ratings data\n",
        "ratings= pd.read_csv(File_path + 'Ratings.csv')"
      ],
      "metadata": {
        "id": "qwgdQ9Su2srt"
      },
      "execution_count": 3,
      "outputs": []
    },
    {
      "cell_type": "code",
      "source": [
        "# First Look \n",
        "users.head(2)"
      ],
      "metadata": {
        "colab": {
          "base_uri": "https://localhost:8080/",
          "height": 112
        },
        "id": "qRoH8kek41y_",
        "outputId": "2524e3b0-5c52-48d2-ff17-2bad54f737ce"
      },
      "execution_count": 4,
      "outputs": [
        {
          "output_type": "execute_result",
          "data": {
            "text/plain": [
              "   User-ID                   Location   Age\n",
              "0        1         nyc, new york, usa   NaN\n",
              "1        2  stockton, california, usa  18.0"
            ],
            "text/html": [
              "\n",
              "  <div id=\"df-d96b6415-b874-47b8-b474-4930ef15593b\">\n",
              "    <div class=\"colab-df-container\">\n",
              "      <div>\n",
              "<style scoped>\n",
              "    .dataframe tbody tr th:only-of-type {\n",
              "        vertical-align: middle;\n",
              "    }\n",
              "\n",
              "    .dataframe tbody tr th {\n",
              "        vertical-align: top;\n",
              "    }\n",
              "\n",
              "    .dataframe thead th {\n",
              "        text-align: right;\n",
              "    }\n",
              "</style>\n",
              "<table border=\"1\" class=\"dataframe\">\n",
              "  <thead>\n",
              "    <tr style=\"text-align: right;\">\n",
              "      <th></th>\n",
              "      <th>User-ID</th>\n",
              "      <th>Location</th>\n",
              "      <th>Age</th>\n",
              "    </tr>\n",
              "  </thead>\n",
              "  <tbody>\n",
              "    <tr>\n",
              "      <th>0</th>\n",
              "      <td>1</td>\n",
              "      <td>nyc, new york, usa</td>\n",
              "      <td>NaN</td>\n",
              "    </tr>\n",
              "    <tr>\n",
              "      <th>1</th>\n",
              "      <td>2</td>\n",
              "      <td>stockton, california, usa</td>\n",
              "      <td>18.0</td>\n",
              "    </tr>\n",
              "  </tbody>\n",
              "</table>\n",
              "</div>\n",
              "      <button class=\"colab-df-convert\" onclick=\"convertToInteractive('df-d96b6415-b874-47b8-b474-4930ef15593b')\"\n",
              "              title=\"Convert this dataframe to an interactive table.\"\n",
              "              style=\"display:none;\">\n",
              "        \n",
              "  <svg xmlns=\"http://www.w3.org/2000/svg\" height=\"24px\"viewBox=\"0 0 24 24\"\n",
              "       width=\"24px\">\n",
              "    <path d=\"M0 0h24v24H0V0z\" fill=\"none\"/>\n",
              "    <path d=\"M18.56 5.44l.94 2.06.94-2.06 2.06-.94-2.06-.94-.94-2.06-.94 2.06-2.06.94zm-11 1L8.5 8.5l.94-2.06 2.06-.94-2.06-.94L8.5 2.5l-.94 2.06-2.06.94zm10 10l.94 2.06.94-2.06 2.06-.94-2.06-.94-.94-2.06-.94 2.06-2.06.94z\"/><path d=\"M17.41 7.96l-1.37-1.37c-.4-.4-.92-.59-1.43-.59-.52 0-1.04.2-1.43.59L10.3 9.45l-7.72 7.72c-.78.78-.78 2.05 0 2.83L4 21.41c.39.39.9.59 1.41.59.51 0 1.02-.2 1.41-.59l7.78-7.78 2.81-2.81c.8-.78.8-2.07 0-2.86zM5.41 20L4 18.59l7.72-7.72 1.47 1.35L5.41 20z\"/>\n",
              "  </svg>\n",
              "      </button>\n",
              "      \n",
              "  <style>\n",
              "    .colab-df-container {\n",
              "      display:flex;\n",
              "      flex-wrap:wrap;\n",
              "      gap: 12px;\n",
              "    }\n",
              "\n",
              "    .colab-df-convert {\n",
              "      background-color: #E8F0FE;\n",
              "      border: none;\n",
              "      border-radius: 50%;\n",
              "      cursor: pointer;\n",
              "      display: none;\n",
              "      fill: #1967D2;\n",
              "      height: 32px;\n",
              "      padding: 0 0 0 0;\n",
              "      width: 32px;\n",
              "    }\n",
              "\n",
              "    .colab-df-convert:hover {\n",
              "      background-color: #E2EBFA;\n",
              "      box-shadow: 0px 1px 2px rgba(60, 64, 67, 0.3), 0px 1px 3px 1px rgba(60, 64, 67, 0.15);\n",
              "      fill: #174EA6;\n",
              "    }\n",
              "\n",
              "    [theme=dark] .colab-df-convert {\n",
              "      background-color: #3B4455;\n",
              "      fill: #D2E3FC;\n",
              "    }\n",
              "\n",
              "    [theme=dark] .colab-df-convert:hover {\n",
              "      background-color: #434B5C;\n",
              "      box-shadow: 0px 1px 3px 1px rgba(0, 0, 0, 0.15);\n",
              "      filter: drop-shadow(0px 1px 2px rgba(0, 0, 0, 0.3));\n",
              "      fill: #FFFFFF;\n",
              "    }\n",
              "  </style>\n",
              "\n",
              "      <script>\n",
              "        const buttonEl =\n",
              "          document.querySelector('#df-d96b6415-b874-47b8-b474-4930ef15593b button.colab-df-convert');\n",
              "        buttonEl.style.display =\n",
              "          google.colab.kernel.accessAllowed ? 'block' : 'none';\n",
              "\n",
              "        async function convertToInteractive(key) {\n",
              "          const element = document.querySelector('#df-d96b6415-b874-47b8-b474-4930ef15593b');\n",
              "          const dataTable =\n",
              "            await google.colab.kernel.invokeFunction('convertToInteractive',\n",
              "                                                     [key], {});\n",
              "          if (!dataTable) return;\n",
              "\n",
              "          const docLinkHtml = 'Like what you see? Visit the ' +\n",
              "            '<a target=\"_blank\" href=https://colab.research.google.com/notebooks/data_table.ipynb>data table notebook</a>'\n",
              "            + ' to learn more about interactive tables.';\n",
              "          element.innerHTML = '';\n",
              "          dataTable['output_type'] = 'display_data';\n",
              "          await google.colab.output.renderOutput(dataTable, element);\n",
              "          const docLink = document.createElement('div');\n",
              "          docLink.innerHTML = docLinkHtml;\n",
              "          element.appendChild(docLink);\n",
              "        }\n",
              "      </script>\n",
              "    </div>\n",
              "  </div>\n",
              "  "
            ]
          },
          "metadata": {},
          "execution_count": 4
        }
      ]
    },
    {
      "cell_type": "code",
      "source": [
        "# First Look \n",
        "books.head(2)"
      ],
      "metadata": {
        "colab": {
          "base_uri": "https://localhost:8080/",
          "height": 263
        },
        "id": "kXRux5ow7pzi",
        "outputId": "3a2dc999-4b57-4834-bb7e-8f247808753e"
      },
      "execution_count": 5,
      "outputs": [
        {
          "output_type": "execute_result",
          "data": {
            "text/plain": [
              "         ISBN           Book-Title           Book-Author Year-Of-Publication  \\\n",
              "0  0195153448  Classical Mythology    Mark P. O. Morford                2002   \n",
              "1  0002005018         Clara Callan  Richard Bruce Wright                2001   \n",
              "\n",
              "                 Publisher                                        Image-URL-S  \\\n",
              "0  Oxford University Press  http://images.amazon.com/images/P/0195153448.0...   \n",
              "1    HarperFlamingo Canada  http://images.amazon.com/images/P/0002005018.0...   \n",
              "\n",
              "                                         Image-URL-M  \\\n",
              "0  http://images.amazon.com/images/P/0195153448.0...   \n",
              "1  http://images.amazon.com/images/P/0002005018.0...   \n",
              "\n",
              "                                         Image-URL-L  \n",
              "0  http://images.amazon.com/images/P/0195153448.0...  \n",
              "1  http://images.amazon.com/images/P/0002005018.0...  "
            ],
            "text/html": [
              "\n",
              "  <div id=\"df-ccc4ec10-60a0-4b17-a4ff-9821894d3619\">\n",
              "    <div class=\"colab-df-container\">\n",
              "      <div>\n",
              "<style scoped>\n",
              "    .dataframe tbody tr th:only-of-type {\n",
              "        vertical-align: middle;\n",
              "    }\n",
              "\n",
              "    .dataframe tbody tr th {\n",
              "        vertical-align: top;\n",
              "    }\n",
              "\n",
              "    .dataframe thead th {\n",
              "        text-align: right;\n",
              "    }\n",
              "</style>\n",
              "<table border=\"1\" class=\"dataframe\">\n",
              "  <thead>\n",
              "    <tr style=\"text-align: right;\">\n",
              "      <th></th>\n",
              "      <th>ISBN</th>\n",
              "      <th>Book-Title</th>\n",
              "      <th>Book-Author</th>\n",
              "      <th>Year-Of-Publication</th>\n",
              "      <th>Publisher</th>\n",
              "      <th>Image-URL-S</th>\n",
              "      <th>Image-URL-M</th>\n",
              "      <th>Image-URL-L</th>\n",
              "    </tr>\n",
              "  </thead>\n",
              "  <tbody>\n",
              "    <tr>\n",
              "      <th>0</th>\n",
              "      <td>0195153448</td>\n",
              "      <td>Classical Mythology</td>\n",
              "      <td>Mark P. O. Morford</td>\n",
              "      <td>2002</td>\n",
              "      <td>Oxford University Press</td>\n",
              "      <td>http://images.amazon.com/images/P/0195153448.0...</td>\n",
              "      <td>http://images.amazon.com/images/P/0195153448.0...</td>\n",
              "      <td>http://images.amazon.com/images/P/0195153448.0...</td>\n",
              "    </tr>\n",
              "    <tr>\n",
              "      <th>1</th>\n",
              "      <td>0002005018</td>\n",
              "      <td>Clara Callan</td>\n",
              "      <td>Richard Bruce Wright</td>\n",
              "      <td>2001</td>\n",
              "      <td>HarperFlamingo Canada</td>\n",
              "      <td>http://images.amazon.com/images/P/0002005018.0...</td>\n",
              "      <td>http://images.amazon.com/images/P/0002005018.0...</td>\n",
              "      <td>http://images.amazon.com/images/P/0002005018.0...</td>\n",
              "    </tr>\n",
              "  </tbody>\n",
              "</table>\n",
              "</div>\n",
              "      <button class=\"colab-df-convert\" onclick=\"convertToInteractive('df-ccc4ec10-60a0-4b17-a4ff-9821894d3619')\"\n",
              "              title=\"Convert this dataframe to an interactive table.\"\n",
              "              style=\"display:none;\">\n",
              "        \n",
              "  <svg xmlns=\"http://www.w3.org/2000/svg\" height=\"24px\"viewBox=\"0 0 24 24\"\n",
              "       width=\"24px\">\n",
              "    <path d=\"M0 0h24v24H0V0z\" fill=\"none\"/>\n",
              "    <path d=\"M18.56 5.44l.94 2.06.94-2.06 2.06-.94-2.06-.94-.94-2.06-.94 2.06-2.06.94zm-11 1L8.5 8.5l.94-2.06 2.06-.94-2.06-.94L8.5 2.5l-.94 2.06-2.06.94zm10 10l.94 2.06.94-2.06 2.06-.94-2.06-.94-.94-2.06-.94 2.06-2.06.94z\"/><path d=\"M17.41 7.96l-1.37-1.37c-.4-.4-.92-.59-1.43-.59-.52 0-1.04.2-1.43.59L10.3 9.45l-7.72 7.72c-.78.78-.78 2.05 0 2.83L4 21.41c.39.39.9.59 1.41.59.51 0 1.02-.2 1.41-.59l7.78-7.78 2.81-2.81c.8-.78.8-2.07 0-2.86zM5.41 20L4 18.59l7.72-7.72 1.47 1.35L5.41 20z\"/>\n",
              "  </svg>\n",
              "      </button>\n",
              "      \n",
              "  <style>\n",
              "    .colab-df-container {\n",
              "      display:flex;\n",
              "      flex-wrap:wrap;\n",
              "      gap: 12px;\n",
              "    }\n",
              "\n",
              "    .colab-df-convert {\n",
              "      background-color: #E8F0FE;\n",
              "      border: none;\n",
              "      border-radius: 50%;\n",
              "      cursor: pointer;\n",
              "      display: none;\n",
              "      fill: #1967D2;\n",
              "      height: 32px;\n",
              "      padding: 0 0 0 0;\n",
              "      width: 32px;\n",
              "    }\n",
              "\n",
              "    .colab-df-convert:hover {\n",
              "      background-color: #E2EBFA;\n",
              "      box-shadow: 0px 1px 2px rgba(60, 64, 67, 0.3), 0px 1px 3px 1px rgba(60, 64, 67, 0.15);\n",
              "      fill: #174EA6;\n",
              "    }\n",
              "\n",
              "    [theme=dark] .colab-df-convert {\n",
              "      background-color: #3B4455;\n",
              "      fill: #D2E3FC;\n",
              "    }\n",
              "\n",
              "    [theme=dark] .colab-df-convert:hover {\n",
              "      background-color: #434B5C;\n",
              "      box-shadow: 0px 1px 3px 1px rgba(0, 0, 0, 0.15);\n",
              "      filter: drop-shadow(0px 1px 2px rgba(0, 0, 0, 0.3));\n",
              "      fill: #FFFFFF;\n",
              "    }\n",
              "  </style>\n",
              "\n",
              "      <script>\n",
              "        const buttonEl =\n",
              "          document.querySelector('#df-ccc4ec10-60a0-4b17-a4ff-9821894d3619 button.colab-df-convert');\n",
              "        buttonEl.style.display =\n",
              "          google.colab.kernel.accessAllowed ? 'block' : 'none';\n",
              "\n",
              "        async function convertToInteractive(key) {\n",
              "          const element = document.querySelector('#df-ccc4ec10-60a0-4b17-a4ff-9821894d3619');\n",
              "          const dataTable =\n",
              "            await google.colab.kernel.invokeFunction('convertToInteractive',\n",
              "                                                     [key], {});\n",
              "          if (!dataTable) return;\n",
              "\n",
              "          const docLinkHtml = 'Like what you see? Visit the ' +\n",
              "            '<a target=\"_blank\" href=https://colab.research.google.com/notebooks/data_table.ipynb>data table notebook</a>'\n",
              "            + ' to learn more about interactive tables.';\n",
              "          element.innerHTML = '';\n",
              "          dataTable['output_type'] = 'display_data';\n",
              "          await google.colab.output.renderOutput(dataTable, element);\n",
              "          const docLink = document.createElement('div');\n",
              "          docLink.innerHTML = docLinkHtml;\n",
              "          element.appendChild(docLink);\n",
              "        }\n",
              "      </script>\n",
              "    </div>\n",
              "  </div>\n",
              "  "
            ]
          },
          "metadata": {},
          "execution_count": 5
        }
      ]
    },
    {
      "cell_type": "code",
      "source": [
        "# First Look \n",
        "ratings.head(2)"
      ],
      "metadata": {
        "colab": {
          "base_uri": "https://localhost:8080/",
          "height": 112
        },
        "id": "Rs1FQ_Fm7yiB",
        "outputId": "927c2948-20a0-4e56-d42a-59bc81bdd187"
      },
      "execution_count": 6,
      "outputs": [
        {
          "output_type": "execute_result",
          "data": {
            "text/plain": [
              "   User-ID        ISBN  Book-Rating\n",
              "0   276725  034545104X            0\n",
              "1   276726  0155061224            5"
            ],
            "text/html": [
              "\n",
              "  <div id=\"df-f91e5ea4-7f70-4a2a-995e-ff3ef60c448e\">\n",
              "    <div class=\"colab-df-container\">\n",
              "      <div>\n",
              "<style scoped>\n",
              "    .dataframe tbody tr th:only-of-type {\n",
              "        vertical-align: middle;\n",
              "    }\n",
              "\n",
              "    .dataframe tbody tr th {\n",
              "        vertical-align: top;\n",
              "    }\n",
              "\n",
              "    .dataframe thead th {\n",
              "        text-align: right;\n",
              "    }\n",
              "</style>\n",
              "<table border=\"1\" class=\"dataframe\">\n",
              "  <thead>\n",
              "    <tr style=\"text-align: right;\">\n",
              "      <th></th>\n",
              "      <th>User-ID</th>\n",
              "      <th>ISBN</th>\n",
              "      <th>Book-Rating</th>\n",
              "    </tr>\n",
              "  </thead>\n",
              "  <tbody>\n",
              "    <tr>\n",
              "      <th>0</th>\n",
              "      <td>276725</td>\n",
              "      <td>034545104X</td>\n",
              "      <td>0</td>\n",
              "    </tr>\n",
              "    <tr>\n",
              "      <th>1</th>\n",
              "      <td>276726</td>\n",
              "      <td>0155061224</td>\n",
              "      <td>5</td>\n",
              "    </tr>\n",
              "  </tbody>\n",
              "</table>\n",
              "</div>\n",
              "      <button class=\"colab-df-convert\" onclick=\"convertToInteractive('df-f91e5ea4-7f70-4a2a-995e-ff3ef60c448e')\"\n",
              "              title=\"Convert this dataframe to an interactive table.\"\n",
              "              style=\"display:none;\">\n",
              "        \n",
              "  <svg xmlns=\"http://www.w3.org/2000/svg\" height=\"24px\"viewBox=\"0 0 24 24\"\n",
              "       width=\"24px\">\n",
              "    <path d=\"M0 0h24v24H0V0z\" fill=\"none\"/>\n",
              "    <path d=\"M18.56 5.44l.94 2.06.94-2.06 2.06-.94-2.06-.94-.94-2.06-.94 2.06-2.06.94zm-11 1L8.5 8.5l.94-2.06 2.06-.94-2.06-.94L8.5 2.5l-.94 2.06-2.06.94zm10 10l.94 2.06.94-2.06 2.06-.94-2.06-.94-.94-2.06-.94 2.06-2.06.94z\"/><path d=\"M17.41 7.96l-1.37-1.37c-.4-.4-.92-.59-1.43-.59-.52 0-1.04.2-1.43.59L10.3 9.45l-7.72 7.72c-.78.78-.78 2.05 0 2.83L4 21.41c.39.39.9.59 1.41.59.51 0 1.02-.2 1.41-.59l7.78-7.78 2.81-2.81c.8-.78.8-2.07 0-2.86zM5.41 20L4 18.59l7.72-7.72 1.47 1.35L5.41 20z\"/>\n",
              "  </svg>\n",
              "      </button>\n",
              "      \n",
              "  <style>\n",
              "    .colab-df-container {\n",
              "      display:flex;\n",
              "      flex-wrap:wrap;\n",
              "      gap: 12px;\n",
              "    }\n",
              "\n",
              "    .colab-df-convert {\n",
              "      background-color: #E8F0FE;\n",
              "      border: none;\n",
              "      border-radius: 50%;\n",
              "      cursor: pointer;\n",
              "      display: none;\n",
              "      fill: #1967D2;\n",
              "      height: 32px;\n",
              "      padding: 0 0 0 0;\n",
              "      width: 32px;\n",
              "    }\n",
              "\n",
              "    .colab-df-convert:hover {\n",
              "      background-color: #E2EBFA;\n",
              "      box-shadow: 0px 1px 2px rgba(60, 64, 67, 0.3), 0px 1px 3px 1px rgba(60, 64, 67, 0.15);\n",
              "      fill: #174EA6;\n",
              "    }\n",
              "\n",
              "    [theme=dark] .colab-df-convert {\n",
              "      background-color: #3B4455;\n",
              "      fill: #D2E3FC;\n",
              "    }\n",
              "\n",
              "    [theme=dark] .colab-df-convert:hover {\n",
              "      background-color: #434B5C;\n",
              "      box-shadow: 0px 1px 3px 1px rgba(0, 0, 0, 0.15);\n",
              "      filter: drop-shadow(0px 1px 2px rgba(0, 0, 0, 0.3));\n",
              "      fill: #FFFFFF;\n",
              "    }\n",
              "  </style>\n",
              "\n",
              "      <script>\n",
              "        const buttonEl =\n",
              "          document.querySelector('#df-f91e5ea4-7f70-4a2a-995e-ff3ef60c448e button.colab-df-convert');\n",
              "        buttonEl.style.display =\n",
              "          google.colab.kernel.accessAllowed ? 'block' : 'none';\n",
              "\n",
              "        async function convertToInteractive(key) {\n",
              "          const element = document.querySelector('#df-f91e5ea4-7f70-4a2a-995e-ff3ef60c448e');\n",
              "          const dataTable =\n",
              "            await google.colab.kernel.invokeFunction('convertToInteractive',\n",
              "                                                     [key], {});\n",
              "          if (!dataTable) return;\n",
              "\n",
              "          const docLinkHtml = 'Like what you see? Visit the ' +\n",
              "            '<a target=\"_blank\" href=https://colab.research.google.com/notebooks/data_table.ipynb>data table notebook</a>'\n",
              "            + ' to learn more about interactive tables.';\n",
              "          element.innerHTML = '';\n",
              "          dataTable['output_type'] = 'display_data';\n",
              "          await google.colab.output.renderOutput(dataTable, element);\n",
              "          const docLink = document.createElement('div');\n",
              "          docLink.innerHTML = docLinkHtml;\n",
              "          element.appendChild(docLink);\n",
              "        }\n",
              "      </script>\n",
              "    </div>\n",
              "  </div>\n",
              "  "
            ]
          },
          "metadata": {},
          "execution_count": 6
        }
      ]
    },
    {
      "cell_type": "code",
      "source": [
        "#data information\n",
        "users.info()"
      ],
      "metadata": {
        "colab": {
          "base_uri": "https://localhost:8080/"
        },
        "id": "djwWYAts5B2S",
        "outputId": "8893f379-4ee7-47c2-b990-9818c947aae1"
      },
      "execution_count": 7,
      "outputs": [
        {
          "output_type": "stream",
          "name": "stdout",
          "text": [
            "<class 'pandas.core.frame.DataFrame'>\n",
            "RangeIndex: 278858 entries, 0 to 278857\n",
            "Data columns (total 3 columns):\n",
            " #   Column    Non-Null Count   Dtype  \n",
            "---  ------    --------------   -----  \n",
            " 0   User-ID   278858 non-null  int64  \n",
            " 1   Location  278858 non-null  object \n",
            " 2   Age       168096 non-null  float64\n",
            "dtypes: float64(1), int64(1), object(1)\n",
            "memory usage: 6.4+ MB\n"
          ]
        }
      ]
    },
    {
      "cell_type": "code",
      "source": [
        "#data information\n",
        "books.info()"
      ],
      "metadata": {
        "colab": {
          "base_uri": "https://localhost:8080/"
        },
        "id": "1psCvbQ57S3d",
        "outputId": "2e8c16b2-ecc2-4b43-ca85-1c53a0690c56"
      },
      "execution_count": 8,
      "outputs": [
        {
          "output_type": "stream",
          "name": "stdout",
          "text": [
            "<class 'pandas.core.frame.DataFrame'>\n",
            "RangeIndex: 271360 entries, 0 to 271359\n",
            "Data columns (total 8 columns):\n",
            " #   Column               Non-Null Count   Dtype \n",
            "---  ------               --------------   ----- \n",
            " 0   ISBN                 271360 non-null  object\n",
            " 1   Book-Title           271360 non-null  object\n",
            " 2   Book-Author          271359 non-null  object\n",
            " 3   Year-Of-Publication  271360 non-null  object\n",
            " 4   Publisher            271358 non-null  object\n",
            " 5   Image-URL-S          271360 non-null  object\n",
            " 6   Image-URL-M          271360 non-null  object\n",
            " 7   Image-URL-L          271357 non-null  object\n",
            "dtypes: object(8)\n",
            "memory usage: 16.6+ MB\n"
          ]
        }
      ]
    },
    {
      "cell_type": "code",
      "source": [
        "#data information\n",
        "ratings.info()"
      ],
      "metadata": {
        "colab": {
          "base_uri": "https://localhost:8080/"
        },
        "id": "ZKuUXM-P7cxS",
        "outputId": "b28c92de-a382-4a0b-d3e7-a8e4e0f1d971"
      },
      "execution_count": 9,
      "outputs": [
        {
          "output_type": "stream",
          "name": "stdout",
          "text": [
            "<class 'pandas.core.frame.DataFrame'>\n",
            "RangeIndex: 1149780 entries, 0 to 1149779\n",
            "Data columns (total 3 columns):\n",
            " #   Column       Non-Null Count    Dtype \n",
            "---  ------       --------------    ----- \n",
            " 0   User-ID      1149780 non-null  int64 \n",
            " 1   ISBN         1149780 non-null  object\n",
            " 2   Book-Rating  1149780 non-null  int64 \n",
            "dtypes: int64(2), object(1)\n",
            "memory usage: 26.3+ MB\n"
          ]
        }
      ]
    },
    {
      "cell_type": "markdown",
      "source": [
        "# **Handling Missing Vaules**"
      ],
      "metadata": {
        "id": "NPKhmTdV8dEc"
      }
    },
    {
      "cell_type": "markdown",
      "source": [
        "**Users Dataset**"
      ],
      "metadata": {
        "id": "1vs8IAtX8kXh"
      }
    },
    {
      "cell_type": "code",
      "source": [
        "# Missing Value Count Function\n",
        "def show_missing():\n",
        "    missing = users.columns[users.isnull().any()].tolist()\n",
        "    return missing\n",
        "\n",
        "# Missing data counts and percentage\n",
        "print('Missing Data Count')\n",
        "print(users[show_missing()].isnull().sum().sort_values(ascending = False))\n",
        "print('--'*50)\n",
        "print('Missing Data Percentage')\n",
        "print(round(users[show_missing()].isnull().sum().sort_values(ascending = False)/len(users)*100,2))"
      ],
      "metadata": {
        "colab": {
          "base_uri": "https://localhost:8080/"
        },
        "id": "MTkmuz7z8gKK",
        "outputId": "7c4602ca-b0df-44b1-85f5-b9c291405852"
      },
      "execution_count": 10,
      "outputs": [
        {
          "output_type": "stream",
          "name": "stdout",
          "text": [
            "Missing Data Count\n",
            "Age    110762\n",
            "dtype: int64\n",
            "----------------------------------------------------------------------------------------------------\n",
            "Missing Data Percentage\n",
            "Age    39.72\n",
            "dtype: float64\n"
          ]
        }
      ]
    },
    {
      "cell_type": "code",
      "source": [
        "users['Age'].describe()"
      ],
      "metadata": {
        "colab": {
          "base_uri": "https://localhost:8080/"
        },
        "id": "7SpZXkBJAVg9",
        "outputId": "dddb95eb-d7c9-4539-c182-8aa2bbbfda28"
      },
      "execution_count": 11,
      "outputs": [
        {
          "output_type": "execute_result",
          "data": {
            "text/plain": [
              "count    168096.000000\n",
              "mean         34.751434\n",
              "std          14.428097\n",
              "min           0.000000\n",
              "25%          24.000000\n",
              "50%          32.000000\n",
              "75%          44.000000\n",
              "max         244.000000\n",
              "Name: Age, dtype: float64"
            ]
          },
          "metadata": {},
          "execution_count": 11
        }
      ]
    },
    {
      "cell_type": "markdown",
      "source": [
        "minimum age 0 and max age 244? so outliers exist in age"
      ],
      "metadata": {
        "id": "rohR5IPqAsRA"
      }
    },
    {
      "cell_type": "markdown",
      "source": [
        "Age is positively skewed.\n",
        "Median imputation is preferable for skewed distribution(be it right or left). \n",
        "So we will replace nulls with median in Age column. Outliers affect the mean value of the data but have little effect on the median or mode of a given set of data so we can impute nulls with median before removing outliers."
      ],
      "metadata": {
        "id": "keMYd1NS6aeX"
      }
    },
    {
      "cell_type": "code",
      "source": [
        "#Fill NaN Values in Age Column with Median\n",
        "users['Age'] =users['Age'].fillna(users['Age'].median())"
      ],
      "metadata": {
        "id": "K2RWGwDf6Y81"
      },
      "execution_count": 12,
      "outputs": []
    },
    {
      "cell_type": "code",
      "source": [
        "#Capping the outlier rows with Percentiles\n",
        "upper_lim = users['Age'].quantile(.95)\n",
        "lower_lim = users['Age'].quantile(.05)\n",
        "users.loc[(users[\"Age\"] > upper_lim),\"Age\"] = upper_lim\n",
        "users.loc[(users[\"Age\"] < lower_lim),\"Age\"] = lower_lim"
      ],
      "metadata": {
        "id": "-t8xbOvzOqr5"
      },
      "execution_count": 13,
      "outputs": []
    },
    {
      "cell_type": "code",
      "source": [
        "upper_lim"
      ],
      "metadata": {
        "id": "4j4Cl84IuT_N",
        "outputId": "35c709a2-c87b-4cc2-c4f9-43c8e700f959",
        "colab": {
          "base_uri": "https://localhost:8080/"
        }
      },
      "execution_count": 14,
      "outputs": [
        {
          "output_type": "execute_result",
          "data": {
            "text/plain": [
              "56.0"
            ]
          },
          "metadata": {},
          "execution_count": 14
        }
      ]
    },
    {
      "cell_type": "code",
      "source": [
        "#Boxplot and distplot of Age\n",
        "plt.figure(figsize=(15,6))\n",
        "plt.subplot(1, 2, 1)\n",
        "fig = sns.boxplot(y=users[\"Age\"])\n",
        "fig.set_title('')\n",
        "fig.set_ylabel(\"Age\")\n",
        "    \n",
        "plt.subplot(1, 2, 2)\n",
        "fig = sns.distplot(users[\"Age\"].dropna())\n",
        "fig.set_ylabel('Age value count')\n",
        "fig.set_xlabel(\"Age\")\n",
        "\n",
        "plt.show()"
      ],
      "metadata": {
        "id": "RUKcUDQpPXSQ",
        "outputId": "478f3db3-55dc-416a-d53d-f05eb3ec2189",
        "colab": {
          "base_uri": "https://localhost:8080/",
          "height": 388
        }
      },
      "execution_count": 15,
      "outputs": [
        {
          "output_type": "display_data",
          "data": {
            "text/plain": [
              "<Figure size 1080x432 with 2 Axes>"
            ],
            "image/png": "[encoded data removed]"
          },
          "metadata": {
            "needs_background": "light"
          }
        }
      ]
    },
    {
      "cell_type": "code",
      "source": [
        "users['Age'].describe()"
      ],
      "metadata": {
        "id": "t1uZaf1JuJT3",
        "outputId": "c68565d4-a0fb-4bf3-e122-a18682576a54",
        "colab": {
          "base_uri": "https://localhost:8080/"
        }
      },
      "execution_count": 16,
      "outputs": [
        {
          "output_type": "execute_result",
          "data": {
            "text/plain": [
              "count    278858.000000\n",
              "mean         33.402570\n",
              "std           9.523058\n",
              "min          18.000000\n",
              "25%          29.000000\n",
              "50%          32.000000\n",
              "75%          35.000000\n",
              "max          56.000000\n",
              "Name: Age, dtype: float64"
            ]
          },
          "metadata": {},
          "execution_count": 16
        }
      ]
    },
    {
      "cell_type": "code",
      "source": [
        "users['locat']=users.Location.apply(lambda x: x.split(', '))\n",
        "users['Country']=users.locat.apply(lambda x: x[2] if len(x)==3 else 'n/a')\n",
        "users.drop('locat',axis=1,inplace=True)"
      ],
      "metadata": {
        "id": "NtrjfE0P8PH2"
      },
      "execution_count": 17,
      "outputs": []
    },
    {
      "cell_type": "code",
      "source": [],
      "metadata": {
        "id": "UbkVmPOv9StX"
      },
      "execution_count": 17,
      "outputs": []
    },
    {
      "cell_type": "markdown",
      "source": [
        "**Books Dataset**"
      ],
      "metadata": {
        "id": "X1MWSHht83AJ"
      }
    },
    {
      "cell_type": "code",
      "source": [
        "# Missing Value Count Function\n",
        "def show_missing():\n",
        "    missing = books.columns[books.isnull().any()].tolist()\n",
        "    return missing\n",
        "\n",
        "# Missing data counts and percentage\n",
        "print('Missing Data Count')\n",
        "print(books[show_missing()].isnull().sum().sort_values(ascending = False))\n",
        "print('--'*50)\n",
        "print('Missing Data Percentage')\n",
        "print(round(books[show_missing()].isnull().sum().sort_values(ascending = False)/len(books)*100,2))"
      ],
      "metadata": {
        "colab": {
          "base_uri": "https://localhost:8080/"
        },
        "id": "BVuk4cOS86gm",
        "outputId": "79b5ad51-bc53-4c17-8c48-f3cded5d2e9e"
      },
      "execution_count": 18,
      "outputs": [
        {
          "output_type": "stream",
          "name": "stdout",
          "text": [
            "Missing Data Count\n",
            "Image-URL-L    3\n",
            "Publisher      2\n",
            "Book-Author    1\n",
            "dtype: int64\n",
            "----------------------------------------------------------------------------------------------------\n",
            "Missing Data Percentage\n",
            "Image-URL-L    0.0\n",
            "Publisher      0.0\n",
            "Book-Author    0.0\n",
            "dtype: float64\n"
          ]
        }
      ]
    },
    {
      "cell_type": "code",
      "source": [
        "#Dropping Nulls of Books data as they are negligible\n",
        "books.dropna(inplace=True)"
      ],
      "metadata": {
        "id": "cFSgECTsSt73"
      },
      "execution_count": 19,
      "outputs": []
    },
    {
      "cell_type": "code",
      "source": [
        "books['Year-Of-Publication'].unique()"
      ],
      "metadata": {
        "id": "AyQEbCdHy4qv",
        "outputId": "c50d527d-2225-41fb-bdb0-b79e8d54e954",
        "colab": {
          "base_uri": "https://localhost:8080/"
        }
      },
      "execution_count": 20,
      "outputs": [
        {
          "output_type": "execute_result",
          "data": {
            "text/plain": [
              "array([2002, 2001, 1991, 1999, 2000, 1993, 1996, 1988, 2004, 1998, 1994,\n",
              "       2003, 1997, 1983, 1979, 1995, 1982, 1985, 1992, 1986, 1978, 1980,\n",
              "       1952, 1987, 1990, 1981, 1989, 1984, 0, 1968, 1961, 1958, 1974,\n",
              "       1976, 1971, 1977, 1975, 1965, 1941, 1970, 1962, 1973, 1972, 1960,\n",
              "       1966, 1920, 1956, 1959, 1953, 1951, 1942, 1963, 1964, 1969, 1954,\n",
              "       1950, 1967, 2005, 1957, 1940, 1937, 1955, 1946, 1936, 1930, 2011,\n",
              "       1925, 1948, 1943, 1947, 1945, 1923, 2020, 1939, 1926, 1938, 2030,\n",
              "       1911, 1904, 1949, 1932, 1928, 1929, 1927, 1931, 1914, 2050, 1934,\n",
              "       1910, 1933, 1902, 1924, 1921, 1900, 2038, 2026, 1944, 1917, 1901,\n",
              "       2010, 1908, 1906, 1935, 1806, 2021, '2000', '1995', '1999', '2004',\n",
              "       '2003', '1990', '1994', '1986', '1989', '2002', '1981', '1993',\n",
              "       '1983', '1982', '1976', '1991', '1977', '1998', '1992', '1996',\n",
              "       '0', '1997', '2001', '1974', '1968', '1987', '1984', '1988',\n",
              "       '1963', '1956', '1970', '1985', '1978', '1973', '1980', '1979',\n",
              "       '1975', '1969', '1961', '1965', '1939', '1958', '1950', '1953',\n",
              "       '1966', '1971', '1959', '1972', '1955', '1957', '1945', '1960',\n",
              "       '1967', '1932', '1924', '1964', '2012', '1911', '1927', '1948',\n",
              "       '1962', '2006', '1952', '1940', '1951', '1931', '1954', '2005',\n",
              "       '1930', '1941', '1944', '1943', '1938', '1900', '1942', '1923',\n",
              "       '1920', '1933', '1909', '1946', '2008', '1378', '2030', '1936',\n",
              "       '1947', '2011', '2020', '1919', '1949', '1922', '1897', '2024',\n",
              "       '1376', '1926', '2037'], dtype=object)"
            ]
          },
          "metadata": {},
          "execution_count": 20
        }
      ]
    },
    {
      "cell_type": "code",
      "source": [
        "#converting Reviews type into integer\n",
        "books['Year-Of-Publication'] = pd.to_numeric(books['Year-Of-Publication'])"
      ],
      "metadata": {
        "id": "HlM0KWBuxeeN"
      },
      "execution_count": 21,
      "outputs": []
    },
    {
      "cell_type": "code",
      "source": [
        "#Capping the outlier rows with Percentiles\n",
        "upper_lim = books['Year-Of-Publication'].quantile(.95)\n",
        "lower_lim = books['Year-Of-Publication'].quantile(.05)\n",
        "books.loc[(books[\"Year-Of-Publication\"] > upper_lim),\"Year-Of-Publication\"] = upper_lim\n",
        "books.loc[(books[\"Year-Of-Publication\"] < lower_lim),\"Year-Of-Publication\"] = lower_lim"
      ],
      "metadata": {
        "id": "pxGAvUAWxSll"
      },
      "execution_count": 22,
      "outputs": []
    },
    {
      "cell_type": "code",
      "source": [
        "upper_lim"
      ],
      "metadata": {
        "id": "rsIbOdWZyszN",
        "outputId": "eebe022c-78d5-4018-ba98-4b9e9b1bbc12",
        "colab": {
          "base_uri": "https://localhost:8080/"
        }
      },
      "execution_count": 23,
      "outputs": [
        {
          "output_type": "execute_result",
          "data": {
            "text/plain": [
              "2003.0"
            ]
          },
          "metadata": {},
          "execution_count": 23
        }
      ]
    },
    {
      "cell_type": "code",
      "source": [
        "lower_lim"
      ],
      "metadata": {
        "id": "_P-1SOUQyBuy",
        "outputId": "beb6e57f-3190-44da-e431-eac3d0b9027a",
        "colab": {
          "base_uri": "https://localhost:8080/"
        }
      },
      "execution_count": 24,
      "outputs": [
        {
          "output_type": "execute_result",
          "data": {
            "text/plain": [
              "1976.0"
            ]
          },
          "metadata": {},
          "execution_count": 24
        }
      ]
    },
    {
      "cell_type": "markdown",
      "source": [
        "**Ratings Dataset**"
      ],
      "metadata": {
        "id": "yyX5Pd3L9T0F"
      }
    },
    {
      "cell_type": "code",
      "source": [
        "# Missing Value Count Function\n",
        "def show_missing():\n",
        "    missing = ratings.columns[ratings.isnull().any()].tolist()\n",
        "    return missing\n",
        "\n",
        "# Missing data counts and percentage\n",
        "print('Missing Data Count')\n",
        "print(ratings[show_missing()].isnull().sum().sort_values(ascending = False))\n",
        "print('--'*50)\n",
        "print('Missing Data Percentage')\n",
        "print(round(ratings[show_missing()].isnull().sum().sort_values(ascending = False)/len(ratings)*100,2))"
      ],
      "metadata": {
        "colab": {
          "base_uri": "https://localhost:8080/"
        },
        "id": "SdX5zus89Ygk",
        "outputId": "e078e77b-66ca-4d37-adfa-a8190e77b4a2"
      },
      "execution_count": 25,
      "outputs": [
        {
          "output_type": "stream",
          "name": "stdout",
          "text": [
            "Missing Data Count\n",
            "Series([], dtype: float64)\n",
            "----------------------------------------------------------------------------------------------------\n",
            "Missing Data Percentage\n",
            "Series([], dtype: float64)\n"
          ]
        }
      ]
    },
    {
      "cell_type": "markdown",
      "source": [
        "# **Data Preparation**"
      ],
      "metadata": {
        "id": "RsRKQBFW95ep"
      }
    },
    {
      "cell_type": "code",
      "source": [
        "users.head(1)"
      ],
      "metadata": {
        "id": "ukQpkI1ODLBj",
        "outputId": "405336b0-c0f0-40aa-db9c-d5e47bc2520c",
        "colab": {
          "base_uri": "https://localhost:8080/",
          "height": 0
        }
      },
      "execution_count": 26,
      "outputs": [
        {
          "output_type": "execute_result",
          "data": {
            "text/plain": [
              "   User-ID            Location   Age Country\n",
              "0        1  nyc, new york, usa  32.0     usa"
            ],
            "text/html": [
              "\n",
              "  <div id=\"df-fd9156b7-8cdd-46cb-b1fc-5cd8cce214fe\">\n",
              "    <div class=\"colab-df-container\">\n",
              "      <div>\n",
              "<style scoped>\n",
              "    .dataframe tbody tr th:only-of-type {\n",
              "        vertical-align: middle;\n",
              "    }\n",
              "\n",
              "    .dataframe tbody tr th {\n",
              "        vertical-align: top;\n",
              "    }\n",
              "\n",
              "    .dataframe thead th {\n",
              "        text-align: right;\n",
              "    }\n",
              "</style>\n",
              "<table border=\"1\" class=\"dataframe\">\n",
              "  <thead>\n",
              "    <tr style=\"text-align: right;\">\n",
              "      <th></th>\n",
              "      <th>User-ID</th>\n",
              "      <th>Location</th>\n",
              "      <th>Age</th>\n",
              "      <th>Country</th>\n",
              "    </tr>\n",
              "  </thead>\n",
              "  <tbody>\n",
              "    <tr>\n",
              "      <th>0</th>\n",
              "      <td>1</td>\n",
              "      <td>nyc, new york, usa</td>\n",
              "      <td>32.0</td>\n",
              "      <td>usa</td>\n",
              "    </tr>\n",
              "  </tbody>\n",
              "</table>\n",
              "</div>\n",
              "      <button class=\"colab-df-convert\" onclick=\"convertToInteractive('df-fd9156b7-8cdd-46cb-b1fc-5cd8cce214fe')\"\n",
              "              title=\"Convert this dataframe to an interactive table.\"\n",
              "              style=\"display:none;\">\n",
              "        \n",
              "  <svg xmlns=\"http://www.w3.org/2000/svg\" height=\"24px\"viewBox=\"0 0 24 24\"\n",
              "       width=\"24px\">\n",
              "    <path d=\"M0 0h24v24H0V0z\" fill=\"none\"/>\n",
              "    <path d=\"M18.56 5.44l.94 2.06.94-2.06 2.06-.94-2.06-.94-.94-2.06-.94 2.06-2.06.94zm-11 1L8.5 8.5l.94-2.06 2.06-.94-2.06-.94L8.5 2.5l-.94 2.06-2.06.94zm10 10l.94 2.06.94-2.06 2.06-.94-2.06-.94-.94-2.06-.94 2.06-2.06.94z\"/><path d=\"M17.41 7.96l-1.37-1.37c-.4-.4-.92-.59-1.43-.59-.52 0-1.04.2-1.43.59L10.3 9.45l-7.72 7.72c-.78.78-.78 2.05 0 2.83L4 21.41c.39.39.9.59 1.41.59.51 0 1.02-.2 1.41-.59l7.78-7.78 2.81-2.81c.8-.78.8-2.07 0-2.86zM5.41 20L4 18.59l7.72-7.72 1.47 1.35L5.41 20z\"/>\n",
              "  </svg>\n",
              "      </button>\n",
              "      \n",
              "  <style>\n",
              "    .colab-df-container {\n",
              "      display:flex;\n",
              "      flex-wrap:wrap;\n",
              "      gap: 12px;\n",
              "    }\n",
              "\n",
              "    .colab-df-convert {\n",
              "      background-color: #E8F0FE;\n",
              "      border: none;\n",
              "      border-radius: 50%;\n",
              "      cursor: pointer;\n",
              "      display: none;\n",
              "      fill: #1967D2;\n",
              "      height: 32px;\n",
              "      padding: 0 0 0 0;\n",
              "      width: 32px;\n",
              "    }\n",
              "\n",
              "    .colab-df-convert:hover {\n",
              "      background-color: #E2EBFA;\n",
              "      box-shadow: 0px 1px 2px rgba(60, 64, 67, 0.3), 0px 1px 3px 1px rgba(60, 64, 67, 0.15);\n",
              "      fill: #174EA6;\n",
              "    }\n",
              "\n",
              "    [theme=dark] .colab-df-convert {\n",
              "      background-color: #3B4455;\n",
              "      fill: #D2E3FC;\n",
              "    }\n",
              "\n",
              "    [theme=dark] .colab-df-convert:hover {\n",
              "      background-color: #434B5C;\n",
              "      box-shadow: 0px 1px 3px 1px rgba(0, 0, 0, 0.15);\n",
              "      filter: drop-shadow(0px 1px 2px rgba(0, 0, 0, 0.3));\n",
              "      fill: #FFFFFF;\n",
              "    }\n",
              "  </style>\n",
              "\n",
              "      <script>\n",
              "        const buttonEl =\n",
              "          document.querySelector('#df-fd9156b7-8cdd-46cb-b1fc-5cd8cce214fe button.colab-df-convert');\n",
              "        buttonEl.style.display =\n",
              "          google.colab.kernel.accessAllowed ? 'block' : 'none';\n",
              "\n",
              "        async function convertToInteractive(key) {\n",
              "          const element = document.querySelector('#df-fd9156b7-8cdd-46cb-b1fc-5cd8cce214fe');\n",
              "          const dataTable =\n",
              "            await google.colab.kernel.invokeFunction('convertToInteractive',\n",
              "                                                     [key], {});\n",
              "          if (!dataTable) return;\n",
              "\n",
              "          const docLinkHtml = 'Like what you see? Visit the ' +\n",
              "            '<a target=\"_blank\" href=https://colab.research.google.com/notebooks/data_table.ipynb>data table notebook</a>'\n",
              "            + ' to learn more about interactive tables.';\n",
              "          element.innerHTML = '';\n",
              "          dataTable['output_type'] = 'display_data';\n",
              "          await google.colab.output.renderOutput(dataTable, element);\n",
              "          const docLink = document.createElement('div');\n",
              "          docLink.innerHTML = docLinkHtml;\n",
              "          element.appendChild(docLink);\n",
              "        }\n",
              "      </script>\n",
              "    </div>\n",
              "  </div>\n",
              "  "
            ]
          },
          "metadata": {},
          "execution_count": 26
        }
      ]
    },
    {
      "cell_type": "code",
      "source": [
        "users.shape"
      ],
      "metadata": {
        "id": "mo1dx2yXDII8",
        "outputId": "1104348c-24ed-46d1-eb9c-06cab19aa2a7",
        "colab": {
          "base_uri": "https://localhost:8080/"
        }
      },
      "execution_count": 27,
      "outputs": [
        {
          "output_type": "execute_result",
          "data": {
            "text/plain": [
              "(278858, 4)"
            ]
          },
          "metadata": {},
          "execution_count": 27
        }
      ]
    },
    {
      "cell_type": "code",
      "source": [
        "ratings.head(1)"
      ],
      "metadata": {
        "id": "7LESa17NDAl2",
        "outputId": "ceafa6cc-7e13-453c-8459-783ccf5cc07e",
        "colab": {
          "base_uri": "https://localhost:8080/",
          "height": 0
        }
      },
      "execution_count": 28,
      "outputs": [
        {
          "output_type": "execute_result",
          "data": {
            "text/plain": [
              "   User-ID        ISBN  Book-Rating\n",
              "0   276725  034545104X            0"
            ],
            "text/html": [
              "\n",
              "  <div id=\"df-4f1c4d3f-7f36-4709-9b9b-30fa51bd5b77\">\n",
              "    <div class=\"colab-df-container\">\n",
              "      <div>\n",
              "<style scoped>\n",
              "    .dataframe tbody tr th:only-of-type {\n",
              "        vertical-align: middle;\n",
              "    }\n",
              "\n",
              "    .dataframe tbody tr th {\n",
              "        vertical-align: top;\n",
              "    }\n",
              "\n",
              "    .dataframe thead th {\n",
              "        text-align: right;\n",
              "    }\n",
              "</style>\n",
              "<table border=\"1\" class=\"dataframe\">\n",
              "  <thead>\n",
              "    <tr style=\"text-align: right;\">\n",
              "      <th></th>\n",
              "      <th>User-ID</th>\n",
              "      <th>ISBN</th>\n",
              "      <th>Book-Rating</th>\n",
              "    </tr>\n",
              "  </thead>\n",
              "  <tbody>\n",
              "    <tr>\n",
              "      <th>0</th>\n",
              "      <td>276725</td>\n",
              "      <td>034545104X</td>\n",
              "      <td>0</td>\n",
              "    </tr>\n",
              "  </tbody>\n",
              "</table>\n",
              "</div>\n",
              "      <button class=\"colab-df-convert\" onclick=\"convertToInteractive('df-4f1c4d3f-7f36-4709-9b9b-30fa51bd5b77')\"\n",
              "              title=\"Convert this dataframe to an interactive table.\"\n",
              "              style=\"display:none;\">\n",
              "        \n",
              "  <svg xmlns=\"http://www.w3.org/2000/svg\" height=\"24px\"viewBox=\"0 0 24 24\"\n",
              "       width=\"24px\">\n",
              "    <path d=\"M0 0h24v24H0V0z\" fill=\"none\"/>\n",
              "    <path d=\"M18.56 5.44l.94 2.06.94-2.06 2.06-.94-2.06-.94-.94-2.06-.94 2.06-2.06.94zm-11 1L8.5 8.5l.94-2.06 2.06-.94-2.06-.94L8.5 2.5l-.94 2.06-2.06.94zm10 10l.94 2.06.94-2.06 2.06-.94-2.06-.94-.94-2.06-.94 2.06-2.06.94z\"/><path d=\"M17.41 7.96l-1.37-1.37c-.4-.4-.92-.59-1.43-.59-.52 0-1.04.2-1.43.59L10.3 9.45l-7.72 7.72c-.78.78-.78 2.05 0 2.83L4 21.41c.39.39.9.59 1.41.59.51 0 1.02-.2 1.41-.59l7.78-7.78 2.81-2.81c.8-.78.8-2.07 0-2.86zM5.41 20L4 18.59l7.72-7.72 1.47 1.35L5.41 20z\"/>\n",
              "  </svg>\n",
              "      </button>\n",
              "      \n",
              "  <style>\n",
              "    .colab-df-container {\n",
              "      display:flex;\n",
              "      flex-wrap:wrap;\n",
              "      gap: 12px;\n",
              "    }\n",
              "\n",
              "    .colab-df-convert {\n",
              "      background-color: #E8F0FE;\n",
              "      border: none;\n",
              "      border-radius: 50%;\n",
              "      cursor: pointer;\n",
              "      display: none;\n",
              "      fill: #1967D2;\n",
              "      height: 32px;\n",
              "      padding: 0 0 0 0;\n",
              "      width: 32px;\n",
              "    }\n",
              "\n",
              "    .colab-df-convert:hover {\n",
              "      background-color: #E2EBFA;\n",
              "      box-shadow: 0px 1px 2px rgba(60, 64, 67, 0.3), 0px 1px 3px 1px rgba(60, 64, 67, 0.15);\n",
              "      fill: #174EA6;\n",
              "    }\n",
              "\n",
              "    [theme=dark] .colab-df-convert {\n",
              "      background-color: #3B4455;\n",
              "      fill: #D2E3FC;\n",
              "    }\n",
              "\n",
              "    [theme=dark] .colab-df-convert:hover {\n",
              "      background-color: #434B5C;\n",
              "      box-shadow: 0px 1px 3px 1px rgba(0, 0, 0, 0.15);\n",
              "      filter: drop-shadow(0px 1px 2px rgba(0, 0, 0, 0.3));\n",
              "      fill: #FFFFFF;\n",
              "    }\n",
              "  </style>\n",
              "\n",
              "      <script>\n",
              "        const buttonEl =\n",
              "          document.querySelector('#df-4f1c4d3f-7f36-4709-9b9b-30fa51bd5b77 button.colab-df-convert');\n",
              "        buttonEl.style.display =\n",
              "          google.colab.kernel.accessAllowed ? 'block' : 'none';\n",
              "\n",
              "        async function convertToInteractive(key) {\n",
              "          const element = document.querySelector('#df-4f1c4d3f-7f36-4709-9b9b-30fa51bd5b77');\n",
              "          const dataTable =\n",
              "            await google.colab.kernel.invokeFunction('convertToInteractive',\n",
              "                                                     [key], {});\n",
              "          if (!dataTable) return;\n",
              "\n",
              "          const docLinkHtml = 'Like what you see? Visit the ' +\n",
              "            '<a target=\"_blank\" href=https://colab.research.google.com/notebooks/data_table.ipynb>data table notebook</a>'\n",
              "            + ' to learn more about interactive tables.';\n",
              "          element.innerHTML = '';\n",
              "          dataTable['output_type'] = 'display_data';\n",
              "          await google.colab.output.renderOutput(dataTable, element);\n",
              "          const docLink = document.createElement('div');\n",
              "          docLink.innerHTML = docLinkHtml;\n",
              "          element.appendChild(docLink);\n",
              "        }\n",
              "      </script>\n",
              "    </div>\n",
              "  </div>\n",
              "  "
            ]
          },
          "metadata": {},
          "execution_count": 28
        }
      ]
    },
    {
      "cell_type": "code",
      "source": [
        "ratings.shape"
      ],
      "metadata": {
        "id": "zhCW0otdDRUw",
        "outputId": "00bcbefa-61b4-4edc-c7d8-75dc42789d2d",
        "colab": {
          "base_uri": "https://localhost:8080/"
        }
      },
      "execution_count": 29,
      "outputs": [
        {
          "output_type": "execute_result",
          "data": {
            "text/plain": [
              "(1149780, 3)"
            ]
          },
          "metadata": {},
          "execution_count": 29
        }
      ]
    },
    {
      "cell_type": "markdown",
      "source": [
        "Merging users and ratings dataset on User-ID column"
      ],
      "metadata": {
        "id": "7SlbclyN-BpV"
      }
    },
    {
      "cell_type": "code",
      "source": [
        "#Merging both data \n",
        "data_users_ratings=pd.merge(users,ratings, on='User-ID')"
      ],
      "metadata": {
        "id": "I2kx7AXF-Asp"
      },
      "execution_count": 30,
      "outputs": []
    },
    {
      "cell_type": "markdown",
      "source": [
        "Merging combined data of users and ratings with books data on ISBN column"
      ],
      "metadata": {
        "id": "yaT7VgJ__SDw"
      }
    },
    {
      "cell_type": "code",
      "source": [
        "#Merging both data\n",
        "merged=pd.merge(books,data_users_ratings, on='ISBN')"
      ],
      "metadata": {
        "id": "lxFlJRMn_J6N"
      },
      "execution_count": 31,
      "outputs": []
    },
    {
      "cell_type": "code",
      "source": [
        "#info\n",
        "merged.info()"
      ],
      "metadata": {
        "colab": {
          "base_uri": "https://localhost:8080/"
        },
        "id": "Zov4_oFu_yOe",
        "outputId": "730ea87a-6b92-4465-8260-0671770456a2"
      },
      "execution_count": 32,
      "outputs": [
        {
          "output_type": "stream",
          "name": "stdout",
          "text": [
            "<class 'pandas.core.frame.DataFrame'>\n",
            "Int64Index: 1031129 entries, 0 to 1031128\n",
            "Data columns (total 13 columns):\n",
            " #   Column               Non-Null Count    Dtype  \n",
            "---  ------               --------------    -----  \n",
            " 0   ISBN                 1031129 non-null  object \n",
            " 1   Book-Title           1031129 non-null  object \n",
            " 2   Book-Author          1031129 non-null  object \n",
            " 3   Year-Of-Publication  1031129 non-null  int64  \n",
            " 4   Publisher            1031129 non-null  object \n",
            " 5   Image-URL-S          1031129 non-null  object \n",
            " 6   Image-URL-M          1031129 non-null  object \n",
            " 7   Image-URL-L          1031129 non-null  object \n",
            " 8   User-ID              1031129 non-null  int64  \n",
            " 9   Location             1031129 non-null  object \n",
            " 10  Age                  1031129 non-null  float64\n",
            " 11  Country              1031129 non-null  object \n",
            " 12  Book-Rating          1031129 non-null  int64  \n",
            "dtypes: float64(1), int64(3), object(9)\n",
            "memory usage: 110.1+ MB\n"
          ]
        }
      ]
    },
    {
      "cell_type": "code",
      "source": [
        "# Missing Value Count Function\n",
        "def show_missing():\n",
        "    missing = ratings.columns[ratings.isnull().any()].tolist()\n",
        "    return missing\n",
        "\n",
        "# Missing data counts and percentage\n",
        "print('Missing Data Count')\n",
        "print(ratings[show_missing()].isnull().sum().sort_values(ascending = False))\n",
        "print('--'*50)\n",
        "print('Missing Data Percentage')\n",
        "print(round(ratings[show_missing()].isnull().sum().sort_values(ascending = False)/len(ratings)*100,2))"
      ],
      "metadata": {
        "id": "yL0irXPkTSR0",
        "outputId": "a5c43903-1b8c-4926-e39d-148206a5bcf3",
        "colab": {
          "base_uri": "https://localhost:8080/"
        }
      },
      "execution_count": 33,
      "outputs": [
        {
          "output_type": "stream",
          "name": "stdout",
          "text": [
            "Missing Data Count\n",
            "Series([], dtype: float64)\n",
            "----------------------------------------------------------------------------------------------------\n",
            "Missing Data Percentage\n",
            "Series([], dtype: float64)\n"
          ]
        }
      ]
    },
    {
      "cell_type": "code",
      "source": [
        "merged.head()"
      ],
      "metadata": {
        "id": "jLoWbRGtTpSY",
        "outputId": "ebdf61a4-5f92-4106-b1f6-6c968b521dd1",
        "colab": {
          "base_uri": "https://localhost:8080/",
          "height": 0
        }
      },
      "execution_count": 34,
      "outputs": [
        {
          "output_type": "execute_result",
          "data": {
            "text/plain": [
              "         ISBN           Book-Title           Book-Author  Year-Of-Publication  \\\n",
              "0  0195153448  Classical Mythology    Mark P. O. Morford                 2002   \n",
              "1  0002005018         Clara Callan  Richard Bruce Wright                 2001   \n",
              "2  0002005018         Clara Callan  Richard Bruce Wright                 2001   \n",
              "3  0002005018         Clara Callan  Richard Bruce Wright                 2001   \n",
              "4  0002005018         Clara Callan  Richard Bruce Wright                 2001   \n",
              "\n",
              "                 Publisher                                        Image-URL-S  \\\n",
              "0  Oxford University Press  http://images.amazon.com/images/P/0195153448.0...   \n",
              "1    HarperFlamingo Canada  http://images.amazon.com/images/P/0002005018.0...   \n",
              "2    HarperFlamingo Canada  http://images.amazon.com/images/P/0002005018.0...   \n",
              "3    HarperFlamingo Canada  http://images.amazon.com/images/P/0002005018.0...   \n",
              "4    HarperFlamingo Canada  http://images.amazon.com/images/P/0002005018.0...   \n",
              "\n",
              "                                         Image-URL-M  \\\n",
              "0  http://images.amazon.com/images/P/0195153448.0...   \n",
              "1  http://images.amazon.com/images/P/0002005018.0...   \n",
              "2  http://images.amazon.com/images/P/0002005018.0...   \n",
              "3  http://images.amazon.com/images/P/0002005018.0...   \n",
              "4  http://images.amazon.com/images/P/0002005018.0...   \n",
              "\n",
              "                                         Image-URL-L  User-ID  \\\n",
              "0  http://images.amazon.com/images/P/0195153448.0...        2   \n",
              "1  http://images.amazon.com/images/P/0002005018.0...        8   \n",
              "2  http://images.amazon.com/images/P/0002005018.0...    11400   \n",
              "3  http://images.amazon.com/images/P/0002005018.0...    11676   \n",
              "4  http://images.amazon.com/images/P/0002005018.0...    41385   \n",
              "\n",
              "                    Location   Age Country  Book-Rating  \n",
              "0  stockton, california, usa  18.0     usa            0  \n",
              "1   timmins, ontario, canada  32.0  canada            5  \n",
              "2    ottawa, ontario, canada  49.0  canada            0  \n",
              "3              n/a, n/a, n/a  32.0     n/a            8  \n",
              "4   sudbury, ontario, canada  32.0  canada            0  "
            ],
            "text/html": [
              "\n",
              "  <div id=\"df-ed3e59c8-329f-4c01-80a4-064a74bfab88\">\n",
              "    <div class=\"colab-df-container\">\n",
              "      <div>\n",
              "<style scoped>\n",
              "    .dataframe tbody tr th:only-of-type {\n",
              "        vertical-align: middle;\n",
              "    }\n",
              "\n",
              "    .dataframe tbody tr th {\n",
              "        vertical-align: top;\n",
              "    }\n",
              "\n",
              "    .dataframe thead th {\n",
              "        text-align: right;\n",
              "    }\n",
              "</style>\n",
              "<table border=\"1\" class=\"dataframe\">\n",
              "  <thead>\n",
              "    <tr style=\"text-align: right;\">\n",
              "      <th></th>\n",
              "      <th>ISBN</th>\n",
              "      <th>Book-Title</th>\n",
              "      <th>Book-Author</th>\n",
              "      <th>Year-Of-Publication</th>\n",
              "      <th>Publisher</th>\n",
              "      <th>Image-URL-S</th>\n",
              "      <th>Image-URL-M</th>\n",
              "      <th>Image-URL-L</th>\n",
              "      <th>User-ID</th>\n",
              "      <th>Location</th>\n",
              "      <th>Age</th>\n",
              "      <th>Country</th>\n",
              "      <th>Book-Rating</th>\n",
              "    </tr>\n",
              "  </thead>\n",
              "  <tbody>\n",
              "    <tr>\n",
              "      <th>0</th>\n",
              "      <td>0195153448</td>\n",
              "      <td>Classical Mythology</td>\n",
              "      <td>Mark P. O. Morford</td>\n",
              "      <td>2002</td>\n",
              "      <td>Oxford University Press</td>\n",
              "      <td>http://images.amazon.com/images/P/0195153448.0...</td>\n",
              "      <td>http://images.amazon.com/images/P/0195153448.0...</td>\n",
              "      <td>http://images.amazon.com/images/P/0195153448.0...</td>\n",
              "      <td>2</td>\n",
              "      <td>stockton, california, usa</td>\n",
              "      <td>18.0</td>\n",
              "      <td>usa</td>\n",
              "      <td>0</td>\n",
              "    </tr>\n",
              "    <tr>\n",
              "      <th>1</th>\n",
              "      <td>0002005018</td>\n",
              "      <td>Clara Callan</td>\n",
              "      <td>Richard Bruce Wright</td>\n",
              "      <td>2001</td>\n",
              "      <td>HarperFlamingo Canada</td>\n",
              "      <td>http://images.amazon.com/images/P/0002005018.0...</td>\n",
              "      <td>http://images.amazon.com/images/P/0002005018.0...</td>\n",
              "      <td>http://images.amazon.com/images/P/0002005018.0...</td>\n",
              "      <td>8</td>\n",
              "      <td>timmins, ontario, canada</td>\n",
              "      <td>32.0</td>\n",
              "      <td>canada</td>\n",
              "      <td>5</td>\n",
              "    </tr>\n",
              "    <tr>\n",
              "      <th>2</th>\n",
              "      <td>0002005018</td>\n",
              "      <td>Clara Callan</td>\n",
              "      <td>Richard Bruce Wright</td>\n",
              "      <td>2001</td>\n",
              "      <td>HarperFlamingo Canada</td>\n",
              "      <td>http://images.amazon.com/images/P/0002005018.0...</td>\n",
              "      <td>http://images.amazon.com/images/P/0002005018.0...</td>\n",
              "      <td>http://images.amazon.com/images/P/0002005018.0...</td>\n",
              "      <td>11400</td>\n",
              "      <td>ottawa, ontario, canada</td>\n",
              "      <td>49.0</td>\n",
              "      <td>canada</td>\n",
              "      <td>0</td>\n",
              "    </tr>\n",
              "    <tr>\n",
              "      <th>3</th>\n",
              "      <td>0002005018</td>\n",
              "      <td>Clara Callan</td>\n",
              "      <td>Richard Bruce Wright</td>\n",
              "      <td>2001</td>\n",
              "      <td>HarperFlamingo Canada</td>\n",
              "      <td>http://images.amazon.com/images/P/0002005018.0...</td>\n",
              "      <td>http://images.amazon.com/images/P/0002005018.0...</td>\n",
              "      <td>http://images.amazon.com/images/P/0002005018.0...</td>\n",
              "      <td>11676</td>\n",
              "      <td>n/a, n/a, n/a</td>\n",
              "      <td>32.0</td>\n",
              "      <td>n/a</td>\n",
              "      <td>8</td>\n",
              "    </tr>\n",
              "    <tr>\n",
              "      <th>4</th>\n",
              "      <td>0002005018</td>\n",
              "      <td>Clara Callan</td>\n",
              "      <td>Richard Bruce Wright</td>\n",
              "      <td>2001</td>\n",
              "      <td>HarperFlamingo Canada</td>\n",
              "      <td>http://images.amazon.com/images/P/0002005018.0...</td>\n",
              "      <td>http://images.amazon.com/images/P/0002005018.0...</td>\n",
              "      <td>http://images.amazon.com/images/P/0002005018.0...</td>\n",
              "      <td>41385</td>\n",
              "      <td>sudbury, ontario, canada</td>\n",
              "      <td>32.0</td>\n",
              "      <td>canada</td>\n",
              "      <td>0</td>\n",
              "    </tr>\n",
              "  </tbody>\n",
              "</table>\n",
              "</div>\n",
              "      <button class=\"colab-df-convert\" onclick=\"convertToInteractive('df-ed3e59c8-329f-4c01-80a4-064a74bfab88')\"\n",
              "              title=\"Convert this dataframe to an interactive table.\"\n",
              "              style=\"display:none;\">\n",
              "        \n",
              "  <svg xmlns=\"http://www.w3.org/2000/svg\" height=\"24px\"viewBox=\"0 0 24 24\"\n",
              "       width=\"24px\">\n",
              "    <path d=\"M0 0h24v24H0V0z\" fill=\"none\"/>\n",
              "    <path d=\"M18.56 5.44l.94 2.06.94-2.06 2.06-.94-2.06-.94-.94-2.06-.94 2.06-2.06.94zm-11 1L8.5 8.5l.94-2.06 2.06-.94-2.06-.94L8.5 2.5l-.94 2.06-2.06.94zm10 10l.94 2.06.94-2.06 2.06-.94-2.06-.94-.94-2.06-.94 2.06-2.06.94z\"/><path d=\"M17.41 7.96l-1.37-1.37c-.4-.4-.92-.59-1.43-.59-.52 0-1.04.2-1.43.59L10.3 9.45l-7.72 7.72c-.78.78-.78 2.05 0 2.83L4 21.41c.39.39.9.59 1.41.59.51 0 1.02-.2 1.41-.59l7.78-7.78 2.81-2.81c.8-.78.8-2.07 0-2.86zM5.41 20L4 18.59l7.72-7.72 1.47 1.35L5.41 20z\"/>\n",
              "  </svg>\n",
              "      </button>\n",
              "      \n",
              "  <style>\n",
              "    .colab-df-container {\n",
              "      display:flex;\n",
              "      flex-wrap:wrap;\n",
              "      gap: 12px;\n",
              "    }\n",
              "\n",
              "    .colab-df-convert {\n",
              "      background-color: #E8F0FE;\n",
              "      border: none;\n",
              "      border-radius: 50%;\n",
              "      cursor: pointer;\n",
              "      display: none;\n",
              "      fill: #1967D2;\n",
              "      height: 32px;\n",
              "      padding: 0 0 0 0;\n",
              "      width: 32px;\n",
              "    }\n",
              "\n",
              "    .colab-df-convert:hover {\n",
              "      background-color: #E2EBFA;\n",
              "      box-shadow: 0px 1px 2px rgba(60, 64, 67, 0.3), 0px 1px 3px 1px rgba(60, 64, 67, 0.15);\n",
              "      fill: #174EA6;\n",
              "    }\n",
              "\n",
              "    [theme=dark] .colab-df-convert {\n",
              "      background-color: #3B4455;\n",
              "      fill: #D2E3FC;\n",
              "    }\n",
              "\n",
              "    [theme=dark] .colab-df-convert:hover {\n",
              "      background-color: #434B5C;\n",
              "      box-shadow: 0px 1px 3px 1px rgba(0, 0, 0, 0.15);\n",
              "      filter: drop-shadow(0px 1px 2px rgba(0, 0, 0, 0.3));\n",
              "      fill: #FFFFFF;\n",
              "    }\n",
              "  </style>\n",
              "\n",
              "      <script>\n",
              "        const buttonEl =\n",
              "          document.querySelector('#df-ed3e59c8-329f-4c01-80a4-064a74bfab88 button.colab-df-convert');\n",
              "        buttonEl.style.display =\n",
              "          google.colab.kernel.accessAllowed ? 'block' : 'none';\n",
              "\n",
              "        async function convertToInteractive(key) {\n",
              "          const element = document.querySelector('#df-ed3e59c8-329f-4c01-80a4-064a74bfab88');\n",
              "          const dataTable =\n",
              "            await google.colab.kernel.invokeFunction('convertToInteractive',\n",
              "                                                     [key], {});\n",
              "          if (!dataTable) return;\n",
              "\n",
              "          const docLinkHtml = 'Like what you see? Visit the ' +\n",
              "            '<a target=\"_blank\" href=https://colab.research.google.com/notebooks/data_table.ipynb>data table notebook</a>'\n",
              "            + ' to learn more about interactive tables.';\n",
              "          element.innerHTML = '';\n",
              "          dataTable['output_type'] = 'display_data';\n",
              "          await google.colab.output.renderOutput(dataTable, element);\n",
              "          const docLink = document.createElement('div');\n",
              "          docLink.innerHTML = docLinkHtml;\n",
              "          element.appendChild(docLink);\n",
              "        }\n",
              "      </script>\n",
              "    </div>\n",
              "  </div>\n",
              "  "
            ]
          },
          "metadata": {},
          "execution_count": 34
        }
      ]
    },
    {
      "cell_type": "code",
      "source": [
        "merged.drop(columns=['Image-URL-S','Image-URL-M','Image-URL-L'], axis=1,inplace=True)"
      ],
      "metadata": {
        "id": "lfP6_9zhT6pD"
      },
      "execution_count": 35,
      "outputs": []
    },
    {
      "cell_type": "code",
      "source": [
        "merged.head()"
      ],
      "metadata": {
        "id": "I9CJ4K3YUdHr",
        "outputId": "2ce74232-42cf-4b57-d2a9-c148bfba855d",
        "colab": {
          "base_uri": "https://localhost:8080/",
          "height": 0
        }
      },
      "execution_count": 36,
      "outputs": [
        {
          "output_type": "execute_result",
          "data": {
            "text/plain": [
              "         ISBN           Book-Title           Book-Author  Year-Of-Publication  \\\n",
              "0  0195153448  Classical Mythology    Mark P. O. Morford                 2002   \n",
              "1  0002005018         Clara Callan  Richard Bruce Wright                 2001   \n",
              "2  0002005018         Clara Callan  Richard Bruce Wright                 2001   \n",
              "3  0002005018         Clara Callan  Richard Bruce Wright                 2001   \n",
              "4  0002005018         Clara Callan  Richard Bruce Wright                 2001   \n",
              "\n",
              "                 Publisher  User-ID                   Location   Age Country  \\\n",
              "0  Oxford University Press        2  stockton, california, usa  18.0     usa   \n",
              "1    HarperFlamingo Canada        8   timmins, ontario, canada  32.0  canada   \n",
              "2    HarperFlamingo Canada    11400    ottawa, ontario, canada  49.0  canada   \n",
              "3    HarperFlamingo Canada    11676              n/a, n/a, n/a  32.0     n/a   \n",
              "4    HarperFlamingo Canada    41385   sudbury, ontario, canada  32.0  canada   \n",
              "\n",
              "   Book-Rating  \n",
              "0            0  \n",
              "1            5  \n",
              "2            0  \n",
              "3            8  \n",
              "4            0  "
            ],
            "text/html": [
              "\n",
              "  <div id=\"df-d42a8af7-7749-4525-bc09-31e74a029909\">\n",
              "    <div class=\"colab-df-container\">\n",
              "      <div>\n",
              "<style scoped>\n",
              "    .dataframe tbody tr th:only-of-type {\n",
              "        vertical-align: middle;\n",
              "    }\n",
              "\n",
              "    .dataframe tbody tr th {\n",
              "        vertical-align: top;\n",
              "    }\n",
              "\n",
              "    .dataframe thead th {\n",
              "        text-align: right;\n",
              "    }\n",
              "</style>\n",
              "<table border=\"1\" class=\"dataframe\">\n",
              "  <thead>\n",
              "    <tr style=\"text-align: right;\">\n",
              "      <th></th>\n",
              "      <th>ISBN</th>\n",
              "      <th>Book-Title</th>\n",
              "      <th>Book-Author</th>\n",
              "      <th>Year-Of-Publication</th>\n",
              "      <th>Publisher</th>\n",
              "      <th>User-ID</th>\n",
              "      <th>Location</th>\n",
              "      <th>Age</th>\n",
              "      <th>Country</th>\n",
              "      <th>Book-Rating</th>\n",
              "    </tr>\n",
              "  </thead>\n",
              "  <tbody>\n",
              "    <tr>\n",
              "      <th>0</th>\n",
              "      <td>0195153448</td>\n",
              "      <td>Classical Mythology</td>\n",
              "      <td>Mark P. O. Morford</td>\n",
              "      <td>2002</td>\n",
              "      <td>Oxford University Press</td>\n",
              "      <td>2</td>\n",
              "      <td>stockton, california, usa</td>\n",
              "      <td>18.0</td>\n",
              "      <td>usa</td>\n",
              "      <td>0</td>\n",
              "    </tr>\n",
              "    <tr>\n",
              "      <th>1</th>\n",
              "      <td>0002005018</td>\n",
              "      <td>Clara Callan</td>\n",
              "      <td>Richard Bruce Wright</td>\n",
              "      <td>2001</td>\n",
              "      <td>HarperFlamingo Canada</td>\n",
              "      <td>8</td>\n",
              "      <td>timmins, ontario, canada</td>\n",
              "      <td>32.0</td>\n",
              "      <td>canada</td>\n",
              "      <td>5</td>\n",
              "    </tr>\n",
              "    <tr>\n",
              "      <th>2</th>\n",
              "      <td>0002005018</td>\n",
              "      <td>Clara Callan</td>\n",
              "      <td>Richard Bruce Wright</td>\n",
              "      <td>2001</td>\n",
              "      <td>HarperFlamingo Canada</td>\n",
              "      <td>11400</td>\n",
              "      <td>ottawa, ontario, canada</td>\n",
              "      <td>49.0</td>\n",
              "      <td>canada</td>\n",
              "      <td>0</td>\n",
              "    </tr>\n",
              "    <tr>\n",
              "      <th>3</th>\n",
              "      <td>0002005018</td>\n",
              "      <td>Clara Callan</td>\n",
              "      <td>Richard Bruce Wright</td>\n",
              "      <td>2001</td>\n",
              "      <td>HarperFlamingo Canada</td>\n",
              "      <td>11676</td>\n",
              "      <td>n/a, n/a, n/a</td>\n",
              "      <td>32.0</td>\n",
              "      <td>n/a</td>\n",
              "      <td>8</td>\n",
              "    </tr>\n",
              "    <tr>\n",
              "      <th>4</th>\n",
              "      <td>0002005018</td>\n",
              "      <td>Clara Callan</td>\n",
              "      <td>Richard Bruce Wright</td>\n",
              "      <td>2001</td>\n",
              "      <td>HarperFlamingo Canada</td>\n",
              "      <td>41385</td>\n",
              "      <td>sudbury, ontario, canada</td>\n",
              "      <td>32.0</td>\n",
              "      <td>canada</td>\n",
              "      <td>0</td>\n",
              "    </tr>\n",
              "  </tbody>\n",
              "</table>\n",
              "</div>\n",
              "      <button class=\"colab-df-convert\" onclick=\"convertToInteractive('df-d42a8af7-7749-4525-bc09-31e74a029909')\"\n",
              "              title=\"Convert this dataframe to an interactive table.\"\n",
              "              style=\"display:none;\">\n",
              "        \n",
              "  <svg xmlns=\"http://www.w3.org/2000/svg\" height=\"24px\"viewBox=\"0 0 24 24\"\n",
              "       width=\"24px\">\n",
              "    <path d=\"M0 0h24v24H0V0z\" fill=\"none\"/>\n",
              "    <path d=\"M18.56 5.44l.94 2.06.94-2.06 2.06-.94-2.06-.94-.94-2.06-.94 2.06-2.06.94zm-11 1L8.5 8.5l.94-2.06 2.06-.94-2.06-.94L8.5 2.5l-.94 2.06-2.06.94zm10 10l.94 2.06.94-2.06 2.06-.94-2.06-.94-.94-2.06-.94 2.06-2.06.94z\"/><path d=\"M17.41 7.96l-1.37-1.37c-.4-.4-.92-.59-1.43-.59-.52 0-1.04.2-1.43.59L10.3 9.45l-7.72 7.72c-.78.78-.78 2.05 0 2.83L4 21.41c.39.39.9.59 1.41.59.51 0 1.02-.2 1.41-.59l7.78-7.78 2.81-2.81c.8-.78.8-2.07 0-2.86zM5.41 20L4 18.59l7.72-7.72 1.47 1.35L5.41 20z\"/>\n",
              "  </svg>\n",
              "      </button>\n",
              "      \n",
              "  <style>\n",
              "    .colab-df-container {\n",
              "      display:flex;\n",
              "      flex-wrap:wrap;\n",
              "      gap: 12px;\n",
              "    }\n",
              "\n",
              "    .colab-df-convert {\n",
              "      background-color: #E8F0FE;\n",
              "      border: none;\n",
              "      border-radius: 50%;\n",
              "      cursor: pointer;\n",
              "      display: none;\n",
              "      fill: #1967D2;\n",
              "      height: 32px;\n",
              "      padding: 0 0 0 0;\n",
              "      width: 32px;\n",
              "    }\n",
              "\n",
              "    .colab-df-convert:hover {\n",
              "      background-color: #E2EBFA;\n",
              "      box-shadow: 0px 1px 2px rgba(60, 64, 67, 0.3), 0px 1px 3px 1px rgba(60, 64, 67, 0.15);\n",
              "      fill: #174EA6;\n",
              "    }\n",
              "\n",
              "    [theme=dark] .colab-df-convert {\n",
              "      background-color: #3B4455;\n",
              "      fill: #D2E3FC;\n",
              "    }\n",
              "\n",
              "    [theme=dark] .colab-df-convert:hover {\n",
              "      background-color: #434B5C;\n",
              "      box-shadow: 0px 1px 3px 1px rgba(0, 0, 0, 0.15);\n",
              "      filter: drop-shadow(0px 1px 2px rgba(0, 0, 0, 0.3));\n",
              "      fill: #FFFFFF;\n",
              "    }\n",
              "  </style>\n",
              "\n",
              "      <script>\n",
              "        const buttonEl =\n",
              "          document.querySelector('#df-d42a8af7-7749-4525-bc09-31e74a029909 button.colab-df-convert');\n",
              "        buttonEl.style.display =\n",
              "          google.colab.kernel.accessAllowed ? 'block' : 'none';\n",
              "\n",
              "        async function convertToInteractive(key) {\n",
              "          const element = document.querySelector('#df-d42a8af7-7749-4525-bc09-31e74a029909');\n",
              "          const dataTable =\n",
              "            await google.colab.kernel.invokeFunction('convertToInteractive',\n",
              "                                                     [key], {});\n",
              "          if (!dataTable) return;\n",
              "\n",
              "          const docLinkHtml = 'Like what you see? Visit the ' +\n",
              "            '<a target=\"_blank\" href=https://colab.research.google.com/notebooks/data_table.ipynb>data table notebook</a>'\n",
              "            + ' to learn more about interactive tables.';\n",
              "          element.innerHTML = '';\n",
              "          dataTable['output_type'] = 'display_data';\n",
              "          await google.colab.output.renderOutput(dataTable, element);\n",
              "          const docLink = document.createElement('div');\n",
              "          docLink.innerHTML = docLinkHtml;\n",
              "          element.appendChild(docLink);\n",
              "        }\n",
              "      </script>\n",
              "    </div>\n",
              "  </div>\n",
              "  "
            ]
          },
          "metadata": {},
          "execution_count": 36
        }
      ]
    },
    {
      "cell_type": "code",
      "source": [
        "np.set_printoptions(threshold=10)"
      ],
      "metadata": {
        "id": "tLDy2BMkwrau"
      },
      "execution_count": 37,
      "outputs": []
    },
    {
      "cell_type": "code",
      "source": [
        "merged.ISBN.unique()"
      ],
      "metadata": {
        "id": "v4DiEzSjUoeM",
        "outputId": "b93847f0-861d-4f6b-c609-acf604fcab32",
        "colab": {
          "base_uri": "https://localhost:8080/"
        }
      },
      "execution_count": 38,
      "outputs": [
        {
          "output_type": "execute_result",
          "data": {
            "text/plain": [
              "array(['0195153448', '0002005018', '0060973129', ..., '006008667X',\n",
              "       '0192126040', '0767409752'], dtype=object)"
            ]
          },
          "metadata": {},
          "execution_count": 38
        }
      ]
    },
    {
      "cell_type": "code",
      "source": [
        "merged['Book-Title'].unique()"
      ],
      "metadata": {
        "id": "WNTNcGE-U2SU",
        "outputId": "f60d975c-c0b0-4f9c-eef9-08569e686c60",
        "colab": {
          "base_uri": "https://localhost:8080/"
        }
      },
      "execution_count": 39,
      "outputs": [
        {
          "output_type": "execute_result",
          "data": {
            "text/plain": [
              "array(['Classical Mythology', 'Clara Callan', 'Decision in Normandy', ...,\n",
              "       'Lily Dale : The True Story of the Town that Talks to the Dead',\n",
              "       \"Republic (World's Classics)\",\n",
              "       \"A Guided Tour of Rene Descartes' Meditations on First Philosophy with Complete Translations of the Meditations by Ronald Rubin\"],\n",
              "      dtype=object)"
            ]
          },
          "metadata": {},
          "execution_count": 39
        }
      ]
    },
    {
      "cell_type": "code",
      "source": [
        "merged['Book-Author'].unique()"
      ],
      "metadata": {
        "id": "IgPvyQ6NVXnm",
        "outputId": "6386ce75-67fe-4cb7-8353-0f2e6e6ce91f",
        "colab": {
          "base_uri": "https://localhost:8080/"
        }
      },
      "execution_count": 40,
      "outputs": [
        {
          "output_type": "execute_result",
          "data": {
            "text/plain": [
              "array(['Mark P. O. Morford', 'Richard Bruce Wright', \"Carlo D'Este\", ...,\n",
              "       'David Biggs', 'Teri Sloat', 'Christopher  Biffle'], dtype=object)"
            ]
          },
          "metadata": {},
          "execution_count": 40
        }
      ]
    },
    {
      "cell_type": "code",
      "source": [
        "#barplot of age and its counts \n",
        "plt.figure(figsize=(20,7))\n",
        "sns.countplot(x = merged['Year-Of-Publication'])\n",
        "plt.title('Age Wise Distribution',fontsize=15)\n",
        "plt.grid()\n",
        "plt.show()"
      ],
      "metadata": {
        "id": "hL1IhnIqXL9O",
        "outputId": "bfd9677b-a4f3-4821-d789-245d0237b444",
        "colab": {
          "base_uri": "https://localhost:8080/",
          "height": 0
        }
      },
      "execution_count": 41,
      "outputs": [
        {
          "output_type": "display_data",
          "data": {
            "text/plain": [
              "<Figure size 1440x504 with 1 Axes>"
            ],
            "image/png": "[encoded data removed]"
          },
          "metadata": {
            "needs_background": "light"
          }
        }
      ]
    },
    {
      "cell_type": "code",
      "source": [
        "merged['Year-Of-Publication'].unique()"
      ],
      "metadata": {
        "id": "_zTSkyUFVtwu",
        "outputId": "2fd42d18-2135-4f8f-be9e-fa2144ae65d9",
        "colab": {
          "base_uri": "https://localhost:8080/"
        }
      },
      "execution_count": 42,
      "outputs": [
        {
          "output_type": "execute_result",
          "data": {
            "text/plain": [
              "array([2002, 2001, 1991, ..., 1989, 1984, 1977])"
            ]
          },
          "metadata": {},
          "execution_count": 42
        }
      ]
    },
    {
      "cell_type": "code",
      "source": [
        "merged['Year-Of-Publication'].unique()"
      ],
      "metadata": {
        "id": "JA1901XgVv_N",
        "outputId": "04d244dc-77f6-472e-c78e-948aa5b42a3b",
        "colab": {
          "base_uri": "https://localhost:8080/"
        }
      },
      "execution_count": 43,
      "outputs": [
        {
          "output_type": "execute_result",
          "data": {
            "text/plain": [
              "array([2002, 2001, 1991, ..., 1989, 1984, 1977])"
            ]
          },
          "metadata": {},
          "execution_count": 43
        }
      ]
    },
    {
      "cell_type": "code",
      "source": [
        "#pd.set_option('display.max_rows', 50000)"
      ],
      "metadata": {
        "id": "Tlb4XDNwx2xL"
      },
      "execution_count": 44,
      "outputs": []
    },
    {
      "cell_type": "code",
      "source": [
        "merged.head(2)"
      ],
      "metadata": {
        "id": "mWR28U7_6kWW",
        "outputId": "0a098525-902b-4be5-c956-372ceb9ffc31",
        "colab": {
          "base_uri": "https://localhost:8080/",
          "height": 0
        }
      },
      "execution_count": 45,
      "outputs": [
        {
          "output_type": "execute_result",
          "data": {
            "text/plain": [
              "         ISBN           Book-Title           Book-Author  Year-Of-Publication  \\\n",
              "0  0195153448  Classical Mythology    Mark P. O. Morford                 2002   \n",
              "1  0002005018         Clara Callan  Richard Bruce Wright                 2001   \n",
              "\n",
              "                 Publisher  User-ID                   Location   Age Country  \\\n",
              "0  Oxford University Press        2  stockton, california, usa  18.0     usa   \n",
              "1    HarperFlamingo Canada        8   timmins, ontario, canada  32.0  canada   \n",
              "\n",
              "   Book-Rating  \n",
              "0            0  \n",
              "1            5  "
            ],
            "text/html": [
              "\n",
              "  <div id=\"df-85e3b80b-5930-4a53-a2e0-3ae0cfd55fad\">\n",
              "    <div class=\"colab-df-container\">\n",
              "      <div>\n",
              "<style scoped>\n",
              "    .dataframe tbody tr th:only-of-type {\n",
              "        vertical-align: middle;\n",
              "    }\n",
              "\n",
              "    .dataframe tbody tr th {\n",
              "        vertical-align: top;\n",
              "    }\n",
              "\n",
              "    .dataframe thead th {\n",
              "        text-align: right;\n",
              "    }\n",
              "</style>\n",
              "<table border=\"1\" class=\"dataframe\">\n",
              "  <thead>\n",
              "    <tr style=\"text-align: right;\">\n",
              "      <th></th>\n",
              "      <th>ISBN</th>\n",
              "      <th>Book-Title</th>\n",
              "      <th>Book-Author</th>\n",
              "      <th>Year-Of-Publication</th>\n",
              "      <th>Publisher</th>\n",
              "      <th>User-ID</th>\n",
              "      <th>Location</th>\n",
              "      <th>Age</th>\n",
              "      <th>Country</th>\n",
              "      <th>Book-Rating</th>\n",
              "    </tr>\n",
              "  </thead>\n",
              "  <tbody>\n",
              "    <tr>\n",
              "      <th>0</th>\n",
              "      <td>0195153448</td>\n",
              "      <td>Classical Mythology</td>\n",
              "      <td>Mark P. O. Morford</td>\n",
              "      <td>2002</td>\n",
              "      <td>Oxford University Press</td>\n",
              "      <td>2</td>\n",
              "      <td>stockton, california, usa</td>\n",
              "      <td>18.0</td>\n",
              "      <td>usa</td>\n",
              "      <td>0</td>\n",
              "    </tr>\n",
              "    <tr>\n",
              "      <th>1</th>\n",
              "      <td>0002005018</td>\n",
              "      <td>Clara Callan</td>\n",
              "      <td>Richard Bruce Wright</td>\n",
              "      <td>2001</td>\n",
              "      <td>HarperFlamingo Canada</td>\n",
              "      <td>8</td>\n",
              "      <td>timmins, ontario, canada</td>\n",
              "      <td>32.0</td>\n",
              "      <td>canada</td>\n",
              "      <td>5</td>\n",
              "    </tr>\n",
              "  </tbody>\n",
              "</table>\n",
              "</div>\n",
              "      <button class=\"colab-df-convert\" onclick=\"convertToInteractive('df-85e3b80b-5930-4a53-a2e0-3ae0cfd55fad')\"\n",
              "              title=\"Convert this dataframe to an interactive table.\"\n",
              "              style=\"display:none;\">\n",
              "        \n",
              "  <svg xmlns=\"http://www.w3.org/2000/svg\" height=\"24px\"viewBox=\"0 0 24 24\"\n",
              "       width=\"24px\">\n",
              "    <path d=\"M0 0h24v24H0V0z\" fill=\"none\"/>\n",
              "    <path d=\"M18.56 5.44l.94 2.06.94-2.06 2.06-.94-2.06-.94-.94-2.06-.94 2.06-2.06.94zm-11 1L8.5 8.5l.94-2.06 2.06-.94-2.06-.94L8.5 2.5l-.94 2.06-2.06.94zm10 10l.94 2.06.94-2.06 2.06-.94-2.06-.94-.94-2.06-.94 2.06-2.06.94z\"/><path d=\"M17.41 7.96l-1.37-1.37c-.4-.4-.92-.59-1.43-.59-.52 0-1.04.2-1.43.59L10.3 9.45l-7.72 7.72c-.78.78-.78 2.05 0 2.83L4 21.41c.39.39.9.59 1.41.59.51 0 1.02-.2 1.41-.59l7.78-7.78 2.81-2.81c.8-.78.8-2.07 0-2.86zM5.41 20L4 18.59l7.72-7.72 1.47 1.35L5.41 20z\"/>\n",
              "  </svg>\n",
              "      </button>\n",
              "      \n",
              "  <style>\n",
              "    .colab-df-container {\n",
              "      display:flex;\n",
              "      flex-wrap:wrap;\n",
              "      gap: 12px;\n",
              "    }\n",
              "\n",
              "    .colab-df-convert {\n",
              "      background-color: #E8F0FE;\n",
              "      border: none;\n",
              "      border-radius: 50%;\n",
              "      cursor: pointer;\n",
              "      display: none;\n",
              "      fill: #1967D2;\n",
              "      height: 32px;\n",
              "      padding: 0 0 0 0;\n",
              "      width: 32px;\n",
              "    }\n",
              "\n",
              "    .colab-df-convert:hover {\n",
              "      background-color: #E2EBFA;\n",
              "      box-shadow: 0px 1px 2px rgba(60, 64, 67, 0.3), 0px 1px 3px 1px rgba(60, 64, 67, 0.15);\n",
              "      fill: #174EA6;\n",
              "    }\n",
              "\n",
              "    [theme=dark] .colab-df-convert {\n",
              "      background-color: #3B4455;\n",
              "      fill: #D2E3FC;\n",
              "    }\n",
              "\n",
              "    [theme=dark] .colab-df-convert:hover {\n",
              "      background-color: #434B5C;\n",
              "      box-shadow: 0px 1px 3px 1px rgba(0, 0, 0, 0.15);\n",
              "      filter: drop-shadow(0px 1px 2px rgba(0, 0, 0, 0.3));\n",
              "      fill: #FFFFFF;\n",
              "    }\n",
              "  </style>\n",
              "\n",
              "      <script>\n",
              "        const buttonEl =\n",
              "          document.querySelector('#df-85e3b80b-5930-4a53-a2e0-3ae0cfd55fad button.colab-df-convert');\n",
              "        buttonEl.style.display =\n",
              "          google.colab.kernel.accessAllowed ? 'block' : 'none';\n",
              "\n",
              "        async function convertToInteractive(key) {\n",
              "          const element = document.querySelector('#df-85e3b80b-5930-4a53-a2e0-3ae0cfd55fad');\n",
              "          const dataTable =\n",
              "            await google.colab.kernel.invokeFunction('convertToInteractive',\n",
              "                                                     [key], {});\n",
              "          if (!dataTable) return;\n",
              "\n",
              "          const docLinkHtml = 'Like what you see? Visit the ' +\n",
              "            '<a target=\"_blank\" href=https://colab.research.google.com/notebooks/data_table.ipynb>data table notebook</a>'\n",
              "            + ' to learn more about interactive tables.';\n",
              "          element.innerHTML = '';\n",
              "          dataTable['output_type'] = 'display_data';\n",
              "          await google.colab.output.renderOutput(dataTable, element);\n",
              "          const docLink = document.createElement('div');\n",
              "          docLink.innerHTML = docLinkHtml;\n",
              "          element.appendChild(docLink);\n",
              "        }\n",
              "      </script>\n",
              "    </div>\n",
              "  </div>\n",
              "  "
            ]
          },
          "metadata": {},
          "execution_count": 45
        }
      ]
    },
    {
      "cell_type": "code",
      "source": [
        "merged.Country.value_counts()"
      ],
      "metadata": {
        "id": "JDCFMpRD7H7O",
        "outputId": "84844b6e-5c43-41dc-f11a-3aac787cb351",
        "colab": {
          "base_uri": "https://localhost:8080/"
        }
      },
      "execution_count": 46,
      "outputs": [
        {
          "output_type": "execute_result",
          "data": {
            "text/plain": [
              "usa                                  745812\n",
              "canada                                92954\n",
              "n/a                                   37573\n",
              "united kingdom                        32007\n",
              "germany                               27654\n",
              "                                      ...  \n",
              "hungary\"                                  1\n",
              "c                                         1\n",
              "samoa                                     1\n",
              "zambia                                    1\n",
              "usa (currently living in england)         1\n",
              "Name: Country, Length: 281, dtype: int64"
            ]
          },
          "metadata": {},
          "execution_count": 46
        }
      ]
    },
    {
      "cell_type": "markdown",
      "source": [
        "Duplicates"
      ],
      "metadata": {
        "id": "gradOTtCoGP_"
      }
    },
    {
      "cell_type": "code",
      "source": [
        "merged.duplicated().any()"
      ],
      "metadata": {
        "id": "c-ChVWiHoCF4",
        "outputId": "b06fa91a-f630-487b-9cde-b60b8e35c042",
        "colab": {
          "base_uri": "https://localhost:8080/"
        }
      },
      "execution_count": 47,
      "outputs": [
        {
          "output_type": "execute_result",
          "data": {
            "text/plain": [
              "False"
            ]
          },
          "metadata": {},
          "execution_count": 47
        }
      ]
    },
    {
      "cell_type": "markdown",
      "source": [
        "##**EDA**"
      ],
      "metadata": {
        "id": "stJwjwjQoS0E"
      }
    },
    {
      "cell_type": "code",
      "source": [
        "merged.head(2)"
      ],
      "metadata": {
        "id": "9kvGi9H3oWXj",
        "outputId": "cb671dd3-9669-43e5-f02e-bb1ac22f87c0",
        "colab": {
          "base_uri": "https://localhost:8080/",
          "height": 0
        }
      },
      "execution_count": 48,
      "outputs": [
        {
          "output_type": "execute_result",
          "data": {
            "text/plain": [
              "         ISBN           Book-Title           Book-Author  Year-Of-Publication  \\\n",
              "0  0195153448  Classical Mythology    Mark P. O. Morford                 2002   \n",
              "1  0002005018         Clara Callan  Richard Bruce Wright                 2001   \n",
              "\n",
              "                 Publisher  User-ID                   Location   Age Country  \\\n",
              "0  Oxford University Press        2  stockton, california, usa  18.0     usa   \n",
              "1    HarperFlamingo Canada        8   timmins, ontario, canada  32.0  canada   \n",
              "\n",
              "   Book-Rating  \n",
              "0            0  \n",
              "1            5  "
            ],
            "text/html": [
              "\n",
              "  <div id=\"df-c96c26f5-1356-47ae-bec2-2c0b49155bdf\">\n",
              "    <div class=\"colab-df-container\">\n",
              "      <div>\n",
              "<style scoped>\n",
              "    .dataframe tbody tr th:only-of-type {\n",
              "        vertical-align: middle;\n",
              "    }\n",
              "\n",
              "    .dataframe tbody tr th {\n",
              "        vertical-align: top;\n",
              "    }\n",
              "\n",
              "    .dataframe thead th {\n",
              "        text-align: right;\n",
              "    }\n",
              "</style>\n",
              "<table border=\"1\" class=\"dataframe\">\n",
              "  <thead>\n",
              "    <tr style=\"text-align: right;\">\n",
              "      <th></th>\n",
              "      <th>ISBN</th>\n",
              "      <th>Book-Title</th>\n",
              "      <th>Book-Author</th>\n",
              "      <th>Year-Of-Publication</th>\n",
              "      <th>Publisher</th>\n",
              "      <th>User-ID</th>\n",
              "      <th>Location</th>\n",
              "      <th>Age</th>\n",
              "      <th>Country</th>\n",
              "      <th>Book-Rating</th>\n",
              "    </tr>\n",
              "  </thead>\n",
              "  <tbody>\n",
              "    <tr>\n",
              "      <th>0</th>\n",
              "      <td>0195153448</td>\n",
              "      <td>Classical Mythology</td>\n",
              "      <td>Mark P. O. Morford</td>\n",
              "      <td>2002</td>\n",
              "      <td>Oxford University Press</td>\n",
              "      <td>2</td>\n",
              "      <td>stockton, california, usa</td>\n",
              "      <td>18.0</td>\n",
              "      <td>usa</td>\n",
              "      <td>0</td>\n",
              "    </tr>\n",
              "    <tr>\n",
              "      <th>1</th>\n",
              "      <td>0002005018</td>\n",
              "      <td>Clara Callan</td>\n",
              "      <td>Richard Bruce Wright</td>\n",
              "      <td>2001</td>\n",
              "      <td>HarperFlamingo Canada</td>\n",
              "      <td>8</td>\n",
              "      <td>timmins, ontario, canada</td>\n",
              "      <td>32.0</td>\n",
              "      <td>canada</td>\n",
              "      <td>5</td>\n",
              "    </tr>\n",
              "  </tbody>\n",
              "</table>\n",
              "</div>\n",
              "      <button class=\"colab-df-convert\" onclick=\"convertToInteractive('df-c96c26f5-1356-47ae-bec2-2c0b49155bdf')\"\n",
              "              title=\"Convert this dataframe to an interactive table.\"\n",
              "              style=\"display:none;\">\n",
              "        \n",
              "  <svg xmlns=\"http://www.w3.org/2000/svg\" height=\"24px\"viewBox=\"0 0 24 24\"\n",
              "       width=\"24px\">\n",
              "    <path d=\"M0 0h24v24H0V0z\" fill=\"none\"/>\n",
              "    <path d=\"M18.56 5.44l.94 2.06.94-2.06 2.06-.94-2.06-.94-.94-2.06-.94 2.06-2.06.94zm-11 1L8.5 8.5l.94-2.06 2.06-.94-2.06-.94L8.5 2.5l-.94 2.06-2.06.94zm10 10l.94 2.06.94-2.06 2.06-.94-2.06-.94-.94-2.06-.94 2.06-2.06.94z\"/><path d=\"M17.41 7.96l-1.37-1.37c-.4-.4-.92-.59-1.43-.59-.52 0-1.04.2-1.43.59L10.3 9.45l-7.72 7.72c-.78.78-.78 2.05 0 2.83L4 21.41c.39.39.9.59 1.41.59.51 0 1.02-.2 1.41-.59l7.78-7.78 2.81-2.81c.8-.78.8-2.07 0-2.86zM5.41 20L4 18.59l7.72-7.72 1.47 1.35L5.41 20z\"/>\n",
              "  </svg>\n",
              "      </button>\n",
              "      \n",
              "  <style>\n",
              "    .colab-df-container {\n",
              "      display:flex;\n",
              "      flex-wrap:wrap;\n",
              "      gap: 12px;\n",
              "    }\n",
              "\n",
              "    .colab-df-convert {\n",
              "      background-color: #E8F0FE;\n",
              "      border: none;\n",
              "      border-radius: 50%;\n",
              "      cursor: pointer;\n",
              "      display: none;\n",
              "      fill: #1967D2;\n",
              "      height: 32px;\n",
              "      padding: 0 0 0 0;\n",
              "      width: 32px;\n",
              "    }\n",
              "\n",
              "    .colab-df-convert:hover {\n",
              "      background-color: #E2EBFA;\n",
              "      box-shadow: 0px 1px 2px rgba(60, 64, 67, 0.3), 0px 1px 3px 1px rgba(60, 64, 67, 0.15);\n",
              "      fill: #174EA6;\n",
              "    }\n",
              "\n",
              "    [theme=dark] .colab-df-convert {\n",
              "      background-color: #3B4455;\n",
              "      fill: #D2E3FC;\n",
              "    }\n",
              "\n",
              "    [theme=dark] .colab-df-convert:hover {\n",
              "      background-color: #434B5C;\n",
              "      box-shadow: 0px 1px 3px 1px rgba(0, 0, 0, 0.15);\n",
              "      filter: drop-shadow(0px 1px 2px rgba(0, 0, 0, 0.3));\n",
              "      fill: #FFFFFF;\n",
              "    }\n",
              "  </style>\n",
              "\n",
              "      <script>\n",
              "        const buttonEl =\n",
              "          document.querySelector('#df-c96c26f5-1356-47ae-bec2-2c0b49155bdf button.colab-df-convert');\n",
              "        buttonEl.style.display =\n",
              "          google.colab.kernel.accessAllowed ? 'block' : 'none';\n",
              "\n",
              "        async function convertToInteractive(key) {\n",
              "          const element = document.querySelector('#df-c96c26f5-1356-47ae-bec2-2c0b49155bdf');\n",
              "          const dataTable =\n",
              "            await google.colab.kernel.invokeFunction('convertToInteractive',\n",
              "                                                     [key], {});\n",
              "          if (!dataTable) return;\n",
              "\n",
              "          const docLinkHtml = 'Like what you see? Visit the ' +\n",
              "            '<a target=\"_blank\" href=https://colab.research.google.com/notebooks/data_table.ipynb>data table notebook</a>'\n",
              "            + ' to learn more about interactive tables.';\n",
              "          element.innerHTML = '';\n",
              "          dataTable['output_type'] = 'display_data';\n",
              "          await google.colab.output.renderOutput(dataTable, element);\n",
              "          const docLink = document.createElement('div');\n",
              "          docLink.innerHTML = docLinkHtml;\n",
              "          element.appendChild(docLink);\n",
              "        }\n",
              "      </script>\n",
              "    </div>\n",
              "  </div>\n",
              "  "
            ]
          },
          "metadata": {},
          "execution_count": 48
        }
      ]
    },
    {
      "cell_type": "code",
      "source": [
        "#Top 10 Books by mean rating\n",
        "Books_by_mean_rating=merged.groupby('Book-Title')['Book-Rating'].median().reset_index(name=\"Median Rating\").sort_values(by=['Median Rating'], ascending =False)\n",
        "Books_by_mean_rating.head(50)"
      ],
      "metadata": {
        "id": "5aJl3z-m25m4",
        "outputId": "1ce448db-9d35-4b0f-91fb-2cadc95e2e3c",
        "colab": {
          "base_uri": "https://localhost:8080/",
          "height": 0
        }
      },
      "execution_count": 49,
      "outputs": [
        {
          "output_type": "execute_result",
          "data": {
            "text/plain": [
              "                                               Book-Title  Median Rating\n",
              "39864       Corto Maltese : La Ballade de la mer salÃ?Â©e           10.0\n",
              "114327                                Madita. ( Ab 8 J.).           10.0\n",
              "198823    The Mushroom Book: Recipes for Earthly Delights           10.0\n",
              "62488                                           Evilution           10.0\n",
              "198841            The Music of Black Americans: A History           10.0\n",
              "21203   Becoming a Critical Thinker: A User Friendly M...           10.0\n",
              "114280          Made in Goatswood (Call of Cthulhu, No 8)           10.0\n",
              "198861  The Mustard Seed: Discourses on the Sayings of...           10.0\n",
              "21195   Becoming Visible : An Illustrated History of L...           10.0\n",
              "198867  The Mute Stones Speak: The Story of Archaeolog...           10.0\n",
              "21188   Becoming One: A Story of Triumph over Multiple...           10.0\n",
              "198875                    The Mysteries of Harris Burdick           10.0\n",
              "21184                                 Becoming Naomi Leon           10.0\n",
              "62506   Evolution of life; (Hamlyn allcolour paperback...           10.0\n",
              "198881              The Mysteries of the Most Holy Rosary           10.0\n",
              "21178                                      Becoming Maren           10.0\n",
              "114254   Madden NFL 2002: Prima's Official Strategy Guide           10.0\n",
              "198822                                 The Museum of Love           10.0\n",
              "62472   Evil Ninja Masters (La Blue Girl: The Original...           10.0\n",
              "114249                 Madbond (Sea King Trilogy, Book 1)           10.0\n",
              "114333                         Madman: The Oddity Odyssey           10.0\n",
              "198660  The Mountains Won't Remember Us: And Other Sto...           10.0\n",
              "198663  The Mountains of California (Penguin Nature Cl...           10.0\n",
              "21287      Bedside Fairy Tales: Flight of the Imagination           10.0\n",
              "198673  The Mouse Bride: A Mayan Folk Tale (Umbrella B...           10.0\n",
              "198675                  The Mouse Couple: A Hopi Folktale           10.0\n",
              "198688     The Movable Mother Goose (Mother Goose Pop-Up)           10.0\n",
              "62436   Evidence Embalmed: Modern Medicine and the Mum...           10.0\n",
              "198715  The Ms. Spent Money Guide: Get More of What Yo...           10.0\n",
              "198716  The Ms. guide to a woman's health: The most up...           10.0\n",
              "62442                       Evidence for the Resurrection           10.0\n",
              "114368                                           Madselin           10.0\n",
              "21253                Bed, Bed, Bed (They Might Be Giants)           10.0\n",
              "198766                     The Murder Artist : A Thriller           10.0\n",
              "198775                                   The Murder Stone           10.0\n",
              "114336                                  Madmen of history           10.0\n",
              "62514            Evolution: A Case of Stating the Obvious           10.0\n",
              "21170                                     Becoming Finola           10.0\n",
              "113137                                  Lupin III, Book 5           10.0\n",
              "21068           Beauty and the Beast (Scholastic Readers)           10.0\n",
              "114057                             Mackerel Sky : A Novel           10.0\n",
              "199136  The Myths That Divide Us: How Lies Have Poison...           10.0\n",
              "21063              Beauty and the Beast (Classics Series)           10.0\n",
              "199142  The NASCAR Way: The Business That Drives the S...           10.0\n",
              "114019  Machinery of Dominance: Women, Men, and Techni...           10.0\n",
              "199164  The Nabokov Russian Translation of Lewis Carro...           10.0\n",
              "199166                                The Nagasaki Vector           10.0\n",
              "199191  The Naked Truth about Hedonism II: A Totally U...           10.0\n",
              "199192  The Naked Truth: An Exercise in Therapeutic St...           10.0\n",
              "199198     The Name Book: How Your Name Affects Your Life           10.0"
            ],
            "text/html": [
              "\n",
              "  <div id=\"df-3780e696-001b-4488-85c7-2f83bb1de397\">\n",
              "    <div class=\"colab-df-container\">\n",
              "      <div>\n",
              "<style scoped>\n",
              "    .dataframe tbody tr th:only-of-type {\n",
              "        vertical-align: middle;\n",
              "    }\n",
              "\n",
              "    .dataframe tbody tr th {\n",
              "        vertical-align: top;\n",
              "    }\n",
              "\n",
              "    .dataframe thead th {\n",
              "        text-align: right;\n",
              "    }\n",
              "</style>\n",
              "<table border=\"1\" class=\"dataframe\">\n",
              "  <thead>\n",
              "    <tr style=\"text-align: right;\">\n",
              "      <th></th>\n",
              "      <th>Book-Title</th>\n",
              "      <th>Median Rating</th>\n",
              "    </tr>\n",
              "  </thead>\n",
              "  <tbody>\n",
              "    <tr>\n",
              "      <th>39864</th>\n",
              "      <td>Corto Maltese : La Ballade de la mer salÃ?Â©e</td>\n",
              "      <td>10.0</td>\n",
              "    </tr>\n",
              "    <tr>\n",
              "      <th>114327</th>\n",
              "      <td>Madita. ( Ab 8 J.).</td>\n",
              "      <td>10.0</td>\n",
              "    </tr>\n",
              "    <tr>\n",
              "      <th>198823</th>\n",
              "      <td>The Mushroom Book: Recipes for Earthly Delights</td>\n",
              "      <td>10.0</td>\n",
              "    </tr>\n",
              "    <tr>\n",
              "      <th>62488</th>\n",
              "      <td>Evilution</td>\n",
              "      <td>10.0</td>\n",
              "    </tr>\n",
              "    <tr>\n",
              "      <th>198841</th>\n",
              "      <td>The Music of Black Americans: A History</td>\n",
              "      <td>10.0</td>\n",
              "    </tr>\n",
              "    <tr>\n",
              "      <th>21203</th>\n",
              "      <td>Becoming a Critical Thinker: A User Friendly M...</td>\n",
              "      <td>10.0</td>\n",
              "    </tr>\n",
              "    <tr>\n",
              "      <th>114280</th>\n",
              "      <td>Made in Goatswood (Call of Cthulhu, No 8)</td>\n",
              "      <td>10.0</td>\n",
              "    </tr>\n",
              "    <tr>\n",
              "      <th>198861</th>\n",
              "      <td>The Mustard Seed: Discourses on the Sayings of...</td>\n",
              "      <td>10.0</td>\n",
              "    </tr>\n",
              "    <tr>\n",
              "      <th>21195</th>\n",
              "      <td>Becoming Visible : An Illustrated History of L...</td>\n",
              "      <td>10.0</td>\n",
              "    </tr>\n",
              "    <tr>\n",
              "      <th>198867</th>\n",
              "      <td>The Mute Stones Speak: The Story of Archaeolog...</td>\n",
              "      <td>10.0</td>\n",
              "    </tr>\n",
              "    <tr>\n",
              "      <th>21188</th>\n",
              "      <td>Becoming One: A Story of Triumph over Multiple...</td>\n",
              "      <td>10.0</td>\n",
              "    </tr>\n",
              "    <tr>\n",
              "      <th>198875</th>\n",
              "      <td>The Mysteries of Harris Burdick</td>\n",
              "      <td>10.0</td>\n",
              "    </tr>\n",
              "    <tr>\n",
              "      <th>21184</th>\n",
              "      <td>Becoming Naomi Leon</td>\n",
              "      <td>10.0</td>\n",
              "    </tr>\n",
              "    <tr>\n",
              "      <th>62506</th>\n",
              "      <td>Evolution of life; (Hamlyn allcolour paperback...</td>\n",
              "      <td>10.0</td>\n",
              "    </tr>\n",
              "    <tr>\n",
              "      <th>198881</th>\n",
              "      <td>The Mysteries of the Most Holy Rosary</td>\n",
              "      <td>10.0</td>\n",
              "    </tr>\n",
              "    <tr>\n",
              "      <th>21178</th>\n",
              "      <td>Becoming Maren</td>\n",
              "      <td>10.0</td>\n",
              "    </tr>\n",
              "    <tr>\n",
              "      <th>114254</th>\n",
              "      <td>Madden NFL 2002: Prima's Official Strategy Guide</td>\n",
              "      <td>10.0</td>\n",
              "    </tr>\n",
              "    <tr>\n",
              "      <th>198822</th>\n",
              "      <td>The Museum of Love</td>\n",
              "      <td>10.0</td>\n",
              "    </tr>\n",
              "    <tr>\n",
              "      <th>62472</th>\n",
              "      <td>Evil Ninja Masters (La Blue Girl: The Original...</td>\n",
              "      <td>10.0</td>\n",
              "    </tr>\n",
              "    <tr>\n",
              "      <th>114249</th>\n",
              "      <td>Madbond (Sea King Trilogy, Book 1)</td>\n",
              "      <td>10.0</td>\n",
              "    </tr>\n",
              "    <tr>\n",
              "      <th>114333</th>\n",
              "      <td>Madman: The Oddity Odyssey</td>\n",
              "      <td>10.0</td>\n",
              "    </tr>\n",
              "    <tr>\n",
              "      <th>198660</th>\n",
              "      <td>The Mountains Won't Remember Us: And Other Sto...</td>\n",
              "      <td>10.0</td>\n",
              "    </tr>\n",
              "    <tr>\n",
              "      <th>198663</th>\n",
              "      <td>The Mountains of California (Penguin Nature Cl...</td>\n",
              "      <td>10.0</td>\n",
              "    </tr>\n",
              "    <tr>\n",
              "      <th>21287</th>\n",
              "      <td>Bedside Fairy Tales: Flight of the Imagination</td>\n",
              "      <td>10.0</td>\n",
              "    </tr>\n",
              "    <tr>\n",
              "      <th>198673</th>\n",
              "      <td>The Mouse Bride: A Mayan Folk Tale (Umbrella B...</td>\n",
              "      <td>10.0</td>\n",
              "    </tr>\n",
              "    <tr>\n",
              "      <th>198675</th>\n",
              "      <td>The Mouse Couple: A Hopi Folktale</td>\n",
              "      <td>10.0</td>\n",
              "    </tr>\n",
              "    <tr>\n",
              "      <th>198688</th>\n",
              "      <td>The Movable Mother Goose (Mother Goose Pop-Up)</td>\n",
              "      <td>10.0</td>\n",
              "    </tr>\n",
              "    <tr>\n",
              "      <th>62436</th>\n",
              "      <td>Evidence Embalmed: Modern Medicine and the Mum...</td>\n",
              "      <td>10.0</td>\n",
              "    </tr>\n",
              "    <tr>\n",
              "      <th>198715</th>\n",
              "      <td>The Ms. Spent Money Guide: Get More of What Yo...</td>\n",
              "      <td>10.0</td>\n",
              "    </tr>\n",
              "    <tr>\n",
              "      <th>198716</th>\n",
              "      <td>The Ms. guide to a woman's health: The most up...</td>\n",
              "      <td>10.0</td>\n",
              "    </tr>\n",
              "    <tr>\n",
              "      <th>62442</th>\n",
              "      <td>Evidence for the Resurrection</td>\n",
              "      <td>10.0</td>\n",
              "    </tr>\n",
              "    <tr>\n",
              "      <th>114368</th>\n",
              "      <td>Madselin</td>\n",
              "      <td>10.0</td>\n",
              "    </tr>\n",
              "    <tr>\n",
              "      <th>21253</th>\n",
              "      <td>Bed, Bed, Bed (They Might Be Giants)</td>\n",
              "      <td>10.0</td>\n",
              "    </tr>\n",
              "    <tr>\n",
              "      <th>198766</th>\n",
              "      <td>The Murder Artist : A Thriller</td>\n",
              "      <td>10.0</td>\n",
              "    </tr>\n",
              "    <tr>\n",
              "      <th>198775</th>\n",
              "      <td>The Murder Stone</td>\n",
              "      <td>10.0</td>\n",
              "    </tr>\n",
              "    <tr>\n",
              "      <th>114336</th>\n",
              "      <td>Madmen of history</td>\n",
              "      <td>10.0</td>\n",
              "    </tr>\n",
              "    <tr>\n",
              "      <th>62514</th>\n",
              "      <td>Evolution: A Case of Stating the Obvious</td>\n",
              "      <td>10.0</td>\n",
              "    </tr>\n",
              "    <tr>\n",
              "      <th>21170</th>\n",
              "      <td>Becoming Finola</td>\n",
              "      <td>10.0</td>\n",
              "    </tr>\n",
              "    <tr>\n",
              "      <th>113137</th>\n",
              "      <td>Lupin III, Book 5</td>\n",
              "      <td>10.0</td>\n",
              "    </tr>\n",
              "    <tr>\n",
              "      <th>21068</th>\n",
              "      <td>Beauty and the Beast (Scholastic Readers)</td>\n",
              "      <td>10.0</td>\n",
              "    </tr>\n",
              "    <tr>\n",
              "      <th>114057</th>\n",
              "      <td>Mackerel Sky : A Novel</td>\n",
              "      <td>10.0</td>\n",
              "    </tr>\n",
              "    <tr>\n",
              "      <th>199136</th>\n",
              "      <td>The Myths That Divide Us: How Lies Have Poison...</td>\n",
              "      <td>10.0</td>\n",
              "    </tr>\n",
              "    <tr>\n",
              "      <th>21063</th>\n",
              "      <td>Beauty and the Beast (Classics Series)</td>\n",
              "      <td>10.0</td>\n",
              "    </tr>\n",
              "    <tr>\n",
              "      <th>199142</th>\n",
              "      <td>The NASCAR Way: The Business That Drives the S...</td>\n",
              "      <td>10.0</td>\n",
              "    </tr>\n",
              "    <tr>\n",
              "      <th>114019</th>\n",
              "      <td>Machinery of Dominance: Women, Men, and Techni...</td>\n",
              "      <td>10.0</td>\n",
              "    </tr>\n",
              "    <tr>\n",
              "      <th>199164</th>\n",
              "      <td>The Nabokov Russian Translation of Lewis Carro...</td>\n",
              "      <td>10.0</td>\n",
              "    </tr>\n",
              "    <tr>\n",
              "      <th>199166</th>\n",
              "      <td>The Nagasaki Vector</td>\n",
              "      <td>10.0</td>\n",
              "    </tr>\n",
              "    <tr>\n",
              "      <th>199191</th>\n",
              "      <td>The Naked Truth about Hedonism II: A Totally U...</td>\n",
              "      <td>10.0</td>\n",
              "    </tr>\n",
              "    <tr>\n",
              "      <th>199192</th>\n",
              "      <td>The Naked Truth: An Exercise in Therapeutic St...</td>\n",
              "      <td>10.0</td>\n",
              "    </tr>\n",
              "    <tr>\n",
              "      <th>199198</th>\n",
              "      <td>The Name Book: How Your Name Affects Your Life</td>\n",
              "      <td>10.0</td>\n",
              "    </tr>\n",
              "  </tbody>\n",
              "</table>\n",
              "</div>\n",
              "      <button class=\"colab-df-convert\" onclick=\"convertToInteractive('df-3780e696-001b-4488-85c7-2f83bb1de397')\"\n",
              "              title=\"Convert this dataframe to an interactive table.\"\n",
              "              style=\"display:none;\">\n",
              "        \n",
              "  <svg xmlns=\"http://www.w3.org/2000/svg\" height=\"24px\"viewBox=\"0 0 24 24\"\n",
              "       width=\"24px\">\n",
              "    <path d=\"M0 0h24v24H0V0z\" fill=\"none\"/>\n",
              "    <path d=\"M18.56 5.44l.94 2.06.94-2.06 2.06-.94-2.06-.94-.94-2.06-.94 2.06-2.06.94zm-11 1L8.5 8.5l.94-2.06 2.06-.94-2.06-.94L8.5 2.5l-.94 2.06-2.06.94zm10 10l.94 2.06.94-2.06 2.06-.94-2.06-.94-.94-2.06-.94 2.06-2.06.94z\"/><path d=\"M17.41 7.96l-1.37-1.37c-.4-.4-.92-.59-1.43-.59-.52 0-1.04.2-1.43.59L10.3 9.45l-7.72 7.72c-.78.78-.78 2.05 0 2.83L4 21.41c.39.39.9.59 1.41.59.51 0 1.02-.2 1.41-.59l7.78-7.78 2.81-2.81c.8-.78.8-2.07 0-2.86zM5.41 20L4 18.59l7.72-7.72 1.47 1.35L5.41 20z\"/>\n",
              "  </svg>\n",
              "      </button>\n",
              "      \n",
              "  <style>\n",
              "    .colab-df-container {\n",
              "      display:flex;\n",
              "      flex-wrap:wrap;\n",
              "      gap: 12px;\n",
              "    }\n",
              "\n",
              "    .colab-df-convert {\n",
              "      background-color: #E8F0FE;\n",
              "      border: none;\n",
              "      border-radius: 50%;\n",
              "      cursor: pointer;\n",
              "      display: none;\n",
              "      fill: #1967D2;\n",
              "      height: 32px;\n",
              "      padding: 0 0 0 0;\n",
              "      width: 32px;\n",
              "    }\n",
              "\n",
              "    .colab-df-convert:hover {\n",
              "      background-color: #E2EBFA;\n",
              "      box-shadow: 0px 1px 2px rgba(60, 64, 67, 0.3), 0px 1px 3px 1px rgba(60, 64, 67, 0.15);\n",
              "      fill: #174EA6;\n",
              "    }\n",
              "\n",
              "    [theme=dark] .colab-df-convert {\n",
              "      background-color: #3B4455;\n",
              "      fill: #D2E3FC;\n",
              "    }\n",
              "\n",
              "    [theme=dark] .colab-df-convert:hover {\n",
              "      background-color: #434B5C;\n",
              "      box-shadow: 0px 1px 3px 1px rgba(0, 0, 0, 0.15);\n",
              "      filter: drop-shadow(0px 1px 2px rgba(0, 0, 0, 0.3));\n",
              "      fill: #FFFFFF;\n",
              "    }\n",
              "  </style>\n",
              "\n",
              "      <script>\n",
              "        const buttonEl =\n",
              "          document.querySelector('#df-3780e696-001b-4488-85c7-2f83bb1de397 button.colab-df-convert');\n",
              "        buttonEl.style.display =\n",
              "          google.colab.kernel.accessAllowed ? 'block' : 'none';\n",
              "\n",
              "        async function convertToInteractive(key) {\n",
              "          const element = document.querySelector('#df-3780e696-001b-4488-85c7-2f83bb1de397');\n",
              "          const dataTable =\n",
              "            await google.colab.kernel.invokeFunction('convertToInteractive',\n",
              "                                                     [key], {});\n",
              "          if (!dataTable) return;\n",
              "\n",
              "          const docLinkHtml = 'Like what you see? Visit the ' +\n",
              "            '<a target=\"_blank\" href=https://colab.research.google.com/notebooks/data_table.ipynb>data table notebook</a>'\n",
              "            + ' to learn more about interactive tables.';\n",
              "          element.innerHTML = '';\n",
              "          dataTable['output_type'] = 'display_data';\n",
              "          await google.colab.output.renderOutput(dataTable, element);\n",
              "          const docLink = document.createElement('div');\n",
              "          docLink.innerHTML = docLinkHtml;\n",
              "          element.appendChild(docLink);\n",
              "        }\n",
              "      </script>\n",
              "    </div>\n",
              "  </div>\n",
              "  "
            ]
          },
          "metadata": {},
          "execution_count": 49
        }
      ]
    },
    {
      "cell_type": "markdown",
      "source": [
        "Top 10 sold books"
      ],
      "metadata": {
        "id": "ifz9FG1rq8Bx"
      }
    },
    {
      "cell_type": "code",
      "source": [
        "Top10_Book=merged['Book-Title'].value_counts().reset_index().head(10)\n",
        "Top10_Book.rename(columns={'index':'Book-Title','Book-Title':'Count'},inplace=True)\n",
        "Top10_Book"
      ],
      "metadata": {
        "id": "5lH_G-7FofQn",
        "outputId": "8f11cc00-ebaf-4d43-b207-040ec3387161",
        "colab": {
          "base_uri": "https://localhost:8080/",
          "height": 0
        }
      },
      "execution_count": 50,
      "outputs": [
        {
          "output_type": "execute_result",
          "data": {
            "text/plain": [
              "                                        Book-Title  Count\n",
              "0                                      Wild Animus   2502\n",
              "1                        The Lovely Bones: A Novel   1295\n",
              "2                                The Da Vinci Code    898\n",
              "3                                  A Painted House    838\n",
              "4                       The Nanny Diaries: A Novel    828\n",
              "5                            Bridget Jones's Diary    815\n",
              "6                          The Secret Life of Bees    774\n",
              "7  Divine Secrets of the Ya-Ya Sisterhood: A Novel    740\n",
              "8              The Red Tent (Bestselling Backlist)    723\n",
              "9                              Angels &amp; Demons    670"
            ],
            "text/html": [
              "\n",
              "  <div id=\"df-06b04ad8-3ec1-40a2-8f01-ff5c4ce8a1ca\">\n",
              "    <div class=\"colab-df-container\">\n",
              "      <div>\n",
              "<style scoped>\n",
              "    .dataframe tbody tr th:only-of-type {\n",
              "        vertical-align: middle;\n",
              "    }\n",
              "\n",
              "    .dataframe tbody tr th {\n",
              "        vertical-align: top;\n",
              "    }\n",
              "\n",
              "    .dataframe thead th {\n",
              "        text-align: right;\n",
              "    }\n",
              "</style>\n",
              "<table border=\"1\" class=\"dataframe\">\n",
              "  <thead>\n",
              "    <tr style=\"text-align: right;\">\n",
              "      <th></th>\n",
              "      <th>Book-Title</th>\n",
              "      <th>Count</th>\n",
              "    </tr>\n",
              "  </thead>\n",
              "  <tbody>\n",
              "    <tr>\n",
              "      <th>0</th>\n",
              "      <td>Wild Animus</td>\n",
              "      <td>2502</td>\n",
              "    </tr>\n",
              "    <tr>\n",
              "      <th>1</th>\n",
              "      <td>The Lovely Bones: A Novel</td>\n",
              "      <td>1295</td>\n",
              "    </tr>\n",
              "    <tr>\n",
              "      <th>2</th>\n",
              "      <td>The Da Vinci Code</td>\n",
              "      <td>898</td>\n",
              "    </tr>\n",
              "    <tr>\n",
              "      <th>3</th>\n",
              "      <td>A Painted House</td>\n",
              "      <td>838</td>\n",
              "    </tr>\n",
              "    <tr>\n",
              "      <th>4</th>\n",
              "      <td>The Nanny Diaries: A Novel</td>\n",
              "      <td>828</td>\n",
              "    </tr>\n",
              "    <tr>\n",
              "      <th>5</th>\n",
              "      <td>Bridget Jones's Diary</td>\n",
              "      <td>815</td>\n",
              "    </tr>\n",
              "    <tr>\n",
              "      <th>6</th>\n",
              "      <td>The Secret Life of Bees</td>\n",
              "      <td>774</td>\n",
              "    </tr>\n",
              "    <tr>\n",
              "      <th>7</th>\n",
              "      <td>Divine Secrets of the Ya-Ya Sisterhood: A Novel</td>\n",
              "      <td>740</td>\n",
              "    </tr>\n",
              "    <tr>\n",
              "      <th>8</th>\n",
              "      <td>The Red Tent (Bestselling Backlist)</td>\n",
              "      <td>723</td>\n",
              "    </tr>\n",
              "    <tr>\n",
              "      <th>9</th>\n",
              "      <td>Angels &amp;amp; Demons</td>\n",
              "      <td>670</td>\n",
              "    </tr>\n",
              "  </tbody>\n",
              "</table>\n",
              "</div>\n",
              "      <button class=\"colab-df-convert\" onclick=\"convertToInteractive('df-06b04ad8-3ec1-40a2-8f01-ff5c4ce8a1ca')\"\n",
              "              title=\"Convert this dataframe to an interactive table.\"\n",
              "              style=\"display:none;\">\n",
              "        \n",
              "  <svg xmlns=\"http://www.w3.org/2000/svg\" height=\"24px\"viewBox=\"0 0 24 24\"\n",
              "       width=\"24px\">\n",
              "    <path d=\"M0 0h24v24H0V0z\" fill=\"none\"/>\n",
              "    <path d=\"M18.56 5.44l.94 2.06.94-2.06 2.06-.94-2.06-.94-.94-2.06-.94 2.06-2.06.94zm-11 1L8.5 8.5l.94-2.06 2.06-.94-2.06-.94L8.5 2.5l-.94 2.06-2.06.94zm10 10l.94 2.06.94-2.06 2.06-.94-2.06-.94-.94-2.06-.94 2.06-2.06.94z\"/><path d=\"M17.41 7.96l-1.37-1.37c-.4-.4-.92-.59-1.43-.59-.52 0-1.04.2-1.43.59L10.3 9.45l-7.72 7.72c-.78.78-.78 2.05 0 2.83L4 21.41c.39.39.9.59 1.41.59.51 0 1.02-.2 1.41-.59l7.78-7.78 2.81-2.81c.8-.78.8-2.07 0-2.86zM5.41 20L4 18.59l7.72-7.72 1.47 1.35L5.41 20z\"/>\n",
              "  </svg>\n",
              "      </button>\n",
              "      \n",
              "  <style>\n",
              "    .colab-df-container {\n",
              "      display:flex;\n",
              "      flex-wrap:wrap;\n",
              "      gap: 12px;\n",
              "    }\n",
              "\n",
              "    .colab-df-convert {\n",
              "      background-color: #E8F0FE;\n",
              "      border: none;\n",
              "      border-radius: 50%;\n",
              "      cursor: pointer;\n",
              "      display: none;\n",
              "      fill: #1967D2;\n",
              "      height: 32px;\n",
              "      padding: 0 0 0 0;\n",
              "      width: 32px;\n",
              "    }\n",
              "\n",
              "    .colab-df-convert:hover {\n",
              "      background-color: #E2EBFA;\n",
              "      box-shadow: 0px 1px 2px rgba(60, 64, 67, 0.3), 0px 1px 3px 1px rgba(60, 64, 67, 0.15);\n",
              "      fill: #174EA6;\n",
              "    }\n",
              "\n",
              "    [theme=dark] .colab-df-convert {\n",
              "      background-color: #3B4455;\n",
              "      fill: #D2E3FC;\n",
              "    }\n",
              "\n",
              "    [theme=dark] .colab-df-convert:hover {\n",
              "      background-color: #434B5C;\n",
              "      box-shadow: 0px 1px 3px 1px rgba(0, 0, 0, 0.15);\n",
              "      filter: drop-shadow(0px 1px 2px rgba(0, 0, 0, 0.3));\n",
              "      fill: #FFFFFF;\n",
              "    }\n",
              "  </style>\n",
              "\n",
              "      <script>\n",
              "        const buttonEl =\n",
              "          document.querySelector('#df-06b04ad8-3ec1-40a2-8f01-ff5c4ce8a1ca button.colab-df-convert');\n",
              "        buttonEl.style.display =\n",
              "          google.colab.kernel.accessAllowed ? 'block' : 'none';\n",
              "\n",
              "        async function convertToInteractive(key) {\n",
              "          const element = document.querySelector('#df-06b04ad8-3ec1-40a2-8f01-ff5c4ce8a1ca');\n",
              "          const dataTable =\n",
              "            await google.colab.kernel.invokeFunction('convertToInteractive',\n",
              "                                                     [key], {});\n",
              "          if (!dataTable) return;\n",
              "\n",
              "          const docLinkHtml = 'Like what you see? Visit the ' +\n",
              "            '<a target=\"_blank\" href=https://colab.research.google.com/notebooks/data_table.ipynb>data table notebook</a>'\n",
              "            + ' to learn more about interactive tables.';\n",
              "          element.innerHTML = '';\n",
              "          dataTable['output_type'] = 'display_data';\n",
              "          await google.colab.output.renderOutput(dataTable, element);\n",
              "          const docLink = document.createElement('div');\n",
              "          docLink.innerHTML = docLinkHtml;\n",
              "          element.appendChild(docLink);\n",
              "        }\n",
              "      </script>\n",
              "    </div>\n",
              "  </div>\n",
              "  "
            ]
          },
          "metadata": {},
          "execution_count": 50
        }
      ]
    },
    {
      "cell_type": "markdown",
      "source": [
        "books with same title but different author"
      ],
      "metadata": {
        "id": "wMJ7Gq62qjCm"
      }
    },
    {
      "cell_type": "code",
      "source": [
        "books['Book-Title'].value_counts()"
      ],
      "metadata": {
        "id": "TfmtT3xiqscj",
        "outputId": "063d66f8-af8f-4725-9276-70bc39f578a2",
        "colab": {
          "base_uri": "https://localhost:8080/"
        }
      },
      "execution_count": 51,
      "outputs": [
        {
          "output_type": "execute_result",
          "data": {
            "text/plain": [
              "Selected Poems                                                                                                                    27\n",
              "Little Women                                                                                                                      24\n",
              "Wuthering Heights                                                                                                                 21\n",
              "Dracula                                                                                                                           20\n",
              "The Secret Garden                                                                                                                 20\n",
              "                                                                                                                                  ..\n",
              "On a Clear Day You Can See General Motors: John Z. De Lorean's Look Inside the Automotive Giant                                    1\n",
              "What Every Kid Should Know                                                                                                         1\n",
              "The Seventh Enemy (A Brady Coyne Mystery)                                                                                          1\n",
              "A Brace of Skeet                                                                                                                   1\n",
              "A Guided Tour of Rene Descartes' Meditations on First Philosophy with Complete Translations of the Meditations by Ronald Rubin     1\n",
              "Name: Book-Title, Length: 242130, dtype: int64"
            ]
          },
          "metadata": {},
          "execution_count": 51
        }
      ]
    },
    {
      "cell_type": "code",
      "source": [
        "books[books['Book-Title']=='Selected Poems']"
      ],
      "metadata": {
        "id": "OaG52dv6qLE3",
        "outputId": "a8f7e213-3309-46a7-cac8-1f2e7edbbba1",
        "colab": {
          "base_uri": "https://localhost:8080/",
          "height": 0
        }
      },
      "execution_count": 52,
      "outputs": [
        {
          "output_type": "execute_result",
          "data": {
            "text/plain": [
              "              ISBN      Book-Title                 Book-Author  \\\n",
              "4523    081120958X  Selected Poems     William Carlos Williams   \n",
              "39416   0811201465  Selected Poems                  K. Patchen   \n",
              "41316   0679750800  Selected Poems                   Rita Dove   \n",
              "106885  0060931744  Selected Poems            Gwendolyn Brooks   \n",
              "118775  0517101548  Selected Poems                  John Donne   \n",
              "127462  0520012984  Selected Poems               Paul Verlaine   \n",
              "156894  0871401541  Selected Poems              E. E. Cummings   \n",
              "158312  0060909897  Selected Poems            Gwendolyn Brooks   \n",
              "175602  0571050190  Selected Poems         T.           T Gunn   \n",
              "183908  1550651498  Selected Poems             Ralph Gustafson   \n",
              "184897  0333516265  Selected Poems                Thomas Hardy   \n",
              "189247  0679430830  Selected Poems                   Rita Dove   \n",
              "189963  0940262193  Selected Poems              Kathleen Raine   \n",
              "196944  0802151027  Selected Poems                Pablo Neruda   \n",
              "198960  1852240954  Selected Poems                Jenny Joseph   \n",
              "202448  0679765654  Selected Poems              Daniel Halpern   \n",
              "202743  0906427851  Selected Poems             Denise Levertov   \n",
              "213189  0520069358  Selected Poems              Robert Creeley   \n",
              "215269  0156003961  Selected Poems               Carl Sandburg   \n",
              "226024  0395320461  Selected Poems              Galway Kinnell   \n",
              "232061  006093168X  Selected Poems     Edna St. Vincent Millay   \n",
              "236707  0679724834  Selected Poems                 W. H. Auden   \n",
              "247784  0394702956  Selected Poems                  R. Jeffers   \n",
              "248309  0811209512  Selected Poems            Michael Mc Clure   \n",
              "248837  0670809179  Selected Poems                John Ashbery   \n",
              "251692  0460871501  Selected Poems  Elizabeth Barrett Browning   \n",
              "254097  0571210767  Selected Poems              Simon Armitage   \n",
              "\n",
              "        Year-Of-Publication                              Publisher  \\\n",
              "4523                   1985  New Directions Publishing Corporation   \n",
              "39416                  1976  New Directions Publishing Corporation   \n",
              "41316                  1993                      Vintage Books USA   \n",
              "106885                 1999                              Perennial   \n",
              "118775                 1994                         Gramercy Books   \n",
              "127462                 1976         University of California Press   \n",
              "156894                 1994       Liveright Publishing Corporation   \n",
              "158312                 1976                          Harpercollins   \n",
              "175602                 1976             Farrar Straus &amp; Giroux   \n",
              "183908                 2001                         Vehicule Press   \n",
              "184897                 1989                              Macmillan   \n",
              "189247                 1993                         Pantheon Books   \n",
              "189963                 1989                     Rudolph Steiner Pr   \n",
              "196944                 1976                            Grove Press   \n",
              "198960                 1992                     Bloodaxe Books Ltd   \n",
              "202448                 1996                        Alfred A. Knopf   \n",
              "202743                 1986                     Bloodaxe Books Ltd   \n",
              "213189                 1991         University of California Press   \n",
              "215269                 1996                          Harvest Books   \n",
              "226024                 1983               Houghton Mifflin Company   \n",
              "232061                 1999                              Perennial   \n",
              "236707                 1989                      Vintage Books USA   \n",
              "247784                 1976                      Vintage Books USA   \n",
              "248309                 1986                W W Norton &amp; Co Inc   \n",
              "248837                 1985                            Penguin USA   \n",
              "251692                 1992               Phoenix mass market p/bk   \n",
              "254097                 2001                    Faber and Faber Ltd   \n",
              "\n",
              "                                              Image-URL-S  \\\n",
              "4523    http://images.amazon.com/images/P/081120958X.0...   \n",
              "39416   http://images.amazon.com/images/P/0811201465.0...   \n",
              "41316   http://images.amazon.com/images/P/0679750800.0...   \n",
              "106885  http://images.amazon.com/images/P/0060931744.0...   \n",
              "118775  http://images.amazon.com/images/P/0517101548.0...   \n",
              "127462  http://images.amazon.com/images/P/0520012984.0...   \n",
              "156894  http://images.amazon.com/images/P/0871401541.0...   \n",
              "158312  http://images.amazon.com/images/P/0060909897.0...   \n",
              "175602  http://images.amazon.com/images/P/0571050190.0...   \n",
              "183908  http://images.amazon.com/images/P/1550651498.0...   \n",
              "184897  http://images.amazon.com/images/P/0333516265.0...   \n",
              "189247  http://images.amazon.com/images/P/0679430830.0...   \n",
              "189963  http://images.amazon.com/images/P/0940262193.0...   \n",
              "196944  http://images.amazon.com/images/P/0802151027.0...   \n",
              "198960  http://images.amazon.com/images/P/1852240954.0...   \n",
              "202448  http://images.amazon.com/images/P/0679765654.0...   \n",
              "202743  http://images.amazon.com/images/P/0906427851.0...   \n",
              "213189  http://images.amazon.com/images/P/0520069358.0...   \n",
              "215269  http://images.amazon.com/images/P/0156003961.0...   \n",
              "226024  http://images.amazon.com/images/P/0395320461.0...   \n",
              "232061  http://images.amazon.com/images/P/006093168X.0...   \n",
              "236707  http://images.amazon.com/images/P/0679724834.0...   \n",
              "247784  http://images.amazon.com/images/P/0394702956.0...   \n",
              "248309  http://images.amazon.com/images/P/0811209512.0...   \n",
              "248837  http://images.amazon.com/images/P/0670809179.0...   \n",
              "251692  http://images.amazon.com/images/P/0460871501.0...   \n",
              "254097  http://images.amazon.com/images/P/0571210767.0...   \n",
              "\n",
              "                                              Image-URL-M  \\\n",
              "4523    http://images.amazon.com/images/P/081120958X.0...   \n",
              "39416   http://images.amazon.com/images/P/0811201465.0...   \n",
              "41316   http://images.amazon.com/images/P/0679750800.0...   \n",
              "106885  http://images.amazon.com/images/P/0060931744.0...   \n",
              "118775  http://images.amazon.com/images/P/0517101548.0...   \n",
              "127462  http://images.amazon.com/images/P/0520012984.0...   \n",
              "156894  http://images.amazon.com/images/P/0871401541.0...   \n",
              "158312  http://images.amazon.com/images/P/0060909897.0...   \n",
              "175602  http://images.amazon.com/images/P/0571050190.0...   \n",
              "183908  http://images.amazon.com/images/P/1550651498.0...   \n",
              "184897  http://images.amazon.com/images/P/0333516265.0...   \n",
              "189247  http://images.amazon.com/images/P/0679430830.0...   \n",
              "189963  http://images.amazon.com/images/P/0940262193.0...   \n",
              "196944  http://images.amazon.com/images/P/0802151027.0...   \n",
              "198960  http://images.amazon.com/images/P/1852240954.0...   \n",
              "202448  http://images.amazon.com/images/P/0679765654.0...   \n",
              "202743  http://images.amazon.com/images/P/0906427851.0...   \n",
              "213189  http://images.amazon.com/images/P/0520069358.0...   \n",
              "215269  http://images.amazon.com/images/P/0156003961.0...   \n",
              "226024  http://images.amazon.com/images/P/0395320461.0...   \n",
              "232061  http://images.amazon.com/images/P/006093168X.0...   \n",
              "236707  http://images.amazon.com/images/P/0679724834.0...   \n",
              "247784  http://images.amazon.com/images/P/0394702956.0...   \n",
              "248309  http://images.amazon.com/images/P/0811209512.0...   \n",
              "248837  http://images.amazon.com/images/P/0670809179.0...   \n",
              "251692  http://images.amazon.com/images/P/0460871501.0...   \n",
              "254097  http://images.amazon.com/images/P/0571210767.0...   \n",
              "\n",
              "                                              Image-URL-L  \n",
              "4523    http://images.amazon.com/images/P/081120958X.0...  \n",
              "39416   http://images.amazon.com/images/P/0811201465.0...  \n",
              "41316   http://images.amazon.com/images/P/0679750800.0...  \n",
              "106885  http://images.amazon.com/images/P/0060931744.0...  \n",
              "118775  http://images.amazon.com/images/P/0517101548.0...  \n",
              "127462  http://images.amazon.com/images/P/0520012984.0...  \n",
              "156894  http://images.amazon.com/images/P/0871401541.0...  \n",
              "158312  http://images.amazon.com/images/P/0060909897.0...  \n",
              "175602  http://images.amazon.com/images/P/0571050190.0...  \n",
              "183908  http://images.amazon.com/images/P/1550651498.0...  \n",
              "184897  http://images.amazon.com/images/P/0333516265.0...  \n",
              "189247  http://images.amazon.com/images/P/0679430830.0...  \n",
              "189963  http://images.amazon.com/images/P/0940262193.0...  \n",
              "196944  http://images.amazon.com/images/P/0802151027.0...  \n",
              "198960  http://images.amazon.com/images/P/1852240954.0...  \n",
              "202448  http://images.amazon.com/images/P/0679765654.0...  \n",
              "202743  http://images.amazon.com/images/P/0906427851.0...  \n",
              "213189  http://images.amazon.com/images/P/0520069358.0...  \n",
              "215269  http://images.amazon.com/images/P/0156003961.0...  \n",
              "226024  http://images.amazon.com/images/P/0395320461.0...  \n",
              "232061  http://images.amazon.com/images/P/006093168X.0...  \n",
              "236707  http://images.amazon.com/images/P/0679724834.0...  \n",
              "247784  http://images.amazon.com/images/P/0394702956.0...  \n",
              "248309  http://images.amazon.com/images/P/0811209512.0...  \n",
              "248837  http://images.amazon.com/images/P/0670809179.0...  \n",
              "251692  http://images.amazon.com/images/P/0460871501.0...  \n",
              "254097  http://images.amazon.com/images/P/0571210767.0...  "
            ],
            "text/html": [
              "\n",
              "  <div id=\"df-e79ab759-baab-4ada-a6f5-ce28e96bbde1\">\n",
              "    <div class=\"colab-df-container\">\n",
              "      <div>\n",
              "<style scoped>\n",
              "    .dataframe tbody tr th:only-of-type {\n",
              "        vertical-align: middle;\n",
              "    }\n",
              "\n",
              "    .dataframe tbody tr th {\n",
              "        vertical-align: top;\n",
              "    }\n",
              "\n",
              "    .dataframe thead th {\n",
              "        text-align: right;\n",
              "    }\n",
              "</style>\n",
              "<table border=\"1\" class=\"dataframe\">\n",
              "  <thead>\n",
              "    <tr style=\"text-align: right;\">\n",
              "      <th></th>\n",
              "      <th>ISBN</th>\n",
              "      <th>Book-Title</th>\n",
              "      <th>Book-Author</th>\n",
              "      <th>Year-Of-Publication</th>\n",
              "      <th>Publisher</th>\n",
              "      <th>Image-URL-S</th>\n",
              "      <th>Image-URL-M</th>\n",
              "      <th>Image-URL-L</th>\n",
              "    </tr>\n",
              "  </thead>\n",
              "  <tbody>\n",
              "    <tr>\n",
              "      <th>4523</th>\n",
              "      <td>081120958X</td>\n",
              "      <td>Selected Poems</td>\n",
              "      <td>William Carlos Williams</td>\n",
              "      <td>1985</td>\n",
              "      <td>New Directions Publishing Corporation</td>\n",
              "      <td>http://images.amazon.com/images/P/081120958X.0...</td>\n",
              "      <td>http://images.amazon.com/images/P/081120958X.0...</td>\n",
              "      <td>http://images.amazon.com/images/P/081120958X.0...</td>\n",
              "    </tr>\n",
              "    <tr>\n",
              "      <th>39416</th>\n",
              "      <td>0811201465</td>\n",
              "      <td>Selected Poems</td>\n",
              "      <td>K. Patchen</td>\n",
              "      <td>1976</td>\n",
              "      <td>New Directions Publishing Corporation</td>\n",
              "      <td>http://images.amazon.com/images/P/0811201465.0...</td>\n",
              "      <td>http://images.amazon.com/images/P/0811201465.0...</td>\n",
              "      <td>http://images.amazon.com/images/P/0811201465.0...</td>\n",
              "    </tr>\n",
              "    <tr>\n",
              "      <th>41316</th>\n",
              "      <td>0679750800</td>\n",
              "      <td>Selected Poems</td>\n",
              "      <td>Rita Dove</td>\n",
              "      <td>1993</td>\n",
              "      <td>Vintage Books USA</td>\n",
              "      <td>http://images.amazon.com/images/P/0679750800.0...</td>\n",
              "      <td>http://images.amazon.com/images/P/0679750800.0...</td>\n",
              "      <td>http://images.amazon.com/images/P/0679750800.0...</td>\n",
              "    </tr>\n",
              "    <tr>\n",
              "      <th>106885</th>\n",
              "      <td>0060931744</td>\n",
              "      <td>Selected Poems</td>\n",
              "      <td>Gwendolyn Brooks</td>\n",
              "      <td>1999</td>\n",
              "      <td>Perennial</td>\n",
              "      <td>http://images.amazon.com/images/P/0060931744.0...</td>\n",
              "      <td>http://images.amazon.com/images/P/0060931744.0...</td>\n",
              "      <td>http://images.amazon.com/images/P/0060931744.0...</td>\n",
              "    </tr>\n",
              "    <tr>\n",
              "      <th>118775</th>\n",
              "      <td>0517101548</td>\n",
              "      <td>Selected Poems</td>\n",
              "      <td>John Donne</td>\n",
              "      <td>1994</td>\n",
              "      <td>Gramercy Books</td>\n",
              "      <td>http://images.amazon.com/images/P/0517101548.0...</td>\n",
              "      <td>http://images.amazon.com/images/P/0517101548.0...</td>\n",
              "      <td>http://images.amazon.com/images/P/0517101548.0...</td>\n",
              "    </tr>\n",
              "    <tr>\n",
              "      <th>127462</th>\n",
              "      <td>0520012984</td>\n",
              "      <td>Selected Poems</td>\n",
              "      <td>Paul Verlaine</td>\n",
              "      <td>1976</td>\n",
              "      <td>University of California Press</td>\n",
              "      <td>http://images.amazon.com/images/P/0520012984.0...</td>\n",
              "      <td>http://images.amazon.com/images/P/0520012984.0...</td>\n",
              "      <td>http://images.amazon.com/images/P/0520012984.0...</td>\n",
              "    </tr>\n",
              "    <tr>\n",
              "      <th>156894</th>\n",
              "      <td>0871401541</td>\n",
              "      <td>Selected Poems</td>\n",
              "      <td>E. E. Cummings</td>\n",
              "      <td>1994</td>\n",
              "      <td>Liveright Publishing Corporation</td>\n",
              "      <td>http://images.amazon.com/images/P/0871401541.0...</td>\n",
              "      <td>http://images.amazon.com/images/P/0871401541.0...</td>\n",
              "      <td>http://images.amazon.com/images/P/0871401541.0...</td>\n",
              "    </tr>\n",
              "    <tr>\n",
              "      <th>158312</th>\n",
              "      <td>0060909897</td>\n",
              "      <td>Selected Poems</td>\n",
              "      <td>Gwendolyn Brooks</td>\n",
              "      <td>1976</td>\n",
              "      <td>Harpercollins</td>\n",
              "      <td>http://images.amazon.com/images/P/0060909897.0...</td>\n",
              "      <td>http://images.amazon.com/images/P/0060909897.0...</td>\n",
              "      <td>http://images.amazon.com/images/P/0060909897.0...</td>\n",
              "    </tr>\n",
              "    <tr>\n",
              "      <th>175602</th>\n",
              "      <td>0571050190</td>\n",
              "      <td>Selected Poems</td>\n",
              "      <td>T.           T Gunn</td>\n",
              "      <td>1976</td>\n",
              "      <td>Farrar Straus &amp;amp; Giroux</td>\n",
              "      <td>http://images.amazon.com/images/P/0571050190.0...</td>\n",
              "      <td>http://images.amazon.com/images/P/0571050190.0...</td>\n",
              "      <td>http://images.amazon.com/images/P/0571050190.0...</td>\n",
              "    </tr>\n",
              "    <tr>\n",
              "      <th>183908</th>\n",
              "      <td>1550651498</td>\n",
              "      <td>Selected Poems</td>\n",
              "      <td>Ralph Gustafson</td>\n",
              "      <td>2001</td>\n",
              "      <td>Vehicule Press</td>\n",
              "      <td>http://images.amazon.com/images/P/1550651498.0...</td>\n",
              "      <td>http://images.amazon.com/images/P/1550651498.0...</td>\n",
              "      <td>http://images.amazon.com/images/P/1550651498.0...</td>\n",
              "    </tr>\n",
              "    <tr>\n",
              "      <th>184897</th>\n",
              "      <td>0333516265</td>\n",
              "      <td>Selected Poems</td>\n",
              "      <td>Thomas Hardy</td>\n",
              "      <td>1989</td>\n",
              "      <td>Macmillan</td>\n",
              "      <td>http://images.amazon.com/images/P/0333516265.0...</td>\n",
              "      <td>http://images.amazon.com/images/P/0333516265.0...</td>\n",
              "      <td>http://images.amazon.com/images/P/0333516265.0...</td>\n",
              "    </tr>\n",
              "    <tr>\n",
              "      <th>189247</th>\n",
              "      <td>0679430830</td>\n",
              "      <td>Selected Poems</td>\n",
              "      <td>Rita Dove</td>\n",
              "      <td>1993</td>\n",
              "      <td>Pantheon Books</td>\n",
              "      <td>http://images.amazon.com/images/P/0679430830.0...</td>\n",
              "      <td>http://images.amazon.com/images/P/0679430830.0...</td>\n",
              "      <td>http://images.amazon.com/images/P/0679430830.0...</td>\n",
              "    </tr>\n",
              "    <tr>\n",
              "      <th>189963</th>\n",
              "      <td>0940262193</td>\n",
              "      <td>Selected Poems</td>\n",
              "      <td>Kathleen Raine</td>\n",
              "      <td>1989</td>\n",
              "      <td>Rudolph Steiner Pr</td>\n",
              "      <td>http://images.amazon.com/images/P/0940262193.0...</td>\n",
              "      <td>http://images.amazon.com/images/P/0940262193.0...</td>\n",
              "      <td>http://images.amazon.com/images/P/0940262193.0...</td>\n",
              "    </tr>\n",
              "    <tr>\n",
              "      <th>196944</th>\n",
              "      <td>0802151027</td>\n",
              "      <td>Selected Poems</td>\n",
              "      <td>Pablo Neruda</td>\n",
              "      <td>1976</td>\n",
              "      <td>Grove Press</td>\n",
              "      <td>http://images.amazon.com/images/P/0802151027.0...</td>\n",
              "      <td>http://images.amazon.com/images/P/0802151027.0...</td>\n",
              "      <td>http://images.amazon.com/images/P/0802151027.0...</td>\n",
              "    </tr>\n",
              "    <tr>\n",
              "      <th>198960</th>\n",
              "      <td>1852240954</td>\n",
              "      <td>Selected Poems</td>\n",
              "      <td>Jenny Joseph</td>\n",
              "      <td>1992</td>\n",
              "      <td>Bloodaxe Books Ltd</td>\n",
              "      <td>http://images.amazon.com/images/P/1852240954.0...</td>\n",
              "      <td>http://images.amazon.com/images/P/1852240954.0...</td>\n",
              "      <td>http://images.amazon.com/images/P/1852240954.0...</td>\n",
              "    </tr>\n",
              "    <tr>\n",
              "      <th>202448</th>\n",
              "      <td>0679765654</td>\n",
              "      <td>Selected Poems</td>\n",
              "      <td>Daniel Halpern</td>\n",
              "      <td>1996</td>\n",
              "      <td>Alfred A. Knopf</td>\n",
              "      <td>http://images.amazon.com/images/P/0679765654.0...</td>\n",
              "      <td>http://images.amazon.com/images/P/0679765654.0...</td>\n",
              "      <td>http://images.amazon.com/images/P/0679765654.0...</td>\n",
              "    </tr>\n",
              "    <tr>\n",
              "      <th>202743</th>\n",
              "      <td>0906427851</td>\n",
              "      <td>Selected Poems</td>\n",
              "      <td>Denise Levertov</td>\n",
              "      <td>1986</td>\n",
              "      <td>Bloodaxe Books Ltd</td>\n",
              "      <td>http://images.amazon.com/images/P/0906427851.0...</td>\n",
              "      <td>http://images.amazon.com/images/P/0906427851.0...</td>\n",
              "      <td>http://images.amazon.com/images/P/0906427851.0...</td>\n",
              "    </tr>\n",
              "    <tr>\n",
              "      <th>213189</th>\n",
              "      <td>0520069358</td>\n",
              "      <td>Selected Poems</td>\n",
              "      <td>Robert Creeley</td>\n",
              "      <td>1991</td>\n",
              "      <td>University of California Press</td>\n",
              "      <td>http://images.amazon.com/images/P/0520069358.0...</td>\n",
              "      <td>http://images.amazon.com/images/P/0520069358.0...</td>\n",
              "      <td>http://images.amazon.com/images/P/0520069358.0...</td>\n",
              "    </tr>\n",
              "    <tr>\n",
              "      <th>215269</th>\n",
              "      <td>0156003961</td>\n",
              "      <td>Selected Poems</td>\n",
              "      <td>Carl Sandburg</td>\n",
              "      <td>1996</td>\n",
              "      <td>Harvest Books</td>\n",
              "      <td>http://images.amazon.com/images/P/0156003961.0...</td>\n",
              "      <td>http://images.amazon.com/images/P/0156003961.0...</td>\n",
              "      <td>http://images.amazon.com/images/P/0156003961.0...</td>\n",
              "    </tr>\n",
              "    <tr>\n",
              "      <th>226024</th>\n",
              "      <td>0395320461</td>\n",
              "      <td>Selected Poems</td>\n",
              "      <td>Galway Kinnell</td>\n",
              "      <td>1983</td>\n",
              "      <td>Houghton Mifflin Company</td>\n",
              "      <td>http://images.amazon.com/images/P/0395320461.0...</td>\n",
              "      <td>http://images.amazon.com/images/P/0395320461.0...</td>\n",
              "      <td>http://images.amazon.com/images/P/0395320461.0...</td>\n",
              "    </tr>\n",
              "    <tr>\n",
              "      <th>232061</th>\n",
              "      <td>006093168X</td>\n",
              "      <td>Selected Poems</td>\n",
              "      <td>Edna St. Vincent Millay</td>\n",
              "      <td>1999</td>\n",
              "      <td>Perennial</td>\n",
              "      <td>http://images.amazon.com/images/P/006093168X.0...</td>\n",
              "      <td>http://images.amazon.com/images/P/006093168X.0...</td>\n",
              "      <td>http://images.amazon.com/images/P/006093168X.0...</td>\n",
              "    </tr>\n",
              "    <tr>\n",
              "      <th>236707</th>\n",
              "      <td>0679724834</td>\n",
              "      <td>Selected Poems</td>\n",
              "      <td>W. H. Auden</td>\n",
              "      <td>1989</td>\n",
              "      <td>Vintage Books USA</td>\n",
              "      <td>http://images.amazon.com/images/P/0679724834.0...</td>\n",
              "      <td>http://images.amazon.com/images/P/0679724834.0...</td>\n",
              "      <td>http://images.amazon.com/images/P/0679724834.0...</td>\n",
              "    </tr>\n",
              "    <tr>\n",
              "      <th>247784</th>\n",
              "      <td>0394702956</td>\n",
              "      <td>Selected Poems</td>\n",
              "      <td>R. Jeffers</td>\n",
              "      <td>1976</td>\n",
              "      <td>Vintage Books USA</td>\n",
              "      <td>http://images.amazon.com/images/P/0394702956.0...</td>\n",
              "      <td>http://images.amazon.com/images/P/0394702956.0...</td>\n",
              "      <td>http://images.amazon.com/images/P/0394702956.0...</td>\n",
              "    </tr>\n",
              "    <tr>\n",
              "      <th>248309</th>\n",
              "      <td>0811209512</td>\n",
              "      <td>Selected Poems</td>\n",
              "      <td>Michael Mc Clure</td>\n",
              "      <td>1986</td>\n",
              "      <td>W W Norton &amp;amp; Co Inc</td>\n",
              "      <td>http://images.amazon.com/images/P/0811209512.0...</td>\n",
              "      <td>http://images.amazon.com/images/P/0811209512.0...</td>\n",
              "      <td>http://images.amazon.com/images/P/0811209512.0...</td>\n",
              "    </tr>\n",
              "    <tr>\n",
              "      <th>248837</th>\n",
              "      <td>0670809179</td>\n",
              "      <td>Selected Poems</td>\n",
              "      <td>John Ashbery</td>\n",
              "      <td>1985</td>\n",
              "      <td>Penguin USA</td>\n",
              "      <td>http://images.amazon.com/images/P/0670809179.0...</td>\n",
              "      <td>http://images.amazon.com/images/P/0670809179.0...</td>\n",
              "      <td>http://images.amazon.com/images/P/0670809179.0...</td>\n",
              "    </tr>\n",
              "    <tr>\n",
              "      <th>251692</th>\n",
              "      <td>0460871501</td>\n",
              "      <td>Selected Poems</td>\n",
              "      <td>Elizabeth Barrett Browning</td>\n",
              "      <td>1992</td>\n",
              "      <td>Phoenix mass market p/bk</td>\n",
              "      <td>http://images.amazon.com/images/P/0460871501.0...</td>\n",
              "      <td>http://images.amazon.com/images/P/0460871501.0...</td>\n",
              "      <td>http://images.amazon.com/images/P/0460871501.0...</td>\n",
              "    </tr>\n",
              "    <tr>\n",
              "      <th>254097</th>\n",
              "      <td>0571210767</td>\n",
              "      <td>Selected Poems</td>\n",
              "      <td>Simon Armitage</td>\n",
              "      <td>2001</td>\n",
              "      <td>Faber and Faber Ltd</td>\n",
              "      <td>http://images.amazon.com/images/P/0571210767.0...</td>\n",
              "      <td>http://images.amazon.com/images/P/0571210767.0...</td>\n",
              "      <td>http://images.amazon.com/images/P/0571210767.0...</td>\n",
              "    </tr>\n",
              "  </tbody>\n",
              "</table>\n",
              "</div>\n",
              "      <button class=\"colab-df-convert\" onclick=\"convertToInteractive('df-e79ab759-baab-4ada-a6f5-ce28e96bbde1')\"\n",
              "              title=\"Convert this dataframe to an interactive table.\"\n",
              "              style=\"display:none;\">\n",
              "        \n",
              "  <svg xmlns=\"http://www.w3.org/2000/svg\" height=\"24px\"viewBox=\"0 0 24 24\"\n",
              "       width=\"24px\">\n",
              "    <path d=\"M0 0h24v24H0V0z\" fill=\"none\"/>\n",
              "    <path d=\"M18.56 5.44l.94 2.06.94-2.06 2.06-.94-2.06-.94-.94-2.06-.94 2.06-2.06.94zm-11 1L8.5 8.5l.94-2.06 2.06-.94-2.06-.94L8.5 2.5l-.94 2.06-2.06.94zm10 10l.94 2.06.94-2.06 2.06-.94-2.06-.94-.94-2.06-.94 2.06-2.06.94z\"/><path d=\"M17.41 7.96l-1.37-1.37c-.4-.4-.92-.59-1.43-.59-.52 0-1.04.2-1.43.59L10.3 9.45l-7.72 7.72c-.78.78-.78 2.05 0 2.83L4 21.41c.39.39.9.59 1.41.59.51 0 1.02-.2 1.41-.59l7.78-7.78 2.81-2.81c.8-.78.8-2.07 0-2.86zM5.41 20L4 18.59l7.72-7.72 1.47 1.35L5.41 20z\"/>\n",
              "  </svg>\n",
              "      </button>\n",
              "      \n",
              "  <style>\n",
              "    .colab-df-container {\n",
              "      display:flex;\n",
              "      flex-wrap:wrap;\n",
              "      gap: 12px;\n",
              "    }\n",
              "\n",
              "    .colab-df-convert {\n",
              "      background-color: #E8F0FE;\n",
              "      border: none;\n",
              "      border-radius: 50%;\n",
              "      cursor: pointer;\n",
              "      display: none;\n",
              "      fill: #1967D2;\n",
              "      height: 32px;\n",
              "      padding: 0 0 0 0;\n",
              "      width: 32px;\n",
              "    }\n",
              "\n",
              "    .colab-df-convert:hover {\n",
              "      background-color: #E2EBFA;\n",
              "      box-shadow: 0px 1px 2px rgba(60, 64, 67, 0.3), 0px 1px 3px 1px rgba(60, 64, 67, 0.15);\n",
              "      fill: #174EA6;\n",
              "    }\n",
              "\n",
              "    [theme=dark] .colab-df-convert {\n",
              "      background-color: #3B4455;\n",
              "      fill: #D2E3FC;\n",
              "    }\n",
              "\n",
              "    [theme=dark] .colab-df-convert:hover {\n",
              "      background-color: #434B5C;\n",
              "      box-shadow: 0px 1px 3px 1px rgba(0, 0, 0, 0.15);\n",
              "      filter: drop-shadow(0px 1px 2px rgba(0, 0, 0, 0.3));\n",
              "      fill: #FFFFFF;\n",
              "    }\n",
              "  </style>\n",
              "\n",
              "      <script>\n",
              "        const buttonEl =\n",
              "          document.querySelector('#df-e79ab759-baab-4ada-a6f5-ce28e96bbde1 button.colab-df-convert');\n",
              "        buttonEl.style.display =\n",
              "          google.colab.kernel.accessAllowed ? 'block' : 'none';\n",
              "\n",
              "        async function convertToInteractive(key) {\n",
              "          const element = document.querySelector('#df-e79ab759-baab-4ada-a6f5-ce28e96bbde1');\n",
              "          const dataTable =\n",
              "            await google.colab.kernel.invokeFunction('convertToInteractive',\n",
              "                                                     [key], {});\n",
              "          if (!dataTable) return;\n",
              "\n",
              "          const docLinkHtml = 'Like what you see? Visit the ' +\n",
              "            '<a target=\"_blank\" href=https://colab.research.google.com/notebooks/data_table.ipynb>data table notebook</a>'\n",
              "            + ' to learn more about interactive tables.';\n",
              "          element.innerHTML = '';\n",
              "          dataTable['output_type'] = 'display_data';\n",
              "          await google.colab.output.renderOutput(dataTable, element);\n",
              "          const docLink = document.createElement('div');\n",
              "          docLink.innerHTML = docLinkHtml;\n",
              "          element.appendChild(docLink);\n",
              "        }\n",
              "      </script>\n",
              "    </div>\n",
              "  </div>\n",
              "  "
            ]
          },
          "metadata": {},
          "execution_count": 52
        }
      ]
    },
    {
      "cell_type": "code",
      "source": [
        "merged.head(2)"
      ],
      "metadata": {
        "id": "fRESddttrN2k",
        "outputId": "35de3d4c-c917-4172-9e67-b1cb67bd69b3",
        "colab": {
          "base_uri": "https://localhost:8080/",
          "height": 0
        }
      },
      "execution_count": 53,
      "outputs": [
        {
          "output_type": "execute_result",
          "data": {
            "text/plain": [
              "         ISBN           Book-Title           Book-Author  Year-Of-Publication  \\\n",
              "0  0195153448  Classical Mythology    Mark P. O. Morford                 2002   \n",
              "1  0002005018         Clara Callan  Richard Bruce Wright                 2001   \n",
              "\n",
              "                 Publisher  User-ID                   Location   Age Country  \\\n",
              "0  Oxford University Press        2  stockton, california, usa  18.0     usa   \n",
              "1    HarperFlamingo Canada        8   timmins, ontario, canada  32.0  canada   \n",
              "\n",
              "   Book-Rating  \n",
              "0            0  \n",
              "1            5  "
            ],
            "text/html": [
              "\n",
              "  <div id=\"df-35233244-708c-4a32-b731-56d528ebfddc\">\n",
              "    <div class=\"colab-df-container\">\n",
              "      <div>\n",
              "<style scoped>\n",
              "    .dataframe tbody tr th:only-of-type {\n",
              "        vertical-align: middle;\n",
              "    }\n",
              "\n",
              "    .dataframe tbody tr th {\n",
              "        vertical-align: top;\n",
              "    }\n",
              "\n",
              "    .dataframe thead th {\n",
              "        text-align: right;\n",
              "    }\n",
              "</style>\n",
              "<table border=\"1\" class=\"dataframe\">\n",
              "  <thead>\n",
              "    <tr style=\"text-align: right;\">\n",
              "      <th></th>\n",
              "      <th>ISBN</th>\n",
              "      <th>Book-Title</th>\n",
              "      <th>Book-Author</th>\n",
              "      <th>Year-Of-Publication</th>\n",
              "      <th>Publisher</th>\n",
              "      <th>User-ID</th>\n",
              "      <th>Location</th>\n",
              "      <th>Age</th>\n",
              "      <th>Country</th>\n",
              "      <th>Book-Rating</th>\n",
              "    </tr>\n",
              "  </thead>\n",
              "  <tbody>\n",
              "    <tr>\n",
              "      <th>0</th>\n",
              "      <td>0195153448</td>\n",
              "      <td>Classical Mythology</td>\n",
              "      <td>Mark P. O. Morford</td>\n",
              "      <td>2002</td>\n",
              "      <td>Oxford University Press</td>\n",
              "      <td>2</td>\n",
              "      <td>stockton, california, usa</td>\n",
              "      <td>18.0</td>\n",
              "      <td>usa</td>\n",
              "      <td>0</td>\n",
              "    </tr>\n",
              "    <tr>\n",
              "      <th>1</th>\n",
              "      <td>0002005018</td>\n",
              "      <td>Clara Callan</td>\n",
              "      <td>Richard Bruce Wright</td>\n",
              "      <td>2001</td>\n",
              "      <td>HarperFlamingo Canada</td>\n",
              "      <td>8</td>\n",
              "      <td>timmins, ontario, canada</td>\n",
              "      <td>32.0</td>\n",
              "      <td>canada</td>\n",
              "      <td>5</td>\n",
              "    </tr>\n",
              "  </tbody>\n",
              "</table>\n",
              "</div>\n",
              "      <button class=\"colab-df-convert\" onclick=\"convertToInteractive('df-35233244-708c-4a32-b731-56d528ebfddc')\"\n",
              "              title=\"Convert this dataframe to an interactive table.\"\n",
              "              style=\"display:none;\">\n",
              "        \n",
              "  <svg xmlns=\"http://www.w3.org/2000/svg\" height=\"24px\"viewBox=\"0 0 24 24\"\n",
              "       width=\"24px\">\n",
              "    <path d=\"M0 0h24v24H0V0z\" fill=\"none\"/>\n",
              "    <path d=\"M18.56 5.44l.94 2.06.94-2.06 2.06-.94-2.06-.94-.94-2.06-.94 2.06-2.06.94zm-11 1L8.5 8.5l.94-2.06 2.06-.94-2.06-.94L8.5 2.5l-.94 2.06-2.06.94zm10 10l.94 2.06.94-2.06 2.06-.94-2.06-.94-.94-2.06-.94 2.06-2.06.94z\"/><path d=\"M17.41 7.96l-1.37-1.37c-.4-.4-.92-.59-1.43-.59-.52 0-1.04.2-1.43.59L10.3 9.45l-7.72 7.72c-.78.78-.78 2.05 0 2.83L4 21.41c.39.39.9.59 1.41.59.51 0 1.02-.2 1.41-.59l7.78-7.78 2.81-2.81c.8-.78.8-2.07 0-2.86zM5.41 20L4 18.59l7.72-7.72 1.47 1.35L5.41 20z\"/>\n",
              "  </svg>\n",
              "      </button>\n",
              "      \n",
              "  <style>\n",
              "    .colab-df-container {\n",
              "      display:flex;\n",
              "      flex-wrap:wrap;\n",
              "      gap: 12px;\n",
              "    }\n",
              "\n",
              "    .colab-df-convert {\n",
              "      background-color: #E8F0FE;\n",
              "      border: none;\n",
              "      border-radius: 50%;\n",
              "      cursor: pointer;\n",
              "      display: none;\n",
              "      fill: #1967D2;\n",
              "      height: 32px;\n",
              "      padding: 0 0 0 0;\n",
              "      width: 32px;\n",
              "    }\n",
              "\n",
              "    .colab-df-convert:hover {\n",
              "      background-color: #E2EBFA;\n",
              "      box-shadow: 0px 1px 2px rgba(60, 64, 67, 0.3), 0px 1px 3px 1px rgba(60, 64, 67, 0.15);\n",
              "      fill: #174EA6;\n",
              "    }\n",
              "\n",
              "    [theme=dark] .colab-df-convert {\n",
              "      background-color: #3B4455;\n",
              "      fill: #D2E3FC;\n",
              "    }\n",
              "\n",
              "    [theme=dark] .colab-df-convert:hover {\n",
              "      background-color: #434B5C;\n",
              "      box-shadow: 0px 1px 3px 1px rgba(0, 0, 0, 0.15);\n",
              "      filter: drop-shadow(0px 1px 2px rgba(0, 0, 0, 0.3));\n",
              "      fill: #FFFFFF;\n",
              "    }\n",
              "  </style>\n",
              "\n",
              "      <script>\n",
              "        const buttonEl =\n",
              "          document.querySelector('#df-35233244-708c-4a32-b731-56d528ebfddc button.colab-df-convert');\n",
              "        buttonEl.style.display =\n",
              "          google.colab.kernel.accessAllowed ? 'block' : 'none';\n",
              "\n",
              "        async function convertToInteractive(key) {\n",
              "          const element = document.querySelector('#df-35233244-708c-4a32-b731-56d528ebfddc');\n",
              "          const dataTable =\n",
              "            await google.colab.kernel.invokeFunction('convertToInteractive',\n",
              "                                                     [key], {});\n",
              "          if (!dataTable) return;\n",
              "\n",
              "          const docLinkHtml = 'Like what you see? Visit the ' +\n",
              "            '<a target=\"_blank\" href=https://colab.research.google.com/notebooks/data_table.ipynb>data table notebook</a>'\n",
              "            + ' to learn more about interactive tables.';\n",
              "          element.innerHTML = '';\n",
              "          dataTable['output_type'] = 'display_data';\n",
              "          await google.colab.output.renderOutput(dataTable, element);\n",
              "          const docLink = document.createElement('div');\n",
              "          docLink.innerHTML = docLinkHtml;\n",
              "          element.appendChild(docLink);\n",
              "        }\n",
              "      </script>\n",
              "    </div>\n",
              "  </div>\n",
              "  "
            ]
          },
          "metadata": {},
          "execution_count": 53
        }
      ]
    },
    {
      "cell_type": "markdown",
      "source": [
        "Top 10 author"
      ],
      "metadata": {
        "id": "cBmEFSNVrDEp"
      }
    },
    {
      "cell_type": "code",
      "source": [
        "Top10_author=books['Book-Author'].value_counts().reset_index().head(10)\n",
        "Top10_author.rename(columns={'index':'Book-Author','Book-Author':'Count'},inplace=True)\n",
        "Top10_author"
      ],
      "metadata": {
        "id": "LnQ9375FrMUP",
        "outputId": "33ad195d-3419-46ae-87da-d00093818bb4",
        "colab": {
          "base_uri": "https://localhost:8080/",
          "height": 0
        }
      },
      "execution_count": 54,
      "outputs": [
        {
          "output_type": "execute_result",
          "data": {
            "text/plain": [
              "           Book-Author  Count\n",
              "0      Agatha Christie    632\n",
              "1  William Shakespeare    567\n",
              "2         Stephen King    524\n",
              "3        Ann M. Martin    423\n",
              "4        Carolyn Keene    373\n",
              "5      Francine Pascal    372\n",
              "6         Isaac Asimov    330\n",
              "7         Nora Roberts    315\n",
              "8     Barbara Cartland    307\n",
              "9      Charles Dickens    302"
            ],
            "text/html": [
              "\n",
              "  <div id=\"df-1c2b9773-4c78-4f56-9b29-563b8bb58b8e\">\n",
              "    <div class=\"colab-df-container\">\n",
              "      <div>\n",
              "<style scoped>\n",
              "    .dataframe tbody tr th:only-of-type {\n",
              "        vertical-align: middle;\n",
              "    }\n",
              "\n",
              "    .dataframe tbody tr th {\n",
              "        vertical-align: top;\n",
              "    }\n",
              "\n",
              "    .dataframe thead th {\n",
              "        text-align: right;\n",
              "    }\n",
              "</style>\n",
              "<table border=\"1\" class=\"dataframe\">\n",
              "  <thead>\n",
              "    <tr style=\"text-align: right;\">\n",
              "      <th></th>\n",
              "      <th>Book-Author</th>\n",
              "      <th>Count</th>\n",
              "    </tr>\n",
              "  </thead>\n",
              "  <tbody>\n",
              "    <tr>\n",
              "      <th>0</th>\n",
              "      <td>Agatha Christie</td>\n",
              "      <td>632</td>\n",
              "    </tr>\n",
              "    <tr>\n",
              "      <th>1</th>\n",
              "      <td>William Shakespeare</td>\n",
              "      <td>567</td>\n",
              "    </tr>\n",
              "    <tr>\n",
              "      <th>2</th>\n",
              "      <td>Stephen King</td>\n",
              "      <td>524</td>\n",
              "    </tr>\n",
              "    <tr>\n",
              "      <th>3</th>\n",
              "      <td>Ann M. Martin</td>\n",
              "      <td>423</td>\n",
              "    </tr>\n",
              "    <tr>\n",
              "      <th>4</th>\n",
              "      <td>Carolyn Keene</td>\n",
              "      <td>373</td>\n",
              "    </tr>\n",
              "    <tr>\n",
              "      <th>5</th>\n",
              "      <td>Francine Pascal</td>\n",
              "      <td>372</td>\n",
              "    </tr>\n",
              "    <tr>\n",
              "      <th>6</th>\n",
              "      <td>Isaac Asimov</td>\n",
              "      <td>330</td>\n",
              "    </tr>\n",
              "    <tr>\n",
              "      <th>7</th>\n",
              "      <td>Nora Roberts</td>\n",
              "      <td>315</td>\n",
              "    </tr>\n",
              "    <tr>\n",
              "      <th>8</th>\n",
              "      <td>Barbara Cartland</td>\n",
              "      <td>307</td>\n",
              "    </tr>\n",
              "    <tr>\n",
              "      <th>9</th>\n",
              "      <td>Charles Dickens</td>\n",
              "      <td>302</td>\n",
              "    </tr>\n",
              "  </tbody>\n",
              "</table>\n",
              "</div>\n",
              "      <button class=\"colab-df-convert\" onclick=\"convertToInteractive('df-1c2b9773-4c78-4f56-9b29-563b8bb58b8e')\"\n",
              "              title=\"Convert this dataframe to an interactive table.\"\n",
              "              style=\"display:none;\">\n",
              "        \n",
              "  <svg xmlns=\"http://www.w3.org/2000/svg\" height=\"24px\"viewBox=\"0 0 24 24\"\n",
              "       width=\"24px\">\n",
              "    <path d=\"M0 0h24v24H0V0z\" fill=\"none\"/>\n",
              "    <path d=\"M18.56 5.44l.94 2.06.94-2.06 2.06-.94-2.06-.94-.94-2.06-.94 2.06-2.06.94zm-11 1L8.5 8.5l.94-2.06 2.06-.94-2.06-.94L8.5 2.5l-.94 2.06-2.06.94zm10 10l.94 2.06.94-2.06 2.06-.94-2.06-.94-.94-2.06-.94 2.06-2.06.94z\"/><path d=\"M17.41 7.96l-1.37-1.37c-.4-.4-.92-.59-1.43-.59-.52 0-1.04.2-1.43.59L10.3 9.45l-7.72 7.72c-.78.78-.78 2.05 0 2.83L4 21.41c.39.39.9.59 1.41.59.51 0 1.02-.2 1.41-.59l7.78-7.78 2.81-2.81c.8-.78.8-2.07 0-2.86zM5.41 20L4 18.59l7.72-7.72 1.47 1.35L5.41 20z\"/>\n",
              "  </svg>\n",
              "      </button>\n",
              "      \n",
              "  <style>\n",
              "    .colab-df-container {\n",
              "      display:flex;\n",
              "      flex-wrap:wrap;\n",
              "      gap: 12px;\n",
              "    }\n",
              "\n",
              "    .colab-df-convert {\n",
              "      background-color: #E8F0FE;\n",
              "      border: none;\n",
              "      border-radius: 50%;\n",
              "      cursor: pointer;\n",
              "      display: none;\n",
              "      fill: #1967D2;\n",
              "      height: 32px;\n",
              "      padding: 0 0 0 0;\n",
              "      width: 32px;\n",
              "    }\n",
              "\n",
              "    .colab-df-convert:hover {\n",
              "      background-color: #E2EBFA;\n",
              "      box-shadow: 0px 1px 2px rgba(60, 64, 67, 0.3), 0px 1px 3px 1px rgba(60, 64, 67, 0.15);\n",
              "      fill: #174EA6;\n",
              "    }\n",
              "\n",
              "    [theme=dark] .colab-df-convert {\n",
              "      background-color: #3B4455;\n",
              "      fill: #D2E3FC;\n",
              "    }\n",
              "\n",
              "    [theme=dark] .colab-df-convert:hover {\n",
              "      background-color: #434B5C;\n",
              "      box-shadow: 0px 1px 3px 1px rgba(0, 0, 0, 0.15);\n",
              "      filter: drop-shadow(0px 1px 2px rgba(0, 0, 0, 0.3));\n",
              "      fill: #FFFFFF;\n",
              "    }\n",
              "  </style>\n",
              "\n",
              "      <script>\n",
              "        const buttonEl =\n",
              "          document.querySelector('#df-1c2b9773-4c78-4f56-9b29-563b8bb58b8e button.colab-df-convert');\n",
              "        buttonEl.style.display =\n",
              "          google.colab.kernel.accessAllowed ? 'block' : 'none';\n",
              "\n",
              "        async function convertToInteractive(key) {\n",
              "          const element = document.querySelector('#df-1c2b9773-4c78-4f56-9b29-563b8bb58b8e');\n",
              "          const dataTable =\n",
              "            await google.colab.kernel.invokeFunction('convertToInteractive',\n",
              "                                                     [key], {});\n",
              "          if (!dataTable) return;\n",
              "\n",
              "          const docLinkHtml = 'Like what you see? Visit the ' +\n",
              "            '<a target=\"_blank\" href=https://colab.research.google.com/notebooks/data_table.ipynb>data table notebook</a>'\n",
              "            + ' to learn more about interactive tables.';\n",
              "          element.innerHTML = '';\n",
              "          dataTable['output_type'] = 'display_data';\n",
              "          await google.colab.output.renderOutput(dataTable, element);\n",
              "          const docLink = document.createElement('div');\n",
              "          docLink.innerHTML = docLinkHtml;\n",
              "          element.appendChild(docLink);\n",
              "        }\n",
              "      </script>\n",
              "    </div>\n",
              "  </div>\n",
              "  "
            ]
          },
          "metadata": {},
          "execution_count": 54
        }
      ]
    },
    {
      "cell_type": "code",
      "source": [
        "Top10_Year=merged['Year-Of-Publication'].value_counts().reset_index().head(10)\n",
        "Top10_Year.rename(columns={'index':'Year-Of-Publication','Year-Of-Publication':'Count'},inplace=True)\n",
        "Top10_Year"
      ],
      "metadata": {
        "id": "-BZKeyfksuD6",
        "outputId": "cd7ea51a-2744-4686-af1e-09b5c451788c",
        "colab": {
          "base_uri": "https://localhost:8080/",
          "height": 0
        }
      },
      "execution_count": 55,
      "outputs": [
        {
          "output_type": "execute_result",
          "data": {
            "text/plain": [
              "   Year-Of-Publication  Count\n",
              "0                 2003  98714\n",
              "1                 2002  91799\n",
              "2                 2001  79800\n",
              "3                 1999  75194\n",
              "4                 2000  72326\n",
              "5                 1998  64208\n",
              "6                 1997  59357\n",
              "7                 1996  58825\n",
              "8                 1995  54090\n",
              "9                 1994  46444"
            ],
            "text/html": [
              "\n",
              "  <div id=\"df-7aea10ee-66db-41e5-97f7-67fed838d3a1\">\n",
              "    <div class=\"colab-df-container\">\n",
              "      <div>\n",
              "<style scoped>\n",
              "    .dataframe tbody tr th:only-of-type {\n",
              "        vertical-align: middle;\n",
              "    }\n",
              "\n",
              "    .dataframe tbody tr th {\n",
              "        vertical-align: top;\n",
              "    }\n",
              "\n",
              "    .dataframe thead th {\n",
              "        text-align: right;\n",
              "    }\n",
              "</style>\n",
              "<table border=\"1\" class=\"dataframe\">\n",
              "  <thead>\n",
              "    <tr style=\"text-align: right;\">\n",
              "      <th></th>\n",
              "      <th>Year-Of-Publication</th>\n",
              "      <th>Count</th>\n",
              "    </tr>\n",
              "  </thead>\n",
              "  <tbody>\n",
              "    <tr>\n",
              "      <th>0</th>\n",
              "      <td>2003</td>\n",
              "      <td>98714</td>\n",
              "    </tr>\n",
              "    <tr>\n",
              "      <th>1</th>\n",
              "      <td>2002</td>\n",
              "      <td>91799</td>\n",
              "    </tr>\n",
              "    <tr>\n",
              "      <th>2</th>\n",
              "      <td>2001</td>\n",
              "      <td>79800</td>\n",
              "    </tr>\n",
              "    <tr>\n",
              "      <th>3</th>\n",
              "      <td>1999</td>\n",
              "      <td>75194</td>\n",
              "    </tr>\n",
              "    <tr>\n",
              "      <th>4</th>\n",
              "      <td>2000</td>\n",
              "      <td>72326</td>\n",
              "    </tr>\n",
              "    <tr>\n",
              "      <th>5</th>\n",
              "      <td>1998</td>\n",
              "      <td>64208</td>\n",
              "    </tr>\n",
              "    <tr>\n",
              "      <th>6</th>\n",
              "      <td>1997</td>\n",
              "      <td>59357</td>\n",
              "    </tr>\n",
              "    <tr>\n",
              "      <th>7</th>\n",
              "      <td>1996</td>\n",
              "      <td>58825</td>\n",
              "    </tr>\n",
              "    <tr>\n",
              "      <th>8</th>\n",
              "      <td>1995</td>\n",
              "      <td>54090</td>\n",
              "    </tr>\n",
              "    <tr>\n",
              "      <th>9</th>\n",
              "      <td>1994</td>\n",
              "      <td>46444</td>\n",
              "    </tr>\n",
              "  </tbody>\n",
              "</table>\n",
              "</div>\n",
              "      <button class=\"colab-df-convert\" onclick=\"convertToInteractive('df-7aea10ee-66db-41e5-97f7-67fed838d3a1')\"\n",
              "              title=\"Convert this dataframe to an interactive table.\"\n",
              "              style=\"display:none;\">\n",
              "        \n",
              "  <svg xmlns=\"http://www.w3.org/2000/svg\" height=\"24px\"viewBox=\"0 0 24 24\"\n",
              "       width=\"24px\">\n",
              "    <path d=\"M0 0h24v24H0V0z\" fill=\"none\"/>\n",
              "    <path d=\"M18.56 5.44l.94 2.06.94-2.06 2.06-.94-2.06-.94-.94-2.06-.94 2.06-2.06.94zm-11 1L8.5 8.5l.94-2.06 2.06-.94-2.06-.94L8.5 2.5l-.94 2.06-2.06.94zm10 10l.94 2.06.94-2.06 2.06-.94-2.06-.94-.94-2.06-.94 2.06-2.06.94z\"/><path d=\"M17.41 7.96l-1.37-1.37c-.4-.4-.92-.59-1.43-.59-.52 0-1.04.2-1.43.59L10.3 9.45l-7.72 7.72c-.78.78-.78 2.05 0 2.83L4 21.41c.39.39.9.59 1.41.59.51 0 1.02-.2 1.41-.59l7.78-7.78 2.81-2.81c.8-.78.8-2.07 0-2.86zM5.41 20L4 18.59l7.72-7.72 1.47 1.35L5.41 20z\"/>\n",
              "  </svg>\n",
              "      </button>\n",
              "      \n",
              "  <style>\n",
              "    .colab-df-container {\n",
              "      display:flex;\n",
              "      flex-wrap:wrap;\n",
              "      gap: 12px;\n",
              "    }\n",
              "\n",
              "    .colab-df-convert {\n",
              "      background-color: #E8F0FE;\n",
              "      border: none;\n",
              "      border-radius: 50%;\n",
              "      cursor: pointer;\n",
              "      display: none;\n",
              "      fill: #1967D2;\n",
              "      height: 32px;\n",
              "      padding: 0 0 0 0;\n",
              "      width: 32px;\n",
              "    }\n",
              "\n",
              "    .colab-df-convert:hover {\n",
              "      background-color: #E2EBFA;\n",
              "      box-shadow: 0px 1px 2px rgba(60, 64, 67, 0.3), 0px 1px 3px 1px rgba(60, 64, 67, 0.15);\n",
              "      fill: #174EA6;\n",
              "    }\n",
              "\n",
              "    [theme=dark] .colab-df-convert {\n",
              "      background-color: #3B4455;\n",
              "      fill: #D2E3FC;\n",
              "    }\n",
              "\n",
              "    [theme=dark] .colab-df-convert:hover {\n",
              "      background-color: #434B5C;\n",
              "      box-shadow: 0px 1px 3px 1px rgba(0, 0, 0, 0.15);\n",
              "      filter: drop-shadow(0px 1px 2px rgba(0, 0, 0, 0.3));\n",
              "      fill: #FFFFFF;\n",
              "    }\n",
              "  </style>\n",
              "\n",
              "      <script>\n",
              "        const buttonEl =\n",
              "          document.querySelector('#df-7aea10ee-66db-41e5-97f7-67fed838d3a1 button.colab-df-convert');\n",
              "        buttonEl.style.display =\n",
              "          google.colab.kernel.accessAllowed ? 'block' : 'none';\n",
              "\n",
              "        async function convertToInteractive(key) {\n",
              "          const element = document.querySelector('#df-7aea10ee-66db-41e5-97f7-67fed838d3a1');\n",
              "          const dataTable =\n",
              "            await google.colab.kernel.invokeFunction('convertToInteractive',\n",
              "                                                     [key], {});\n",
              "          if (!dataTable) return;\n",
              "\n",
              "          const docLinkHtml = 'Like what you see? Visit the ' +\n",
              "            '<a target=\"_blank\" href=https://colab.research.google.com/notebooks/data_table.ipynb>data table notebook</a>'\n",
              "            + ' to learn more about interactive tables.';\n",
              "          element.innerHTML = '';\n",
              "          dataTable['output_type'] = 'display_data';\n",
              "          await google.colab.output.renderOutput(dataTable, element);\n",
              "          const docLink = document.createElement('div');\n",
              "          docLink.innerHTML = docLinkHtml;\n",
              "          element.appendChild(docLink);\n",
              "        }\n",
              "      </script>\n",
              "    </div>\n",
              "  </div>\n",
              "  "
            ]
          },
          "metadata": {},
          "execution_count": 55
        }
      ]
    },
    {
      "cell_type": "code",
      "source": [
        "merged.head(2)"
      ],
      "metadata": {
        "id": "SJ9H4xWAsnM1",
        "outputId": "bd497398-2289-45cb-f2fb-7435d740a007",
        "colab": {
          "base_uri": "https://localhost:8080/",
          "height": 0
        }
      },
      "execution_count": 56,
      "outputs": [
        {
          "output_type": "execute_result",
          "data": {
            "text/plain": [
              "         ISBN           Book-Title           Book-Author  Year-Of-Publication  \\\n",
              "0  0195153448  Classical Mythology    Mark P. O. Morford                 2002   \n",
              "1  0002005018         Clara Callan  Richard Bruce Wright                 2001   \n",
              "\n",
              "                 Publisher  User-ID                   Location   Age Country  \\\n",
              "0  Oxford University Press        2  stockton, california, usa  18.0     usa   \n",
              "1    HarperFlamingo Canada        8   timmins, ontario, canada  32.0  canada   \n",
              "\n",
              "   Book-Rating  \n",
              "0            0  \n",
              "1            5  "
            ],
            "text/html": [
              "\n",
              "  <div id=\"df-d09094bf-fc8e-4023-b711-5e05778429df\">\n",
              "    <div class=\"colab-df-container\">\n",
              "      <div>\n",
              "<style scoped>\n",
              "    .dataframe tbody tr th:only-of-type {\n",
              "        vertical-align: middle;\n",
              "    }\n",
              "\n",
              "    .dataframe tbody tr th {\n",
              "        vertical-align: top;\n",
              "    }\n",
              "\n",
              "    .dataframe thead th {\n",
              "        text-align: right;\n",
              "    }\n",
              "</style>\n",
              "<table border=\"1\" class=\"dataframe\">\n",
              "  <thead>\n",
              "    <tr style=\"text-align: right;\">\n",
              "      <th></th>\n",
              "      <th>ISBN</th>\n",
              "      <th>Book-Title</th>\n",
              "      <th>Book-Author</th>\n",
              "      <th>Year-Of-Publication</th>\n",
              "      <th>Publisher</th>\n",
              "      <th>User-ID</th>\n",
              "      <th>Location</th>\n",
              "      <th>Age</th>\n",
              "      <th>Country</th>\n",
              "      <th>Book-Rating</th>\n",
              "    </tr>\n",
              "  </thead>\n",
              "  <tbody>\n",
              "    <tr>\n",
              "      <th>0</th>\n",
              "      <td>0195153448</td>\n",
              "      <td>Classical Mythology</td>\n",
              "      <td>Mark P. O. Morford</td>\n",
              "      <td>2002</td>\n",
              "      <td>Oxford University Press</td>\n",
              "      <td>2</td>\n",
              "      <td>stockton, california, usa</td>\n",
              "      <td>18.0</td>\n",
              "      <td>usa</td>\n",
              "      <td>0</td>\n",
              "    </tr>\n",
              "    <tr>\n",
              "      <th>1</th>\n",
              "      <td>0002005018</td>\n",
              "      <td>Clara Callan</td>\n",
              "      <td>Richard Bruce Wright</td>\n",
              "      <td>2001</td>\n",
              "      <td>HarperFlamingo Canada</td>\n",
              "      <td>8</td>\n",
              "      <td>timmins, ontario, canada</td>\n",
              "      <td>32.0</td>\n",
              "      <td>canada</td>\n",
              "      <td>5</td>\n",
              "    </tr>\n",
              "  </tbody>\n",
              "</table>\n",
              "</div>\n",
              "      <button class=\"colab-df-convert\" onclick=\"convertToInteractive('df-d09094bf-fc8e-4023-b711-5e05778429df')\"\n",
              "              title=\"Convert this dataframe to an interactive table.\"\n",
              "              style=\"display:none;\">\n",
              "        \n",
              "  <svg xmlns=\"http://www.w3.org/2000/svg\" height=\"24px\"viewBox=\"0 0 24 24\"\n",
              "       width=\"24px\">\n",
              "    <path d=\"M0 0h24v24H0V0z\" fill=\"none\"/>\n",
              "    <path d=\"M18.56 5.44l.94 2.06.94-2.06 2.06-.94-2.06-.94-.94-2.06-.94 2.06-2.06.94zm-11 1L8.5 8.5l.94-2.06 2.06-.94-2.06-.94L8.5 2.5l-.94 2.06-2.06.94zm10 10l.94 2.06.94-2.06 2.06-.94-2.06-.94-.94-2.06-.94 2.06-2.06.94z\"/><path d=\"M17.41 7.96l-1.37-1.37c-.4-.4-.92-.59-1.43-.59-.52 0-1.04.2-1.43.59L10.3 9.45l-7.72 7.72c-.78.78-.78 2.05 0 2.83L4 21.41c.39.39.9.59 1.41.59.51 0 1.02-.2 1.41-.59l7.78-7.78 2.81-2.81c.8-.78.8-2.07 0-2.86zM5.41 20L4 18.59l7.72-7.72 1.47 1.35L5.41 20z\"/>\n",
              "  </svg>\n",
              "      </button>\n",
              "      \n",
              "  <style>\n",
              "    .colab-df-container {\n",
              "      display:flex;\n",
              "      flex-wrap:wrap;\n",
              "      gap: 12px;\n",
              "    }\n",
              "\n",
              "    .colab-df-convert {\n",
              "      background-color: #E8F0FE;\n",
              "      border: none;\n",
              "      border-radius: 50%;\n",
              "      cursor: pointer;\n",
              "      display: none;\n",
              "      fill: #1967D2;\n",
              "      height: 32px;\n",
              "      padding: 0 0 0 0;\n",
              "      width: 32px;\n",
              "    }\n",
              "\n",
              "    .colab-df-convert:hover {\n",
              "      background-color: #E2EBFA;\n",
              "      box-shadow: 0px 1px 2px rgba(60, 64, 67, 0.3), 0px 1px 3px 1px rgba(60, 64, 67, 0.15);\n",
              "      fill: #174EA6;\n",
              "    }\n",
              "\n",
              "    [theme=dark] .colab-df-convert {\n",
              "      background-color: #3B4455;\n",
              "      fill: #D2E3FC;\n",
              "    }\n",
              "\n",
              "    [theme=dark] .colab-df-convert:hover {\n",
              "      background-color: #434B5C;\n",
              "      box-shadow: 0px 1px 3px 1px rgba(0, 0, 0, 0.15);\n",
              "      filter: drop-shadow(0px 1px 2px rgba(0, 0, 0, 0.3));\n",
              "      fill: #FFFFFF;\n",
              "    }\n",
              "  </style>\n",
              "\n",
              "      <script>\n",
              "        const buttonEl =\n",
              "          document.querySelector('#df-d09094bf-fc8e-4023-b711-5e05778429df button.colab-df-convert');\n",
              "        buttonEl.style.display =\n",
              "          google.colab.kernel.accessAllowed ? 'block' : 'none';\n",
              "\n",
              "        async function convertToInteractive(key) {\n",
              "          const element = document.querySelector('#df-d09094bf-fc8e-4023-b711-5e05778429df');\n",
              "          const dataTable =\n",
              "            await google.colab.kernel.invokeFunction('convertToInteractive',\n",
              "                                                     [key], {});\n",
              "          if (!dataTable) return;\n",
              "\n",
              "          const docLinkHtml = 'Like what you see? Visit the ' +\n",
              "            '<a target=\"_blank\" href=https://colab.research.google.com/notebooks/data_table.ipynb>data table notebook</a>'\n",
              "            + ' to learn more about interactive tables.';\n",
              "          element.innerHTML = '';\n",
              "          dataTable['output_type'] = 'display_data';\n",
              "          await google.colab.output.renderOutput(dataTable, element);\n",
              "          const docLink = document.createElement('div');\n",
              "          docLink.innerHTML = docLinkHtml;\n",
              "          element.appendChild(docLink);\n",
              "        }\n",
              "      </script>\n",
              "    </div>\n",
              "  </div>\n",
              "  "
            ]
          },
          "metadata": {},
          "execution_count": 56
        }
      ]
    },
    {
      "cell_type": "code",
      "source": [
        "#Value Counts Of Year-Of-Publication\n",
        "plt.rcParams['figure.figsize'] = (40,10)\n",
        "fig = sns.countplot(x=books['Year-Of-Publication'],palette=\"Set2\")\n",
        "plt.xticks(rotation=90, horizontalalignment=\"center\")\n",
        "plt.grid()\n",
        "\n",
        "plt.title(\"Value Counts Of Year-Of-Publication\",fontsize=20)\n",
        "\n",
        "plt.show()"
      ],
      "metadata": {
        "id": "CKiy5FhvtIwj",
        "outputId": "ee535cd8-718f-4509-f0fd-ae1648681d01",
        "colab": {
          "base_uri": "https://localhost:8080/",
          "height": 0
        }
      },
      "execution_count": 57,
      "outputs": [
        {
          "output_type": "display_data",
          "data": {
            "text/plain": [
              "<Figure size 2880x720 with 1 Axes>"
            ],
            "image/png": "[encoded data removed]"
          },
          "metadata": {
            "needs_background": "light"
          }
        }
      ]
    },
    {
      "cell_type": "markdown",
      "source": [
        "Top 10 publisher"
      ],
      "metadata": {
        "id": "E5Va1DzIzZ0k"
      }
    },
    {
      "cell_type": "markdown",
      "source": [],
      "metadata": {
        "id": "1NaikUSD0Kwu"
      }
    },
    {
      "cell_type": "code",
      "source": [
        "Top10_Country=merged['Country'].value_counts().reset_index().head(10)\n",
        "Top10_Country.rename(columns={'index':'Country','Country':'Count'},inplace=True)\n",
        "Top10_Country"
      ],
      "metadata": {
        "id": "cRqLCQup0LdJ",
        "outputId": "5962c103-6ccc-4d99-b96e-829b8117ec88",
        "colab": {
          "base_uri": "https://localhost:8080/",
          "height": 0
        }
      },
      "execution_count": 58,
      "outputs": [
        {
          "output_type": "execute_result",
          "data": {
            "text/plain": [
              "          Country   Count\n",
              "0             usa  745812\n",
              "1          canada   92954\n",
              "2             n/a   37573\n",
              "3  united kingdom   32007\n",
              "4         germany   27654\n",
              "5       australia   18217\n",
              "6           spain   14773\n",
              "7          france   10631\n",
              "8        portugal    6975\n",
              "9     new zealand    5556"
            ],
            "text/html": [
              "\n",
              "  <div id=\"df-9625d450-6dee-4706-99e7-a47193b5c005\">\n",
              "    <div class=\"colab-df-container\">\n",
              "      <div>\n",
              "<style scoped>\n",
              "    .dataframe tbody tr th:only-of-type {\n",
              "        vertical-align: middle;\n",
              "    }\n",
              "\n",
              "    .dataframe tbody tr th {\n",
              "        vertical-align: top;\n",
              "    }\n",
              "\n",
              "    .dataframe thead th {\n",
              "        text-align: right;\n",
              "    }\n",
              "</style>\n",
              "<table border=\"1\" class=\"dataframe\">\n",
              "  <thead>\n",
              "    <tr style=\"text-align: right;\">\n",
              "      <th></th>\n",
              "      <th>Country</th>\n",
              "      <th>Count</th>\n",
              "    </tr>\n",
              "  </thead>\n",
              "  <tbody>\n",
              "    <tr>\n",
              "      <th>0</th>\n",
              "      <td>usa</td>\n",
              "      <td>745812</td>\n",
              "    </tr>\n",
              "    <tr>\n",
              "      <th>1</th>\n",
              "      <td>canada</td>\n",
              "      <td>92954</td>\n",
              "    </tr>\n",
              "    <tr>\n",
              "      <th>2</th>\n",
              "      <td>n/a</td>\n",
              "      <td>37573</td>\n",
              "    </tr>\n",
              "    <tr>\n",
              "      <th>3</th>\n",
              "      <td>united kingdom</td>\n",
              "      <td>32007</td>\n",
              "    </tr>\n",
              "    <tr>\n",
              "      <th>4</th>\n",
              "      <td>germany</td>\n",
              "      <td>27654</td>\n",
              "    </tr>\n",
              "    <tr>\n",
              "      <th>5</th>\n",
              "      <td>australia</td>\n",
              "      <td>18217</td>\n",
              "    </tr>\n",
              "    <tr>\n",
              "      <th>6</th>\n",
              "      <td>spain</td>\n",
              "      <td>14773</td>\n",
              "    </tr>\n",
              "    <tr>\n",
              "      <th>7</th>\n",
              "      <td>france</td>\n",
              "      <td>10631</td>\n",
              "    </tr>\n",
              "    <tr>\n",
              "      <th>8</th>\n",
              "      <td>portugal</td>\n",
              "      <td>6975</td>\n",
              "    </tr>\n",
              "    <tr>\n",
              "      <th>9</th>\n",
              "      <td>new zealand</td>\n",
              "      <td>5556</td>\n",
              "    </tr>\n",
              "  </tbody>\n",
              "</table>\n",
              "</div>\n",
              "      <button class=\"colab-df-convert\" onclick=\"convertToInteractive('df-9625d450-6dee-4706-99e7-a47193b5c005')\"\n",
              "              title=\"Convert this dataframe to an interactive table.\"\n",
              "              style=\"display:none;\">\n",
              "        \n",
              "  <svg xmlns=\"http://www.w3.org/2000/svg\" height=\"24px\"viewBox=\"0 0 24 24\"\n",
              "       width=\"24px\">\n",
              "    <path d=\"M0 0h24v24H0V0z\" fill=\"none\"/>\n",
              "    <path d=\"M18.56 5.44l.94 2.06.94-2.06 2.06-.94-2.06-.94-.94-2.06-.94 2.06-2.06.94zm-11 1L8.5 8.5l.94-2.06 2.06-.94-2.06-.94L8.5 2.5l-.94 2.06-2.06.94zm10 10l.94 2.06.94-2.06 2.06-.94-2.06-.94-.94-2.06-.94 2.06-2.06.94z\"/><path d=\"M17.41 7.96l-1.37-1.37c-.4-.4-.92-.59-1.43-.59-.52 0-1.04.2-1.43.59L10.3 9.45l-7.72 7.72c-.78.78-.78 2.05 0 2.83L4 21.41c.39.39.9.59 1.41.59.51 0 1.02-.2 1.41-.59l7.78-7.78 2.81-2.81c.8-.78.8-2.07 0-2.86zM5.41 20L4 18.59l7.72-7.72 1.47 1.35L5.41 20z\"/>\n",
              "  </svg>\n",
              "      </button>\n",
              "      \n",
              "  <style>\n",
              "    .colab-df-container {\n",
              "      display:flex;\n",
              "      flex-wrap:wrap;\n",
              "      gap: 12px;\n",
              "    }\n",
              "\n",
              "    .colab-df-convert {\n",
              "      background-color: #E8F0FE;\n",
              "      border: none;\n",
              "      border-radius: 50%;\n",
              "      cursor: pointer;\n",
              "      display: none;\n",
              "      fill: #1967D2;\n",
              "      height: 32px;\n",
              "      padding: 0 0 0 0;\n",
              "      width: 32px;\n",
              "    }\n",
              "\n",
              "    .colab-df-convert:hover {\n",
              "      background-color: #E2EBFA;\n",
              "      box-shadow: 0px 1px 2px rgba(60, 64, 67, 0.3), 0px 1px 3px 1px rgba(60, 64, 67, 0.15);\n",
              "      fill: #174EA6;\n",
              "    }\n",
              "\n",
              "    [theme=dark] .colab-df-convert {\n",
              "      background-color: #3B4455;\n",
              "      fill: #D2E3FC;\n",
              "    }\n",
              "\n",
              "    [theme=dark] .colab-df-convert:hover {\n",
              "      background-color: #434B5C;\n",
              "      box-shadow: 0px 1px 3px 1px rgba(0, 0, 0, 0.15);\n",
              "      filter: drop-shadow(0px 1px 2px rgba(0, 0, 0, 0.3));\n",
              "      fill: #FFFFFF;\n",
              "    }\n",
              "  </style>\n",
              "\n",
              "      <script>\n",
              "        const buttonEl =\n",
              "          document.querySelector('#df-9625d450-6dee-4706-99e7-a47193b5c005 button.colab-df-convert');\n",
              "        buttonEl.style.display =\n",
              "          google.colab.kernel.accessAllowed ? 'block' : 'none';\n",
              "\n",
              "        async function convertToInteractive(key) {\n",
              "          const element = document.querySelector('#df-9625d450-6dee-4706-99e7-a47193b5c005');\n",
              "          const dataTable =\n",
              "            await google.colab.kernel.invokeFunction('convertToInteractive',\n",
              "                                                     [key], {});\n",
              "          if (!dataTable) return;\n",
              "\n",
              "          const docLinkHtml = 'Like what you see? Visit the ' +\n",
              "            '<a target=\"_blank\" href=https://colab.research.google.com/notebooks/data_table.ipynb>data table notebook</a>'\n",
              "            + ' to learn more about interactive tables.';\n",
              "          element.innerHTML = '';\n",
              "          dataTable['output_type'] = 'display_data';\n",
              "          await google.colab.output.renderOutput(dataTable, element);\n",
              "          const docLink = document.createElement('div');\n",
              "          docLink.innerHTML = docLinkHtml;\n",
              "          element.appendChild(docLink);\n",
              "        }\n",
              "      </script>\n",
              "    </div>\n",
              "  </div>\n",
              "  "
            ]
          },
          "metadata": {},
          "execution_count": 58
        }
      ]
    },
    {
      "cell_type": "code",
      "source": [
        "#Distribution Plot Of Age\n",
        "plt.rcParams['figure.figsize'] = (15, 5)\n",
        "sns.distplot(merged['Age'],color=\"blue\")\n",
        "plt.grid()\n",
        "plt.title('Distribution Plot Of Age')"
      ],
      "metadata": {
        "id": "i_n7e7_D2uCg",
        "outputId": "90f77588-a5a2-4280-c1e5-e542b3233c22",
        "colab": {
          "base_uri": "https://localhost:8080/",
          "height": 0
        }
      },
      "execution_count": 59,
      "outputs": [
        {
          "output_type": "execute_result",
          "data": {
            "text/plain": [
              "Text(0.5, 1.0, 'Distribution Plot Of Age')"
            ]
          },
          "metadata": {},
          "execution_count": 59
        },
        {
          "output_type": "display_data",
          "data": {
            "text/plain": [
              "<Figure size 1080x360 with 1 Axes>"
            ],
            "image/png": "[encoded data removed]"
          },
          "metadata": {
            "needs_background": "light"
          }
        }
      ]
    },
    {
      "cell_type": "code",
      "source": [
        "ratings['Book-Rating'] != 0"
      ],
      "metadata": {
        "id": "V9V0ma4V4g77",
        "outputId": "69720ba4-1da4-40a3-d49a-a885e045b6d2",
        "colab": {
          "base_uri": "https://localhost:8080/"
        }
      },
      "execution_count": 60,
      "outputs": [
        {
          "output_type": "execute_result",
          "data": {
            "text/plain": [
              "0          False\n",
              "1           True\n",
              "2          False\n",
              "3           True\n",
              "4           True\n",
              "           ...  \n",
              "1149775     True\n",
              "1149776    False\n",
              "1149777     True\n",
              "1149778     True\n",
              "1149779     True\n",
              "Name: Book-Rating, Length: 1149780, dtype: bool"
            ]
          },
          "metadata": {},
          "execution_count": 60
        }
      ]
    },
    {
      "cell_type": "code",
      "source": [
        "#Histogram Of Book-Rating\n",
        "plt.figure(figsize=(12,7))\n",
        "plt.xlabel(\"Subjectivity\")\n",
        "plt.title(\"Histogram  Of Size\",fontsize=20)\n",
        "plt.hist(ratings['Book-Rating'],color=\"brown\",edgecolor=\"white\")\n",
        "plt.show()"
      ],
      "metadata": {
        "id": "EUd6bN8T2Dmk",
        "outputId": "37ce6c37-e983-4b4d-e582-d819a637b182",
        "colab": {
          "base_uri": "https://localhost:8080/",
          "height": 0
        }
      },
      "execution_count": 61,
      "outputs": [
        {
          "output_type": "display_data",
          "data": {
            "text/plain": [
              "<Figure size 864x504 with 1 Axes>"
            ],
            "image/png": "[encoded data removed]"
          },
          "metadata": {
            "needs_background": "light"
          }
        }
      ]
    },
    {
      "cell_type": "code",
      "source": [
        "#Histogram Of Book-Rating\n",
        "plt.figure(figsize=(12,7))\n",
        "plt.xlabel(\"Subjectivity\")\n",
        "plt.title(\"Book-Rating\",fontsize=20)\n",
        "plt.hist(ratings['Book-Rating'],color=\"brown\",edgecolor=\"white\")\n",
        "plt.show()"
      ],
      "metadata": {
        "id": "D3P-6hbK4lJI",
        "outputId": "7f17780f-ebda-4d37-fffb-bcc6f70d746d",
        "colab": {
          "base_uri": "https://localhost:8080/",
          "height": 0
        }
      },
      "execution_count": 62,
      "outputs": [
        {
          "output_type": "display_data",
          "data": {
            "text/plain": [
              "<Figure size 864x504 with 1 Axes>"
            ],
            "image/png": "[encoded data removed]"
          },
          "metadata": {
            "needs_background": "light"
          }
        }
      ]
    },
    {
      "cell_type": "markdown",
      "source": [
        "# Model Implementation"
      ],
      "metadata": {
        "id": "5Ml7nRHBIZd4"
      }
    },
    {
      "cell_type": "markdown",
      "source": [
        "## Collaborative filtering model based"
      ],
      "metadata": {
        "id": "wT2P1YIYIdlL"
      }
    },
    {
      "cell_type": "markdown",
      "source": [
        "###**Data Preparation**"
      ],
      "metadata": {
        "id": "f7SgGW_cAANJ"
      }
    },
    {
      "cell_type": "code",
      "source": [
        "ratings.head(1)"
      ],
      "metadata": {
        "id": "UGCSf7BPIvGx",
        "outputId": "56d252b7-7955-41a3-e7c1-056503deb750",
        "colab": {
          "base_uri": "https://localhost:8080/",
          "height": 81
        }
      },
      "execution_count": 63,
      "outputs": [
        {
          "output_type": "execute_result",
          "data": {
            "text/plain": [
              "   User-ID        ISBN  Book-Rating\n",
              "0   276725  034545104X            0"
            ],
            "text/html": [
              "\n",
              "  <div id=\"df-242fa755-1b77-482c-bc5f-01a0f0d61b3c\">\n",
              "    <div class=\"colab-df-container\">\n",
              "      <div>\n",
              "<style scoped>\n",
              "    .dataframe tbody tr th:only-of-type {\n",
              "        vertical-align: middle;\n",
              "    }\n",
              "\n",
              "    .dataframe tbody tr th {\n",
              "        vertical-align: top;\n",
              "    }\n",
              "\n",
              "    .dataframe thead th {\n",
              "        text-align: right;\n",
              "    }\n",
              "</style>\n",
              "<table border=\"1\" class=\"dataframe\">\n",
              "  <thead>\n",
              "    <tr style=\"text-align: right;\">\n",
              "      <th></th>\n",
              "      <th>User-ID</th>\n",
              "      <th>ISBN</th>\n",
              "      <th>Book-Rating</th>\n",
              "    </tr>\n",
              "  </thead>\n",
              "  <tbody>\n",
              "    <tr>\n",
              "      <th>0</th>\n",
              "      <td>276725</td>\n",
              "      <td>034545104X</td>\n",
              "      <td>0</td>\n",
              "    </tr>\n",
              "  </tbody>\n",
              "</table>\n",
              "</div>\n",
              "      <button class=\"colab-df-convert\" onclick=\"convertToInteractive('df-242fa755-1b77-482c-bc5f-01a0f0d61b3c')\"\n",
              "              title=\"Convert this dataframe to an interactive table.\"\n",
              "              style=\"display:none;\">\n",
              "        \n",
              "  <svg xmlns=\"http://www.w3.org/2000/svg\" height=\"24px\"viewBox=\"0 0 24 24\"\n",
              "       width=\"24px\">\n",
              "    <path d=\"M0 0h24v24H0V0z\" fill=\"none\"/>\n",
              "    <path d=\"M18.56 5.44l.94 2.06.94-2.06 2.06-.94-2.06-.94-.94-2.06-.94 2.06-2.06.94zm-11 1L8.5 8.5l.94-2.06 2.06-.94-2.06-.94L8.5 2.5l-.94 2.06-2.06.94zm10 10l.94 2.06.94-2.06 2.06-.94-2.06-.94-.94-2.06-.94 2.06-2.06.94z\"/><path d=\"M17.41 7.96l-1.37-1.37c-.4-.4-.92-.59-1.43-.59-.52 0-1.04.2-1.43.59L10.3 9.45l-7.72 7.72c-.78.78-.78 2.05 0 2.83L4 21.41c.39.39.9.59 1.41.59.51 0 1.02-.2 1.41-.59l7.78-7.78 2.81-2.81c.8-.78.8-2.07 0-2.86zM5.41 20L4 18.59l7.72-7.72 1.47 1.35L5.41 20z\"/>\n",
              "  </svg>\n",
              "      </button>\n",
              "      \n",
              "  <style>\n",
              "    .colab-df-container {\n",
              "      display:flex;\n",
              "      flex-wrap:wrap;\n",
              "      gap: 12px;\n",
              "    }\n",
              "\n",
              "    .colab-df-convert {\n",
              "      background-color: #E8F0FE;\n",
              "      border: none;\n",
              "      border-radius: 50%;\n",
              "      cursor: pointer;\n",
              "      display: none;\n",
              "      fill: #1967D2;\n",
              "      height: 32px;\n",
              "      padding: 0 0 0 0;\n",
              "      width: 32px;\n",
              "    }\n",
              "\n",
              "    .colab-df-convert:hover {\n",
              "      background-color: #E2EBFA;\n",
              "      box-shadow: 0px 1px 2px rgba(60, 64, 67, 0.3), 0px 1px 3px 1px rgba(60, 64, 67, 0.15);\n",
              "      fill: #174EA6;\n",
              "    }\n",
              "\n",
              "    [theme=dark] .colab-df-convert {\n",
              "      background-color: #3B4455;\n",
              "      fill: #D2E3FC;\n",
              "    }\n",
              "\n",
              "    [theme=dark] .colab-df-convert:hover {\n",
              "      background-color: #434B5C;\n",
              "      box-shadow: 0px 1px 3px 1px rgba(0, 0, 0, 0.15);\n",
              "      filter: drop-shadow(0px 1px 2px rgba(0, 0, 0, 0.3));\n",
              "      fill: #FFFFFF;\n",
              "    }\n",
              "  </style>\n",
              "\n",
              "      <script>\n",
              "        const buttonEl =\n",
              "          document.querySelector('#df-242fa755-1b77-482c-bc5f-01a0f0d61b3c button.colab-df-convert');\n",
              "        buttonEl.style.display =\n",
              "          google.colab.kernel.accessAllowed ? 'block' : 'none';\n",
              "\n",
              "        async function convertToInteractive(key) {\n",
              "          const element = document.querySelector('#df-242fa755-1b77-482c-bc5f-01a0f0d61b3c');\n",
              "          const dataTable =\n",
              "            await google.colab.kernel.invokeFunction('convertToInteractive',\n",
              "                                                     [key], {});\n",
              "          if (!dataTable) return;\n",
              "\n",
              "          const docLinkHtml = 'Like what you see? Visit the ' +\n",
              "            '<a target=\"_blank\" href=https://colab.research.google.com/notebooks/data_table.ipynb>data table notebook</a>'\n",
              "            + ' to learn more about interactive tables.';\n",
              "          element.innerHTML = '';\n",
              "          dataTable['output_type'] = 'display_data';\n",
              "          await google.colab.output.renderOutput(dataTable, element);\n",
              "          const docLink = document.createElement('div');\n",
              "          docLink.innerHTML = docLinkHtml;\n",
              "          element.appendChild(docLink);\n",
              "        }\n",
              "      </script>\n",
              "    </div>\n",
              "  </div>\n",
              "  "
            ]
          },
          "metadata": {},
          "execution_count": 63
        }
      ]
    },
    {
      "cell_type": "code",
      "source": [
        "ratings= ratings[ratings['Book-Rating'] != 0]"
      ],
      "metadata": {
        "id": "64LHgml5xoIB"
      },
      "execution_count": 64,
      "outputs": []
    },
    {
      "cell_type": "code",
      "source": [
        "ratings.isna().any()"
      ],
      "metadata": {
        "id": "Gxsn0EAZB7xD",
        "outputId": "f8809769-b49a-48a6-9f9c-a2f936fc5e22",
        "colab": {
          "base_uri": "https://localhost:8080/"
        }
      },
      "execution_count": 65,
      "outputs": [
        {
          "output_type": "execute_result",
          "data": {
            "text/plain": [
              "User-ID        False\n",
              "ISBN           False\n",
              "Book-Rating    False\n",
              "dtype: bool"
            ]
          },
          "metadata": {},
          "execution_count": 65
        }
      ]
    },
    {
      "cell_type": "code",
      "source": [
        "#Merging both data \n",
        "df=pd.merge(ratings,books, on='ISBN')"
      ],
      "metadata": {
        "id": "ta7_UTVMJBSu"
      },
      "execution_count": 66,
      "outputs": []
    },
    {
      "cell_type": "code",
      "source": [
        "df.isna().any()"
      ],
      "metadata": {
        "id": "0EjWb-VmJRT9",
        "outputId": "124b6bc0-2642-483c-a9d1-f3007290c928",
        "colab": {
          "base_uri": "https://localhost:8080/"
        }
      },
      "execution_count": 67,
      "outputs": [
        {
          "output_type": "execute_result",
          "data": {
            "text/plain": [
              "User-ID                False\n",
              "ISBN                   False\n",
              "Book-Rating            False\n",
              "Book-Title             False\n",
              "Book-Author            False\n",
              "Year-Of-Publication    False\n",
              "Publisher              False\n",
              "Image-URL-S            False\n",
              "Image-URL-M            False\n",
              "Image-URL-L            False\n",
              "dtype: bool"
            ]
          },
          "metadata": {},
          "execution_count": 67
        }
      ]
    },
    {
      "cell_type": "code",
      "source": [
        "df.drop(columns=['Image-URL-S','Image-URL-M','Image-URL-L'], axis=1,inplace=True)"
      ],
      "metadata": {
        "id": "B3KqJh8KJyOm"
      },
      "execution_count": 68,
      "outputs": []
    },
    {
      "cell_type": "code",
      "source": [
        "# Books that rated by atleast 10 users\n",
        "books_interactions_count_df = df.groupby(['ISBN', 'User-ID']).size().groupby('ISBN').size()\n",
        "print('# of books: %d' % len(books_interactions_count_df))\n",
        "\n",
        "books_with_enough_interactions_df = books_interactions_count_df[books_interactions_count_df >= 10].reset_index()[['ISBN']]\n",
        "print('# of books with at least 10 interactions: %d' % len(books_with_enough_interactions_df))\n",
        "print(books_with_enough_interactions_df.head(1))"
      ],
      "metadata": {
        "id": "Ya2POFzPRCv0",
        "outputId": "034f4383-8bf7-40b2-a205-c7bc35beb31a",
        "colab": {
          "base_uri": "https://localhost:8080/"
        }
      },
      "execution_count": 69,
      "outputs": [
        {
          "output_type": "stream",
          "name": "stdout",
          "text": [
            "# of books: 149832\n",
            "# of books with at least 10 interactions: 5444\n",
            "         ISBN\n",
            "0  0002558122\n"
          ]
        }
      ]
    },
    {
      "cell_type": "code",
      "source": [
        "#users which have rated atleast 25 different books\n",
        "users_interactions_count_df = df.groupby(['User-ID', 'ISBN']).size().groupby('User-ID').size()\n",
        "print('# of users: %d' % len(users_interactions_count_df))\n",
        "\n",
        "users_with_enough_interactions_df = users_interactions_count_df[users_interactions_count_df >= 25].reset_index()[['User-ID']]\n",
        "print('# of users with at least 25 interactions: %d' % len(users_with_enough_interactions_df))\n",
        "print(users_with_enough_interactions_df.head(1))"
      ],
      "metadata": {
        "id": "evGgEU6YIN3F",
        "outputId": "a795769f-3add-4688-b603-13fc2932dcd9",
        "colab": {
          "base_uri": "https://localhost:8080/"
        }
      },
      "execution_count": 70,
      "outputs": [
        {
          "output_type": "stream",
          "name": "stdout",
          "text": [
            "# of users: 68091\n",
            "# of users with at least 25 interactions: 2604\n",
            "   User-ID\n",
            "0      254\n"
          ]
        }
      ]
    },
    {
      "cell_type": "code",
      "source": [
        "users_interactions_count_df.head(1)"
      ],
      "metadata": {
        "id": "Gj1oinrbA7zy",
        "outputId": "4c1b3d3f-ca4a-4f89-b8bf-fb19584c2ed0",
        "colab": {
          "base_uri": "https://localhost:8080/"
        }
      },
      "execution_count": 71,
      "outputs": [
        {
          "output_type": "execute_result",
          "data": {
            "text/plain": [
              "User-ID\n",
              "8    7\n",
              "dtype: int64"
            ]
          },
          "metadata": {},
          "execution_count": 71
        }
      ]
    },
    {
      "cell_type": "code",
      "source": [
        "print('# of interactions: %d' % len(df))\n",
        "interactions_from_selected_users_df = df.merge(users_with_enough_interactions_df, \n",
        "               how = 'right',\n",
        "               on = 'User-ID')\n",
        "print('# of interactions from users with at least 25 interactions: %d' % len(interactions_from_selected_users_df))"
      ],
      "metadata": {
        "id": "l8fBx8HRJHMO",
        "outputId": "b9fc77c9-c692-4850-820f-7fe446b9a0fb",
        "colab": {
          "base_uri": "https://localhost:8080/"
        }
      },
      "execution_count": 72,
      "outputs": [
        {
          "output_type": "stream",
          "name": "stdout",
          "text": [
            "# of interactions: 383838\n",
            "# of interactions from users with at least 25 interactions: 202455\n"
          ]
        }
      ]
    },
    {
      "cell_type": "code",
      "source": [],
      "metadata": {
        "id": "cOaen-qfJ_dy"
      },
      "execution_count": 72,
      "outputs": []
    },
    {
      "cell_type": "code",
      "source": [
        "print('# of interactions: %d' % len(df))\n",
        "interactions_from_selected_books_and_users_df= interactions_from_selected_users_df.merge(books_with_enough_interactions_df, on = 'ISBN')\n",
        "print('# of interactions from users with at least 25 interactions and books with at least 10 interactions: %d' % len(interactions_from_selected_books_and_users_df))"
      ],
      "metadata": {
        "id": "iDUDOB3-a6gE",
        "outputId": "7a6200b9-c04b-4775-bd65-97fdae2e8f5c",
        "colab": {
          "base_uri": "https://localhost:8080/"
        }
      },
      "execution_count": 73,
      "outputs": [
        {
          "output_type": "stream",
          "name": "stdout",
          "text": [
            "# of interactions: 383838\n",
            "# of interactions from users with at least 25 interactions and books with at least 10 interactions: 63541\n"
          ]
        }
      ]
    },
    {
      "cell_type": "code",
      "source": [
        "interactions_from_selected_books_and_users_df"
      ],
      "metadata": {
        "id": "mMn5btdIKAjO",
        "outputId": "5f7ceca3-44dd-4a1b-d2b6-38b544234651",
        "colab": {
          "base_uri": "https://localhost:8080/",
          "height": 424
        }
      },
      "execution_count": 74,
      "outputs": [
        {
          "output_type": "execute_result",
          "data": {
            "text/plain": [
              "       User-ID        ISBN  Book-Rating  \\\n",
              "0          254  0671021001            7   \n",
              "1         2977  0671021001            9   \n",
              "2         6563  0671021001            2   \n",
              "3         8253  0671021001           10   \n",
              "4        11718  0671021001            8   \n",
              "...        ...         ...          ...   \n",
              "63536   261829  0743406125            8   \n",
              "63537   267635  0743406125            7   \n",
              "63538   261998  0312980388           10   \n",
              "63539   263733  3442760003           10   \n",
              "63540   276847  3423071516           10   \n",
              "\n",
              "                                  Book-Title       Book-Author  \\\n",
              "0      She's Come Undone (Oprah's Book Club)        Wally Lamb   \n",
              "1      She's Come Undone (Oprah's Book Club)        Wally Lamb   \n",
              "2      She's Come Undone (Oprah's Book Club)        Wally Lamb   \n",
              "3      She's Come Undone (Oprah's Book Club)        Wally Lamb   \n",
              "4      She's Come Undone (Oprah's Book Club)        Wally Lamb   \n",
              "...                                      ...               ...   \n",
              "63536                              Year Zero         Jeff Long   \n",
              "63537                              Year Zero         Jeff Long   \n",
              "63538     Warlock : A Novel of Ancient Egypt      Wilbur Smith   \n",
              "63539                            Liebesleben     Zeruya Shalev   \n",
              "63540                      Der Kleine Hobbit  J. R. R. Tolkien   \n",
              "\n",
              "       Year-Of-Publication                Publisher  \n",
              "0                     1998                   Pocket  \n",
              "1                     1998                   Pocket  \n",
              "2                     1998                   Pocket  \n",
              "3                     1998                   Pocket  \n",
              "4                     1998                   Pocket  \n",
              "...                    ...                      ...  \n",
              "63536                 2003              Pocket Star  \n",
              "63537                 2003              Pocket Star  \n",
              "63538                 2002  St. Martin's Paperbacks  \n",
              "63539                 2002              Distribooks  \n",
              "63540                 2002              Distribooks  \n",
              "\n",
              "[63541 rows x 7 columns]"
            ],
            "text/html": [
              "\n",
              "  <div id=\"df-a76833d2-dbc2-4abe-ac74-f502bc1a5cbb\">\n",
              "    <div class=\"colab-df-container\">\n",
              "      <div>\n",
              "<style scoped>\n",
              "    .dataframe tbody tr th:only-of-type {\n",
              "        vertical-align: middle;\n",
              "    }\n",
              "\n",
              "    .dataframe tbody tr th {\n",
              "        vertical-align: top;\n",
              "    }\n",
              "\n",
              "    .dataframe thead th {\n",
              "        text-align: right;\n",
              "    }\n",
              "</style>\n",
              "<table border=\"1\" class=\"dataframe\">\n",
              "  <thead>\n",
              "    <tr style=\"text-align: right;\">\n",
              "      <th></th>\n",
              "      <th>User-ID</th>\n",
              "      <th>ISBN</th>\n",
              "      <th>Book-Rating</th>\n",
              "      <th>Book-Title</th>\n",
              "      <th>Book-Author</th>\n",
              "      <th>Year-Of-Publication</th>\n",
              "      <th>Publisher</th>\n",
              "    </tr>\n",
              "  </thead>\n",
              "  <tbody>\n",
              "    <tr>\n",
              "      <th>0</th>\n",
              "      <td>254</td>\n",
              "      <td>0671021001</td>\n",
              "      <td>7</td>\n",
              "      <td>She's Come Undone (Oprah's Book Club)</td>\n",
              "      <td>Wally Lamb</td>\n",
              "      <td>1998</td>\n",
              "      <td>Pocket</td>\n",
              "    </tr>\n",
              "    <tr>\n",
              "      <th>1</th>\n",
              "      <td>2977</td>\n",
              "      <td>0671021001</td>\n",
              "      <td>9</td>\n",
              "      <td>She's Come Undone (Oprah's Book Club)</td>\n",
              "      <td>Wally Lamb</td>\n",
              "      <td>1998</td>\n",
              "      <td>Pocket</td>\n",
              "    </tr>\n",
              "    <tr>\n",
              "      <th>2</th>\n",
              "      <td>6563</td>\n",
              "      <td>0671021001</td>\n",
              "      <td>2</td>\n",
              "      <td>She's Come Undone (Oprah's Book Club)</td>\n",
              "      <td>Wally Lamb</td>\n",
              "      <td>1998</td>\n",
              "      <td>Pocket</td>\n",
              "    </tr>\n",
              "    <tr>\n",
              "      <th>3</th>\n",
              "      <td>8253</td>\n",
              "      <td>0671021001</td>\n",
              "      <td>10</td>\n",
              "      <td>She's Come Undone (Oprah's Book Club)</td>\n",
              "      <td>Wally Lamb</td>\n",
              "      <td>1998</td>\n",
              "      <td>Pocket</td>\n",
              "    </tr>\n",
              "    <tr>\n",
              "      <th>4</th>\n",
              "      <td>11718</td>\n",
              "      <td>0671021001</td>\n",
              "      <td>8</td>\n",
              "      <td>She's Come Undone (Oprah's Book Club)</td>\n",
              "      <td>Wally Lamb</td>\n",
              "      <td>1998</td>\n",
              "      <td>Pocket</td>\n",
              "    </tr>\n",
              "    <tr>\n",
              "      <th>...</th>\n",
              "      <td>...</td>\n",
              "      <td>...</td>\n",
              "      <td>...</td>\n",
              "      <td>...</td>\n",
              "      <td>...</td>\n",
              "      <td>...</td>\n",
              "      <td>...</td>\n",
              "    </tr>\n",
              "    <tr>\n",
              "      <th>63536</th>\n",
              "      <td>261829</td>\n",
              "      <td>0743406125</td>\n",
              "      <td>8</td>\n",
              "      <td>Year Zero</td>\n",
              "      <td>Jeff Long</td>\n",
              "      <td>2003</td>\n",
              "      <td>Pocket Star</td>\n",
              "    </tr>\n",
              "    <tr>\n",
              "      <th>63537</th>\n",
              "      <td>267635</td>\n",
              "      <td>0743406125</td>\n",
              "      <td>7</td>\n",
              "      <td>Year Zero</td>\n",
              "      <td>Jeff Long</td>\n",
              "      <td>2003</td>\n",
              "      <td>Pocket Star</td>\n",
              "    </tr>\n",
              "    <tr>\n",
              "      <th>63538</th>\n",
              "      <td>261998</td>\n",
              "      <td>0312980388</td>\n",
              "      <td>10</td>\n",
              "      <td>Warlock : A Novel of Ancient Egypt</td>\n",
              "      <td>Wilbur Smith</td>\n",
              "      <td>2002</td>\n",
              "      <td>St. Martin's Paperbacks</td>\n",
              "    </tr>\n",
              "    <tr>\n",
              "      <th>63539</th>\n",
              "      <td>263733</td>\n",
              "      <td>3442760003</td>\n",
              "      <td>10</td>\n",
              "      <td>Liebesleben</td>\n",
              "      <td>Zeruya Shalev</td>\n",
              "      <td>2002</td>\n",
              "      <td>Distribooks</td>\n",
              "    </tr>\n",
              "    <tr>\n",
              "      <th>63540</th>\n",
              "      <td>276847</td>\n",
              "      <td>3423071516</td>\n",
              "      <td>10</td>\n",
              "      <td>Der Kleine Hobbit</td>\n",
              "      <td>J. R. R. Tolkien</td>\n",
              "      <td>2002</td>\n",
              "      <td>Distribooks</td>\n",
              "    </tr>\n",
              "  </tbody>\n",
              "</table>\n",
              "<p>63541 rows × 7 columns</p>\n",
              "</div>\n",
              "      <button class=\"colab-df-convert\" onclick=\"convertToInteractive('df-a76833d2-dbc2-4abe-ac74-f502bc1a5cbb')\"\n",
              "              title=\"Convert this dataframe to an interactive table.\"\n",
              "              style=\"display:none;\">\n",
              "        \n",
              "  <svg xmlns=\"http://www.w3.org/2000/svg\" height=\"24px\"viewBox=\"0 0 24 24\"\n",
              "       width=\"24px\">\n",
              "    <path d=\"M0 0h24v24H0V0z\" fill=\"none\"/>\n",
              "    <path d=\"M18.56 5.44l.94 2.06.94-2.06 2.06-.94-2.06-.94-.94-2.06-.94 2.06-2.06.94zm-11 1L8.5 8.5l.94-2.06 2.06-.94-2.06-.94L8.5 2.5l-.94 2.06-2.06.94zm10 10l.94 2.06.94-2.06 2.06-.94-2.06-.94-.94-2.06-.94 2.06-2.06.94z\"/><path d=\"M17.41 7.96l-1.37-1.37c-.4-.4-.92-.59-1.43-.59-.52 0-1.04.2-1.43.59L10.3 9.45l-7.72 7.72c-.78.78-.78 2.05 0 2.83L4 21.41c.39.39.9.59 1.41.59.51 0 1.02-.2 1.41-.59l7.78-7.78 2.81-2.81c.8-.78.8-2.07 0-2.86zM5.41 20L4 18.59l7.72-7.72 1.47 1.35L5.41 20z\"/>\n",
              "  </svg>\n",
              "      </button>\n",
              "      \n",
              "  <style>\n",
              "    .colab-df-container {\n",
              "      display:flex;\n",
              "      flex-wrap:wrap;\n",
              "      gap: 12px;\n",
              "    }\n",
              "\n",
              "    .colab-df-convert {\n",
              "      background-color: #E8F0FE;\n",
              "      border: none;\n",
              "      border-radius: 50%;\n",
              "      cursor: pointer;\n",
              "      display: none;\n",
              "      fill: #1967D2;\n",
              "      height: 32px;\n",
              "      padding: 0 0 0 0;\n",
              "      width: 32px;\n",
              "    }\n",
              "\n",
              "    .colab-df-convert:hover {\n",
              "      background-color: #E2EBFA;\n",
              "      box-shadow: 0px 1px 2px rgba(60, 64, 67, 0.3), 0px 1px 3px 1px rgba(60, 64, 67, 0.15);\n",
              "      fill: #174EA6;\n",
              "    }\n",
              "\n",
              "    [theme=dark] .colab-df-convert {\n",
              "      background-color: #3B4455;\n",
              "      fill: #D2E3FC;\n",
              "    }\n",
              "\n",
              "    [theme=dark] .colab-df-convert:hover {\n",
              "      background-color: #434B5C;\n",
              "      box-shadow: 0px 1px 3px 1px rgba(0, 0, 0, 0.15);\n",
              "      filter: drop-shadow(0px 1px 2px rgba(0, 0, 0, 0.3));\n",
              "      fill: #FFFFFF;\n",
              "    }\n",
              "  </style>\n",
              "\n",
              "      <script>\n",
              "        const buttonEl =\n",
              "          document.querySelector('#df-a76833d2-dbc2-4abe-ac74-f502bc1a5cbb button.colab-df-convert');\n",
              "        buttonEl.style.display =\n",
              "          google.colab.kernel.accessAllowed ? 'block' : 'none';\n",
              "\n",
              "        async function convertToInteractive(key) {\n",
              "          const element = document.querySelector('#df-a76833d2-dbc2-4abe-ac74-f502bc1a5cbb');\n",
              "          const dataTable =\n",
              "            await google.colab.kernel.invokeFunction('convertToInteractive',\n",
              "                                                     [key], {});\n",
              "          if (!dataTable) return;\n",
              "\n",
              "          const docLinkHtml = 'Like what you see? Visit the ' +\n",
              "            '<a target=\"_blank\" href=https://colab.research.google.com/notebooks/data_table.ipynb>data table notebook</a>'\n",
              "            + ' to learn more about interactive tables.';\n",
              "          element.innerHTML = '';\n",
              "          dataTable['output_type'] = 'display_data';\n",
              "          await google.colab.output.renderOutput(dataTable, element);\n",
              "          const docLink = document.createElement('div');\n",
              "          docLink.innerHTML = docLinkHtml;\n",
              "          element.appendChild(docLink);\n",
              "        }\n",
              "      </script>\n",
              "    </div>\n",
              "  </div>\n",
              "  "
            ]
          },
          "metadata": {},
          "execution_count": 74
        }
      ]
    },
    {
      "cell_type": "code",
      "source": [
        "interactions_from_selected_books_and_users_df.isna().any()"
      ],
      "metadata": {
        "id": "8nTaKj0EFHfx",
        "outputId": "ad01acad-a520-4936-f0e4-0aaff53880e6",
        "colab": {
          "base_uri": "https://localhost:8080/"
        }
      },
      "execution_count": 75,
      "outputs": [
        {
          "output_type": "execute_result",
          "data": {
            "text/plain": [
              "User-ID                False\n",
              "ISBN                   False\n",
              "Book-Rating            False\n",
              "Book-Title             False\n",
              "Book-Author            False\n",
              "Year-Of-Publication    False\n",
              "Publisher              False\n",
              "dtype: bool"
            ]
          },
          "metadata": {},
          "execution_count": 75
        }
      ]
    },
    {
      "cell_type": "code",
      "source": [
        "interactions_from_selected_books_and_users_df.shape"
      ],
      "metadata": {
        "id": "d_48GQhmJkDi",
        "outputId": "7119b696-9995-4f9e-dbfb-2b0c5fe74bf5",
        "colab": {
          "base_uri": "https://localhost:8080/"
        }
      },
      "execution_count": 76,
      "outputs": [
        {
          "output_type": "execute_result",
          "data": {
            "text/plain": [
              "(63541, 7)"
            ]
          },
          "metadata": {},
          "execution_count": 76
        }
      ]
    },
    {
      "cell_type": "code",
      "source": [
        "interactions_from_selected_books_and_users_df=interactions_from_selected_books_and_users_df.dropna()"
      ],
      "metadata": {
        "id": "AQ4ptIoQQVI6"
      },
      "execution_count": 77,
      "outputs": []
    },
    {
      "cell_type": "code",
      "source": [
        "interactions_from_selected_books_and_users_df.shape"
      ],
      "metadata": {
        "id": "kXXAKlJ6Qxs4",
        "outputId": "4adb3833-5343-4b28-f84d-feb166ed8d97",
        "colab": {
          "base_uri": "https://localhost:8080/"
        }
      },
      "execution_count": 78,
      "outputs": [
        {
          "output_type": "execute_result",
          "data": {
            "text/plain": [
              "(63541, 7)"
            ]
          },
          "metadata": {},
          "execution_count": 78
        }
      ]
    },
    {
      "cell_type": "code",
      "source": [
        "interactions_from_selected_books_and_users_df.head(1)"
      ],
      "metadata": {
        "id": "ytARk-uoUnaP",
        "outputId": "754366b3-8670-44e3-fe0e-3408faa2f447",
        "colab": {
          "base_uri": "https://localhost:8080/",
          "height": 81
        }
      },
      "execution_count": 109,
      "outputs": [
        {
          "output_type": "execute_result",
          "data": {
            "text/plain": [
              "   User-ID        ISBN  Book-Rating                             Book-Title  \\\n",
              "0      254  0671021001            7  She's Come Undone (Oprah's Book Club)   \n",
              "\n",
              "  Book-Author  Year-Of-Publication Publisher  \n",
              "0  Wally Lamb                 1998    Pocket  "
            ],
            "text/html": [
              "\n",
              "  <div id=\"df-66e153ae-f859-4995-9777-eed4978f69f6\">\n",
              "    <div class=\"colab-df-container\">\n",
              "      <div>\n",
              "<style scoped>\n",
              "    .dataframe tbody tr th:only-of-type {\n",
              "        vertical-align: middle;\n",
              "    }\n",
              "\n",
              "    .dataframe tbody tr th {\n",
              "        vertical-align: top;\n",
              "    }\n",
              "\n",
              "    .dataframe thead th {\n",
              "        text-align: right;\n",
              "    }\n",
              "</style>\n",
              "<table border=\"1\" class=\"dataframe\">\n",
              "  <thead>\n",
              "    <tr style=\"text-align: right;\">\n",
              "      <th></th>\n",
              "      <th>User-ID</th>\n",
              "      <th>ISBN</th>\n",
              "      <th>Book-Rating</th>\n",
              "      <th>Book-Title</th>\n",
              "      <th>Book-Author</th>\n",
              "      <th>Year-Of-Publication</th>\n",
              "      <th>Publisher</th>\n",
              "    </tr>\n",
              "  </thead>\n",
              "  <tbody>\n",
              "    <tr>\n",
              "      <th>0</th>\n",
              "      <td>254</td>\n",
              "      <td>0671021001</td>\n",
              "      <td>7</td>\n",
              "      <td>She's Come Undone (Oprah's Book Club)</td>\n",
              "      <td>Wally Lamb</td>\n",
              "      <td>1998</td>\n",
              "      <td>Pocket</td>\n",
              "    </tr>\n",
              "  </tbody>\n",
              "</table>\n",
              "</div>\n",
              "      <button class=\"colab-df-convert\" onclick=\"convertToInteractive('df-66e153ae-f859-4995-9777-eed4978f69f6')\"\n",
              "              title=\"Convert this dataframe to an interactive table.\"\n",
              "              style=\"display:none;\">\n",
              "        \n",
              "  <svg xmlns=\"http://www.w3.org/2000/svg\" height=\"24px\"viewBox=\"0 0 24 24\"\n",
              "       width=\"24px\">\n",
              "    <path d=\"M0 0h24v24H0V0z\" fill=\"none\"/>\n",
              "    <path d=\"M18.56 5.44l.94 2.06.94-2.06 2.06-.94-2.06-.94-.94-2.06-.94 2.06-2.06.94zm-11 1L8.5 8.5l.94-2.06 2.06-.94-2.06-.94L8.5 2.5l-.94 2.06-2.06.94zm10 10l.94 2.06.94-2.06 2.06-.94-2.06-.94-.94-2.06-.94 2.06-2.06.94z\"/><path d=\"M17.41 7.96l-1.37-1.37c-.4-.4-.92-.59-1.43-.59-.52 0-1.04.2-1.43.59L10.3 9.45l-7.72 7.72c-.78.78-.78 2.05 0 2.83L4 21.41c.39.39.9.59 1.41.59.51 0 1.02-.2 1.41-.59l7.78-7.78 2.81-2.81c.8-.78.8-2.07 0-2.86zM5.41 20L4 18.59l7.72-7.72 1.47 1.35L5.41 20z\"/>\n",
              "  </svg>\n",
              "      </button>\n",
              "      \n",
              "  <style>\n",
              "    .colab-df-container {\n",
              "      display:flex;\n",
              "      flex-wrap:wrap;\n",
              "      gap: 12px;\n",
              "    }\n",
              "\n",
              "    .colab-df-convert {\n",
              "      background-color: #E8F0FE;\n",
              "      border: none;\n",
              "      border-radius: 50%;\n",
              "      cursor: pointer;\n",
              "      display: none;\n",
              "      fill: #1967D2;\n",
              "      height: 32px;\n",
              "      padding: 0 0 0 0;\n",
              "      width: 32px;\n",
              "    }\n",
              "\n",
              "    .colab-df-convert:hover {\n",
              "      background-color: #E2EBFA;\n",
              "      box-shadow: 0px 1px 2px rgba(60, 64, 67, 0.3), 0px 1px 3px 1px rgba(60, 64, 67, 0.15);\n",
              "      fill: #174EA6;\n",
              "    }\n",
              "\n",
              "    [theme=dark] .colab-df-convert {\n",
              "      background-color: #3B4455;\n",
              "      fill: #D2E3FC;\n",
              "    }\n",
              "\n",
              "    [theme=dark] .colab-df-convert:hover {\n",
              "      background-color: #434B5C;\n",
              "      box-shadow: 0px 1px 3px 1px rgba(0, 0, 0, 0.15);\n",
              "      filter: drop-shadow(0px 1px 2px rgba(0, 0, 0, 0.3));\n",
              "      fill: #FFFFFF;\n",
              "    }\n",
              "  </style>\n",
              "\n",
              "      <script>\n",
              "        const buttonEl =\n",
              "          document.querySelector('#df-66e153ae-f859-4995-9777-eed4978f69f6 button.colab-df-convert');\n",
              "        buttonEl.style.display =\n",
              "          google.colab.kernel.accessAllowed ? 'block' : 'none';\n",
              "\n",
              "        async function convertToInteractive(key) {\n",
              "          const element = document.querySelector('#df-66e153ae-f859-4995-9777-eed4978f69f6');\n",
              "          const dataTable =\n",
              "            await google.colab.kernel.invokeFunction('convertToInteractive',\n",
              "                                                     [key], {});\n",
              "          if (!dataTable) return;\n",
              "\n",
              "          const docLinkHtml = 'Like what you see? Visit the ' +\n",
              "            '<a target=\"_blank\" href=https://colab.research.google.com/notebooks/data_table.ipynb>data table notebook</a>'\n",
              "            + ' to learn more about interactive tables.';\n",
              "          element.innerHTML = '';\n",
              "          dataTable['output_type'] = 'display_data';\n",
              "          await google.colab.output.renderOutput(dataTable, element);\n",
              "          const docLink = document.createElement('div');\n",
              "          docLink.innerHTML = docLinkHtml;\n",
              "          element.appendChild(docLink);\n",
              "        }\n",
              "      </script>\n",
              "    </div>\n",
              "  </div>\n",
              "  "
            ]
          },
          "metadata": {},
          "execution_count": 109
        }
      ]
    },
    {
      "cell_type": "code",
      "source": [
        "import math"
      ],
      "metadata": {
        "id": "_byS9O2CJ0P8"
      },
      "execution_count": 79,
      "outputs": []
    },
    {
      "cell_type": "code",
      "source": [
        "def smooth_user_preference(x):\n",
        "    return math.log(1+x, 2)\n",
        "    \n",
        "interactions_full_df1 = interactions_from_selected_books_and_users_df.groupby(['User-ID', 'Book-Title'])['Book-Rating'].sum().apply(smooth_user_preference).reset_index()\n",
        "print('# of unique user/item interactions: %d' % len(interactions_full_df1))\n",
        "interactions_full_df1.head(2)"
      ],
      "metadata": {
        "id": "GkA-6QiWVoN3",
        "outputId": "819bc41b-8597-4770-8675-cdf0d12280d8",
        "colab": {
          "base_uri": "https://localhost:8080/",
          "height": 129
        }
      },
      "execution_count": 112,
      "outputs": [
        {
          "output_type": "stream",
          "name": "stdout",
          "text": [
            "# of unique user/item interactions: 63228\n"
          ]
        },
        {
          "output_type": "execute_result",
          "data": {
            "text/plain": [
              "   User-ID     Book-Title  Book-Rating\n",
              "0      254           1984     3.321928\n",
              "1      254  American Gods     3.459432"
            ],
            "text/html": [
              "\n",
              "  <div id=\"df-16528419-095f-457b-b5c2-c747263960e3\">\n",
              "    <div class=\"colab-df-container\">\n",
              "      <div>\n",
              "<style scoped>\n",
              "    .dataframe tbody tr th:only-of-type {\n",
              "        vertical-align: middle;\n",
              "    }\n",
              "\n",
              "    .dataframe tbody tr th {\n",
              "        vertical-align: top;\n",
              "    }\n",
              "\n",
              "    .dataframe thead th {\n",
              "        text-align: right;\n",
              "    }\n",
              "</style>\n",
              "<table border=\"1\" class=\"dataframe\">\n",
              "  <thead>\n",
              "    <tr style=\"text-align: right;\">\n",
              "      <th></th>\n",
              "      <th>User-ID</th>\n",
              "      <th>Book-Title</th>\n",
              "      <th>Book-Rating</th>\n",
              "    </tr>\n",
              "  </thead>\n",
              "  <tbody>\n",
              "    <tr>\n",
              "      <th>0</th>\n",
              "      <td>254</td>\n",
              "      <td>1984</td>\n",
              "      <td>3.321928</td>\n",
              "    </tr>\n",
              "    <tr>\n",
              "      <th>1</th>\n",
              "      <td>254</td>\n",
              "      <td>American Gods</td>\n",
              "      <td>3.459432</td>\n",
              "    </tr>\n",
              "  </tbody>\n",
              "</table>\n",
              "</div>\n",
              "      <button class=\"colab-df-convert\" onclick=\"convertToInteractive('df-16528419-095f-457b-b5c2-c747263960e3')\"\n",
              "              title=\"Convert this dataframe to an interactive table.\"\n",
              "              style=\"display:none;\">\n",
              "        \n",
              "  <svg xmlns=\"http://www.w3.org/2000/svg\" height=\"24px\"viewBox=\"0 0 24 24\"\n",
              "       width=\"24px\">\n",
              "    <path d=\"M0 0h24v24H0V0z\" fill=\"none\"/>\n",
              "    <path d=\"M18.56 5.44l.94 2.06.94-2.06 2.06-.94-2.06-.94-.94-2.06-.94 2.06-2.06.94zm-11 1L8.5 8.5l.94-2.06 2.06-.94-2.06-.94L8.5 2.5l-.94 2.06-2.06.94zm10 10l.94 2.06.94-2.06 2.06-.94-2.06-.94-.94-2.06-.94 2.06-2.06.94z\"/><path d=\"M17.41 7.96l-1.37-1.37c-.4-.4-.92-.59-1.43-.59-.52 0-1.04.2-1.43.59L10.3 9.45l-7.72 7.72c-.78.78-.78 2.05 0 2.83L4 21.41c.39.39.9.59 1.41.59.51 0 1.02-.2 1.41-.59l7.78-7.78 2.81-2.81c.8-.78.8-2.07 0-2.86zM5.41 20L4 18.59l7.72-7.72 1.47 1.35L5.41 20z\"/>\n",
              "  </svg>\n",
              "      </button>\n",
              "      \n",
              "  <style>\n",
              "    .colab-df-container {\n",
              "      display:flex;\n",
              "      flex-wrap:wrap;\n",
              "      gap: 12px;\n",
              "    }\n",
              "\n",
              "    .colab-df-convert {\n",
              "      background-color: #E8F0FE;\n",
              "      border: none;\n",
              "      border-radius: 50%;\n",
              "      cursor: pointer;\n",
              "      display: none;\n",
              "      fill: #1967D2;\n",
              "      height: 32px;\n",
              "      padding: 0 0 0 0;\n",
              "      width: 32px;\n",
              "    }\n",
              "\n",
              "    .colab-df-convert:hover {\n",
              "      background-color: #E2EBFA;\n",
              "      box-shadow: 0px 1px 2px rgba(60, 64, 67, 0.3), 0px 1px 3px 1px rgba(60, 64, 67, 0.15);\n",
              "      fill: #174EA6;\n",
              "    }\n",
              "\n",
              "    [theme=dark] .colab-df-convert {\n",
              "      background-color: #3B4455;\n",
              "      fill: #D2E3FC;\n",
              "    }\n",
              "\n",
              "    [theme=dark] .colab-df-convert:hover {\n",
              "      background-color: #434B5C;\n",
              "      box-shadow: 0px 1px 3px 1px rgba(0, 0, 0, 0.15);\n",
              "      filter: drop-shadow(0px 1px 2px rgba(0, 0, 0, 0.3));\n",
              "      fill: #FFFFFF;\n",
              "    }\n",
              "  </style>\n",
              "\n",
              "      <script>\n",
              "        const buttonEl =\n",
              "          document.querySelector('#df-16528419-095f-457b-b5c2-c747263960e3 button.colab-df-convert');\n",
              "        buttonEl.style.display =\n",
              "          google.colab.kernel.accessAllowed ? 'block' : 'none';\n",
              "\n",
              "        async function convertToInteractive(key) {\n",
              "          const element = document.querySelector('#df-16528419-095f-457b-b5c2-c747263960e3');\n",
              "          const dataTable =\n",
              "            await google.colab.kernel.invokeFunction('convertToInteractive',\n",
              "                                                     [key], {});\n",
              "          if (!dataTable) return;\n",
              "\n",
              "          const docLinkHtml = 'Like what you see? Visit the ' +\n",
              "            '<a target=\"_blank\" href=https://colab.research.google.com/notebooks/data_table.ipynb>data table notebook</a>'\n",
              "            + ' to learn more about interactive tables.';\n",
              "          element.innerHTML = '';\n",
              "          dataTable['output_type'] = 'display_data';\n",
              "          await google.colab.output.renderOutput(dataTable, element);\n",
              "          const docLink = document.createElement('div');\n",
              "          docLink.innerHTML = docLinkHtml;\n",
              "          element.appendChild(docLink);\n",
              "        }\n",
              "      </script>\n",
              "    </div>\n",
              "  </div>\n",
              "  "
            ]
          },
          "metadata": {},
          "execution_count": 112
        }
      ]
    },
    {
      "cell_type": "code",
      "source": [
        "def smooth_user_preference(x):\n",
        "    return math.log(1+x, 2)\n",
        "    \n",
        "interactions_full_df = interactions_from_selected_books_and_users_df.groupby(['User-ID', 'ISBN'])['Book-Rating'].sum().apply(smooth_user_preference).reset_index()\n",
        "print('# of unique user/item interactions: %d' % len(interactions_full_df))\n",
        "interactions_full_df.head(2)"
      ],
      "metadata": {
        "id": "xEG1PYgBJpF-",
        "outputId": "0c6401f8-8dae-4825-f9b7-af96e49ea328",
        "colab": {
          "base_uri": "https://localhost:8080/",
          "height": 129
        }
      },
      "execution_count": 80,
      "outputs": [
        {
          "output_type": "stream",
          "name": "stdout",
          "text": [
            "# of unique user/item interactions: 63541\n"
          ]
        },
        {
          "output_type": "execute_result",
          "data": {
            "text/plain": [
              "   User-ID        ISBN  Book-Rating\n",
              "0      254  0060934700     3.321928\n",
              "1      254  0064471047     3.000000"
            ],
            "text/html": [
              "\n",
              "  <div id=\"df-190d8b18-9535-44f6-8b62-98007066e3c0\">\n",
              "    <div class=\"colab-df-container\">\n",
              "      <div>\n",
              "<style scoped>\n",
              "    .dataframe tbody tr th:only-of-type {\n",
              "        vertical-align: middle;\n",
              "    }\n",
              "\n",
              "    .dataframe tbody tr th {\n",
              "        vertical-align: top;\n",
              "    }\n",
              "\n",
              "    .dataframe thead th {\n",
              "        text-align: right;\n",
              "    }\n",
              "</style>\n",
              "<table border=\"1\" class=\"dataframe\">\n",
              "  <thead>\n",
              "    <tr style=\"text-align: right;\">\n",
              "      <th></th>\n",
              "      <th>User-ID</th>\n",
              "      <th>ISBN</th>\n",
              "      <th>Book-Rating</th>\n",
              "    </tr>\n",
              "  </thead>\n",
              "  <tbody>\n",
              "    <tr>\n",
              "      <th>0</th>\n",
              "      <td>254</td>\n",
              "      <td>0060934700</td>\n",
              "      <td>3.321928</td>\n",
              "    </tr>\n",
              "    <tr>\n",
              "      <th>1</th>\n",
              "      <td>254</td>\n",
              "      <td>0064471047</td>\n",
              "      <td>3.000000</td>\n",
              "    </tr>\n",
              "  </tbody>\n",
              "</table>\n",
              "</div>\n",
              "      <button class=\"colab-df-convert\" onclick=\"convertToInteractive('df-190d8b18-9535-44f6-8b62-98007066e3c0')\"\n",
              "              title=\"Convert this dataframe to an interactive table.\"\n",
              "              style=\"display:none;\">\n",
              "        \n",
              "  <svg xmlns=\"http://www.w3.org/2000/svg\" height=\"24px\"viewBox=\"0 0 24 24\"\n",
              "       width=\"24px\">\n",
              "    <path d=\"M0 0h24v24H0V0z\" fill=\"none\"/>\n",
              "    <path d=\"M18.56 5.44l.94 2.06.94-2.06 2.06-.94-2.06-.94-.94-2.06-.94 2.06-2.06.94zm-11 1L8.5 8.5l.94-2.06 2.06-.94-2.06-.94L8.5 2.5l-.94 2.06-2.06.94zm10 10l.94 2.06.94-2.06 2.06-.94-2.06-.94-.94-2.06-.94 2.06-2.06.94z\"/><path d=\"M17.41 7.96l-1.37-1.37c-.4-.4-.92-.59-1.43-.59-.52 0-1.04.2-1.43.59L10.3 9.45l-7.72 7.72c-.78.78-.78 2.05 0 2.83L4 21.41c.39.39.9.59 1.41.59.51 0 1.02-.2 1.41-.59l7.78-7.78 2.81-2.81c.8-.78.8-2.07 0-2.86zM5.41 20L4 18.59l7.72-7.72 1.47 1.35L5.41 20z\"/>\n",
              "  </svg>\n",
              "      </button>\n",
              "      \n",
              "  <style>\n",
              "    .colab-df-container {\n",
              "      display:flex;\n",
              "      flex-wrap:wrap;\n",
              "      gap: 12px;\n",
              "    }\n",
              "\n",
              "    .colab-df-convert {\n",
              "      background-color: #E8F0FE;\n",
              "      border: none;\n",
              "      border-radius: 50%;\n",
              "      cursor: pointer;\n",
              "      display: none;\n",
              "      fill: #1967D2;\n",
              "      height: 32px;\n",
              "      padding: 0 0 0 0;\n",
              "      width: 32px;\n",
              "    }\n",
              "\n",
              "    .colab-df-convert:hover {\n",
              "      background-color: #E2EBFA;\n",
              "      box-shadow: 0px 1px 2px rgba(60, 64, 67, 0.3), 0px 1px 3px 1px rgba(60, 64, 67, 0.15);\n",
              "      fill: #174EA6;\n",
              "    }\n",
              "\n",
              "    [theme=dark] .colab-df-convert {\n",
              "      background-color: #3B4455;\n",
              "      fill: #D2E3FC;\n",
              "    }\n",
              "\n",
              "    [theme=dark] .colab-df-convert:hover {\n",
              "      background-color: #434B5C;\n",
              "      box-shadow: 0px 1px 3px 1px rgba(0, 0, 0, 0.15);\n",
              "      filter: drop-shadow(0px 1px 2px rgba(0, 0, 0, 0.3));\n",
              "      fill: #FFFFFF;\n",
              "    }\n",
              "  </style>\n",
              "\n",
              "      <script>\n",
              "        const buttonEl =\n",
              "          document.querySelector('#df-190d8b18-9535-44f6-8b62-98007066e3c0 button.colab-df-convert');\n",
              "        buttonEl.style.display =\n",
              "          google.colab.kernel.accessAllowed ? 'block' : 'none';\n",
              "\n",
              "        async function convertToInteractive(key) {\n",
              "          const element = document.querySelector('#df-190d8b18-9535-44f6-8b62-98007066e3c0');\n",
              "          const dataTable =\n",
              "            await google.colab.kernel.invokeFunction('convertToInteractive',\n",
              "                                                     [key], {});\n",
              "          if (!dataTable) return;\n",
              "\n",
              "          const docLinkHtml = 'Like what you see? Visit the ' +\n",
              "            '<a target=\"_blank\" href=https://colab.research.google.com/notebooks/data_table.ipynb>data table notebook</a>'\n",
              "            + ' to learn more about interactive tables.';\n",
              "          element.innerHTML = '';\n",
              "          dataTable['output_type'] = 'display_data';\n",
              "          await google.colab.output.renderOutput(dataTable, element);\n",
              "          const docLink = document.createElement('div');\n",
              "          docLink.innerHTML = docLinkHtml;\n",
              "          element.appendChild(docLink);\n",
              "        }\n",
              "      </script>\n",
              "    </div>\n",
              "  </div>\n",
              "  "
            ]
          },
          "metadata": {},
          "execution_count": 80
        }
      ]
    },
    {
      "cell_type": "code",
      "source": [
        "interactions_full_df.shape"
      ],
      "metadata": {
        "id": "_DDDVI9mSFRZ",
        "outputId": "2cec91c5-2406-40b0-abdb-db0f2b0fd7dc",
        "colab": {
          "base_uri": "https://localhost:8080/"
        }
      },
      "execution_count": 81,
      "outputs": [
        {
          "output_type": "execute_result",
          "data": {
            "text/plain": [
              "(63541, 3)"
            ]
          },
          "metadata": {},
          "execution_count": 81
        }
      ]
    },
    {
      "cell_type": "code",
      "source": [
        "from sklearn.model_selection import train_test_split as sklearn_train_test_split"
      ],
      "metadata": {
        "id": "Oen7nyo8dQMY"
      },
      "execution_count": 82,
      "outputs": []
    },
    {
      "cell_type": "code",
      "source": [
        "interactions_train_df1, interactions_test_df1 = sklearn_train_test_split(interactions_full_df1, test_size=0.20, random_state=42)\n",
        "\n",
        "print('# interactions on Train set: %d' % len(interactions_train_df1))\n",
        "print('# interactions on Test set: %d' % len(interactions_test_df1))"
      ],
      "metadata": {
        "id": "SzJEVDvwWIfC",
        "outputId": "c604ef87-a0c6-474d-ed7f-8a5a418f482d",
        "colab": {
          "base_uri": "https://localhost:8080/"
        }
      },
      "execution_count": 113,
      "outputs": [
        {
          "output_type": "stream",
          "name": "stdout",
          "text": [
            "# interactions on Train set: 50582\n",
            "# interactions on Test set: 12646\n"
          ]
        }
      ]
    },
    {
      "cell_type": "code",
      "source": [
        "interactions_train_df, interactions_test_df = sklearn_train_test_split(interactions_full_df, test_size=0.20, random_state=42)\n",
        "\n",
        "print('# interactions on Train set: %d' % len(interactions_train_df))\n",
        "print('# interactions on Test set: %d' % len(interactions_test_df))"
      ],
      "metadata": {
        "id": "gAM4MTQkKJhl",
        "outputId": "8a34f803-83a5-48e5-deee-1aa52d8535b1",
        "colab": {
          "base_uri": "https://localhost:8080/"
        }
      },
      "execution_count": 83,
      "outputs": [
        {
          "output_type": "stream",
          "name": "stdout",
          "text": [
            "# interactions on Train set: 50832\n",
            "# interactions on Test set: 12709\n"
          ]
        }
      ]
    },
    {
      "cell_type": "code",
      "source": [
        "df_user_item_matrix1 = interactions_train_df1.pivot(index='Book-Title',columns='User-ID',values='Book-Rating').fillna(0)"
      ],
      "metadata": {
        "id": "LzkGNhwoWRAm"
      },
      "execution_count": 114,
      "outputs": []
    },
    {
      "cell_type": "code",
      "source": [
        "df_user_item_matrix = interactions_train_df.pivot(index='ISBN',columns='User-ID',values='Book-Rating').fillna(0)"
      ],
      "metadata": {
        "id": "zZ7DmPJcRAJV"
      },
      "execution_count": 84,
      "outputs": []
    },
    {
      "cell_type": "code",
      "source": [
        "user_item_matrix_sparse1 = csr_matrix(df_user_item_matrix1.values)"
      ],
      "metadata": {
        "id": "Za70k0GKgQxK"
      },
      "execution_count": 156,
      "outputs": []
    },
    {
      "cell_type": "code",
      "source": [
        "user_item_matrix_sparse = csr_matrix(df_user_item_matrix.values)"
      ],
      "metadata": {
        "id": "KiR0kpXsRmrq"
      },
      "execution_count": 85,
      "outputs": []
    },
    {
      "cell_type": "markdown",
      "source": [
        "##**KNN**"
      ],
      "metadata": {
        "id": "OmBXgCAyGrAB"
      }
    },
    {
      "cell_type": "code",
      "source": [
        "model = NearestNeighbors(n_neighbors=30, metric='cosine', algorithm='brute', n_jobs=-1)\n",
        " \n",
        "model.fit(user_item_matrix_sparse1)"
      ],
      "metadata": {
        "id": "CKNPLqcNgZ_b",
        "outputId": "a49a0a30-5c99-4bf8-f63b-8f3caf17109f",
        "colab": {
          "base_uri": "https://localhost:8080/"
        }
      },
      "execution_count": 157,
      "outputs": [
        {
          "output_type": "execute_result",
          "data": {
            "text/plain": [
              "NearestNeighbors(algorithm='brute', metric='cosine', n_jobs=-1, n_neighbors=30)"
            ]
          },
          "metadata": {},
          "execution_count": 157
        }
      ]
    },
    {
      "cell_type": "code",
      "source": [
        "query_index = np.random.choice(df_user_item_matrix1.shape[0])\n",
        "distances, indices = model.kneighbors(df_user_item_matrix1.iloc[query_index, :].values.reshape((1, -1)), n_neighbors = 6)\n",
        "\n",
        "for i in range(0, len(distances.flatten())):\n",
        "    if i == 0:\n",
        "        print('Recommendations for Book {0}:\\n'.format(df_user_item_matrix1.index[query_index]))\n",
        "    else:\n",
        "        print('{0}: {1}, with distance of {2}:'.format(i, df_user_item_matrix1.index[indices.flatten()[i]], distances.flatten()[i]))"
      ],
      "metadata": {
        "id": "ebo0oFAxgeGW",
        "outputId": "a13e6c49-a0a3-424a-d5d3-bff49dd12891",
        "colab": {
          "base_uri": "https://localhost:8080/"
        }
      },
      "execution_count": 170,
      "outputs": [
        {
          "output_type": "stream",
          "name": "stdout",
          "text": [
            "Recommendations for Book The Traveling Vampire Show:\n",
            "\n",
            "1: The Skies of Pern, with distance of 0.6258059345349716:\n",
            "2: Mount Dragon: A Novel, with distance of 0.7024797121924459:\n",
            "3: House Corrino (Dune: House Trilogy, Book 3), with distance of 0.7141955060539789:\n",
            "4: Living Dead in Dallas (Southern Vampire Mysteries), with distance of 0.7166801980802195:\n",
            "5: Dragonseye, with distance of 0.7189144364868274:\n"
          ]
        }
      ]
    },
    {
      "cell_type": "code",
      "source": [
        "model = NearestNeighbors(n_neighbors=30, metric='cosine', algorithm='brute', n_jobs=-1)\n",
        " \n",
        "model.fit(user_item_matrix_sparse)\n",
        "\n",
        "index_to_movie = dict()\n",
        " \n",
        "df_titles_movies = df.set_index('ISBN').loc[df_user_item_matrix.index]\n",
        " \n",
        "count = 0\n",
        " \n",
        "for index, row in df_titles_movies.iterrows():\n",
        " \n",
        "    index_to_movie[count]=row['Book-Title']\n",
        " \n",
        "    count +=1\n",
        " \n",
        " \n",
        "def recommender(model, user_item_matrix_sparse, df_movies, number_of_recommendations, movie_index):\n",
        " \n",
        "    main_title = index_to_movie[movie_index]\n",
        " \n",
        "    dist, ind = model.kneighbors(user_item_matrix_sparse[movie_index], n_neighbors=number_of_recommendations+1)\n",
        " \n",
        "    dist = dist[0].tolist()\n",
        " \n",
        "    ind = ind[0].tolist()\n",
        " \n",
        "    titles = []\n",
        " \n",
        "    for index in ind:\n",
        " \n",
        "        titles.append(index_to_movie[index])\n",
        " \n",
        "    recommendations = list(zip(titles,dist))    \n",
        " \n",
        "    # sort recommendations\n",
        "\n",
        "    recommendations_sorted = sorted(recommendations, key = lambda x:x[1])\n",
        " \n",
        "    # reverse recommendations, leaving out the first element \n",
        " \n",
        "    recommendations_sorted.reverse()\n",
        " \n",
        "    recommendations_sorted = recommendations_sorted[:-1]\n",
        " \n",
        "    print(\"Recommendations for movie {}: \".format(main_title))\n",
        " \n",
        "    count = 0\n",
        " \n",
        "    for (title, distance) in recommendations_sorted:\n",
        " \n",
        "        count += 1\n",
        " \n",
        "        print('{}. {}, recommendation score = {}'.format(count, title, round(distance,5)))\n",
        " \n",
        "recommender(model, user_item_matrix_sparse, df, 5, 10)"
      ],
      "metadata": {
        "id": "vf8T60pHRmlS",
        "outputId": "39748563-3548-4387-ae74-e97666c9e684",
        "colab": {
          "base_uri": "https://localhost:8080/"
        }
      },
      "execution_count": 172,
      "outputs": [
        {
          "output_type": "stream",
          "name": "stdout",
          "text": [
            "Recommendations for movie Before and After: \n",
            "1. One Hundred Years of Solitude, recommendation score = 0.79463\n",
            "2. Prince Caspian, recommendation score = 0.79303\n",
            "3. The Lone Ranger and Tonto Fistfight in Heaven, recommendation score = 0.75756\n",
            "4. Angels, recommendation score = 0.73545\n",
            "5. Soul Mountain, recommendation score = 0.71782\n"
          ]
        }
      ]
    },
    {
      "cell_type": "markdown",
      "source": [
        "## **SVD,SVDpp,NMF,Slope**"
      ],
      "metadata": {
        "id": "ScHaclLYLHNw"
      }
    },
    {
      "cell_type": "code",
      "source": [
        "interactions_full_df.head(1)"
      ],
      "metadata": {
        "id": "ogzkA1BydQPZ",
        "outputId": "c0546da3-c5d2-467b-afce-adb7a2fb85c3",
        "colab": {
          "base_uri": "https://localhost:8080/",
          "height": 81
        }
      },
      "execution_count": 89,
      "outputs": [
        {
          "output_type": "execute_result",
          "data": {
            "text/plain": [
              "   User-ID        ISBN  Book-Rating\n",
              "0      254  0060934700     3.321928"
            ],
            "text/html": [
              "\n",
              "  <div id=\"df-1c00c662-e8c7-4e12-adf4-a879b936e976\">\n",
              "    <div class=\"colab-df-container\">\n",
              "      <div>\n",
              "<style scoped>\n",
              "    .dataframe tbody tr th:only-of-type {\n",
              "        vertical-align: middle;\n",
              "    }\n",
              "\n",
              "    .dataframe tbody tr th {\n",
              "        vertical-align: top;\n",
              "    }\n",
              "\n",
              "    .dataframe thead th {\n",
              "        text-align: right;\n",
              "    }\n",
              "</style>\n",
              "<table border=\"1\" class=\"dataframe\">\n",
              "  <thead>\n",
              "    <tr style=\"text-align: right;\">\n",
              "      <th></th>\n",
              "      <th>User-ID</th>\n",
              "      <th>ISBN</th>\n",
              "      <th>Book-Rating</th>\n",
              "    </tr>\n",
              "  </thead>\n",
              "  <tbody>\n",
              "    <tr>\n",
              "      <th>0</th>\n",
              "      <td>254</td>\n",
              "      <td>0060934700</td>\n",
              "      <td>3.321928</td>\n",
              "    </tr>\n",
              "  </tbody>\n",
              "</table>\n",
              "</div>\n",
              "      <button class=\"colab-df-convert\" onclick=\"convertToInteractive('df-1c00c662-e8c7-4e12-adf4-a879b936e976')\"\n",
              "              title=\"Convert this dataframe to an interactive table.\"\n",
              "              style=\"display:none;\">\n",
              "        \n",
              "  <svg xmlns=\"http://www.w3.org/2000/svg\" height=\"24px\"viewBox=\"0 0 24 24\"\n",
              "       width=\"24px\">\n",
              "    <path d=\"M0 0h24v24H0V0z\" fill=\"none\"/>\n",
              "    <path d=\"M18.56 5.44l.94 2.06.94-2.06 2.06-.94-2.06-.94-.94-2.06-.94 2.06-2.06.94zm-11 1L8.5 8.5l.94-2.06 2.06-.94-2.06-.94L8.5 2.5l-.94 2.06-2.06.94zm10 10l.94 2.06.94-2.06 2.06-.94-2.06-.94-.94-2.06-.94 2.06-2.06.94z\"/><path d=\"M17.41 7.96l-1.37-1.37c-.4-.4-.92-.59-1.43-.59-.52 0-1.04.2-1.43.59L10.3 9.45l-7.72 7.72c-.78.78-.78 2.05 0 2.83L4 21.41c.39.39.9.59 1.41.59.51 0 1.02-.2 1.41-.59l7.78-7.78 2.81-2.81c.8-.78.8-2.07 0-2.86zM5.41 20L4 18.59l7.72-7.72 1.47 1.35L5.41 20z\"/>\n",
              "  </svg>\n",
              "      </button>\n",
              "      \n",
              "  <style>\n",
              "    .colab-df-container {\n",
              "      display:flex;\n",
              "      flex-wrap:wrap;\n",
              "      gap: 12px;\n",
              "    }\n",
              "\n",
              "    .colab-df-convert {\n",
              "      background-color: #E8F0FE;\n",
              "      border: none;\n",
              "      border-radius: 50%;\n",
              "      cursor: pointer;\n",
              "      display: none;\n",
              "      fill: #1967D2;\n",
              "      height: 32px;\n",
              "      padding: 0 0 0 0;\n",
              "      width: 32px;\n",
              "    }\n",
              "\n",
              "    .colab-df-convert:hover {\n",
              "      background-color: #E2EBFA;\n",
              "      box-shadow: 0px 1px 2px rgba(60, 64, 67, 0.3), 0px 1px 3px 1px rgba(60, 64, 67, 0.15);\n",
              "      fill: #174EA6;\n",
              "    }\n",
              "\n",
              "    [theme=dark] .colab-df-convert {\n",
              "      background-color: #3B4455;\n",
              "      fill: #D2E3FC;\n",
              "    }\n",
              "\n",
              "    [theme=dark] .colab-df-convert:hover {\n",
              "      background-color: #434B5C;\n",
              "      box-shadow: 0px 1px 3px 1px rgba(0, 0, 0, 0.15);\n",
              "      filter: drop-shadow(0px 1px 2px rgba(0, 0, 0, 0.3));\n",
              "      fill: #FFFFFF;\n",
              "    }\n",
              "  </style>\n",
              "\n",
              "      <script>\n",
              "        const buttonEl =\n",
              "          document.querySelector('#df-1c00c662-e8c7-4e12-adf4-a879b936e976 button.colab-df-convert');\n",
              "        buttonEl.style.display =\n",
              "          google.colab.kernel.accessAllowed ? 'block' : 'none';\n",
              "\n",
              "        async function convertToInteractive(key) {\n",
              "          const element = document.querySelector('#df-1c00c662-e8c7-4e12-adf4-a879b936e976');\n",
              "          const dataTable =\n",
              "            await google.colab.kernel.invokeFunction('convertToInteractive',\n",
              "                                                     [key], {});\n",
              "          if (!dataTable) return;\n",
              "\n",
              "          const docLinkHtml = 'Like what you see? Visit the ' +\n",
              "            '<a target=\"_blank\" href=https://colab.research.google.com/notebooks/data_table.ipynb>data table notebook</a>'\n",
              "            + ' to learn more about interactive tables.';\n",
              "          element.innerHTML = '';\n",
              "          dataTable['output_type'] = 'display_data';\n",
              "          await google.colab.output.renderOutput(dataTable, element);\n",
              "          const docLink = document.createElement('div');\n",
              "          docLink.innerHTML = docLinkHtml;\n",
              "          element.appendChild(docLink);\n",
              "        }\n",
              "      </script>\n",
              "    </div>\n",
              "  </div>\n",
              "  "
            ]
          },
          "metadata": {},
          "execution_count": 89
        }
      ]
    },
    {
      "cell_type": "code",
      "source": [
        "minimum_rating = min(interactions_full_df['Book-Rating'].values)\n",
        " \n",
        "maximum_rating = max(interactions_full_df['Book-Rating'].values)\n"
      ],
      "metadata": {
        "id": "WFREJPjdhVoh"
      },
      "execution_count": 90,
      "outputs": []
    },
    {
      "cell_type": "code",
      "source": [
        "reader = Reader(rating_scale=(minimum_rating,maximum_rating))\n",
        " \n",
        "data = Dataset.load_from_df(interactions_full_df[['User-ID', 'ISBN', 'Book-Rating']], reader) "
      ],
      "metadata": {
        "id": "O466YQvquo9h"
      },
      "execution_count": 91,
      "outputs": []
    },
    {
      "cell_type": "markdown",
      "source": [
        "**SVDpp**"
      ],
      "metadata": {
        "id": "m5S4ZVRALUAJ"
      }
    },
    {
      "cell_type": "code",
      "source": [
        "algo = SVDpp()\n",
        " \n",
        "algo.fit(data.build_full_trainset())"
      ],
      "metadata": {
        "id": "5k9kzV5hvzgB",
        "outputId": "02391eb0-4e38-4bcb-cfec-0ca70152b9e6",
        "colab": {
          "base_uri": "https://localhost:8080/"
        }
      },
      "execution_count": 92,
      "outputs": [
        {
          "output_type": "execute_result",
          "data": {
            "text/plain": [
              "<surprise.prediction_algorithms.matrix_factorization.SVDpp at 0x7f3c0a325310>"
            ]
          },
          "metadata": {},
          "execution_count": 92
        }
      ]
    },
    {
      "cell_type": "code",
      "source": [
        "interactions_full_df.head(1)"
      ],
      "metadata": {
        "id": "r3DNB4F3wqbP",
        "outputId": "a0acf89a-4f60-4f7c-80f9-84beecb6d6c6",
        "colab": {
          "base_uri": "https://localhost:8080/",
          "height": 81
        }
      },
      "execution_count": 93,
      "outputs": [
        {
          "output_type": "execute_result",
          "data": {
            "text/plain": [
              "   User-ID        ISBN  Book-Rating\n",
              "0      254  0060934700     3.321928"
            ],
            "text/html": [
              "\n",
              "  <div id=\"df-53aeedb1-34a1-44ed-9f28-a5da9cfcd46d\">\n",
              "    <div class=\"colab-df-container\">\n",
              "      <div>\n",
              "<style scoped>\n",
              "    .dataframe tbody tr th:only-of-type {\n",
              "        vertical-align: middle;\n",
              "    }\n",
              "\n",
              "    .dataframe tbody tr th {\n",
              "        vertical-align: top;\n",
              "    }\n",
              "\n",
              "    .dataframe thead th {\n",
              "        text-align: right;\n",
              "    }\n",
              "</style>\n",
              "<table border=\"1\" class=\"dataframe\">\n",
              "  <thead>\n",
              "    <tr style=\"text-align: right;\">\n",
              "      <th></th>\n",
              "      <th>User-ID</th>\n",
              "      <th>ISBN</th>\n",
              "      <th>Book-Rating</th>\n",
              "    </tr>\n",
              "  </thead>\n",
              "  <tbody>\n",
              "    <tr>\n",
              "      <th>0</th>\n",
              "      <td>254</td>\n",
              "      <td>0060934700</td>\n",
              "      <td>3.321928</td>\n",
              "    </tr>\n",
              "  </tbody>\n",
              "</table>\n",
              "</div>\n",
              "      <button class=\"colab-df-convert\" onclick=\"convertToInteractive('df-53aeedb1-34a1-44ed-9f28-a5da9cfcd46d')\"\n",
              "              title=\"Convert this dataframe to an interactive table.\"\n",
              "              style=\"display:none;\">\n",
              "        \n",
              "  <svg xmlns=\"http://www.w3.org/2000/svg\" height=\"24px\"viewBox=\"0 0 24 24\"\n",
              "       width=\"24px\">\n",
              "    <path d=\"M0 0h24v24H0V0z\" fill=\"none\"/>\n",
              "    <path d=\"M18.56 5.44l.94 2.06.94-2.06 2.06-.94-2.06-.94-.94-2.06-.94 2.06-2.06.94zm-11 1L8.5 8.5l.94-2.06 2.06-.94-2.06-.94L8.5 2.5l-.94 2.06-2.06.94zm10 10l.94 2.06.94-2.06 2.06-.94-2.06-.94-.94-2.06-.94 2.06-2.06.94z\"/><path d=\"M17.41 7.96l-1.37-1.37c-.4-.4-.92-.59-1.43-.59-.52 0-1.04.2-1.43.59L10.3 9.45l-7.72 7.72c-.78.78-.78 2.05 0 2.83L4 21.41c.39.39.9.59 1.41.59.51 0 1.02-.2 1.41-.59l7.78-7.78 2.81-2.81c.8-.78.8-2.07 0-2.86zM5.41 20L4 18.59l7.72-7.72 1.47 1.35L5.41 20z\"/>\n",
              "  </svg>\n",
              "      </button>\n",
              "      \n",
              "  <style>\n",
              "    .colab-df-container {\n",
              "      display:flex;\n",
              "      flex-wrap:wrap;\n",
              "      gap: 12px;\n",
              "    }\n",
              "\n",
              "    .colab-df-convert {\n",
              "      background-color: #E8F0FE;\n",
              "      border: none;\n",
              "      border-radius: 50%;\n",
              "      cursor: pointer;\n",
              "      display: none;\n",
              "      fill: #1967D2;\n",
              "      height: 32px;\n",
              "      padding: 0 0 0 0;\n",
              "      width: 32px;\n",
              "    }\n",
              "\n",
              "    .colab-df-convert:hover {\n",
              "      background-color: #E2EBFA;\n",
              "      box-shadow: 0px 1px 2px rgba(60, 64, 67, 0.3), 0px 1px 3px 1px rgba(60, 64, 67, 0.15);\n",
              "      fill: #174EA6;\n",
              "    }\n",
              "\n",
              "    [theme=dark] .colab-df-convert {\n",
              "      background-color: #3B4455;\n",
              "      fill: #D2E3FC;\n",
              "    }\n",
              "\n",
              "    [theme=dark] .colab-df-convert:hover {\n",
              "      background-color: #434B5C;\n",
              "      box-shadow: 0px 1px 3px 1px rgba(0, 0, 0, 0.15);\n",
              "      filter: drop-shadow(0px 1px 2px rgba(0, 0, 0, 0.3));\n",
              "      fill: #FFFFFF;\n",
              "    }\n",
              "  </style>\n",
              "\n",
              "      <script>\n",
              "        const buttonEl =\n",
              "          document.querySelector('#df-53aeedb1-34a1-44ed-9f28-a5da9cfcd46d button.colab-df-convert');\n",
              "        buttonEl.style.display =\n",
              "          google.colab.kernel.accessAllowed ? 'block' : 'none';\n",
              "\n",
              "        async function convertToInteractive(key) {\n",
              "          const element = document.querySelector('#df-53aeedb1-34a1-44ed-9f28-a5da9cfcd46d');\n",
              "          const dataTable =\n",
              "            await google.colab.kernel.invokeFunction('convertToInteractive',\n",
              "                                                     [key], {});\n",
              "          if (!dataTable) return;\n",
              "\n",
              "          const docLinkHtml = 'Like what you see? Visit the ' +\n",
              "            '<a target=\"_blank\" href=https://colab.research.google.com/notebooks/data_table.ipynb>data table notebook</a>'\n",
              "            + ' to learn more about interactive tables.';\n",
              "          element.innerHTML = '';\n",
              "          dataTable['output_type'] = 'display_data';\n",
              "          await google.colab.output.renderOutput(dataTable, element);\n",
              "          const docLink = document.createElement('div');\n",
              "          docLink.innerHTML = docLinkHtml;\n",
              "          element.appendChild(docLink);\n",
              "        }\n",
              "      </script>\n",
              "    </div>\n",
              "  </div>\n",
              "  "
            ]
          },
          "metadata": {},
          "execution_count": 93
        }
      ]
    },
    {
      "cell_type": "code",
      "source": [
        "user_id = '254'\n",
        "\n",
        "isbn = '0060934700'\n",
        "\n",
        "prediction = algo.predict(uid=user_id, iid=isbn)\n",
        "\n",
        "print(\"Predicted rating of user with id {} for movie with id {}: {}\".format(user_id, isbn, round(prediction.est,3)))"
      ],
      "metadata": {
        "id": "QyJ7WcvgvzV1",
        "outputId": "f6086447-cb66-440d-dd26-576bdd6b8135",
        "colab": {
          "base_uri": "https://localhost:8080/"
        }
      },
      "execution_count": 94,
      "outputs": [
        {
          "output_type": "stream",
          "name": "stdout",
          "text": [
            "Predicted rating of user with id 254 for movie with id 0060934700: 3.133\n"
          ]
        }
      ]
    },
    {
      "cell_type": "code",
      "source": [],
      "metadata": {
        "id": "8XatOj-oO7vi"
      },
      "execution_count": 94,
      "outputs": []
    },
    {
      "cell_type": "markdown",
      "source": [
        "Explicit Feedback Recommender Systems\n",
        "These are systems where the user gives explicit feedback, usually in the form of a numeric rating for each recommendation."
      ],
      "metadata": {
        "id": "USVITsS7dzCp"
      }
    },
    {
      "cell_type": "markdown",
      "source": [
        "Metrics used in Explicit Recommender Systems\n",
        "For such a system, the metrics used could be pretty simular to that used in a standard regression problem since the target is really a score that you could be predicting, and the actual score is available to measure how good the prediction is.\n",
        "\n",
        "Mean Absolute Error: Mean over all data points, absolute value of difference between actual rating and predicted rating.\n",
        "Root Mean Square Error: Square root of Mean over all data points, square of difference between the actual rating and predicted rating."
      ],
      "metadata": {
        "id": "20BoXybFdg--"
      }
    },
    {
      "cell_type": "markdown",
      "source": [
        "##**SVD**"
      ],
      "metadata": {
        "id": "_JsyRnc1Uoel"
      }
    },
    {
      "cell_type": "markdown",
      "source": [
        "###**Train Test Split And Model Building**"
      ],
      "metadata": {
        "id": "C1bUeR9jOwRU"
      }
    },
    {
      "cell_type": "code",
      "source": [
        "from surprise import accuracy, Dataset, SVD\n",
        "from surprise.model_selection import train_test_split"
      ],
      "metadata": {
        "id": "_1LzIbSrQUxU"
      },
      "execution_count": null,
      "outputs": []
    },
    {
      "cell_type": "code",
      "source": [
        "# test set is made of 25% of the ratings.\n",
        "trainset, testset = train_test_split(data, test_size=0.25)\n",
        "\n",
        "# We'll use the famous SVD algorithm\n",
        "algo = SVD()\n",
        "\n",
        "# Train the algorithm on the trainset, and predict ratings for the testset\n",
        "algo.fit(trainset)\n",
        "predictions = algo.test(testset)\n",
        "\n",
        "# Then compute RMSE\n",
        "accuracy.rmse(predictions)\n",
        "\n",
        "# Then compute MAE\n",
        "accuracy.mae(predictions)"
      ],
      "metadata": {
        "id": "Ngyl4hNZW9Nt",
        "outputId": "1c51b6b4-dd00-49a2-d9d6-d178881a8f35",
        "colab": {
          "base_uri": "https://localhost:8080/"
        }
      },
      "execution_count": 103,
      "outputs": [
        {
          "output_type": "stream",
          "name": "stdout",
          "text": [
            "RMSE: 0.3158\n",
            "MAE:  0.2226\n"
          ]
        },
        {
          "output_type": "execute_result",
          "data": {
            "text/plain": [
              "0.22260804799489287"
            ]
          },
          "metadata": {},
          "execution_count": 103
        }
      ]
    },
    {
      "cell_type": "code",
      "source": [
        "predictions"
      ],
      "metadata": {
        "id": "kv_qCs8tRAvw",
        "outputId": "1ebf702a-410c-4b7d-d3ff-c29f107b7807",
        "colab": {
          "base_uri": "https://localhost:8080/"
        }
      },
      "execution_count": 174,
      "outputs": [
        {
          "output_type": "execute_result",
          "data": {
            "text/plain": [
              "[Prediction(uid=209229, iid='0380798581', r_ui=3.1699250014423126, est=2.9362222520694994, details={'was_impossible': False}),\n",
              " Prediction(uid=177458, iid='0689824750', r_ui=3.0, est=2.990274253445264, details={'was_impossible': False}),\n",
              " Prediction(uid=107784, iid='0061042005', r_ui=2.584962500721156, est=2.632760931421508, details={'was_impossible': False}),\n",
              " Prediction(uid=73394, iid='0786868716', r_ui=3.4594316186372978, est=3.210659065901489, details={'was_impossible': False}),\n",
              " Prediction(uid=76151, iid='0671737627', r_ui=3.4594316186372978, est=3.324349655588768, details={'was_impossible': False}),\n",
              " Prediction(uid=189392, iid='0374525641', r_ui=3.3219280948873626, est=3.1607209023053207, details={'was_impossible': False}),\n",
              " Prediction(uid=184401, iid='0865471185', r_ui=3.4594316186372978, est=2.9081246869347166, details={'was_impossible': False}),\n",
              " Prediction(uid=84795, iid='0425191583', r_ui=3.4594316186372978, est=3.253802590836691, details={'was_impossible': False}),\n",
              " Prediction(uid=264321, iid='0345352661', r_ui=1.5849625007211563, est=2.83683256801179, details={'was_impossible': False}),\n",
              " Prediction(uid=252843, iid='1551666561', r_ui=2.584962500721156, est=2.8771917416525707, details={'was_impossible': False}),\n",
              " Prediction(uid=197659, iid='0380973820', r_ui=3.0, est=3.2196388078612252, details={'was_impossible': False}),\n",
              " Prediction(uid=35859, iid='0140374248', r_ui=3.4594316186372978, est=3.1641699906399574, details={'was_impossible': False}),\n",
              " Prediction(uid=234828, iid='0451191153', r_ui=3.3219280948873626, est=3.205151382916009, details={'was_impossible': False}),\n",
              " Prediction(uid=11245, iid='0671867156', r_ui=3.1699250014423126, est=3.01705183538784, details={'was_impossible': False}),\n",
              " Prediction(uid=184401, iid='0517122707', r_ui=3.0, est=3.0414914177471477, details={'was_impossible': False}),\n",
              " Prediction(uid=98391, iid='0399147284', r_ui=3.4594316186372978, est=3.3664669988871947, details={'was_impossible': False}),\n",
              " Prediction(uid=97754, iid='0374121230', r_ui=2.0, est=2.9117422594490017, details={'was_impossible': False}),\n",
              " Prediction(uid=227447, iid='0385335466', r_ui=3.4594316186372978, est=2.9014627654573526, details={'was_impossible': False}),\n",
              " Prediction(uid=41455, iid='0765341174', r_ui=2.807354922057604, est=3.0434801408342946, details={'was_impossible': False}),\n",
              " Prediction(uid=133296, iid='0671039903', r_ui=3.4594316186372978, est=3.11885651805771, details={'was_impossible': False}),\n",
              " Prediction(uid=271306, iid='0345444884', r_ui=3.4594316186372978, est=3.1144704117295503, details={'was_impossible': False}),\n",
              " Prediction(uid=265115, iid='0842314296', r_ui=3.0, est=3.212675210300822, details={'was_impossible': False}),\n",
              " Prediction(uid=201677, iid='0688170528', r_ui=3.0, est=3.2480313507369076, details={'was_impossible': False}),\n",
              " Prediction(uid=51803, iid='0345323440', r_ui=2.584962500721156, est=2.9306114998110107, details={'was_impossible': False}),\n",
              " Prediction(uid=166123, iid='0451180054', r_ui=2.584962500721156, est=3.229684578643763, details={'was_impossible': False}),\n",
              " Prediction(uid=266226, iid='038081093X', r_ui=1.0, est=3.175403557320265, details={'was_impossible': False}),\n",
              " Prediction(uid=133689, iid='0385335482', r_ui=3.1699250014423126, est=3.327689767345313, details={'was_impossible': False}),\n",
              " Prediction(uid=74056, iid='031298328X', r_ui=2.807354922057604, est=2.6962979149885333, details={'was_impossible': False}),\n",
              " Prediction(uid=248477, iid='0439139597', r_ui=3.3219280948873626, est=3.4236923491390914, details={'was_impossible': False}),\n",
              " Prediction(uid=166596, iid='0425147762', r_ui=3.3219280948873626, est=3.164501118594888, details={'was_impossible': False}),\n",
              " Prediction(uid=59172, iid='0316603287', r_ui=3.4594316186372978, est=3.1250813324218587, details={'was_impossible': False}),\n",
              " Prediction(uid=11676, iid='0140077022', r_ui=3.0, est=3.122025529425367, details={'was_impossible': False}),\n",
              " Prediction(uid=123883, iid='0515128554', r_ui=2.584962500721156, est=2.72407209763382, details={'was_impossible': False}),\n",
              " Prediction(uid=30276, iid='0515126772', r_ui=2.807354922057604, est=3.0899892712602384, details={'was_impossible': False}),\n",
              " Prediction(uid=240370, iid='0451191153', r_ui=3.3219280948873626, est=3.041680653712893, details={'was_impossible': False}),\n",
              " Prediction(uid=101851, iid='0517595338', r_ui=1.5849625007211563, est=3.2065533720261374, details={'was_impossible': False}),\n",
              " Prediction(uid=62966, iid='0385333412', r_ui=3.1699250014423126, est=3.0880742126357914, details={'was_impossible': False}),\n",
              " Prediction(uid=43910, iid='0684801523', r_ui=3.3219280948873626, est=2.8125068427995488, details={'was_impossible': False}),\n",
              " Prediction(uid=247447, iid='0671032992', r_ui=3.1699250014423126, est=3.2886102106926023, details={'was_impossible': False}),\n",
              " Prediction(uid=110934, iid='034540047X', r_ui=3.1699250014423126, est=3.15516638882853, details={'was_impossible': False}),\n",
              " Prediction(uid=217318, iid='0330352253', r_ui=2.584962500721156, est=2.7970305509346187, details={'was_impossible': False}),\n",
              " Prediction(uid=153662, iid='0345334310', r_ui=3.4594316186372978, est=3.386661068888477, details={'was_impossible': False}),\n",
              " Prediction(uid=78553, iid='0553294903', r_ui=3.4594316186372978, est=3.254767935631914, details={'was_impossible': False}),\n",
              " Prediction(uid=49212, iid='0689711816', r_ui=3.4594316186372978, est=3.0832754260768556, details={'was_impossible': False}),\n",
              " Prediction(uid=101876, iid='084233226X', r_ui=3.0, est=3.2288994349086257, details={'was_impossible': False}),\n",
              " Prediction(uid=61901, iid='0684846004', r_ui=3.3219280948873626, est=3.0830553612862763, details={'was_impossible': False}),\n",
              " Prediction(uid=22521, iid='0767914767', r_ui=3.1699250014423126, est=3.03279051881685, details={'was_impossible': False}),\n",
              " Prediction(uid=224249, iid='0671693816', r_ui=3.1699250014423126, est=2.8817297582471806, details={'was_impossible': False}),\n",
              " Prediction(uid=59059, iid='0812548094', r_ui=2.584962500721156, est=3.12487617854993, details={'was_impossible': False}),\n",
              " Prediction(uid=203764, iid='0446608890', r_ui=3.4594316186372978, est=3.2051694483345616, details={'was_impossible': False}),\n",
              " Prediction(uid=105058, iid='0451191145', r_ui=3.1699250014423126, est=3.060339379287464, details={'was_impossible': False}),\n",
              " Prediction(uid=41596, iid='0312950586', r_ui=3.1699250014423126, est=3.1129307436486906, details={'was_impossible': False}),\n",
              " Prediction(uid=98391, iid='0373250134', r_ui=3.3219280948873626, est=3.013022225076685, details={'was_impossible': False}),\n",
              " Prediction(uid=81597, iid='0446607193', r_ui=3.0, est=3.281822984141081, details={'was_impossible': False}),\n",
              " Prediction(uid=53456, iid='0449911519', r_ui=3.3219280948873626, est=3.2516987703620184, details={'was_impossible': False}),\n",
              " Prediction(uid=56399, iid='0345350499', r_ui=3.4594316186372978, est=3.4594316186372978, details={'was_impossible': False}),\n",
              " Prediction(uid=32773, iid='0671797050', r_ui=3.1699250014423126, est=3.346156024049719, details={'was_impossible': False}),\n",
              " Prediction(uid=171118, iid='0671510126', r_ui=3.1699250014423126, est=2.9608296525258, details={'was_impossible': False}),\n",
              " Prediction(uid=17950, iid='0380730138', r_ui=2.0, est=3.002544157219417, details={'was_impossible': False}),\n",
              " Prediction(uid=35857, iid='0375703055', r_ui=3.1699250014423126, est=3.050158538573334, details={'was_impossible': False}),\n",
              " Prediction(uid=123257, iid='0671027344', r_ui=3.4594316186372978, est=3.2877624747580754, details={'was_impossible': False}),\n",
              " Prediction(uid=232131, iid='059035342X', r_ui=3.1699250014423126, est=3.1591047938050476, details={'was_impossible': False}),\n",
              " Prediction(uid=167471, iid='1583224912', r_ui=3.4594316186372978, est=3.0968901728502076, details={'was_impossible': False}),\n",
              " Prediction(uid=250398, iid='0399150897', r_ui=3.0, est=2.9088885077014948, details={'was_impossible': False}),\n",
              " Prediction(uid=108773, iid='006019491X', r_ui=3.4594316186372978, est=3.1711420739467737, details={'was_impossible': False}),\n",
              " Prediction(uid=122429, iid='0345422783', r_ui=3.1699250014423126, est=3.017783540346536, details={'was_impossible': False}),\n",
              " Prediction(uid=78834, iid='0316769487', r_ui=3.4594316186372978, est=2.979381879384039, details={'was_impossible': False}),\n",
              " Prediction(uid=16795, iid='0446607207', r_ui=3.0, est=2.997056943075328, details={'was_impossible': False}),\n",
              " Prediction(uid=177090, iid='0312980140', r_ui=3.4594316186372978, est=3.3052431846842065, details={'was_impossible': False}),\n",
              " Prediction(uid=38273, iid='0836218221', r_ui=3.4594316186372978, est=3.140577151802849, details={'was_impossible': False}),\n",
              " Prediction(uid=44893, iid='0876850867', r_ui=3.1699250014423126, est=3.0356356393637793, details={'was_impossible': False}),\n",
              " Prediction(uid=28634, iid='0425178765', r_ui=3.3219280948873626, est=3.2166461721314468, details={'was_impossible': False}),\n",
              " Prediction(uid=240401, iid='0452264464', r_ui=3.1699250014423126, est=2.9667048288604843, details={'was_impossible': False}),\n",
              " Prediction(uid=225986, iid='0843951036', r_ui=3.3219280948873626, est=3.0985033042539394, details={'was_impossible': False}),\n",
              " Prediction(uid=270713, iid='0836220676', r_ui=3.1699250014423126, est=3.217619820162344, details={'was_impossible': False}),\n",
              " Prediction(uid=204864, iid='0375504907', r_ui=3.4594316186372978, est=3.3431181005900843, details={'was_impossible': False}),\n",
              " Prediction(uid=95903, iid='0553287303', r_ui=3.1699250014423126, est=3.100494478763222, details={'was_impossible': False}),\n",
              " Prediction(uid=213126, iid='0446675059', r_ui=3.0, est=3.091066860037296, details={'was_impossible': False}),\n",
              " Prediction(uid=187762, iid='0671042858', r_ui=2.584962500721156, est=3.0541170144280616, details={'was_impossible': False}),\n",
              " Prediction(uid=5476, iid='034540761X', r_ui=3.0, est=2.903205196039988, details={'was_impossible': False}),\n",
              " Prediction(uid=137589, iid='0440213525', r_ui=3.0, est=3.19556577198682, details={'was_impossible': False}),\n",
              " Prediction(uid=246247, iid='0553351397', r_ui=3.4594316186372978, est=3.1739553873765542, details={'was_impossible': False}),\n",
              " Prediction(uid=68984, iid='0842329293', r_ui=3.1699250014423126, est=2.8530896710019293, details={'was_impossible': False}),\n",
              " Prediction(uid=140662, iid='0380782340', r_ui=3.1699250014423126, est=3.2019412633900166, details={'was_impossible': False}),\n",
              " Prediction(uid=4017, iid='068480087X', r_ui=3.4594316186372978, est=3.27214361994609, details={'was_impossible': False}),\n",
              " Prediction(uid=123094, iid='0679774386', r_ui=3.3219280948873626, est=3.2540551926842687, details={'was_impossible': False}),\n",
              " Prediction(uid=115537, iid='0380018179', r_ui=3.4594316186372978, est=3.1372470456679014, details={'was_impossible': False}),\n",
              " Prediction(uid=57255, iid='0440202507', r_ui=2.584962500721156, est=3.1065321852783283, details={'was_impossible': False}),\n",
              " Prediction(uid=11676, iid='0373218400', r_ui=2.584962500721156, est=3.0571675400164597, details={'was_impossible': False}),\n",
              " Prediction(uid=21618, iid='0380730200', r_ui=2.807354922057604, est=3.1118538728354954, details={'was_impossible': False}),\n",
              " Prediction(uid=268110, iid='0374480095', r_ui=3.4594316186372978, est=2.971903810641504, details={'was_impossible': False}),\n",
              " Prediction(uid=158433, iid='0440221471', r_ui=3.1699250014423126, est=3.095268332574575, details={'was_impossible': False}),\n",
              " Prediction(uid=78973, iid='042518630X', r_ui=3.0, est=2.8912757775272673, details={'was_impossible': False}),\n",
              " Prediction(uid=197659, iid='0553569058', r_ui=3.0, est=3.2243122721887416, details={'was_impossible': False}),\n",
              " Prediction(uid=233711, iid='0312187459', r_ui=3.4594316186372978, est=3.0580982194784907, details={'was_impossible': False}),\n",
              " Prediction(uid=243065, iid='0312195516', r_ui=3.3219280948873626, est=3.0602827017177043, details={'was_impossible': False}),\n",
              " Prediction(uid=23511, iid='0440221471', r_ui=3.4594316186372978, est=3.377435023930823, details={'was_impossible': False}),\n",
              " Prediction(uid=242083, iid='0842329218', r_ui=2.0, est=3.092846632619771, details={'was_impossible': False}),\n",
              " Prediction(uid=7958, iid='080411109X', r_ui=3.3219280948873626, est=3.2982089701129653, details={'was_impossible': False}),\n",
              " Prediction(uid=261105, iid='068484477X', r_ui=2.807354922057604, est=3.187414384544976, details={'was_impossible': False}),\n",
              " Prediction(uid=110267, iid='0399145885', r_ui=3.1699250014423126, est=3.142283056997281, details={'was_impossible': False}),\n",
              " Prediction(uid=86408, iid='0440194784', r_ui=3.1699250014423126, est=3.2297066712912756, details={'was_impossible': False}),\n",
              " Prediction(uid=210485, iid='0440445450', r_ui=3.1699250014423126, est=3.0402195762067463, details={'was_impossible': False}),\n",
              " Prediction(uid=143968, iid='0375704027', r_ui=3.1699250014423126, est=3.269768024307227, details={'was_impossible': False}),\n",
              " Prediction(uid=168245, iid='0380814803', r_ui=3.3219280948873626, est=3.103976080877312, details={'was_impossible': False}),\n",
              " Prediction(uid=268030, iid='0385722206', r_ui=3.3219280948873626, est=3.184065442070055, details={'was_impossible': False}),\n",
              " Prediction(uid=74758, iid='0312974256', r_ui=3.4594316186372978, est=3.4594316186372978, details={'was_impossible': False}),\n",
              " Prediction(uid=171118, iid='0515087947', r_ui=2.807354922057604, est=2.9613522597107402, details={'was_impossible': False}),\n",
              " Prediction(uid=251613, iid='0451160525', r_ui=3.0, est=3.203885642676222, details={'was_impossible': False}),\n",
              " Prediction(uid=137588, iid='051513290X', r_ui=3.0, est=2.9101752002231813, details={'was_impossible': False}),\n",
              " Prediction(uid=190923, iid='0553250426', r_ui=3.4594316186372978, est=3.1653132186957627, details={'was_impossible': False}),\n",
              " Prediction(uid=217375, iid='0142003727', r_ui=3.1699250014423126, est=3.0178599969591895, details={'was_impossible': False}),\n",
              " Prediction(uid=265487, iid='0446673560', r_ui=2.321928094887362, est=2.999416980519998, details={'was_impossible': False}),\n",
              " Prediction(uid=124747, iid='0142000663', r_ui=3.4594316186372978, est=3.34008729197873, details={'was_impossible': False}),\n",
              " Prediction(uid=45557, iid='080411109X', r_ui=3.1699250014423126, est=3.0190075523678654, details={'was_impossible': False}),\n",
              " Prediction(uid=192119, iid='0671027360', r_ui=3.3219280948873626, est=3.0584330117618492, details={'was_impossible': False}),\n",
              " Prediction(uid=152186, iid='042511774X', r_ui=2.584962500721156, est=3.0500115722827754, details={'was_impossible': False}),\n",
              " Prediction(uid=46398, iid='1558743669', r_ui=2.584962500721156, est=3.0417181935146353, details={'was_impossible': False}),\n",
              " Prediction(uid=33179, iid='0553277472', r_ui=3.4594316186372978, est=2.933705595273396, details={'was_impossible': False}),\n",
              " Prediction(uid=84882, iid='0451190556', r_ui=3.3219280948873626, est=3.1147856873211284, details={'was_impossible': False}),\n",
              " Prediction(uid=76942, iid='0440224624', r_ui=3.0, est=2.971760394753123, details={'was_impossible': False}),\n",
              " Prediction(uid=134797, iid='0449149676', r_ui=3.4594316186372978, est=3.105327540551028, details={'was_impossible': False}),\n",
              " Prediction(uid=23768, iid='0670032379', r_ui=3.3219280948873626, est=3.090402361143175, details={'was_impossible': False}),\n",
              " Prediction(uid=199416, iid='0060391626', r_ui=3.4594316186372978, est=2.917205970641108, details={'was_impossible': False}),\n",
              " Prediction(uid=208406, iid='0880381736', r_ui=3.3219280948873626, est=3.1777673149183454, details={'was_impossible': False}),\n",
              " Prediction(uid=38273, iid='0380726262', r_ui=2.584962500721156, est=2.886277702789726, details={'was_impossible': False}),\n",
              " Prediction(uid=110483, iid='0345253736', r_ui=3.3219280948873626, est=3.2591031523351743, details={'was_impossible': False}),\n",
              " Prediction(uid=274004, iid='0440220602', r_ui=3.1699250014423126, est=3.090685471145015, details={'was_impossible': False}),\n",
              " Prediction(uid=156269, iid='0380725827', r_ui=2.807354922057604, est=2.942955823082455, details={'was_impossible': False}),\n",
              " Prediction(uid=83637, iid='044651862X', r_ui=3.0, est=3.226714336732282, details={'was_impossible': False}),\n",
              " Prediction(uid=44893, iid='0446675059', r_ui=3.1699250014423126, est=3.186077104208888, details={'was_impossible': False}),\n",
              " Prediction(uid=80810, iid='0515135739', r_ui=3.3219280948873626, est=3.099944027169975, details={'was_impossible': False}),\n",
              " Prediction(uid=55490, iid='0446342963', r_ui=3.4594316186372978, est=3.165008592826262, details={'was_impossible': False}),\n",
              " Prediction(uid=135045, iid='0312966091', r_ui=3.3219280948873626, est=3.2861713392292904, details={'was_impossible': False}),\n",
              " Prediction(uid=114544, iid='0440226430', r_ui=3.1699250014423126, est=3.0577625664565162, details={'was_impossible': False}),\n",
              " Prediction(uid=273979, iid='0842329129', r_ui=3.0, est=3.226450564938864, details={'was_impossible': False}),\n",
              " Prediction(uid=75591, iid='0385479565', r_ui=3.1699250014423126, est=3.3299661496734587, details={'was_impossible': False}),\n",
              " Prediction(uid=190708, iid='0061098361', r_ui=3.1699250014423126, est=3.2117645227143, details={'was_impossible': False}),\n",
              " Prediction(uid=68156, iid='1401088945', r_ui=1.5849625007211563, est=3.01838234373151, details={'was_impossible': False}),\n",
              " Prediction(uid=20201, iid='0812548094', r_ui=3.4594316186372978, est=3.3297441236672882, details={'was_impossible': False}),\n",
              " Prediction(uid=36606, iid='0060248025', r_ui=3.4594316186372978, est=3.1929792936845196, details={'was_impossible': False}),\n",
              " Prediction(uid=206219, iid='0743418220', r_ui=3.0, est=2.8996434732973153, details={'was_impossible': False}),\n",
              " Prediction(uid=102967, iid='0446610399', r_ui=3.4594316186372978, est=2.818163434959465, details={'was_impossible': False}),\n",
              " Prediction(uid=25981, iid='0440225825', r_ui=2.584962500721156, est=2.8857815690121713, details={'was_impossible': False}),\n",
              " Prediction(uid=153662, iid='0440495962', r_ui=3.4594316186372978, est=3.284759616002059, details={'was_impossible': False}),\n",
              " Prediction(uid=75081, iid='0316735027', r_ui=3.4594316186372978, est=3.301674450723831, details={'was_impossible': False}),\n",
              " Prediction(uid=188273, iid='0375700757', r_ui=3.4594316186372978, est=3.229913487646659, details={'was_impossible': False}),\n",
              " Prediction(uid=9747, iid='1551665301', r_ui=3.1699250014423126, est=3.152407045134933, details={'was_impossible': False}),\n",
              " Prediction(uid=250962, iid='0385336179', r_ui=3.4594316186372978, est=3.2799881844470447, details={'was_impossible': False}),\n",
              " Prediction(uid=210485, iid='0887307876', r_ui=3.1699250014423126, est=3.113093197278068, details={'was_impossible': False}),\n",
              " Prediction(uid=194358, iid='0425184129', r_ui=3.1699250014423126, est=3.154343102253532, details={'was_impossible': False}),\n",
              " Prediction(uid=179718, iid='0440200989', r_ui=3.4594316186372978, est=3.2630322133987133, details={'was_impossible': False}),\n",
              " Prediction(uid=62891, iid='0060922532', r_ui=3.1699250014423126, est=2.982248139837687, details={'was_impossible': False}),\n",
              " Prediction(uid=78448, iid='0671729411', r_ui=3.3219280948873626, est=3.136941214012973, details={'was_impossible': False}),\n",
              " Prediction(uid=193499, iid='0345423429', r_ui=3.1699250014423126, est=3.154848890701493, details={'was_impossible': False}),\n",
              " Prediction(uid=185176, iid='0439139597', r_ui=3.3219280948873626, est=3.35894364399865, details={'was_impossible': False}),\n",
              " Prediction(uid=11676, iid='0515131091', r_ui=3.1699250014423126, est=3.073896353282807, details={'was_impossible': False}),\n",
              " Prediction(uid=133571, iid='0345337662', r_ui=3.1699250014423126, est=3.028817914223041, details={'was_impossible': False}),\n",
              " Prediction(uid=98391, iid='0671042505', r_ui=3.1699250014423126, est=3.2674676281501296, details={'was_impossible': False}),\n",
              " Prediction(uid=84795, iid='0316602906', r_ui=3.0, est=3.134852915866471, details={'was_impossible': False}),\n",
              " Prediction(uid=114988, iid='0451166892', r_ui=3.0, est=3.1226682740905747, details={'was_impossible': False}),\n",
              " Prediction(uid=161041, iid='0156439611', r_ui=3.3219280948873626, est=3.1421231370605036, details={'was_impossible': False}),\n",
              " Prediction(uid=76352, iid='1558743316', r_ui=3.3219280948873626, est=3.221726561392668, details={'was_impossible': False}),\n",
              " Prediction(uid=277427, iid='0679736042', r_ui=2.584962500721156, est=3.12517994042431, details={'was_impossible': False}),\n",
              " Prediction(uid=274061, iid='0812570944', r_ui=3.3219280948873626, est=3.4594316186372978, details={'was_impossible': False}),\n",
              " Prediction(uid=101851, iid='0517577402', r_ui=2.807354922057604, est=3.158065531886249, details={'was_impossible': False}),\n",
              " Prediction(uid=36256, iid='0894805770', r_ui=3.1699250014423126, est=3.2870854071801014, details={'was_impossible': False}),\n",
              " Prediction(uid=268300, iid='067173590X', r_ui=3.4594316186372978, est=3.1922889955759484, details={'was_impossible': False}),\n",
              " Prediction(uid=244171, iid='0740704818', r_ui=3.0, est=3.293776099337431, details={'was_impossible': False}),\n",
              " Prediction(uid=98391, iid='155166884X', r_ui=3.3219280948873626, est=3.391213825485078, details={'was_impossible': False}),\n",
              " Prediction(uid=250925, iid='0142002267', r_ui=3.4594316186372978, est=3.383067951929991, details={'was_impossible': False}),\n",
              " Prediction(uid=253871, iid='0743418174', r_ui=3.4594316186372978, est=3.4594316186372978, details={'was_impossible': False}),\n",
              " Prediction(uid=232945, iid='0425147584', r_ui=3.3219280948873626, est=2.97382033092591, details={'was_impossible': False}),\n",
              " Prediction(uid=146803, iid='067945960X', r_ui=3.0, est=2.9678701613633334, details={'was_impossible': False}),\n",
              " Prediction(uid=213150, iid='0312983298', r_ui=2.584962500721156, est=2.8057732715241124, details={'was_impossible': False}),\n",
              " Prediction(uid=26620, iid='0671001795', r_ui=3.0, est=3.12957714803531, details={'was_impossible': False}),\n",
              " Prediction(uid=32627, iid='1401088945', r_ui=2.0, est=3.0371967515512845, details={'was_impossible': False}),\n",
              " Prediction(uid=270801, iid='0553348981', r_ui=3.4594316186372978, est=3.2176964994485058, details={'was_impossible': False}),\n",
              " Prediction(uid=224430, iid='0064472272', r_ui=2.807354922057604, est=3.1556686850287705, details={'was_impossible': False}),\n",
              " Prediction(uid=260388, iid='0060931418', r_ui=3.1699250014423126, est=3.1438266888804005, details={'was_impossible': False}),\n",
              " Prediction(uid=215988, iid='0060977744', r_ui=2.584962500721156, est=2.6984675728113516, details={'was_impossible': False}),\n",
              " Prediction(uid=11676, iid='0316154601', r_ui=3.1699250014423126, est=3.1162627322125234, details={'was_impossible': False}),\n",
              " Prediction(uid=163804, iid='0345388771', r_ui=3.0, est=3.0668697921681423, details={'was_impossible': False}),\n",
              " Prediction(uid=25409, iid='0439139597', r_ui=3.4594316186372978, est=3.368440692830238, details={'was_impossible': False}),\n",
              " Prediction(uid=77940, iid='1551666758', r_ui=3.0, est=3.1213440279719906, details={'was_impossible': False}),\n",
              " Prediction(uid=194287, iid='0345351525', r_ui=3.1699250014423126, est=3.1235865684034394, details={'was_impossible': False}),\n",
              " Prediction(uid=198046, iid='0345447409', r_ui=3.3219280948873626, est=2.8205555899239854, details={'was_impossible': False}),\n",
              " Prediction(uid=11676, iid='0440200563', r_ui=3.3219280948873626, est=3.0028816373717016, details={'was_impossible': False}),\n",
              " Prediction(uid=85993, iid='0440224764', r_ui=3.4594316186372978, est=3.4594316186372978, details={'was_impossible': False}),\n",
              " Prediction(uid=16634, iid='0441010512', r_ui=3.0, est=3.097505313985397, details={'was_impossible': False}),\n",
              " Prediction(uid=91832, iid='0671727796', r_ui=3.4594316186372978, est=3.0702061006254304, details={'was_impossible': False}),\n",
              " Prediction(uid=30445, iid='014034294X', r_ui=3.4594316186372978, est=3.11511443511075, details={'was_impossible': False}),\n",
              " Prediction(uid=153662, iid='0684862719', r_ui=3.3219280948873626, est=3.359883117258048, details={'was_impossible': False}),\n",
              " Prediction(uid=254465, iid='0446364193', r_ui=3.4594316186372978, est=3.417151874829351, details={'was_impossible': False}),\n",
              " Prediction(uid=270820, iid='0425107469', r_ui=3.4594316186372978, est=3.2918746322916235, details={'was_impossible': False}),\n",
              " Prediction(uid=11676, iid='0385301499', r_ui=3.3219280948873626, est=3.125541657187893, details={'was_impossible': False}),\n",
              " Prediction(uid=11676, iid='0440204429', r_ui=2.584962500721156, est=3.15245863094668, details={'was_impossible': False}),\n",
              " Prediction(uid=179288, iid='0385182449', r_ui=3.0, est=3.1877638865225615, details={'was_impossible': False}),\n",
              " Prediction(uid=229741, iid='0553279378', r_ui=3.1699250014423126, est=3.0841025053023574, details={'was_impossible': False}),\n",
              " Prediction(uid=191720, iid='3442452643', r_ui=3.0, est=3.1522235244727415, details={'was_impossible': False}),\n",
              " Prediction(uid=77940, iid='0671034057', r_ui=3.0, est=3.155230478819828, details={'was_impossible': False}),\n",
              " Prediction(uid=159506, iid='034540288X', r_ui=2.807354922057604, est=3.292962050620466, details={'was_impossible': False}),\n",
              " Prediction(uid=139742, iid='0440224624', r_ui=3.1699250014423126, est=2.9206667584274095, details={'was_impossible': False}),\n",
              " Prediction(uid=264321, iid='0345416880', r_ui=3.0, est=2.891259480724445, details={'was_impossible': False}),\n",
              " Prediction(uid=165308, iid='1573229571', r_ui=3.3219280948873626, est=3.2303638230801055, details={'was_impossible': False}),\n",
              " Prediction(uid=76530, iid='0743202988', r_ui=2.584962500721156, est=3.112797174062765, details={'was_impossible': False}),\n",
              " Prediction(uid=124310, iid='0553584383', r_ui=3.0, est=3.1859952683467636, details={'was_impossible': False}),\n",
              " Prediction(uid=17950, iid='0688116752', r_ui=3.0, est=3.2169265537800094, details={'was_impossible': False}),\n",
              " Prediction(uid=76019, iid='0345369335', r_ui=3.1699250014423126, est=3.3097956406291695, details={'was_impossible': False}),\n",
              " Prediction(uid=50849, iid='0804109729', r_ui=3.3219280948873626, est=3.210223511784206, details={'was_impossible': False}),\n",
              " Prediction(uid=70183, iid='0440215439', r_ui=3.1699250014423126, est=3.101635023796322, details={'was_impossible': False}),\n",
              " Prediction(uid=224646, iid='1861976127', r_ui=3.3219280948873626, est=3.0785460225157744, details={'was_impossible': False}),\n",
              " Prediction(uid=95359, iid='0345409469', r_ui=2.807354922057604, est=3.144952349112007, details={'was_impossible': False}),\n",
              " Prediction(uid=59172, iid='0440224837', r_ui=3.4594316186372978, est=3.2789107827694783, details={'was_impossible': False}),\n",
              " Prediction(uid=125692, iid='1551668459', r_ui=3.1699250014423126, est=3.017505131608975, details={'was_impossible': False}),\n",
              " Prediction(uid=113435, iid='0446359750', r_ui=3.1699250014423126, est=3.113792158760059, details={'was_impossible': False}),\n",
              " Prediction(uid=169663, iid='0385722206', r_ui=3.0, est=3.0000836592313758, details={'was_impossible': False}),\n",
              " Prediction(uid=98391, iid='0743457951', r_ui=3.1699250014423126, est=3.230390484823436, details={'was_impossible': False}),\n",
              " Prediction(uid=161041, iid='0156787334', r_ui=3.0, est=3.0160946578734427, details={'was_impossible': False}),\n",
              " Prediction(uid=210485, iid='0380759489', r_ui=2.807354922057604, est=3.07640501764314, details={'was_impossible': False}),\n",
              " Prediction(uid=251164, iid='0316089699', r_ui=3.0, est=3.1630353815752446, details={'was_impossible': False}),\n",
              " Prediction(uid=187145, iid='0525947647', r_ui=3.1699250014423126, est=3.305064422200674, details={'was_impossible': False}),\n",
              " Prediction(uid=106007, iid='0553583468', r_ui=3.1699250014423126, est=3.200750864388009, details={'was_impossible': False}),\n",
              " Prediction(uid=159858, iid='0553576623', r_ui=3.0, est=3.042089095950675, details={'was_impossible': False}),\n",
              " Prediction(uid=167471, iid='0385486804', r_ui=3.1699250014423126, est=3.3644605814485793, details={'was_impossible': False}),\n",
              " Prediction(uid=251843, iid='0553801309', r_ui=3.4594316186372978, est=3.096073698384034, details={'was_impossible': False}),\n",
              " Prediction(uid=8019, iid='0440178002', r_ui=3.3219280948873626, est=3.076993159692968, details={'was_impossible': False}),\n",
              " Prediction(uid=8454, iid='0060987561', r_ui=2.807354922057604, est=3.348772098728156, details={'was_impossible': False}),\n",
              " Prediction(uid=146113, iid='0312195516', r_ui=3.0, est=3.323085744878684, details={'was_impossible': False}),\n",
              " Prediction(uid=81298, iid='0446394521', r_ui=3.0, est=2.7252430676218427, details={'was_impossible': False}),\n",
              " Prediction(uid=191014, iid='0553272535', r_ui=3.3219280948873626, est=3.1993580425646253, details={'was_impossible': False}),\n",
              " Prediction(uid=201969, iid='044661162X', r_ui=3.1699250014423126, est=2.6782238981448856, details={'was_impossible': False}),\n",
              " Prediction(uid=101876, iid='0061092614', r_ui=3.3219280948873626, est=3.2446698706423813, details={'was_impossible': False}),\n",
              " Prediction(uid=11676, iid='0316316962', r_ui=3.1699250014423126, est=3.07773628290231, details={'was_impossible': False}),\n",
              " Prediction(uid=11676, iid='0425183971', r_ui=3.1699250014423126, est=3.1120062494398932, details={'was_impossible': False}),\n",
              " Prediction(uid=259260, iid='0553574663', r_ui=3.3219280948873626, est=3.165306792252302, details={'was_impossible': False}),\n",
              " Prediction(uid=173415, iid='0679410325', r_ui=3.4594316186372978, est=3.23693479696043, details={'was_impossible': False}),\n",
              " Prediction(uid=259118, iid='0441005241', r_ui=3.3219280948873626, est=3.097744635176091, details={'was_impossible': False}),\n",
              " Prediction(uid=169682, iid='0439136369', r_ui=3.4594316186372978, est=3.0719363272028137, details={'was_impossible': False}),\n",
              " Prediction(uid=101517, iid='0812551486', r_ui=2.584962500721156, est=3.064226084159001, details={'was_impossible': False}),\n",
              " Prediction(uid=11676, iid='0804115613', r_ui=3.1699250014423126, est=3.1555109314475707, details={'was_impossible': False}),\n",
              " Prediction(uid=263877, iid='0061013315', r_ui=3.1699250014423126, est=2.927942098564907, details={'was_impossible': False}),\n",
              " Prediction(uid=123257, iid='0439064864', r_ui=3.4594316186372978, est=3.3592148264385946, details={'was_impossible': False}),\n",
              " Prediction(uid=99347, iid='0743456866', r_ui=3.4594316186372978, est=3.192477848572997, details={'was_impossible': False}),\n",
              " Prediction(uid=144318, iid='0451149513', r_ui=3.1699250014423126, est=3.2274109844807755, details={'was_impossible': False}),\n",
              " Prediction(uid=57449, iid='3257228007', r_ui=3.0, est=3.405063570225253, details={'was_impossible': False}),\n",
              " Prediction(uid=172742, iid='0380730847', r_ui=3.1699250014423126, est=3.1812361437908363, details={'was_impossible': False}),\n",
              " Prediction(uid=11676, iid='0684859300', r_ui=3.3219280948873626, est=3.182629682520302, details={'was_impossible': False}),\n",
              " Prediction(uid=11676, iid='0786866020', r_ui=3.0, est=3.0780820871617554, details={'was_impossible': False}),\n",
              " Prediction(uid=275922, iid='0786868716', r_ui=3.3219280948873626, est=3.339963963914059, details={'was_impossible': False}),\n",
              " Prediction(uid=226205, iid='0425191729', r_ui=3.0, est=2.9435284525234584, details={'was_impossible': False}),\n",
              " Prediction(uid=278188, iid='044022103X', r_ui=3.1699250014423126, est=3.0613795734102762, details={'was_impossible': False}),\n",
              " Prediction(uid=73588, iid='0425140032', r_ui=2.584962500721156, est=2.7591857812056184, details={'was_impossible': False}),\n",
              " Prediction(uid=142524, iid='0312263120', r_ui=3.0, est=3.193974362047781, details={'was_impossible': False}),\n",
              " Prediction(uid=243236, iid='0679764925', r_ui=2.807354922057604, est=3.042740333009937, details={'was_impossible': False}),\n",
              " Prediction(uid=76151, iid='0515108030', r_ui=3.4594316186372978, est=3.17211428761565, details={'was_impossible': False}),\n",
              " Prediction(uid=247129, iid='0553580221', r_ui=3.1699250014423126, est=3.0506705048619738, details={'was_impossible': False}),\n",
              " Prediction(uid=35836, iid='0316969680', r_ui=1.5849625007211563, est=2.329534457643286, details={'was_impossible': False}),\n",
              " Prediction(uid=251164, iid='0375400117', r_ui=3.1699250014423126, est=3.2479614558189107, details={'was_impossible': False}),\n",
              " Prediction(uid=106225, iid='0553210793', r_ui=3.1699250014423126, est=3.061713688281626, details={'was_impossible': False}),\n",
              " Prediction(uid=259901, iid='0440975344', r_ui=3.0, est=3.2722926873918983, details={'was_impossible': False}),\n",
              " Prediction(uid=271448, iid='038533334X', r_ui=2.807354922057604, est=2.9475588354192452, details={'was_impossible': False}),\n",
              " Prediction(uid=55075, iid='0316779423', r_ui=3.0, est=3.0415287548553636, details={'was_impossible': False}),\n",
              " Prediction(uid=184299, iid='0618002227', r_ui=3.4594316186372978, est=3.1717281178948307, details={'was_impossible': False}),\n",
              " Prediction(uid=158295, iid='0679412956', r_ui=3.1699250014423126, est=3.0080884358862696, details={'was_impossible': False}),\n",
              " Prediction(uid=122716, iid='0312924585', r_ui=3.0, est=3.454179311624589, details={'was_impossible': False}),\n",
              " Prediction(uid=95991, iid='0061092614', r_ui=3.1699250014423126, est=3.1689087562179994, details={'was_impossible': False}),\n",
              " Prediction(uid=11601, iid='0553274325', r_ui=3.4594316186372978, est=3.1963353574850895, details={'was_impossible': False}),\n",
              " Prediction(uid=64946, iid='0812522397', r_ui=2.584962500721156, est=3.0967217515419456, details={'was_impossible': False}),\n",
              " Prediction(uid=11676, iid='0553278398', r_ui=3.3219280948873626, est=3.158890719511843, details={'was_impossible': False}),\n",
              " Prediction(uid=189139, iid='0345378490', r_ui=2.807354922057604, est=2.962234583882183, details={'was_impossible': False}),\n",
              " Prediction(uid=244349, iid='0451190556', r_ui=3.4594316186372978, est=3.420193580585789, details={'was_impossible': False}),\n",
              " Prediction(uid=73394, iid='0740723367', r_ui=3.4594316186372978, est=3.0818588552560624, details={'was_impossible': False}),\n",
              " Prediction(uid=184465, iid='0553573861', r_ui=2.807354922057604, est=3.1031576746557796, details={'was_impossible': False}),\n",
              " Prediction(uid=91002, iid='0553106643', r_ui=3.3219280948873626, est=3.2554207883288226, details={'was_impossible': False}),\n",
              " Prediction(uid=25981, iid='0440236673', r_ui=2.584962500721156, est=2.763311578938608, details={'was_impossible': False}),\n",
              " Prediction(uid=129716, iid='0679732764', r_ui=3.4594316186372978, est=3.4104616729165813, details={'was_impossible': False}),\n",
              " Prediction(uid=129074, iid='0380798581', r_ui=3.1699250014423126, est=3.056459404748281, details={'was_impossible': False}),\n",
              " Prediction(uid=240144, iid='0671532642', r_ui=3.4594316186372978, est=3.0955063825227236, details={'was_impossible': False}),\n",
              " Prediction(uid=55438, iid='0916441822', r_ui=3.4594316186372978, est=3.379280530665482, details={'was_impossible': False}),\n",
              " Prediction(uid=153662, iid='0743437128', r_ui=3.4594316186372978, est=3.3790911402403383, details={'was_impossible': False}),\n",
              " Prediction(uid=209160, iid='014038572X', r_ui=3.3219280948873626, est=3.005389440945802, details={'was_impossible': False}),\n",
              " Prediction(uid=39467, iid='8495618605', r_ui=2.0, est=3.145440928513959, details={'was_impossible': False}),\n",
              " Prediction(uid=258534, iid='0312990456', r_ui=3.4594316186372978, est=3.3754456541992215, details={'was_impossible': False}),\n",
              " Prediction(uid=250925, iid='0345378482', r_ui=3.1699250014423126, est=3.1367794659732358, details={'was_impossible': False}),\n",
              " Prediction(uid=234828, iid='0345333926', r_ui=3.1699250014423126, est=3.1483404715059615, details={'was_impossible': False}),\n",
              " Prediction(uid=40889, iid='0440220602', r_ui=3.1699250014423126, est=3.100468565350032, details={'was_impossible': False}),\n",
              " Prediction(uid=101851, iid='0440406498', r_ui=3.4594316186372978, est=3.405949955831848, details={'was_impossible': False}),\n",
              " Prediction(uid=236340, iid='0425169863', r_ui=3.3219280948873626, est=3.292924743013357, details={'was_impossible': False}),\n",
              " Prediction(uid=109901, iid='0140177388', r_ui=3.1699250014423126, est=3.184145348740299, details={'was_impossible': False}),\n",
              " Prediction(uid=30735, iid='0140390464', r_ui=3.1699250014423126, est=3.17941872219596, details={'was_impossible': False}),\n",
              " Prediction(uid=75591, iid='0802130208', r_ui=3.4594316186372978, est=2.9733330224087466, details={'was_impossible': False}),\n",
              " Prediction(uid=138995, iid='0812548094', r_ui=3.4594316186372978, est=3.2538284431448425, details={'was_impossible': False}),\n",
              " Prediction(uid=245645, iid='0440202043', r_ui=3.4594316186372978, est=3.375942179015178, details={'was_impossible': False}),\n",
              " Prediction(uid=126604, iid='0449005615', r_ui=3.4594316186372978, est=3.037239461913192, details={'was_impossible': False}),\n",
              " Prediction(uid=50895, iid='0446609617', r_ui=2.807354922057604, est=3.1196245848691535, details={'was_impossible': False}),\n",
              " Prediction(uid=38556, iid='1573225541', r_ui=2.584962500721156, est=2.7933943808331376, details={'was_impossible': False}),\n",
              " Prediction(uid=264311, iid='0060519134', r_ui=3.0, est=2.923524487671626, details={'was_impossible': False}),\n",
              " Prediction(uid=20180, iid='0743417682', r_ui=3.1699250014423126, est=3.114576696980811, details={'was_impossible': False}),\n",
              " Prediction(uid=197364, iid='0451523385', r_ui=3.4594316186372978, est=3.0614145995233217, details={'was_impossible': False}),\n",
              " Prediction(uid=270713, iid='039592720X', r_ui=3.3219280948873626, est=3.2227819520315633, details={'was_impossible': False}),\n",
              " Prediction(uid=132173, iid='0451188489', r_ui=2.584962500721156, est=3.0307203777988745, details={'was_impossible': False}),\n",
              " Prediction(uid=123883, iid='0515099511', r_ui=2.584962500721156, est=2.4706247661041663, details={'was_impossible': False}),\n",
              " Prediction(uid=49900, iid='0671871005', r_ui=3.1699250014423126, est=2.9911232483013994, details={'was_impossible': False}),\n",
              " Prediction(uid=276463, iid='0345339711', r_ui=3.4594316186372978, est=3.4594316186372978, details={'was_impossible': False}),\n",
              " Prediction(uid=208406, iid='0894803204', r_ui=3.3219280948873626, est=3.1560513924247293, details={'was_impossible': False}),\n",
              " Prediction(uid=28177, iid='1558743669', r_ui=3.3219280948873626, est=3.128148272962325, details={'was_impossible': False}),\n",
              " Prediction(uid=156150, iid='0399143947', r_ui=3.3219280948873626, est=3.2351786107954634, details={'was_impossible': False}),\n",
              " Prediction(uid=221948, iid='0452277337', r_ui=2.807354922057604, est=3.097623389405125, details={'was_impossible': False}),\n",
              " Prediction(uid=195694, iid='0064471055', r_ui=3.0, est=3.4594316186372978, details={'was_impossible': False}),\n",
              " Prediction(uid=25409, iid='0425192725', r_ui=3.4594316186372978, est=3.164641191691135, details={'was_impossible': False}),\n",
              " Prediction(uid=206959, iid='0440403278', r_ui=3.1699250014423126, est=3.2587988664093426, details={'was_impossible': False}),\n",
              " Prediction(uid=201783, iid='0385424728', r_ui=3.3219280948873626, est=2.89202060681355, details={'was_impossible': False}),\n",
              " Prediction(uid=252848, iid='0394580567', r_ui=3.1699250014423126, est=3.1220379370366445, details={'was_impossible': False}),\n",
              " Prediction(uid=228681, iid='0373484909', r_ui=2.321928094887362, est=2.937823414049754, details={'was_impossible': False}),\n",
              " Prediction(uid=32773, iid='0140481346', r_ui=2.0, est=2.9577223316420502, details={'was_impossible': False}),\n",
              " Prediction(uid=207499, iid='0385424736', r_ui=2.807354922057604, est=2.7255967428936896, details={'was_impossible': False}),\n",
              " Prediction(uid=198726, iid='0688163173', r_ui=3.4594316186372978, est=3.2461025062198052, details={'was_impossible': False}),\n",
              " Prediction(uid=204813, iid='0375726349', r_ui=3.1699250014423126, est=3.137830681611341, details={'was_impossible': False}),\n",
              " Prediction(uid=154469, iid='0451181379', r_ui=3.4594316186372978, est=3.2939785126568135, details={'was_impossible': False}),\n",
              " Prediction(uid=76626, iid='0060934719', r_ui=3.3219280948873626, est=3.0812026280438367, details={'was_impossible': False}),\n",
              " Prediction(uid=28634, iid='0743439740', r_ui=3.4594316186372978, est=3.365065273018869, details={'was_impossible': False}),\n",
              " Prediction(uid=31315, iid='0345469674', r_ui=3.4594316186372978, est=3.269335521504823, details={'was_impossible': False}),\n",
              " Prediction(uid=29526, iid='0767907809', r_ui=3.3219280948873626, est=3.312530141669835, details={'was_impossible': False}),\n",
              " Prediction(uid=29209, iid='0743237196', r_ui=3.0, est=2.91871883389344, details={'was_impossible': False}),\n",
              " Prediction(uid=104657, iid='0553573136', r_ui=3.3219280948873626, est=3.081572468982721, details={'was_impossible': False}),\n",
              " Prediction(uid=64436, iid='0971263906', r_ui=3.1699250014423126, est=3.076165907919432, details={'was_impossible': False}),\n",
              " Prediction(uid=31826, iid='0425104346', r_ui=3.4594316186372978, est=3.4088763656370658, details={'was_impossible': False}),\n",
              " Prediction(uid=69156, iid='0553280341', r_ui=3.0, est=2.919485590698138, details={'was_impossible': False}),\n",
              " Prediction(uid=210485, iid='155874262X', r_ui=3.3219280948873626, est=2.982067681962287, details={'was_impossible': False}),\n",
              " Prediction(uid=97754, iid='0446670111', r_ui=2.584962500721156, est=3.1029850209650065, details={'was_impossible': False}),\n",
              " Prediction(uid=65258, iid='038079439X', r_ui=3.1699250014423126, est=3.260536719790278, details={'was_impossible': False}),\n",
              " Prediction(uid=215988, iid='0679751521', r_ui=2.584962500721156, est=2.7569786081247636, details={'was_impossible': False}),\n",
              " Prediction(uid=76151, iid='051511992X', r_ui=3.4594316186372978, est=3.2824732018244904, details={'was_impossible': False}),\n",
              " Prediction(uid=131855, iid='000716226X', r_ui=2.321928094887362, est=2.921319380520924, details={'was_impossible': False}),\n",
              " Prediction(uid=189835, iid='0440400759', r_ui=2.584962500721156, est=2.7009653785728727, details={'was_impossible': False}),\n",
              " Prediction(uid=76151, iid='0671744216', r_ui=3.4594316186372978, est=3.2873959906276964, details={'was_impossible': False}),\n",
              " Prediction(uid=119858, iid='0671876015', r_ui=3.3219280948873626, est=3.2926979132567276, details={'was_impossible': False}),\n",
              " Prediction(uid=209875, iid='0066214122', r_ui=3.3219280948873626, est=3.0620776750330774, details={'was_impossible': False}),\n",
              " Prediction(uid=208829, iid='0449911446', r_ui=3.1699250014423126, est=3.282166008319979, details={'was_impossible': False}),\n",
              " Prediction(uid=70666, iid='034539092X', r_ui=3.0, est=2.90660697501955, details={'was_impossible': False}),\n",
              " Prediction(uid=234828, iid='0452266564', r_ui=3.3219280948873626, est=3.089830259859286, details={'was_impossible': False}),\n",
              " Prediction(uid=254465, iid='0373790481', r_ui=3.4594316186372978, est=3.3094082761972183, details={'was_impossible': False}),\n",
              " Prediction(uid=136205, iid='0316782505', r_ui=3.1699250014423126, est=3.221609102972063, details={'was_impossible': False}),\n",
              " Prediction(uid=113944, iid='0440472431', r_ui=2.584962500721156, est=2.985083390882231, details={'was_impossible': False}),\n",
              " Prediction(uid=16996, iid='0385323638', r_ui=3.1699250014423126, est=3.1280734844462286, details={'was_impossible': False}),\n",
              " Prediction(uid=193898, iid='0425152898', r_ui=3.3219280948873626, est=2.961346857204229, details={'was_impossible': False}),\n",
              " Prediction(uid=8019, iid='0440220602', r_ui=3.0, est=3.2319628131516396, details={'was_impossible': False}),\n",
              " Prediction(uid=36135, iid='067088300X', r_ui=3.4594316186372978, est=3.0025602405483376, details={'was_impossible': False}),\n",
              " Prediction(uid=105979, iid='0375500510', r_ui=3.0, est=3.1065227870594287, details={'was_impossible': False}),\n",
              " Prediction(uid=141493, iid='0671886665', r_ui=3.1699250014423126, est=3.198871722745074, details={'was_impossible': False}),\n",
              " Prediction(uid=115572, iid='0439136350', r_ui=3.3219280948873626, est=3.424700626305157, details={'was_impossible': False}),\n",
              " Prediction(uid=236340, iid='0446364193', r_ui=3.1699250014423126, est=3.3412474208964875, details={'was_impossible': False}),\n",
              " Prediction(uid=177072, iid='0142000361', r_ui=3.1699250014423126, est=3.2651336078909936, details={'was_impossible': False}),\n",
              " Prediction(uid=142745, iid='0836213319', r_ui=3.4594316186372978, est=3.102968975713055, details={'was_impossible': False}),\n",
              " Prediction(uid=158433, iid='0061044636', r_ui=2.584962500721156, est=3.0211401561047304, details={'was_impossible': False}),\n",
              " Prediction(uid=270713, iid='0345335287', r_ui=3.0, est=3.1566920144753325, details={'was_impossible': False}),\n",
              " Prediction(uid=271176, iid='0345295684', r_ui=3.4594316186372978, est=3.295706813756622, details={'was_impossible': False}),\n",
              " Prediction(uid=115692, iid='0399146008', r_ui=3.1699250014423126, est=2.858400701416285, details={'was_impossible': False}),\n",
              " Prediction(uid=2110, iid='0060987529', r_ui=3.0, est=3.2800291130272754, details={'was_impossible': False}),\n",
              " Prediction(uid=134434, iid='0440224675', r_ui=3.1699250014423126, est=2.5954528359214875, details={'was_impossible': False}),\n",
              " Prediction(uid=151589, iid='0330294911', r_ui=3.1699250014423126, est=2.980397036345037, details={'was_impossible': False}),\n",
              " Prediction(uid=153662, iid='1878448900', r_ui=3.3219280948873626, est=3.3965372011919515, details={'was_impossible': False}),\n",
              " Prediction(uid=36327, iid='0020427859', r_ui=3.1699250014423126, est=3.2357959546684185, details={'was_impossible': False}),\n",
              " Prediction(uid=216444, iid='1861976127', r_ui=3.4594316186372978, est=3.1252892484747172, details={'was_impossible': False}),\n",
              " Prediction(uid=187762, iid='0671739441', r_ui=3.3219280948873626, est=3.1475364220811057, details={'was_impossible': False}),\n",
              " Prediction(uid=240756, iid='0373218036', r_ui=2.584962500721156, est=3.0538645452621833, details={'was_impossible': False}),\n",
              " Prediction(uid=69211, iid='0312985207', r_ui=3.3219280948873626, est=3.197306030416137, details={'was_impossible': False}),\n",
              " Prediction(uid=177458, iid='0812589041', r_ui=3.0, est=2.9091261516651996, details={'was_impossible': False}),\n",
              " Prediction(uid=188027, iid='0399149325', r_ui=3.3219280948873626, est=2.768513671908975, details={'was_impossible': False}),\n",
              " Prediction(uid=156150, iid='0380723638', r_ui=3.0, est=3.238371201456969, details={'was_impossible': False}),\n",
              " Prediction(uid=150896, iid='0385424728', r_ui=3.0, est=3.3366551048460082, details={'was_impossible': False}),\n",
              " Prediction(uid=92979, iid='0060915544', r_ui=3.1699250014423126, est=2.913591692733802, details={'was_impossible': False}),\n",
              " Prediction(uid=109901, iid='0451188462', r_ui=3.3219280948873626, est=3.4104985537285866, details={'was_impossible': False}),\n",
              " Prediction(uid=135376, iid='0345435273', r_ui=3.4594316186372978, est=3.3893352434435555, details={'was_impossible': False}),\n",
              " Prediction(uid=228681, iid='0345422805', r_ui=3.4594316186372978, est=3.0908768097747017, details={'was_impossible': False}),\n",
              " Prediction(uid=251613, iid='0679442588', r_ui=3.1699250014423126, est=3.196784766578023, details={'was_impossible': False}),\n",
              " Prediction(uid=205943, iid='0156904365', r_ui=3.3219280948873626, est=3.237725212104169, details={'was_impossible': False}),\n",
              " Prediction(uid=127233, iid='0425083837', r_ui=2.807354922057604, est=3.3243796049090064, details={'was_impossible': False}),\n",
              " Prediction(uid=12982, iid='0449225151', r_ui=3.1699250014423126, est=3.3012552924926095, details={'was_impossible': False}),\n",
              " Prediction(uid=274301, iid='0425175405', r_ui=3.0, est=3.1961032528212314, details={'was_impossible': False}),\n",
              " Prediction(uid=54622, iid='0446364193', r_ui=3.3219280948873626, est=2.978535558690287, details={'was_impossible': False}),\n",
              " Prediction(uid=107865, iid='0553106341', r_ui=3.4594316186372978, est=3.0895904930317495, details={'was_impossible': False}),\n",
              " Prediction(uid=143964, iid='0842329250', r_ui=3.1699250014423126, est=3.275610830749818, details={'was_impossible': False}),\n",
              " Prediction(uid=141710, iid='0312144075', r_ui=3.3219280948873626, est=3.255033679773127, details={'was_impossible': False}),\n",
              " Prediction(uid=225087, iid='0670844527', r_ui=3.0, est=3.2506641848148985, details={'was_impossible': False}),\n",
              " Prediction(uid=102702, iid='0440214041', r_ui=3.1699250014423126, est=3.322077287928944, details={'was_impossible': False}),\n",
              " Prediction(uid=201674, iid='0525943749', r_ui=3.1699250014423126, est=3.081746915277464, details={'was_impossible': False}),\n",
              " Prediction(uid=162639, iid='0345447832', r_ui=3.3219280948873626, est=3.2814623906729063, details={'was_impossible': False}),\n",
              " Prediction(uid=276165, iid='037542217X', r_ui=3.4594316186372978, est=3.440834481529356, details={'was_impossible': False}),\n",
              " Prediction(uid=127233, iid='0385511612', r_ui=2.584962500721156, est=2.681359851226837, details={'was_impossible': False}),\n",
              " Prediction(uid=201674, iid='0312980140', r_ui=3.3219280948873626, est=3.3544862515449747, details={'was_impossible': False}),\n",
              " Prediction(uid=59770, iid='0312264372', r_ui=2.584962500721156, est=2.9053815566455956, details={'was_impossible': False}),\n",
              " Prediction(uid=95991, iid='0449221512', r_ui=3.0, est=2.9052701312300186, details={'was_impossible': False}),\n",
              " Prediction(uid=206534, iid='0345323750', r_ui=3.4594316186372978, est=3.205804402510664, details={'was_impossible': False}),\n",
              " Prediction(uid=223156, iid='044021145X', r_ui=3.4594316186372978, est=3.2448857769590136, details={'was_impossible': False}),\n",
              " Prediction(uid=166825, iid='038072118X', r_ui=3.1699250014423126, est=2.999183504076339, details={'was_impossible': False}),\n",
              " Prediction(uid=50073, iid='0140298479', r_ui=3.0, est=3.286742819995854, details={'was_impossible': False}),\n",
              " Prediction(uid=241980, iid='0786014245', r_ui=3.1699250014423126, est=3.2322537690500894, details={'was_impossible': False}),\n",
              " Prediction(uid=229551, iid='0385507593', r_ui=3.1699250014423126, est=3.0813758836505483, details={'was_impossible': False}),\n",
              " Prediction(uid=266840, iid='0886773520', r_ui=3.0, est=3.024218315136576, details={'was_impossible': False}),\n",
              " Prediction(uid=177458, iid='0812509234', r_ui=3.1699250014423126, est=2.977028346624056, details={'was_impossible': False}),\n",
              " Prediction(uid=83637, iid='0439064864', r_ui=3.3219280948873626, est=3.166028897369994, details={'was_impossible': False}),\n",
              " Prediction(uid=268300, iid='0451202538', r_ui=3.1699250014423126, est=3.0343314318740653, details={'was_impossible': False}),\n",
              " Prediction(uid=203799, iid='0671880608', r_ui=3.3219280948873626, est=3.17370583954981, details={'was_impossible': False}),\n",
              " Prediction(uid=4017, iid='0385486804', r_ui=3.4594316186372978, est=3.368384376383918, details={'was_impossible': False}),\n",
              " Prediction(uid=223087, iid='1573229385', r_ui=1.0, est=2.8735083224809044, details={'was_impossible': False}),\n",
              " Prediction(uid=109901, iid='0451170385', r_ui=3.3219280948873626, est=3.386538207632303, details={'was_impossible': False}),\n",
              " Prediction(uid=55892, iid='0380978415', r_ui=3.3219280948873626, est=3.44271826315985, details={'was_impossible': False}),\n",
              " Prediction(uid=80538, iid='014017737X', r_ui=3.3219280948873626, est=3.1827618364933628, details={'was_impossible': False}),\n",
              " Prediction(uid=264152, iid='0836204158', r_ui=3.4594316186372978, est=3.079856246218829, details={'was_impossible': False}),\n",
              " Prediction(uid=148744, iid='0060934417', r_ui=3.1699250014423126, est=3.285540298954758, details={'was_impossible': False}),\n",
              " Prediction(uid=78973, iid='0671867091', r_ui=3.1699250014423126, est=3.248552818548495, details={'was_impossible': False}),\n",
              " Prediction(uid=277427, iid='0743457943', r_ui=3.1699250014423126, est=3.1310637220700253, details={'was_impossible': False}),\n",
              " Prediction(uid=11676, iid='0060085452', r_ui=3.0, est=3.0872581244571378, details={'was_impossible': False}),\n",
              " Prediction(uid=201684, iid='0553213148', r_ui=3.3219280948873626, est=3.157358106030777, details={'was_impossible': False}),\n",
              " Prediction(uid=225595, iid='0515122491', r_ui=2.807354922057604, est=3.0977953027736858, details={'was_impossible': False}),\n",
              " Prediction(uid=250368, iid='0312195516', r_ui=3.3219280948873626, est=2.9502796783833887, details={'was_impossible': False}),\n",
              " Prediction(uid=87964, iid='0525946233', r_ui=2.584962500721156, est=3.1113686919804806, details={'was_impossible': False}),\n",
              " Prediction(uid=98391, iid='0525947752', r_ui=3.3219280948873626, est=3.2734470897413117, details={'was_impossible': False}),\n",
              " Prediction(uid=59971, iid='0316776963', r_ui=3.0, est=3.2299301687127335, details={'was_impossible': False}),\n",
              " Prediction(uid=146113, iid='0553560247', r_ui=3.3219280948873626, est=2.8799181428964182, details={'was_impossible': False}),\n",
              " Prediction(uid=85433, iid='3442439736', r_ui=3.1699250014423126, est=3.252079200620051, details={'was_impossible': False}),\n",
              " Prediction(uid=225595, iid='0385480016', r_ui=3.4594316186372978, est=3.332267995463003, details={'was_impossible': False}),\n",
              " Prediction(uid=93629, iid='0440479002', r_ui=3.1699250014423126, est=2.8845972811941167, details={'was_impossible': False}),\n",
              " Prediction(uid=140000, iid='051513306X', r_ui=3.0, est=3.112622169232328, details={'was_impossible': False}),\n",
              " Prediction(uid=227705, iid='0425174271', r_ui=3.0, est=3.1670314925178076, details={'was_impossible': False}),\n",
              " Prediction(uid=185233, iid='043935806X', r_ui=3.4594316186372978, est=2.7683651062884547, details={'was_impossible': False}),\n",
              " Prediction(uid=70666, iid='0061094129', r_ui=2.584962500721156, est=2.8390717897491435, details={'was_impossible': False}),\n",
              " Prediction(uid=266865, iid='044651862X', r_ui=3.3219280948873626, est=3.2652484861820934, details={'was_impossible': False}),\n",
              " Prediction(uid=140069, iid='0553562738', r_ui=3.0, est=3.04328717063577, details={'was_impossible': False}),\n",
              " Prediction(uid=187574, iid='0451205626', r_ui=3.0, est=3.1057937638827777, details={'was_impossible': False}),\n",
              " Prediction(uid=82497, iid='055329170X', r_ui=3.0, est=3.059951072145164, details={'was_impossible': False}),\n",
              " Prediction(uid=222296, iid='0452282829', r_ui=2.807354922057604, est=3.044939510326781, details={'was_impossible': False}),\n",
              " Prediction(uid=80555, iid='0765345048', r_ui=3.4594316186372978, est=3.3634872767923047, details={'was_impossible': False}),\n",
              " Prediction(uid=250962, iid='0440221919', r_ui=3.1699250014423126, est=3.031864461562172, details={'was_impossible': False}),\n",
              " Prediction(uid=210485, iid='0375760393', r_ui=2.584962500721156, est=3.12486786006556, details={'was_impossible': False}),\n",
              " Prediction(uid=166123, iid='0886774829', r_ui=3.3219280948873626, est=3.2159676125172973, details={'was_impossible': False}),\n",
              " Prediction(uid=48494, iid='0440241073', r_ui=3.3219280948873626, est=3.1682817862923205, details={'was_impossible': False}),\n",
              " Prediction(uid=60707, iid='0671683993', r_ui=2.807354922057604, est=3.1725207490701837, details={'was_impossible': False}),\n",
              " Prediction(uid=37950, iid='155874262X', r_ui=2.807354922057604, est=3.0302553707607256, details={'was_impossible': False}),\n",
              " Prediction(uid=107326, iid='1563890119', r_ui=3.3219280948873626, est=3.289650414585298, details={'was_impossible': False}),\n",
              " Prediction(uid=128693, iid='0140280464', r_ui=3.3219280948873626, est=2.933553566147902, details={'was_impossible': False}),\n",
              " Prediction(uid=227702, iid='0452282829', r_ui=2.807354922057604, est=2.970638501578888, details={'was_impossible': False}),\n",
              " Prediction(uid=31826, iid='0671014919', r_ui=3.4594316186372978, est=3.269215469643207, details={'was_impossible': False}),\n",
              " Prediction(uid=173415, iid='0743418204', r_ui=3.1699250014423126, est=3.3629569936882255, details={'was_impossible': False}),\n",
              " Prediction(uid=144531, iid='0061097101', r_ui=3.0, est=3.1702345651296184, details={'was_impossible': False}),\n",
              " Prediction(uid=189115, iid='0679732241', r_ui=2.0, est=3.0363581430764017, details={'was_impossible': False}),\n",
              " Prediction(uid=79215, iid='0156528207', r_ui=3.4594316186372978, est=3.1913013655224827, details={'was_impossible': False}),\n",
              " Prediction(uid=212797, iid='0451184963', r_ui=3.3219280948873626, est=3.2663247361327974, details={'was_impossible': False}),\n",
              " Prediction(uid=271144, iid='0312169787', r_ui=3.1699250014423126, est=3.041801489825238, details={'was_impossible': False}),\n",
              " Prediction(uid=208671, iid='0842329277', r_ui=3.1699250014423126, est=3.088449085638005, details={'was_impossible': False}),\n",
              " Prediction(uid=246513, iid='0440193613', r_ui=3.3219280948873626, est=3.1978305871123123, details={'was_impossible': False}),\n",
              " Prediction(uid=40330, iid='0375725784', r_ui=3.3219280948873626, est=3.104995905665492, details={'was_impossible': False}),\n",
              " Prediction(uid=123257, iid='067164257X', r_ui=3.1699250014423126, est=3.122835976494405, details={'was_impossible': False}),\n",
              " Prediction(uid=177458, iid='0441304834', r_ui=3.0, est=3.1584423105464756, details={'was_impossible': False}),\n",
              " Prediction(uid=69933, iid='0446606383', r_ui=3.3219280948873626, est=3.3517992700639034, details={'was_impossible': False}),\n",
              " Prediction(uid=60263, iid='0345342968', r_ui=3.3219280948873626, est=3.289068482212843, details={'was_impossible': False}),\n",
              " Prediction(uid=58961, iid='0380752859', r_ui=3.1699250014423126, est=3.0974527818956594, details={'was_impossible': False}),\n",
              " Prediction(uid=137118, iid='0553106643', r_ui=2.584962500721156, est=2.9720260306474087, details={'was_impossible': False}),\n",
              " Prediction(uid=140080, iid='3442444365', r_ui=3.3219280948873626, est=3.105261280743116, details={'was_impossible': False}),\n",
              " Prediction(uid=141710, iid='0385492081', r_ui=3.1699250014423126, est=3.1804575959188837, details={'was_impossible': False}),\n",
              " Prediction(uid=254206, iid='0679401385', r_ui=3.3219280948873626, est=3.264557285640873, details={'was_impossible': False}),\n",
              " Prediction(uid=45557, iid='0804106304', r_ui=3.3219280948873626, est=3.137838775381138, details={'was_impossible': False}),\n",
              " Prediction(uid=232959, iid='0060934425', r_ui=2.807354922057604, est=3.130522318486244, details={'was_impossible': False}),\n",
              " Prediction(uid=120598, iid='0425162443', r_ui=3.3219280948873626, est=3.192797139942773, details={'was_impossible': False}),\n",
              " Prediction(uid=182085, iid='0671034057', r_ui=3.4594316186372978, est=3.386883708095328, details={'was_impossible': False}),\n",
              " Prediction(uid=6543, iid='0380780860', r_ui=2.807354922057604, est=3.094712958011747, details={'was_impossible': False}),\n",
              " Prediction(uid=263163, iid='0394551907', r_ui=2.584962500721156, est=3.2642290852539753, details={'was_impossible': False}),\n",
              " Prediction(uid=88793, iid='0553382411', r_ui=3.1699250014423126, est=3.10344173228008, details={'was_impossible': False}),\n",
              " Prediction(uid=130474, iid='039914840X', r_ui=3.4594316186372978, est=3.235079305722831, details={'was_impossible': False}),\n",
              " Prediction(uid=231081, iid='0439139597', r_ui=3.4594316186372978, est=3.2996907167003604, details={'was_impossible': False}),\n",
              " Prediction(uid=126492, iid='0064408647', r_ui=3.1699250014423126, est=3.0908981232637798, details={'was_impossible': False}),\n",
              " Prediction(uid=264321, iid='0515131091', r_ui=2.584962500721156, est=2.8661326583070754, details={'was_impossible': False}),\n",
              " Prediction(uid=235105, iid='0345386825', r_ui=2.807354922057604, est=2.909573447120587, details={'was_impossible': False}),\n",
              " Prediction(uid=163570, iid='0425104338', r_ui=3.3219280948873626, est=3.3308630286875633, details={'was_impossible': False}),\n",
              " Prediction(uid=208829, iid='0688174035', r_ui=3.3219280948873626, est=3.1781801084866816, details={'was_impossible': False}),\n",
              " Prediction(uid=123981, iid='0440202043', r_ui=3.1699250014423126, est=3.239682187315565, details={'was_impossible': False}),\n",
              " Prediction(uid=124874, iid='0670865796', r_ui=3.1699250014423126, est=3.223852355142518, details={'was_impossible': False}),\n",
              " Prediction(uid=32802, iid='0671787454', r_ui=3.4594316186372978, est=3.106696419982178, details={'was_impossible': False}),\n",
              " Prediction(uid=160681, iid='0140092323', r_ui=3.3219280948873626, est=3.171893438774543, details={'was_impossible': False}),\n",
              " Prediction(uid=266283, iid='0385301499', r_ui=3.3219280948873626, est=3.1191686643382996, details={'was_impossible': False}),\n",
              " Prediction(uid=116005, iid='0061059056', r_ui=3.3219280948873626, est=3.1026341322236117, details={'was_impossible': False}),\n",
              " Prediction(uid=62862, iid='0385502532', r_ui=3.1699250014423126, est=3.297697770178047, details={'was_impossible': False}),\n",
              " Prediction(uid=193778, iid='0553560247', r_ui=3.3219280948873626, est=3.1040679907057225, details={'was_impossible': False}),\n",
              " Prediction(uid=241980, iid='0553802526', r_ui=3.4594316186372978, est=3.353732201942812, details={'was_impossible': False}),\n",
              " Prediction(uid=109574, iid='0449207145', r_ui=3.4594316186372978, est=3.2415696050930705, details={'was_impossible': False}),\n",
              " Prediction(uid=153361, iid='055329315X', r_ui=3.1699250014423126, est=3.1890115886356174, details={'was_impossible': False}),\n",
              " Prediction(uid=131154, iid='0345339681', r_ui=3.4594316186372978, est=3.35679061462062, details={'was_impossible': False}),\n",
              " Prediction(uid=48025, iid='0553297260', r_ui=3.0, est=3.0064196716299403, details={'was_impossible': False}),\n",
              " Prediction(uid=128696, iid='0375422307', r_ui=3.4594316186372978, est=3.2308331478801087, details={'was_impossible': False}),\n",
              " Prediction(uid=77383, iid='0345318854', r_ui=3.3219280948873626, est=3.17346889343152, details={'was_impossible': False}),\n",
              " Prediction(uid=263163, iid='0439136350', r_ui=3.4594316186372978, est=3.213520042243686, details={'was_impossible': False}),\n",
              " Prediction(uid=223501, iid='0316603570', r_ui=3.1699250014423126, est=3.0463137570855756, details={'was_impossible': False}),\n",
              " Prediction(uid=210168, iid='0679722645', r_ui=3.4594316186372978, est=3.2236292254704146, details={'was_impossible': False}),\n",
              " Prediction(uid=104211, iid='0425182878', r_ui=3.1699250014423126, est=2.8924257544001097, details={'was_impossible': False}),\n",
              " Prediction(uid=8936, iid='0380718332', r_ui=3.3219280948873626, est=3.18402919941781, details={'was_impossible': False}),\n",
              " Prediction(uid=162639, iid='0842329129', r_ui=3.4594316186372978, est=3.1619751608681184, details={'was_impossible': False}),\n",
              " Prediction(uid=256247, iid='0452282152', r_ui=3.4594316186372978, est=3.2316511758543243, details={'was_impossible': False}),\n",
              " Prediction(uid=43842, iid='0312265859', r_ui=3.4594316186372978, est=3.354848728756807, details={'was_impossible': False}),\n",
              " Prediction(uid=110029, iid='1400031354', r_ui=3.4594316186372978, est=3.2834853180643813, details={'was_impossible': False}),\n",
              " Prediction(uid=103336, iid='0345438329', r_ui=2.584962500721156, est=3.079452962352586, details={'was_impossible': False}),\n",
              " Prediction(uid=143792, iid='0316910333', r_ui=2.807354922057604, est=3.042729367217935, details={'was_impossible': False}),\n",
              " Prediction(uid=114988, iid='0440145465', r_ui=3.0, est=2.922616113260681, details={'was_impossible': False}),\n",
              " Prediction(uid=265889, iid='0345459202', r_ui=3.4594316186372978, est=3.3324914042491947, details={'was_impossible': False}),\n",
              " Prediction(uid=204457, iid='0671867164', r_ui=2.584962500721156, est=3.2114681128815254, details={'was_impossible': False}),\n",
              " Prediction(uid=276463, iid='0140062718', r_ui=3.1699250014423126, est=3.304610292059962, details={'was_impossible': False}),\n",
              " Prediction(uid=224764, iid='0743451414', r_ui=1.5849625007211563, est=3.012760363606144, details={'was_impossible': False}),\n",
              " Prediction(uid=160681, iid='0451524934', r_ui=3.4594316186372978, est=3.35873230946952, details={'was_impossible': False}),\n",
              " Prediction(uid=126388, iid='0345339738', r_ui=3.4594316186372978, est=3.4594316186372978, details={'was_impossible': False}),\n",
              " Prediction(uid=234359, iid='0345452534', r_ui=3.1699250014423126, est=2.8896111680805228, details={'was_impossible': False}),\n",
              " Prediction(uid=12982, iid='0553571907', r_ui=3.3219280948873626, est=3.1967200777650318, details={'was_impossible': False}),\n",
              " Prediction(uid=219951, iid='1400034779', r_ui=3.4594316186372978, est=3.2576594357083137, details={'was_impossible': False}),\n",
              " Prediction(uid=62464, iid='0375758992', r_ui=3.1699250014423126, est=3.242584420214209, details={'was_impossible': False}),\n",
              " Prediction(uid=53241, iid='0140119906', r_ui=3.1699250014423126, est=3.30893962979041, details={'was_impossible': False}),\n",
              " Prediction(uid=227520, iid='0425148297', r_ui=3.1699250014423126, est=3.2350018401647764, details={'was_impossible': False}),\n",
              " Prediction(uid=251003, iid='0385424736', r_ui=3.1699250014423126, est=3.2560840132894233, details={'was_impossible': False}),\n",
              " Prediction(uid=8066, iid='1573225517', r_ui=3.0, est=3.044583526164333, details={'was_impossible': False}),\n",
              " Prediction(uid=113663, iid='0446602450', r_ui=3.1699250014423126, est=3.1764851324494443, details={'was_impossible': False}),\n",
              " Prediction(uid=167746, iid='0385504209', r_ui=2.807354922057604, est=2.9834302598201, details={'was_impossible': False}),\n",
              " Prediction(uid=248138, iid='0553260111', r_ui=2.0, est=2.901925446759117, details={'was_impossible': False}),\n",
              " Prediction(uid=196047, iid='0345438825', r_ui=3.1699250014423126, est=3.2470262917221864, details={'was_impossible': False}),\n",
              " Prediction(uid=104113, iid='0449212602', r_ui=3.3219280948873626, est=3.329240981427241, details={'was_impossible': False}),\n",
              " Prediction(uid=91058, iid='0618526412', r_ui=3.1699250014423126, est=2.9619653408122857, details={'was_impossible': False}),\n",
              " Prediction(uid=88693, iid='0609809547', r_ui=3.0, est=3.0343751080873576, details={'was_impossible': False}),\n",
              " Prediction(uid=11676, iid='0452268060', r_ui=3.1699250014423126, est=3.0351553580542543, details={'was_impossible': False}),\n",
              " Prediction(uid=88733, iid='0439136369', r_ui=3.4594316186372978, est=3.4594316186372978, details={'was_impossible': False}),\n",
              " Prediction(uid=209160, iid='034529873X', r_ui=2.807354922057604, est=3.2543703112498776, details={'was_impossible': False}),\n",
              " Prediction(uid=90391, iid='0060936363', r_ui=3.4594316186372978, est=3.0134893850680324, details={'was_impossible': False}),\n",
              " Prediction(uid=208406, iid='0345422589', r_ui=3.1699250014423126, est=3.197071655621184, details={'was_impossible': False}),\n",
              " Prediction(uid=252820, iid='0451190491', r_ui=2.584962500721156, est=2.890592427858691, details={'was_impossible': False}),\n",
              " Prediction(uid=81977, iid='0312890044', r_ui=3.0, est=3.3461140357146664, details={'was_impossible': False}),\n",
              " Prediction(uid=31556, iid='0441005489', r_ui=3.3219280948873626, est=3.0894723407881863, details={'was_impossible': False}),\n",
              " Prediction(uid=182085, iid='0451196856', r_ui=3.3219280948873626, est=3.2517767840799587, details={'was_impossible': False}),\n",
              " Prediction(uid=113519, iid='038548951X', r_ui=3.3219280948873626, est=3.4594316186372978, details={'was_impossible': False}),\n",
              " Prediction(uid=218608, iid='044651652X', r_ui=2.584962500721156, est=3.148304394320904, details={'was_impossible': False}),\n",
              " Prediction(uid=195469, iid='0671880187', r_ui=3.1699250014423126, est=3.0746501917516467, details={'was_impossible': False}),\n",
              " Prediction(uid=181176, iid='006101351X', r_ui=3.3219280948873626, est=3.024227587530033, details={'was_impossible': False}),\n",
              " Prediction(uid=210485, iid='0312422156', r_ui=3.4594316186372978, est=3.2581763870707987, details={'was_impossible': False}),\n",
              " Prediction(uid=35857, iid='044022165X', r_ui=2.584962500721156, est=3.0688795552949064, details={'was_impossible': False}),\n",
              " Prediction(uid=133571, iid='067091021X', r_ui=3.0, est=3.1795640915190373, details={'was_impossible': False}),\n",
              " Prediction(uid=206202, iid='0451169530', r_ui=2.321928094887362, est=3.24912247630875, details={'was_impossible': False}),\n",
              " Prediction(uid=81597, iid='0385421982', r_ui=3.0, est=3.213698820089333, details={'was_impossible': False}),\n",
              " Prediction(uid=2033, iid='0886774632', r_ui=3.4594316186372978, est=3.208691040751662, details={'was_impossible': False}),\n",
              " Prediction(uid=105979, iid='044021145X', r_ui=3.1699250014423126, est=2.9928643200620324, details={'was_impossible': False}),\n",
              " Prediction(uid=69684, iid='0060987049', r_ui=2.807354922057604, est=3.0142884333044293, details={'was_impossible': False}),\n",
              " Prediction(uid=203910, iid='0671039725', r_ui=3.4594316186372978, est=3.386254405763951, details={'was_impossible': False}),\n",
              " Prediction(uid=139913, iid='0449223612', r_ui=2.584962500721156, est=3.0935367639992366, details={'was_impossible': False}),\n",
              " Prediction(uid=220240, iid='0671250671', r_ui=3.1699250014423126, est=3.1123538322756024, details={'was_impossible': False}),\n",
              " Prediction(uid=199515, iid='0451172817', r_ui=3.1699250014423126, est=3.3466364254133305, details={'was_impossible': False}),\n",
              " Prediction(uid=33179, iid='0842329218', r_ui=3.0, est=3.0757814841180044, details={'was_impossible': False}),\n",
              " Prediction(uid=231263, iid='0375706771', r_ui=3.1699250014423126, est=2.9702836137405226, details={'was_impossible': False}),\n",
              " Prediction(uid=201042, iid='0553349481', r_ui=2.807354922057604, est=2.965047759432324, details={'was_impossible': False}),\n",
              " Prediction(uid=63394, iid='0451180232', r_ui=3.3219280948873626, est=3.1872287061276077, details={'was_impossible': False}),\n",
              " Prediction(uid=246311, iid='0670030643', r_ui=3.1699250014423126, est=3.2672130543290887, details={'was_impossible': False}),\n",
              " Prediction(uid=243929, iid='0440210690', r_ui=2.584962500721156, est=2.734877250101818, details={'was_impossible': False}),\n",
              " Prediction(uid=11676, iid='0375412530', r_ui=2.321928094887362, est=2.981863534133512, details={'was_impossible': False}),\n",
              " Prediction(uid=120828, iid='0140374248', r_ui=3.1699250014423126, est=3.4594316186372978, details={'was_impossible': False}),\n",
              " Prediction(uid=115490, iid='0671873199', r_ui=2.321928094887362, est=3.1309640570920028, details={'was_impossible': False}),\n",
              " Prediction(uid=43910, iid='0375756981', r_ui=3.1699250014423126, est=3.157905490860056, details={'was_impossible': False}),\n",
              " Prediction(uid=192428, iid='0451173139', r_ui=2.807354922057604, est=2.9926741247946884, details={'was_impossible': False}),\n",
              " Prediction(uid=87141, iid='0385490992', r_ui=3.3219280948873626, est=2.988193621732436, details={'was_impossible': False}),\n",
              " Prediction(uid=126492, iid='055329170X', r_ui=3.0, est=3.3438279565914173, details={'was_impossible': False}),\n",
              " Prediction(uid=254465, iid='0440146577', r_ui=3.4594316186372978, est=3.4594316186372978, details={'was_impossible': False}),\n",
              " Prediction(uid=56856, iid='0451191145', r_ui=3.3219280948873626, est=3.0964634886439266, details={'was_impossible': False}),\n",
              " Prediction(uid=256407, iid='0451167538', r_ui=3.3219280948873626, est=3.2787759969815653, details={'was_impossible': False}),\n",
              " Prediction(uid=163804, iid='0451190572', r_ui=3.3219280948873626, est=3.0195001907872503, details={'was_impossible': False}),\n",
              " Prediction(uid=87712, iid='0553801341', r_ui=3.4594316186372978, est=3.351037090258204, details={'was_impossible': False}),\n",
              " Prediction(uid=164533, iid='0553377868', r_ui=3.0, est=2.8005063823737366, details={'was_impossible': False}),\n",
              " Prediction(uid=179772, iid='042519485X', r_ui=3.4594316186372978, est=3.329750038919327, details={'was_impossible': False}),\n",
              " Prediction(uid=12538, iid='0812510992', r_ui=3.0, est=2.9638655611871485, details={'was_impossible': False}),\n",
              " Prediction(uid=88733, iid='0684196395', r_ui=3.3219280948873626, est=3.2157786461970415, details={'was_impossible': False}),\n",
              " Prediction(uid=177432, iid='0345313860', r_ui=3.1699250014423126, est=3.263342580940477, details={'was_impossible': False}),\n",
              " Prediction(uid=6575, iid='0836217012', r_ui=3.1699250014423126, est=3.1339658629942106, details={'was_impossible': False}),\n",
              " Prediction(uid=108405, iid='080411935X', r_ui=3.3219280948873626, est=3.277887931245165, details={'was_impossible': False}),\n",
              " Prediction(uid=224764, iid='0316602906', r_ui=3.4594316186372978, est=2.94990912214533, details={'was_impossible': False}),\n",
              " Prediction(uid=30994, iid='0553574574', r_ui=3.1699250014423126, est=2.9695001360536892, details={'was_impossible': False}),\n",
              " Prediction(uid=85526, iid='0684803356', r_ui=3.1699250014423126, est=3.084436455031831, details={'was_impossible': False}),\n",
              " Prediction(uid=13582, iid='0786915897', r_ui=2.807354922057604, est=3.0140611885216617, details={'was_impossible': False}),\n",
              " Prediction(uid=158254, iid='0452269571', r_ui=3.1699250014423126, est=3.280453846797926, details={'was_impossible': False}),\n",
              " Prediction(uid=244189, iid='0394585852', r_ui=3.0, est=3.142267116869296, details={'was_impossible': False}),\n",
              " Prediction(uid=136491, iid='0440211727', r_ui=3.4594316186372978, est=3.2547423826918473, details={'was_impossible': False}),\n",
              " Prediction(uid=11676, iid='3257227264', r_ui=2.584962500721156, est=3.0536834146848286, details={'was_impossible': False}),\n",
              " Prediction(uid=274549, iid='0684874350', r_ui=3.3219280948873626, est=3.284747051040636, details={'was_impossible': False}),\n",
              " Prediction(uid=126296, iid='0099771519', r_ui=3.4594316186372978, est=3.2184710816809097, details={'was_impossible': False}),\n",
              " Prediction(uid=60858, iid='0380868768', r_ui=3.1699250014423126, est=2.9701736229255737, details={'was_impossible': False}),\n",
              " Prediction(uid=223154, iid='0786868716', r_ui=3.1699250014423126, est=2.9374412068121956, details={'was_impossible': False}),\n",
              " Prediction(uid=123883, iid='0671003364', r_ui=2.584962500721156, est=2.6352073983951874, details={'was_impossible': False}),\n",
              " Prediction(uid=136382, iid='0061031070', r_ui=2.807354922057604, est=2.9776779203792354, details={'was_impossible': False}),\n",
              " Prediction(uid=25981, iid='0553213423', r_ui=2.584962500721156, est=2.687524435023702, details={'was_impossible': False}),\n",
              " Prediction(uid=76626, iid='0689829833', r_ui=3.3219280948873626, est=3.0908509856209623, details={'was_impossible': False}),\n",
              " Prediction(uid=104243, iid='0671000306', r_ui=3.1699250014423126, est=3.0661151511369695, details={'was_impossible': False}),\n",
              " Prediction(uid=96554, iid='0140250832', r_ui=3.3219280948873626, est=3.1169957436797957, details={'was_impossible': False}),\n",
              " Prediction(uid=242006, iid='0380750872', r_ui=3.1699250014423126, est=3.411901602516454, details={'was_impossible': False}),\n",
              " Prediction(uid=223501, iid='0399150897', r_ui=2.807354922057604, est=3.1979987312331803, details={'was_impossible': False}),\n",
              " Prediction(uid=53256, iid='0451184963', r_ui=3.4594316186372978, est=3.0749016747733027, details={'was_impossible': False}),\n",
              " Prediction(uid=260183, iid='0689817851', r_ui=3.4594316186372978, est=3.1908013232219696, details={'was_impossible': False}),\n",
              " Prediction(uid=55187, iid='038533303X', r_ui=2.584962500721156, est=3.192993726724715, details={'was_impossible': False}),\n",
              " Prediction(uid=108799, iid='0385306032', r_ui=3.1699250014423126, est=2.9915264612782106, details={'was_impossible': False}),\n",
              " Prediction(uid=258482, iid='0767902521', r_ui=3.1699250014423126, est=2.949744837403899, details={'was_impossible': False}),\n",
              " Prediction(uid=256167, iid='0312265867', r_ui=3.1699250014423126, est=3.1069957917818307, details={'was_impossible': False}),\n",
              " Prediction(uid=231393, iid='1573225517', r_ui=3.1699250014423126, est=3.2321167899187837, details={'was_impossible': False}),\n",
              " Prediction(uid=143211, iid='0380791978', r_ui=3.3219280948873626, est=3.2100206700308345, details={'was_impossible': False}),\n",
              " Prediction(uid=21014, iid='0140293248', r_ui=3.1699250014423126, est=3.006957813367101, details={'was_impossible': False}),\n",
              " Prediction(uid=110912, iid='0684859718', r_ui=3.3219280948873626, est=3.2548327656201113, details={'was_impossible': False}),\n",
              " Prediction(uid=123094, iid='0316107417', r_ui=3.4594316186372978, est=3.078828113732954, details={'was_impossible': False}),\n",
              " Prediction(uid=92853, iid='0679762108', r_ui=3.3219280948873626, est=3.0513102295369823, details={'was_impossible': False}),\n",
              " Prediction(uid=72214, iid='0890877033', r_ui=3.4594316186372978, est=3.275692375271191, details={'was_impossible': False}),\n",
              " Prediction(uid=16795, iid='0451177096', r_ui=3.1699250014423126, est=3.145959789111461, details={'was_impossible': False}),\n",
              " Prediction(uid=20180, iid='0060502258', r_ui=3.1699250014423126, est=3.2878442666536922, details={'was_impossible': False}),\n",
              " Prediction(uid=183046, iid='0553575090', r_ui=3.0, est=3.1672945613183567, details={'was_impossible': False}),\n",
              " Prediction(uid=172760, iid='0345342968', r_ui=3.1699250014423126, est=3.0125740006516373, details={'was_impossible': False}),\n",
              " Prediction(uid=73681, iid='0425154092', r_ui=3.1699250014423126, est=3.1373442933194244, details={'was_impossible': False}),\n",
              " Prediction(uid=108155, iid='0553379011', r_ui=2.321928094887362, est=2.8247638831846245, details={'was_impossible': False}),\n",
              " Prediction(uid=235105, iid='0399148639', r_ui=3.4594316186372978, est=3.0935881498239133, details={'was_impossible': False}),\n",
              " Prediction(uid=43246, iid='1592400876', r_ui=3.3219280948873626, est=3.252687855752257, details={'was_impossible': False}),\n",
              " Prediction(uid=105517, iid='0836218523', r_ui=3.1699250014423126, est=3.055839635419749, details={'was_impossible': False}),\n",
              " Prediction(uid=40889, iid='0743460529', r_ui=2.807354922057604, est=3.035664634552893, details={'was_impossible': False}),\n",
              " Prediction(uid=6251, iid='0836218655', r_ui=3.4594316186372978, est=3.245288863802618, details={'was_impossible': False}),\n",
              " Prediction(uid=9747, iid='0385306040', r_ui=3.4594316186372978, est=3.240553541506041, details={'was_impossible': False}),\n",
              " Prediction(uid=268932, iid='0671695304', r_ui=3.4594316186372978, est=3.22088094709253, details={'was_impossible': False}),\n",
              " Prediction(uid=55438, iid='0842329218', r_ui=3.4594316186372978, est=3.4292473835227386, details={'was_impossible': False}),\n",
              " Prediction(uid=21659, iid='0446533041', r_ui=3.1699250014423126, est=3.2928426535181003, details={'was_impossible': False}),\n",
              " Prediction(uid=76151, iid='074324642X', r_ui=3.4594316186372978, est=3.2790112729376677, details={'was_impossible': False}),\n",
              " Prediction(uid=32440, iid='0786817070', r_ui=3.3219280948873626, est=2.836293634314478, details={'was_impossible': False}),\n",
              " Prediction(uid=52917, iid='0515117234', r_ui=3.0, est=2.7658858652924136, details={'was_impossible': False}),\n",
              " Prediction(uid=10560, iid='0425188361', r_ui=3.4594316186372978, est=3.3622533826219536, details={'was_impossible': False}),\n",
              " Prediction(uid=270838, iid='0345417623', r_ui=3.4594316186372978, est=3.415246560652008, details={'was_impossible': False}),\n",
              " Prediction(uid=112953, iid='1573228583', r_ui=3.4594316186372978, est=3.3614918289751374, details={'was_impossible': False}),\n",
              " Prediction(uid=261829, iid='0812534832', r_ui=3.1699250014423126, est=2.965862611601659, details={'was_impossible': False}),\n",
              " Prediction(uid=67270, iid='0553572997', r_ui=3.3219280948873626, est=3.0126523981052737, details={'was_impossible': False}),\n",
              " Prediction(uid=153797, iid='0380703882', r_ui=2.807354922057604, est=2.953291275471167, details={'was_impossible': False}),\n",
              " Prediction(uid=120598, iid='0671027646', r_ui=3.4594316186372978, est=2.9889424263988373, details={'was_impossible': False}),\n",
              " Prediction(uid=89867, iid='0553288202', r_ui=3.1699250014423126, est=3.1814733024394197, details={'was_impossible': False}),\n",
              " Prediction(uid=247241, iid='0440224594', r_ui=3.1699250014423126, est=3.3053519520815984, details={'was_impossible': False}),\n",
              " Prediction(uid=133571, iid='0399146431', r_ui=3.1699250014423126, est=3.2172479791374626, details={'was_impossible': False}),\n",
              " Prediction(uid=138543, iid='0345334531', r_ui=3.4594316186372978, est=3.1019304081604755, details={'was_impossible': False}),\n",
              " Prediction(uid=69078, iid='0517122707', r_ui=3.3219280948873626, est=3.06997136225528, details={'was_impossible': False}),\n",
              " Prediction(uid=11718, iid='039575514X', r_ui=3.3219280948873626, est=3.328117857011583, details={'was_impossible': False}),\n",
              " Prediction(uid=170724, iid='0316781266', r_ui=2.584962500721156, est=2.9136857207125177, details={'was_impossible': False}),\n",
              " Prediction(uid=150124, iid='0553274295', r_ui=3.4594316186372978, est=3.357380308522113, details={'was_impossible': False}),\n",
              " Prediction(uid=53241, iid='0804114986', r_ui=3.1699250014423126, est=3.1127742408196406, details={'was_impossible': False}),\n",
              " Prediction(uid=27472, iid='0671867091', r_ui=2.584962500721156, est=3.3509799188938367, details={'was_impossible': False}),\n",
              " Prediction(uid=165308, iid='0440415632', r_ui=3.4594316186372978, est=3.3153069652969713, details={'was_impossible': False}),\n",
              " Prediction(uid=77383, iid='0345338588', r_ui=3.3219280948873626, est=3.267842666240336, details={'was_impossible': False}),\n",
              " Prediction(uid=268711, iid='3518368540', r_ui=3.1699250014423126, est=3.169843633228871, details={'was_impossible': False}),\n",
              " Prediction(uid=208406, iid='0553280341', r_ui=3.1699250014423126, est=3.098751887689773, details={'was_impossible': False}),\n",
              " Prediction(uid=109427, iid='0671776800', r_ui=3.0, est=2.9809645810553183, details={'was_impossible': False}),\n",
              " Prediction(uid=196160, iid='0440487617', r_ui=3.3219280948873626, est=3.081909696306787, details={'was_impossible': False}),\n",
              " Prediction(uid=30276, iid='0060542128', r_ui=3.0, est=2.882208233345016, details={'was_impossible': False}),\n",
              " Prediction(uid=145449, iid='0517577550', r_ui=3.1699250014423126, est=3.124341333632351, details={'was_impossible': False}),\n",
              " Prediction(uid=107301, iid='1857027051', r_ui=3.0, est=3.112615698127197, details={'was_impossible': False}),\n",
              " Prediction(uid=196466, iid='0515087122', r_ui=3.0, est=3.033911191499246, details={'was_impossible': False}),\n",
              " Prediction(uid=11676, iid='0515128600', r_ui=3.0, est=3.0969993424784668, details={'was_impossible': False}),\n",
              " Prediction(uid=252695, iid='0425183971', r_ui=3.3219280948873626, est=3.284393369394542, details={'was_impossible': False}),\n",
              " Prediction(uid=114007, iid='0345391829', r_ui=3.1699250014423126, est=2.9745140121545717, details={'was_impossible': False}),\n",
              " Prediction(uid=11676, iid='0060987103', r_ui=3.3219280948873626, est=3.0518900607274655, details={'was_impossible': False}),\n",
              " Prediction(uid=200226, iid='0515128554', r_ui=3.0, est=3.0575286175631464, details={'was_impossible': False}),\n",
              " Prediction(uid=91026, iid='0156027321', r_ui=1.5849625007211563, est=3.009170072335602, details={'was_impossible': False}),\n",
              " Prediction(uid=11676, iid='0679721886', r_ui=3.4594316186372978, est=2.98947399935716, details={'was_impossible': False}),\n",
              " Prediction(uid=138777, iid='0312144075', r_ui=3.1699250014423126, est=3.179209942980758, details={'was_impossible': False}),\n",
              " Prediction(uid=245650, iid='0061000019', r_ui=3.0, est=3.083703877129655, details={'was_impossible': False}),\n",
              " Prediction(uid=101305, iid='0393046974', r_ui=2.807354922057604, est=3.0175727218707533, details={'was_impossible': False}),\n",
              " Prediction(uid=11676, iid='0553578359', r_ui=3.3219280948873626, est=3.087106808816106, details={'was_impossible': False}),\n",
              " Prediction(uid=188273, iid='0553583980', r_ui=3.1699250014423126, est=3.256896909467123, details={'was_impossible': False}),\n",
              " Prediction(uid=229011, iid='0553575104', r_ui=2.321928094887362, est=2.860059308050043, details={'was_impossible': False}),\n",
              " Prediction(uid=51742, iid='0380726238', r_ui=1.0, est=3.0618830875749996, details={'was_impossible': False}),\n",
              " Prediction(uid=21014, iid='0064400026', r_ui=3.4594316186372978, est=3.200126523579047, details={'was_impossible': False}),\n",
              " Prediction(uid=208406, iid='043935806X', r_ui=3.4594316186372978, est=3.333530985572846, details={'was_impossible': False}),\n",
              " Prediction(uid=189334, iid='0836221311', r_ui=3.4594316186372978, est=3.257319419593026, details={'was_impossible': False}),\n",
              " Prediction(uid=7210, iid='0441172717', r_ui=3.1699250014423126, est=2.991042156692622, details={'was_impossible': False}),\n",
              " Prediction(uid=184513, iid='0385472943', r_ui=2.584962500721156, est=3.136180193512616, details={'was_impossible': False}),\n",
              " Prediction(uid=243879, iid='0689817851', r_ui=2.807354922057604, est=3.2210615511142486, details={'was_impossible': False}),\n",
              " Prediction(uid=249628, iid='0671496174', r_ui=3.4594316186372978, est=3.1206926665154064, details={'was_impossible': False}),\n",
              " Prediction(uid=145369, iid='0316693235', r_ui=3.3219280948873626, est=3.075034548068613, details={'was_impossible': False}),\n",
              " Prediction(uid=190923, iid='0345339738', r_ui=2.807354922057604, est=3.2949564733571437, details={'was_impossible': False}),\n",
              " Prediction(uid=182819, iid='0425097722', r_ui=3.1699250014423126, est=3.1084395436071386, details={'was_impossible': False}),\n",
              " Prediction(uid=11687, iid='0140430113', r_ui=3.4594316186372978, est=3.3901796977439083, details={'was_impossible': False}),\n",
              " Prediction(uid=190885, iid='067088300X', r_ui=2.807354922057604, est=2.9542315288339696, details={'was_impossible': False}),\n",
              " Prediction(uid=258534, iid='0446610038', r_ui=2.807354922057604, est=3.258492855407934, details={'was_impossible': False}),\n",
              " Prediction(uid=47856, iid='1551667509', r_ui=3.3219280948873626, est=2.97920232596773, details={'was_impossible': False}),\n",
              " Prediction(uid=245088, iid='0740704818', r_ui=3.0, est=2.990427921490776, details={'was_impossible': False}),\n",
              " Prediction(uid=77809, iid='0142004030', r_ui=3.3219280948873626, est=3.0129168687555152, details={'was_impossible': False}),\n",
              " Prediction(uid=63394, iid='0451184963', r_ui=3.3219280948873626, est=3.2894174574626764, details={'was_impossible': False}),\n",
              " Prediction(uid=258534, iid='0451117298', r_ui=3.1699250014423126, est=3.3538450557798036, details={'was_impossible': False}),\n",
              " Prediction(uid=16795, iid='0380703882', r_ui=3.0, est=3.101599249949063, details={'was_impossible': False}),\n",
              " Prediction(uid=252695, iid='0449149676', r_ui=3.0, est=3.2058662623559506, details={'was_impossible': False}),\n",
              " Prediction(uid=79266, iid='0671795538', r_ui=3.4594316186372978, est=3.1707063603942607, details={'was_impossible': False}),\n",
              " Prediction(uid=226965, iid='0679776818', r_ui=2.584962500721156, est=3.308363804821338, details={'was_impossible': False}),\n",
              " Prediction(uid=123215, iid='0812533534', r_ui=3.1699250014423126, est=3.0861703495308848, details={'was_impossible': False}),\n",
              " Prediction(uid=256407, iid='0446604801', r_ui=3.3219280948873626, est=3.2135959892563113, details={'was_impossible': False}),\n",
              " Prediction(uid=278356, iid='0374270325', r_ui=3.3219280948873626, est=3.149335183511207, details={'was_impossible': False}),\n",
              " Prediction(uid=73681, iid='0451147960', r_ui=3.3219280948873626, est=3.216204543627146, details={'was_impossible': False}),\n",
              " Prediction(uid=55799, iid='0671042556', r_ui=3.1699250014423126, est=2.7870632951925893, details={'was_impossible': False}),\n",
              " Prediction(uid=217121, iid='0385504209', r_ui=3.1699250014423126, est=3.2645539593136452, details={'was_impossible': False}),\n",
              " Prediction(uid=130705, iid='0452281881', r_ui=3.1699250014423126, est=3.219377854789401, details={'was_impossible': False}),\n",
              " Prediction(uid=88693, iid='0425157628', r_ui=3.1699250014423126, est=3.3134363476002524, details={'was_impossible': False}),\n",
              " Prediction(uid=229011, iid='0446515078', r_ui=1.0, est=2.7603963387206916, details={'was_impossible': False}),\n",
              " Prediction(uid=88652, iid='1400031354', r_ui=3.4594316186372978, est=3.4594316186372978, details={'was_impossible': False}),\n",
              " Prediction(uid=231210, iid='0758203330', r_ui=3.0, est=2.9763561011695496, details={'was_impossible': False}),\n",
              " Prediction(uid=232131, iid='0380789035', r_ui=3.1699250014423126, est=2.934143123242469, details={'was_impossible': False}),\n",
              " Prediction(uid=260388, iid='0140185216', r_ui=3.3219280948873626, est=3.099719754067764, details={'was_impossible': False}),\n",
              " Prediction(uid=196738, iid='0345353145', r_ui=3.0, est=3.2373657471663604, details={'was_impossible': False}),\n",
              " Prediction(uid=97754, iid='0446525731', r_ui=3.1699250014423126, est=3.0098950873109236, details={'was_impossible': False}),\n",
              " Prediction(uid=275970, iid='014029628X', r_ui=3.3219280948873626, est=3.0411429496431834, details={'was_impossible': False}),\n",
              " Prediction(uid=93179, iid='0425151867', r_ui=3.0, est=3.280216511528036, details={'was_impossible': False}),\n",
              " Prediction(uid=11676, iid='0060504080', r_ui=3.3219280948873626, est=3.0584397576205227, details={'was_impossible': False}),\n",
              " Prediction(uid=97874, iid='0316666343', r_ui=3.3219280948873626, est=3.1250496999072888, details={'was_impossible': False}),\n",
              " Prediction(uid=21014, iid='014017737X', r_ui=3.0, est=3.1451933333265596, details={'was_impossible': False}),\n",
              " Prediction(uid=33580, iid='0451190521', r_ui=3.1699250014423126, est=3.375053686877902, details={'was_impossible': False}),\n",
              " Prediction(uid=230708, iid='0451203895', r_ui=2.584962500721156, est=2.705903070022302, details={'was_impossible': False}),\n",
              " Prediction(uid=172742, iid='0440940001', r_ui=3.4594316186372978, est=3.3564634166376197, details={'was_impossible': False}),\n",
              " Prediction(uid=25919, iid='043935806X', r_ui=3.4594316186372978, est=3.443412735200059, details={'was_impossible': False}),\n",
              " Prediction(uid=242006, iid='0380808080', r_ui=3.4594316186372978, est=3.2463629567264802, details={'was_impossible': False}),\n",
              " Prediction(uid=129716, iid='0375410538', r_ui=3.1699250014423126, est=3.247126567825346, details={'was_impossible': False}),\n",
              " Prediction(uid=138543, iid='0060931418', r_ui=2.584962500721156, est=3.1411572503289147, details={'was_impossible': False}),\n",
              " Prediction(uid=20961, iid='0380789035', r_ui=3.1699250014423126, est=3.05618964356761, details={'was_impossible': False}),\n",
              " Prediction(uid=226879, iid='0345285549', r_ui=3.1699250014423126, est=3.117683106692553, details={'was_impossible': False}),\n",
              " Prediction(uid=226545, iid='0440212561', r_ui=3.4594316186372978, est=3.0631842611358837, details={'was_impossible': False}),\n",
              " Prediction(uid=268622, iid='0142004235', r_ui=3.4594316186372978, est=3.3497945807289726, details={'was_impossible': False}),\n",
              " Prediction(uid=157811, iid='0345434250', r_ui=1.5849625007211563, est=3.027725669290861, details={'was_impossible': False}),\n",
              " Prediction(uid=22625, iid='052594527X', r_ui=3.4594316186372978, est=3.415946127010291, details={'was_impossible': False}),\n",
              " Prediction(uid=22074, iid='0312989385', r_ui=3.0, est=3.0920589108243166, details={'was_impossible': False}),\n",
              " Prediction(uid=203764, iid='0380726254', r_ui=3.4594316186372978, est=3.4594316186372978, details={'was_impossible': False}),\n",
              " Prediction(uid=132836, iid='0399131493', r_ui=3.3219280948873626, est=3.4067144706852863, details={'was_impossible': False}),\n",
              " Prediction(uid=207494, iid='0380817144', r_ui=3.1699250014423126, est=3.190621430206197, details={'was_impossible': False}),\n",
              " Prediction(uid=124487, iid='0380726246', r_ui=3.1699250014423126, est=3.1589752948947645, details={'was_impossible': False}),\n",
              " Prediction(uid=269439, iid='0140119906', r_ui=3.3219280948873626, est=3.164831008654367, details={'was_impossible': False}),\n",
              " Prediction(uid=83287, iid='0449221482', r_ui=3.4594316186372978, est=3.3813427117711674, details={'was_impossible': False}),\n",
              " Prediction(uid=200226, iid='0553574574', r_ui=2.584962500721156, est=2.772293353572903, details={'was_impossible': False}),\n",
              " Prediction(uid=272715, iid='0316666343', r_ui=3.1699250014423126, est=3.2451493877861055, details={'was_impossible': False}),\n",
              " Prediction(uid=240035, iid='0451186362', r_ui=2.584962500721156, est=2.6869870776104743, details={'was_impossible': False}),\n",
              " Prediction(uid=41589, iid='042510107X', r_ui=3.3219280948873626, est=3.0738327226843043, details={'was_impossible': False}),\n",
              " Prediction(uid=201684, iid='0064471047', r_ui=3.4594316186372978, est=3.123165232259094, details={'was_impossible': False}),\n",
              " Prediction(uid=71712, iid='0345422392', r_ui=3.0, est=3.086616126707967, details={'was_impossible': False}),\n",
              " Prediction(uid=56447, iid='0312278586', r_ui=3.0, est=3.035656575155757, details={'was_impossible': False}),\n",
              " Prediction(uid=126196, iid='0142000361', r_ui=3.1699250014423126, est=3.0099787969943383, details={'was_impossible': False}),\n",
              " Prediction(uid=16795, iid='0345423097', r_ui=3.4594316186372978, est=3.1570984161446156, details={'was_impossible': False}),\n",
              " Prediction(uid=258884, iid='0671007637', r_ui=3.1699250014423126, est=2.6134545998665164, details={'was_impossible': False}),\n",
              " Prediction(uid=11676, iid='042518630X', r_ui=3.4594316186372978, est=3.009472131170937, details={'was_impossible': False}),\n",
              " Prediction(uid=80555, iid='0886775639', r_ui=3.1699250014423126, est=3.1781528052544763, details={'was_impossible': False}),\n",
              " Prediction(uid=86145, iid='0061015725', r_ui=3.0, est=2.9677944682453608, details={'was_impossible': False}),\n",
              " Prediction(uid=94985, iid='0451166892', r_ui=3.1699250014423126, est=3.235517981663316, details={'was_impossible': False}),\n",
              " Prediction(uid=101606, iid='0842329250', r_ui=2.807354922057604, est=3.1887494250307413, details={'was_impossible': False}),\n",
              " Prediction(uid=141819, iid='0312113420', r_ui=3.4594316186372978, est=3.147326537269951, details={'was_impossible': False}),\n",
              " Prediction(uid=36003, iid='0141301066', r_ui=3.4594316186372978, est=3.3904173999826046, details={'was_impossible': False}),\n",
              " Prediction(uid=105058, iid='0316693294', r_ui=3.1699250014423126, est=3.010513792975981, details={'was_impossible': False}),\n",
              " Prediction(uid=261829, iid='0316666343', r_ui=3.3219280948873626, est=3.08268827786815, details={'was_impossible': False}),\n",
              " Prediction(uid=149661, iid='0312144075', r_ui=3.0, est=3.12327729571192, details={'was_impossible': False}),\n",
              " Prediction(uid=187145, iid='0316168688', r_ui=3.1699250014423126, est=3.369856302142326, details={'was_impossible': False}),\n",
              " Prediction(uid=177284, iid='0316776963', r_ui=3.4594316186372978, est=3.303617233381716, details={'was_impossible': False}),\n",
              " Prediction(uid=179718, iid='0312966091', r_ui=3.3219280948873626, est=3.4594316186372978, details={'was_impossible': False}),\n",
              " Prediction(uid=59172, iid='0553274295', r_ui=3.4594316186372978, est=3.4594316186372978, details={'was_impossible': False}),\n",
              " Prediction(uid=81121, iid='0345404475', r_ui=3.1699250014423126, est=3.286471101171976, details={'was_impossible': False}),\n",
              " Prediction(uid=211919, iid='0811801802', r_ui=3.4594316186372978, est=3.1766993711993714, details={'was_impossible': False}),\n",
              " Prediction(uid=200226, iid='0515128546', r_ui=3.1699250014423126, est=3.00745728097398, details={'was_impossible': False}),\n",
              " Prediction(uid=24921, iid='0440236665', r_ui=3.4594316186372978, est=3.0814417335955584, details={'was_impossible': False}),\n",
              " Prediction(uid=90616, iid='0345452593', r_ui=3.3219280948873626, est=2.905653314163786, details={'was_impossible': False}),\n",
              " Prediction(uid=31826, iid='0451151259', r_ui=3.4594316186372978, est=3.4594316186372978, details={'was_impossible': False}),\n",
              " Prediction(uid=79215, iid='0385337116', r_ui=3.1699250014423126, est=3.268287579252713, details={'was_impossible': False}),\n",
              " Prediction(uid=277523, iid='0345452577', r_ui=3.4594316186372978, est=3.266698322034655, details={'was_impossible': False}),\n",
              " Prediction(uid=140358, iid='0385493800', r_ui=2.584962500721156, est=2.589867985082639, details={'was_impossible': False}),\n",
              " Prediction(uid=134797, iid='0553582658', r_ui=3.1699250014423126, est=3.1357120047890406, details={'was_impossible': False}),\n",
              " Prediction(uid=140000, iid='0375703845', r_ui=3.0, est=3.1771650931979964, details={'was_impossible': False}),\n",
              " Prediction(uid=201674, iid='0316693006', r_ui=3.1699250014423126, est=3.1592291867875932, details={'was_impossible': False}),\n",
              " Prediction(uid=6543, iid='0743235150', r_ui=3.1699250014423126, est=3.1679601050771202, details={'was_impossible': False}),\n",
              " Prediction(uid=221732, iid='0446611212', r_ui=3.0, est=3.1453779009297467, details={'was_impossible': False}),\n",
              " Prediction(uid=140879, iid='0446612790', r_ui=2.807354922057604, est=3.4026852292168965, details={'was_impossible': False}),\n",
              " Prediction(uid=54218, iid='0688171478', r_ui=3.1699250014423126, est=2.880122215619113, details={'was_impossible': False}),\n",
              " Prediction(uid=268030, iid='0451526554', r_ui=3.4594316186372978, est=3.2158901808466287, details={'was_impossible': False}),\n",
              " Prediction(uid=185634, iid='0515110973', r_ui=3.3219280948873626, est=3.2405959496455226, details={'was_impossible': False}),\n",
              " Prediction(uid=122440, iid='0312195516', r_ui=3.4594316186372978, est=3.1676819509352807, details={'was_impossible': False}),\n",
              " Prediction(uid=278356, iid='0312265859', r_ui=3.0, est=3.0990529999671894, details={'was_impossible': False}),\n",
              " Prediction(uid=158433, iid='0451180232', r_ui=3.0, est=3.181291101222135, details={'was_impossible': False}),\n",
              " Prediction(uid=227447, iid='0515087947', r_ui=3.4594316186372978, est=3.1888895357559086, details={'was_impossible': False}),\n",
              " Prediction(uid=177374, iid='0439136350', r_ui=3.4594316186372978, est=3.32503912547931, details={'was_impossible': False}),\n",
              " Prediction(uid=11676, iid='0006550789', r_ui=3.0, est=3.102497767358127, details={'was_impossible': False}),\n",
              " Prediction(uid=177458, iid='0671016784', r_ui=3.1699250014423126, est=2.9872818108769663, details={'was_impossible': False}),\n",
              " Prediction(uid=218568, iid='0836218426', r_ui=3.3219280948873626, est=3.2560554529335497, details={'was_impossible': False}),\n",
              " Prediction(uid=173481, iid='0451183665', r_ui=3.0, est=2.7777220120366617, details={'was_impossible': False}),\n",
              " Prediction(uid=55799, iid='0440183057', r_ui=2.807354922057604, est=3.0121130158360003, details={'was_impossible': False}),\n",
              " Prediction(uid=46398, iid='0061006629', r_ui=2.807354922057604, est=3.0417313545676987, details={'was_impossible': False}),\n",
              " Prediction(uid=93364, iid='0553096060', r_ui=3.0, est=3.219532284387491, details={'was_impossible': False}),\n",
              " Prediction(uid=225595, iid='0743222245', r_ui=3.4594316186372978, est=3.4525656941732574, details={'was_impossible': False}),\n",
              " Prediction(uid=231210, iid='0375725784', r_ui=3.1699250014423126, est=3.186792198100976, details={'was_impossible': False}),\n",
              " Prediction(uid=232964, iid='043935806X', r_ui=3.3219280948873626, est=3.22435010925982, details={'was_impossible': False}),\n",
              " Prediction(uid=132851, iid='0345370775', r_ui=3.4594316186372978, est=3.107768295584817, details={'was_impossible': False}),\n",
              " Prediction(uid=163570, iid='0451172817', r_ui=3.4594316186372978, est=3.3577230895185743, details={'was_impossible': False}),\n",
              " Prediction(uid=67663, iid='0375758992', r_ui=3.3219280948873626, est=3.1875431209417675, details={'was_impossible': False}),\n",
              " Prediction(uid=218221, iid='0671871005', r_ui=3.3219280948873626, est=3.0708288237670627, details={'was_impossible': False}),\n",
              " Prediction(uid=114368, iid='0446527017', r_ui=1.0, est=2.7781963943068377, details={'was_impossible': False}),\n",
              " Prediction(uid=31826, iid='0553802488', r_ui=3.4594316186372978, est=3.4594316186372978, details={'was_impossible': False}),\n",
              " Prediction(uid=2766, iid='0060975849', r_ui=3.3219280948873626, est=3.1088448170631153, details={'was_impossible': False}),\n",
              " Prediction(uid=81560, iid='0345348656', r_ui=3.1699250014423126, est=3.2261406196620315, details={'was_impossible': False}),\n",
              " Prediction(uid=204457, iid='0671001795', r_ui=3.1699250014423126, est=3.1707388931707734, details={'was_impossible': False}),\n",
              " Prediction(uid=76499, iid='0441172717', r_ui=3.4594316186372978, est=3.4594316186372978, details={'was_impossible': False}),\n",
              " Prediction(uid=98391, iid='0743407075', r_ui=3.1699250014423126, est=3.4114400498208175, details={'was_impossible': False}),\n",
              " Prediction(uid=105028, iid='0060987561', r_ui=3.3219280948873626, est=3.124642589230706, details={'was_impossible': False}),\n",
              " Prediction(uid=264311, iid='0345441788', r_ui=3.0, est=3.0082030523882066, details={'was_impossible': False}),\n",
              " Prediction(uid=128119, iid='0836220854', r_ui=3.4594316186372978, est=3.08871663741944, details={'was_impossible': False}),\n",
              " Prediction(uid=83287, iid='0803283598', r_ui=3.3219280948873626, est=3.0176377590832124, details={'was_impossible': False}),\n",
              " Prediction(uid=5582, iid='0515131091', r_ui=3.4594316186372978, est=3.3091823633374395, details={'was_impossible': False}),\n",
              " Prediction(uid=31826, iid='0425098605', r_ui=3.4594316186372978, est=3.4594316186372978, details={'was_impossible': False}),\n",
              " Prediction(uid=166596, iid='0804106304', r_ui=3.3219280948873626, est=3.3264719288210958, details={'was_impossible': False}),\n",
              " Prediction(uid=11676, iid='0553380958', r_ui=3.3219280948873626, est=3.2101811023203544, details={'was_impossible': False}),\n",
              " Prediction(uid=82407, iid='0316776963', r_ui=3.1699250014423126, est=2.797948887655326, details={'was_impossible': False}),\n",
              " Prediction(uid=85757, iid='0393050939', r_ui=3.3219280948873626, est=3.089767645328557, details={'was_impossible': False}),\n",
              " Prediction(uid=209756, iid='0446364703', r_ui=2.584962500721156, est=2.930893178025911, details={'was_impossible': False}),\n",
              " Prediction(uid=31315, iid='055357227X', r_ui=3.3219280948873626, est=3.0774816213828045, details={'was_impossible': False}),\n",
              " Prediction(uid=117251, iid='006092988X', r_ui=3.4594316186372978, est=3.4594316186372978, details={'was_impossible': False}),\n",
              " Prediction(uid=143163, iid='0451184963', r_ui=3.4594316186372978, est=3.3825553898641374, details={'was_impossible': False}),\n",
              " Prediction(uid=222296, iid='0385486804', r_ui=3.0, est=3.0834983638256177, details={'was_impossible': False}),\n",
              " Prediction(uid=38273, iid='0440414806', r_ui=3.4594316186372978, est=3.0851770910328455, details={'was_impossible': False}),\n",
              " Prediction(uid=14387, iid='0316284955', r_ui=3.1699250014423126, est=2.946180140344678, details={'was_impossible': False}),\n",
              " Prediction(uid=216829, iid='0553377884', r_ui=3.4594316186372978, est=2.9418191450744917, details={'was_impossible': False}),\n",
              " Prediction(uid=41781, iid='0312982518', r_ui=3.3219280948873626, est=2.9124764769279223, details={'was_impossible': False}),\n",
              " Prediction(uid=158226, iid='0060934700', r_ui=3.0, est=2.9178609107242117, details={'was_impossible': False}),\n",
              " Prediction(uid=133689, iid='0446608955', r_ui=3.1699250014423126, est=3.30622880228054, details={'was_impossible': False}),\n",
              " Prediction(uid=23872, iid='0156838389', r_ui=2.807354922057604, est=2.999665716092714, details={'was_impossible': False}),\n",
              " Prediction(uid=91103, iid='0671041789', r_ui=3.3219280948873626, est=3.0217769689558187, details={'was_impossible': False}),\n",
              " Prediction(uid=140662, iid='0141000198', r_ui=1.0, est=3.1132125433286357, details={'was_impossible': False}),\n",
              " Prediction(uid=255546, iid='0446519790', r_ui=3.3219280948873626, est=3.066331715238768, details={'was_impossible': False}),\n",
              " Prediction(uid=146113, iid='0805059555', r_ui=3.3219280948873626, est=3.000507596710863, details={'was_impossible': False}),\n",
              " Prediction(uid=25409, iid='0441008534', r_ui=3.3219280948873626, est=3.225390445938042, details={'was_impossible': False}),\n",
              " Prediction(uid=207246, iid='0449217493', r_ui=3.3219280948873626, est=3.0679165277257057, details={'was_impossible': False}),\n",
              " Prediction(uid=244189, iid='0425143325', r_ui=3.1699250014423126, est=3.141225591818557, details={'was_impossible': False}),\n",
              " Prediction(uid=251844, iid='0743457463', r_ui=3.0, est=3.242640795670066, details={'was_impossible': False}),\n",
              " Prediction(uid=110934, iid='0446612790', r_ui=3.0, est=3.1696721579481215, details={'was_impossible': False}),\n",
              " Prediction(uid=174304, iid='0316769487', r_ui=3.4594316186372978, est=3.118881361403533, details={'was_impossible': False}),\n",
              " Prediction(uid=46351, iid='0061091316', r_ui=3.3219280948873626, est=3.1438610044717783, details={'was_impossible': False}),\n",
              " Prediction(uid=237271, iid='0553802496', r_ui=2.807354922057604, est=3.080662807704022, details={'was_impossible': False}),\n",
              " Prediction(uid=144555, iid='0452282152', r_ui=3.4594316186372978, est=3.30085485577085, details={'was_impossible': False}),\n",
              " Prediction(uid=125774, iid='0689710879', r_ui=3.1699250014423126, est=3.2916608703403685, details={'was_impossible': False}),\n",
              " Prediction(uid=174596, iid='0553268880', r_ui=2.807354922057604, est=2.8950536049935964, details={'was_impossible': False}),\n",
              " Prediction(uid=258534, iid='051511264X', r_ui=3.0, est=3.171108111961047, details={'was_impossible': False}),\n",
              " Prediction(uid=247447, iid='0515128554', r_ui=3.0, est=3.2418482307081082, details={'was_impossible': False}),\n",
              " Prediction(uid=45557, iid='0446677450', r_ui=3.4594316186372978, est=3.1628072153170463, details={'was_impossible': False}),\n",
              " Prediction(uid=32721, iid='055329170X', r_ui=3.0, est=3.0179825208454223, details={'was_impossible': False}),\n",
              " Prediction(uid=235282, iid='0767907817', r_ui=3.0, est=3.1140677761664364, details={'was_impossible': False}),\n",
              " Prediction(uid=91058, iid='0385720955', r_ui=3.4594316186372978, est=3.197868643668107, details={'was_impossible': False}),\n",
              " Prediction(uid=98391, iid='074320607X', r_ui=3.4594316186372978, est=3.3155873906238553, details={'was_impossible': False}),\n",
              " Prediction(uid=11676, iid='0060975849', r_ui=3.0, est=3.159193051508393, details={'was_impossible': False}),\n",
              " Prediction(uid=243360, iid='0425152251', r_ui=3.1699250014423126, est=3.0188811922671075, details={'was_impossible': False}),\n",
              " Prediction(uid=8067, iid='0743469801', r_ui=3.4594316186372978, est=3.2396014544952023, details={'was_impossible': False}),\n",
              " Prediction(uid=16795, iid='0440167531', r_ui=3.0, est=2.9503818455010924, details={'was_impossible': False}),\n",
              " Prediction(uid=53256, iid='0440224764', r_ui=3.1699250014423126, est=3.310941421109331, details={'was_impossible': False}),\n",
              " Prediction(uid=240643, iid='0446358576', r_ui=2.584962500721156, est=3.2230701347423842, details={'was_impossible': False}),\n",
              " Prediction(uid=11676, iid='0743437802', r_ui=3.1699250014423126, est=3.093961370009078, details={'was_impossible': False}),\n",
              " Prediction(uid=156269, iid='0380721643', r_ui=3.1699250014423126, est=3.0717297665343652, details={'was_impossible': False}),\n",
              " Prediction(uid=230708, iid='051513290X', r_ui=2.807354922057604, est=3.1030182320382695, details={'was_impossible': False}),\n",
              " Prediction(uid=243077, iid='0449912558', r_ui=3.4594316186372978, est=3.0327266586459216, details={'was_impossible': False}),\n",
              " Prediction(uid=129008, iid='0385494149', r_ui=3.1699250014423126, est=3.1371078425959062, details={'was_impossible': False}),\n",
              " Prediction(uid=208829, iid='0440180295', r_ui=2.584962500721156, est=3.273887238826018, details={'was_impossible': False}),\n",
              " Prediction(uid=104636, iid='0553213172', r_ui=3.3219280948873626, est=3.406822633694609, details={'was_impossible': False}),\n",
              " Prediction(uid=259901, iid='0671039741', r_ui=2.807354922057604, est=3.2503611515477697, details={'was_impossible': False}),\n",
              " Prediction(uid=52584, iid='0553578316', r_ui=2.321928094887362, est=3.2539118781077154, details={'was_impossible': False}),\n",
              " Prediction(uid=162639, iid='0440236703', r_ui=3.3219280948873626, est=3.3752993322921068, details={'was_impossible': False}),\n",
              " Prediction(uid=107021, iid='0440241057', r_ui=3.0, est=3.127326464224458, details={'was_impossible': False}),\n",
              " Prediction(uid=231210, iid='1573225789', r_ui=3.3219280948873626, est=3.2024385149830326, details={'was_impossible': False}),\n",
              " Prediction(uid=229741, iid='0786885688', r_ui=3.1699250014423126, est=2.7835758196262295, details={'was_impossible': False}),\n",
              " Prediction(uid=110934, iid='0802139256', r_ui=3.4594316186372978, est=3.256172408909381, details={'was_impossible': False}),\n",
              " Prediction(uid=110483, iid='0345369335', r_ui=3.0, est=3.209668609222341, details={'was_impossible': False}),\n",
              " Prediction(uid=12538, iid='067102423X', r_ui=3.1699250014423126, est=3.221371001193734, details={'was_impossible': False}),\n",
              " Prediction(uid=187520, iid='0099771519', r_ui=3.4594316186372978, est=3.3063914326226675, details={'was_impossible': False}),\n",
              " Prediction(uid=110361, iid='1400033543', r_ui=3.1699250014423126, est=3.01137489622941, details={'was_impossible': False}),\n",
              " Prediction(uid=39646, iid='0671027638', r_ui=2.321928094887362, est=3.049065491779042, details={'was_impossible': False}),\n",
              " Prediction(uid=7915, iid='0609804138', r_ui=2.0, est=3.1563380774473826, details={'was_impossible': False}),\n",
              " Prediction(uid=114178, iid='0440204887', r_ui=3.4594316186372978, est=3.0391037001986354, details={'was_impossible': False}),\n",
              " Prediction(uid=270820, iid='0446519804', r_ui=3.0, est=3.0900214530354133, details={'was_impossible': False}),\n",
              " Prediction(uid=227520, iid='0671042262', r_ui=3.4594316186372978, est=3.3371593914439424, details={'was_impossible': False}),\n",
              " Prediction(uid=81682, iid='0380820293', r_ui=3.0, est=3.09105624796022, details={'was_impossible': False}),\n",
              " Prediction(uid=178199, iid='0449227421', r_ui=3.1699250014423126, est=3.0415061338212097, details={'was_impossible': False}),\n",
              " Prediction(uid=203799, iid='0449911012', r_ui=3.0, est=3.1057144385057263, details={'was_impossible': False}),\n",
              " Prediction(uid=83637, iid='034541215X', r_ui=3.4594316186372978, est=3.2211946588429647, details={'was_impossible': False}),\n",
              " Prediction(uid=224349, iid='0345417623', r_ui=3.3219280948873626, est=2.9302492886168316, details={'was_impossible': False}),\n",
              " Prediction(uid=242006, iid='0515111317', r_ui=3.3219280948873626, est=3.283307787745722, details={'was_impossible': False}),\n",
              " Prediction(uid=215986, iid='0156904365', r_ui=3.1699250014423126, est=2.981161505608786, details={'was_impossible': False}),\n",
              " Prediction(uid=138543, iid='0156528207', r_ui=3.3219280948873626, est=3.1778532913947193, details={'was_impossible': False}),\n",
              " Prediction(uid=168064, iid='042511984X', r_ui=3.1699250014423126, est=2.990619538651081, details={'was_impossible': False}),\n",
              " Prediction(uid=123154, iid='0553274295', r_ui=3.3219280948873626, est=3.3073497803422414, details={'was_impossible': False}),\n",
              " Prediction(uid=75485, iid='0380729342', r_ui=3.4594316186372978, est=2.91522556599713, details={'was_impossible': False}),\n",
              " Prediction(uid=95250, iid='0679777547', r_ui=3.0, est=3.4221565872772937, details={'was_impossible': False}),\n",
              " Prediction(uid=75591, iid='0452269571', r_ui=3.3219280948873626, est=3.3256387355957227, details={'was_impossible': False}),\n",
              " Prediction(uid=96554, iid='0452282152', r_ui=3.1699250014423126, est=3.236650613452823, details={'was_impossible': False}),\n",
              " Prediction(uid=238057, iid='0151008116', r_ui=3.1699250014423126, est=3.1169559792816566, details={'was_impossible': False}),\n",
              " Prediction(uid=272120, iid='0449221393', r_ui=3.3219280948873626, est=2.969224034301092, details={'was_impossible': False}),\n",
              " Prediction(uid=30972, iid='0446606812', r_ui=2.807354922057604, est=2.8371802958639125, details={'was_impossible': False}),\n",
              " Prediction(uid=112541, iid='0671886665', r_ui=3.1699250014423126, est=2.9109066679198627, details={'was_impossible': False}),\n",
              " Prediction(uid=211919, iid='0449003701', r_ui=2.584962500721156, est=3.0182682747907803, details={'was_impossible': False}),\n",
              " Prediction(uid=139359, iid='0743225325', r_ui=3.0, est=3.2100251313734245, details={'was_impossible': False}),\n",
              " Prediction(uid=96357, iid='0553278215', r_ui=3.1699250014423126, est=3.3443747850299443, details={'was_impossible': False}),\n",
              " Prediction(uid=129074, iid='051510566X', r_ui=3.0, est=2.8782793501556494, details={'was_impossible': False}),\n",
              " Prediction(uid=93629, iid='014038572X', r_ui=3.0, est=2.960865458520038, details={'was_impossible': False}),\n",
              " Prediction(uid=15049, iid='0553250426', r_ui=3.1699250014423126, est=3.2897402385714116, details={'was_impossible': False}),\n",
              " Prediction(uid=229313, iid='0345434803', r_ui=3.4594316186372978, est=3.0627490187581152, details={'was_impossible': False}),\n",
              " Prediction(uid=106768, iid='0451184963', r_ui=3.3219280948873626, est=3.049375956282822, details={'was_impossible': False}),\n",
              " Prediction(uid=49109, iid='0399146601', r_ui=2.807354922057604, est=3.048235984152938, details={'was_impossible': False}),\n",
              " Prediction(uid=179772, iid='0446300152', r_ui=3.3219280948873626, est=3.339268941999496, details={'was_impossible': False}),\n",
              " Prediction(uid=139913, iid='0345443284', r_ui=3.3219280948873626, est=2.8521808725726485, details={'was_impossible': False}),\n",
              " Prediction(uid=173679, iid='0375727345', r_ui=3.1699250014423126, est=3.0740413542005274, details={'was_impossible': False}),\n",
              " Prediction(uid=200245, iid='0345353145', r_ui=2.807354922057604, est=3.2314935347828717, details={'was_impossible': False}),\n",
              " Prediction(uid=268300, iid='0515133876', r_ui=3.4594316186372978, est=3.0530170410506634, details={'was_impossible': False}),\n",
              " Prediction(uid=238781, iid='0140244824', r_ui=2.584962500721156, est=2.896754450993243, details={'was_impossible': False}),\n",
              " Prediction(uid=77480, iid='0380720191', r_ui=3.1699250014423126, est=3.1762513107904056, details={'was_impossible': False}),\n",
              " Prediction(uid=276165, iid='0553294903', r_ui=3.1699250014423126, est=3.27903436941621, details={'was_impossible': False}),\n",
              " Prediction(uid=56399, iid='0140143505', r_ui=3.4594316186372978, est=3.3459607941453635, details={'was_impossible': False}),\n",
              " Prediction(uid=35857, iid='0345435028', r_ui=3.3219280948873626, est=3.1882599500521045, details={'was_impossible': False}),\n",
              " Prediction(uid=250962, iid='0441172717', r_ui=3.4594316186372978, est=3.219287603623869, details={'was_impossible': False}),\n",
              " Prediction(uid=208406, iid='0451151259', r_ui=3.3219280948873626, est=3.247510962129341, details={'was_impossible': False}),\n",
              " Prediction(uid=114988, iid='0446360589', r_ui=2.807354922057604, est=2.955583555446706, details={'was_impossible': False}),\n",
              " Prediction(uid=126149, iid='067168390X', r_ui=3.4594316186372978, est=3.279933880717447, details={'was_impossible': False}),\n",
              " Prediction(uid=220688, iid='0805036504', r_ui=3.1699250014423126, est=3.4254773417433624, details={'was_impossible': False}),\n",
              " Prediction(uid=251394, iid='0679435212', r_ui=3.1699250014423126, est=3.149188998033289, details={'was_impossible': False}),\n",
              " Prediction(uid=116599, iid='0373790899', r_ui=3.0, est=3.1075135432166308, details={'was_impossible': False}),\n",
              " Prediction(uid=243077, iid='0061009059', r_ui=3.1699250014423126, est=3.08111922743001, details={'was_impossible': False}),\n",
              " Prediction(uid=23768, iid='0671872001', r_ui=3.1699250014423126, est=3.06990350178538, details={'was_impossible': False}),\n",
              " Prediction(uid=238864, iid='0312278586', r_ui=3.1699250014423126, est=3.043855208930661, details={'was_impossible': False}),\n",
              " Prediction(uid=156534, iid='185326086X', r_ui=3.1699250014423126, est=3.120323939299918, details={'was_impossible': False}),\n",
              " Prediction(uid=168245, iid='0380762560', r_ui=3.3219280948873626, est=3.1035694422702806, details={'was_impossible': False}),\n",
              " Prediction(uid=131032, iid='0515115649', r_ui=2.807354922057604, est=3.0259087262889297, details={'was_impossible': False}),\n",
              " Prediction(uid=107951, iid='0679776591', r_ui=3.1699250014423126, est=3.1652643015579907, details={'was_impossible': False}),\n",
              " Prediction(uid=203401, iid='0446527033', r_ui=3.1699250014423126, est=2.9142995884970273, details={'was_impossible': False}),\n",
              " Prediction(uid=61038, iid='0451523733', r_ui=2.584962500721156, est=2.7867918635552162, details={'was_impossible': False}),\n",
              " Prediction(uid=237534, iid='0345422384', r_ui=3.3219280948873626, est=3.1178961799054346, details={'was_impossible': False}),\n",
              " Prediction(uid=160558, iid='0451167716', r_ui=3.1699250014423126, est=3.083865646661866, details={'was_impossible': False}),\n",
              " Prediction(uid=155778, iid='0140186409', r_ui=3.0, est=3.0919988996533467, details={'was_impossible': False}),\n",
              " Prediction(uid=98904, iid='0743457358', r_ui=3.4594316186372978, est=3.1613097642344927, details={'was_impossible': False}),\n",
              " Prediction(uid=273979, iid='0451202341', r_ui=2.807354922057604, est=3.1182397793323626, details={'was_impossible': False}),\n",
              " Prediction(uid=123544, iid='0553213512', r_ui=1.0, est=3.001431238046418, details={'was_impossible': False}),\n",
              " Prediction(uid=77809, iid='0679429220', r_ui=3.4594316186372978, est=3.0308450370808626, details={'was_impossible': False}),\n",
              " Prediction(uid=113519, iid='0804106304', r_ui=3.3219280948873626, est=3.223180208847704, details={'was_impossible': False}),\n",
              " Prediction(uid=171118, iid='0446400157', r_ui=3.0, est=2.8713135712846523, details={'was_impossible': False}),\n",
              " Prediction(uid=110934, iid='0425178765', r_ui=2.807354922057604, est=3.0758611806868, details={'was_impossible': False}),\n",
              " Prediction(uid=225763, iid='0142001325', r_ui=3.0, est=2.8805831893800313, details={'was_impossible': False}),\n",
              " Prediction(uid=213150, iid='031298328X', r_ui=2.584962500721156, est=2.9345349829850376, details={'was_impossible': False}),\n",
              " Prediction(uid=127359, iid='0140250913', r_ui=3.1699250014423126, est=3.1184962481274345, details={'was_impossible': False}),\n",
              " Prediction(uid=217740, iid='0425133516', r_ui=2.584962500721156, est=2.638262991674918, details={'was_impossible': False}),\n",
              " Prediction(uid=85526, iid='0062502182', r_ui=3.4594316186372978, est=2.9528679310915122, details={'was_impossible': False}),\n",
              " Prediction(uid=7915, iid='0446387878', r_ui=3.0, est=3.3568506213897993, details={'was_impossible': False}),\n",
              " Prediction(uid=271195, iid='0684853507', r_ui=3.4594316186372978, est=3.125049607185934, details={'was_impossible': False}),\n",
              " Prediction(uid=270713, iid='0451408888', r_ui=2.807354922057604, est=2.9252067483338426, details={'was_impossible': False}),\n",
              " Prediction(uid=114414, iid='0373250215', r_ui=3.3219280948873626, est=3.063894192188718, details={'was_impossible': False}),\n",
              " Prediction(uid=136139, iid='0345446860', r_ui=3.3219280948873626, est=3.138068960270972, details={'was_impossible': False}),\n",
              " Prediction(uid=236058, iid='0385265565', r_ui=3.1699250014423126, est=3.0387897598288385, details={'was_impossible': False}),\n",
              " Prediction(uid=171445, iid='1558745157', r_ui=3.1699250014423126, est=3.2161796943888916, details={'was_impossible': False}),\n",
              " Prediction(uid=81771, iid='0385419287', r_ui=2.807354922057604, est=3.1647448713901993, details={'was_impossible': False}),\n",
              " Prediction(uid=26240, iid='0345337662', r_ui=3.0, est=2.9389256101757217, details={'was_impossible': False}),\n",
              " Prediction(uid=227702, iid='0671776134', r_ui=3.1699250014423126, est=2.9772030120572675, details={'was_impossible': False}),\n",
              " Prediction(uid=95359, iid='1573226521', r_ui=3.3219280948873626, est=3.095241724245678, details={'was_impossible': False}),\n",
              " Prediction(uid=185634, iid='0061096113', r_ui=3.1699250014423126, est=3.082350768541709, details={'was_impossible': False}),\n",
              " Prediction(uid=56959, iid='0440422256', r_ui=3.4594316186372978, est=3.242479915953751, details={'was_impossible': False}),\n",
              " Prediction(uid=109901, iid='0451167538', r_ui=3.3219280948873626, est=3.254961292760183, details={'was_impossible': False}),\n",
              " Prediction(uid=61038, iid='0440166497', r_ui=2.584962500721156, est=2.678425951442956, details={'was_impossible': False}),\n",
              " Prediction(uid=256843, iid='0345441133', r_ui=3.1699250014423126, est=3.1443817371875276, details={'was_impossible': False}),\n",
              " Prediction(uid=102359, iid='0878578730', r_ui=3.4594316186372978, est=3.305670877115622, details={'was_impossible': False}),\n",
              " Prediction(uid=143175, iid='0446364800', r_ui=3.4594316186372978, est=3.142857701849782, details={'was_impossible': False}),\n",
              " Prediction(uid=224764, iid='084232920X', r_ui=3.0, est=3.0047108255295196, details={'was_impossible': False}),\n",
              " Prediction(uid=108285, iid='0553569031', r_ui=3.3219280948873626, est=3.2386086658299025, details={'was_impossible': False}),\n",
              " Prediction(uid=111190, iid='0553212737', r_ui=3.3219280948873626, est=3.209415910507843, details={'was_impossible': False}),\n",
              " Prediction(uid=199025, iid='0451160312', r_ui=3.4594316186372978, est=3.1709960113070546, details={'was_impossible': False}),\n",
              " Prediction(uid=11676, iid='0440217520', r_ui=2.0, est=3.098897138181868, details={'was_impossible': False}),\n",
              " Prediction(uid=218221, iid='055329315X', r_ui=3.3219280948873626, est=3.077955325536448, details={'was_impossible': False}),\n",
              " Prediction(uid=206534, iid='0060976845', r_ui=3.1699250014423126, est=3.1287337328975564, details={'was_impossible': False}),\n",
              " Prediction(uid=81560, iid='0345352661', r_ui=3.0, est=3.0294747509528186, details={'was_impossible': False}),\n",
              " Prediction(uid=209875, iid='0805056491', r_ui=3.3219280948873626, est=3.103309025615423, details={'was_impossible': False}),\n",
              " Prediction(uid=39773, iid='0740723367', r_ui=3.4594316186372978, est=3.3301847817656896, details={'was_impossible': False}),\n",
              " Prediction(uid=268711, iid='3257229364', r_ui=3.0, est=3.2609146978506276, details={'was_impossible': False}),\n",
              " Prediction(uid=101851, iid='0345338588', r_ui=3.3219280948873626, est=3.2608343960134847, details={'was_impossible': False}),\n",
              " Prediction(uid=141493, iid='0440235162', r_ui=3.1699250014423126, est=3.2151528942752683, details={'was_impossible': False}),\n",
              " Prediction(uid=40330, iid='0451162072', r_ui=3.3219280948873626, est=3.055998846686936, details={'was_impossible': False}),\n",
              " Prediction(uid=102702, iid='0452281431', r_ui=3.4594316186372978, est=3.3295914069941026, details={'was_impossible': False}),\n",
              " Prediction(uid=185176, iid='0439136350', r_ui=3.4594316186372978, est=3.3402781115472426, details={'was_impossible': False}),\n",
              " Prediction(uid=203603, iid='0553562614', r_ui=3.3219280948873626, est=3.286511671918013, details={'was_impossible': False}),\n",
              " Prediction(uid=236340, iid='0440211727', r_ui=3.4594316186372978, est=3.0368173866487305, details={'was_impossible': False}),\n",
              " Prediction(uid=212965, iid='0394740181', r_ui=2.584962500721156, est=2.854123871994175, details={'was_impossible': False}),\n",
              " Prediction(uid=62558, iid='055329461X', r_ui=3.0, est=3.0027606018881876, details={'was_impossible': False}),\n",
              " Prediction(uid=113983, iid='0446608890', r_ui=3.1699250014423126, est=2.989286971794979, details={'was_impossible': False}),\n",
              " Prediction(uid=114368, iid='0440209412', r_ui=3.4594316186372978, est=2.91705168934712, details={'was_impossible': False}),\n",
              " Prediction(uid=160819, iid='0679429220', r_ui=3.4594316186372978, est=3.24170496386728, details={'was_impossible': False}),\n",
              " Prediction(uid=88693, iid='0451160959', r_ui=3.3219280948873626, est=3.1744127639797277, details={'was_impossible': False}),\n",
              " Prediction(uid=135149, iid='0066214122', r_ui=2.321928094887362, est=3.05869198676269, details={'was_impossible': False}),\n",
              " Prediction(uid=125203, iid='0140293248', r_ui=2.807354922057604, est=3.127328696735513, details={'was_impossible': False}),\n",
              " Prediction(uid=152409, iid='0440226686', r_ui=3.1699250014423126, est=3.0566637305765045, details={'was_impossible': False}),\n",
              " Prediction(uid=177072, iid='0449006581', r_ui=3.3219280948873626, est=3.2950167499206744, details={'was_impossible': False}),\n",
              " Prediction(uid=91113, iid='0684827107', r_ui=3.0, est=3.105591753184853, details={'was_impossible': False}),\n",
              " Prediction(uid=11676, iid='0449212602', r_ui=3.4594316186372978, est=3.208054907061226, details={'was_impossible': False}),\n",
              " Prediction(uid=69971, iid='038542017X', r_ui=3.0, est=3.078962377656595, details={'was_impossible': False}),\n",
              " Prediction(uid=185233, iid='0590494457', r_ui=2.584962500721156, est=2.790555402050776, details={'was_impossible': False}),\n",
              " Prediction(uid=78973, iid='042510687X', r_ui=3.0, est=2.9525560445482433, details={'was_impossible': False}),\n",
              " Prediction(uid=115490, iid='0671695142', r_ui=2.584962500721156, est=2.7251047304155023, details={'was_impossible': False}),\n",
              " Prediction(uid=269157, iid='0553346687', r_ui=3.1699250014423126, est=3.19518797719851, details={'was_impossible': False}),\n",
              " Prediction(uid=75115, iid='3442727952', r_ui=3.1699250014423126, est=3.150190617900615, details={'was_impossible': False}),\n",
              " Prediction(uid=219683, iid='0345397819', r_ui=1.5849625007211563, est=2.8550550605402605, details={'was_impossible': False}),\n",
              " Prediction(uid=95359, iid='0380789612', r_ui=2.0, est=3.2287122956874046, details={'was_impossible': False}),\n",
              " Prediction(uid=258938, iid='0767913795', r_ui=2.0, est=3.114869296153527, details={'was_impossible': False}),\n",
              " Prediction(uid=147847, iid='0684872153', r_ui=3.3219280948873626, est=3.161555181582917, details={'was_impossible': False}),\n",
              " Prediction(uid=99955, iid='0446605239', r_ui=2.321928094887362, est=2.9281192789580888, details={'was_impossible': False}),\n",
              " Prediction(uid=184424, iid='0142001740', r_ui=3.3219280948873626, est=3.3539596232145414, details={'was_impossible': False}),\n",
              " Prediction(uid=228764, iid='0671871005', r_ui=3.4594316186372978, est=3.221793879099728, details={'was_impossible': False}),\n",
              " Prediction(uid=140358, iid='0670846503', r_ui=2.584962500721156, est=2.6257132065926156, details={'was_impossible': False}),\n",
              " ...]"
            ]
          },
          "metadata": {},
          "execution_count": 174
        }
      ]
    },
    {
      "cell_type": "code",
      "source": [
        "# svd = cross_validate(SVD(), data, cv=5, n_jobs=-1, verbose=False)\n",
        "\n",
        "# svdpp = cross_validate(SVDpp(), data, cv=5, n_jobs=-1, verbose=False)\n",
        "\n",
        "# nmf = cross_validate(NMF(), data, cv=5, n_jobs=-1, verbose=False)\n",
        "\n",
        "# slope = cross_validate(SlopeOne(), data, cv=5, n_jobs=-1, verbose=False)\n",
        "\n",
        "\n",
        "# df_results = pd.DataFrame(columns=['Method', 'RMSE', 'MAE'])\n",
        "\n",
        "# df_results.loc[len(df_results)]=['SVD', round(svd['test_rmse'].mean(),5),round(svd['test_mae'].mean(),5)]\n",
        "\n",
        "# df_results.loc[len(df_results)]=['SVD++', round(svdpp['test_rmse'].mean(),5),round(svdpp['test_mae'].mean(),5)]\n",
        "\n",
        "# df_results.loc[len(df_results)]=['NMF', round(nmf['test_rmse'].mean(),5),round(nmf['test_mae'].mean(),5)]\n",
        "\n",
        "# df_results.loc[len(df_results)]=['SlopeOne', round(slope['test_rmse'].mean(),5),round(slope['test_mae'].mean(),5)]\n",
        "\n",
        "# display(df_results)\n",
        "\n",
        "\n",
        "# ax = df_results[['RMSE','MAE']].plot(kind='bar', figsize=(15,8))\n",
        "\n",
        "# ax.set_xticklabels(df_results['Method'].values)\n",
        "\n",
        "# ax.set_title('RMSE and MAE of different collaborative filtering algorithms')\n",
        "\n",
        "# plt.xticks(rotation=45)\n",
        "\n",
        "# matplotlib.rcParams.update({'font.size': 14})\n",
        "\n",
        "# plt.show();"
      ],
      "metadata": {
        "id": "Fguzsx1YvzEh"
      },
      "execution_count": null,
      "outputs": []
    },
    {
      "cell_type": "markdown",
      "source": [
        "##**SVD recall**"
      ],
      "metadata": {
        "id": "cYbjildkMAiq"
      }
    },
    {
      "cell_type": "code",
      "source": [
        "#Creating a sparse pivot table with users in rows and items in columns\n",
        "users_items_pivot_matrix_df= interactions_train_df.pivot(index='User-ID',  columns='ISBN',   values='Book-Rating').fillna(0)"
      ],
      "metadata": {
        "id": "LUjMlCQ-3eJy"
      },
      "execution_count": null,
      "outputs": []
    },
    {
      "cell_type": "code",
      "source": [
        "users_items_pivot_matrix_df.head()"
      ],
      "metadata": {
        "id": "AFTJIh1_0AJM"
      },
      "execution_count": null,
      "outputs": []
    },
    {
      "cell_type": "code",
      "source": [
        "user_ids = list(users_items_pivot_matrix_df.index)"
      ],
      "metadata": {
        "id": "BC8LhYcF9O4P"
      },
      "execution_count": null,
      "outputs": []
    },
    {
      "cell_type": "code",
      "source": [
        "users_items_pivot_matrix = users_items_pivot_matrix_df.values\n",
        "users_items_pivot_matrix[:10]"
      ],
      "metadata": {
        "id": "4ePXjKNn3_Sp"
      },
      "execution_count": null,
      "outputs": []
    },
    {
      "cell_type": "code",
      "source": [],
      "metadata": {
        "id": "XUjBWt4B9K7u"
      },
      "execution_count": null,
      "outputs": []
    },
    {
      "cell_type": "code",
      "source": [
        "from sklearn.metrics.pairwise import cosine_similarity\n",
        "from scipy.sparse.linalg import svds"
      ],
      "metadata": {
        "id": "O-A06MVU7I74"
      },
      "execution_count": null,
      "outputs": []
    },
    {
      "cell_type": "code",
      "source": [
        "## Number of factors tp factor the the user-item matrix\n",
        "NUMBER_OF_FACTORS = 35\n",
        "\n",
        "## Performing matrix factorization of user_items_matrix\n",
        "U, sigma, Vt = svds(users_items_pivot_matrix, k = NUMBER_OF_FACTORS)\n",
        "k=svds(users_items_pivot_matrix, k = NUMBER_OF_FACTORS)"
      ],
      "metadata": {
        "id": "GwJeyp1s7Jv6"
      },
      "execution_count": null,
      "outputs": []
    },
    {
      "cell_type": "code",
      "source": [
        "## Checking the shape of user_items_matrix and U\n",
        "\n",
        "print(users_items_pivot_matrix.shape)\n",
        "print(U.shape)"
      ],
      "metadata": {
        "id": "CdwBdxg_8aPi"
      },
      "execution_count": null,
      "outputs": []
    },
    {
      "cell_type": "code",
      "source": [
        "sigma = np.diag(sigma)\n",
        "sigma.shape"
      ],
      "metadata": {
        "id": "47YBar3U7M3A"
      },
      "execution_count": null,
      "outputs": []
    },
    {
      "cell_type": "code",
      "source": [
        "Vt.shape"
      ],
      "metadata": {
        "id": "fdNf4gbv8Nag"
      },
      "execution_count": null,
      "outputs": []
    },
    {
      "cell_type": "code",
      "source": [
        "all_user_predicted_ratings = np.dot(np.dot(U, sigma), Vt)"
      ],
      "metadata": {
        "id": "Hi-x72C78btF"
      },
      "execution_count": null,
      "outputs": []
    },
    {
      "cell_type": "code",
      "source": [
        "all_user_predicted_ratings.shape"
      ],
      "metadata": {
        "id": "IkePZBph8nfq"
      },
      "execution_count": null,
      "outputs": []
    },
    {
      "cell_type": "code",
      "source": [
        "#Converting the reconstructed matrix back to a Pandas dataframe\n",
        "cf_preds_df = pd.DataFrame(all_user_predicted_ratings, columns = users_items_pivot_matrix_df.columns, index=user_ids).transpose()\n",
        "cf_preds_df.head()"
      ],
      "metadata": {
        "id": "O07xQwc-926T"
      },
      "execution_count": null,
      "outputs": []
    },
    {
      "cell_type": "code",
      "source": [
        "class Recommender:\n",
        "\n",
        "    MODEL_NAME = 'Collaborative Filtering'\n",
        "\n",
        "    def __init__(self, predictions_df):\n",
        "        self.predictions_df = predictions_df\n",
        "\n",
        "    def get_model_name(self):\n",
        "        return self.MODEL_NAME\n",
        "    \n",
        "    def recommend_items(self, user_id, items_to_ignore = [], topn = 10):\n",
        "        # Get and sort the user's predictions\n",
        "        sorted_user_predictions = self.predictions_df[user_id].sort_values(ascending=False).reset_index().rename(columns={user_id: 'recStrength'})\n",
        "\n",
        "        # Recommend the highest predicted rating content that the user hasn't seen yet.\n",
        "        recommendations_df = sorted_user_predictions[~sorted_user_predictions['ISBN'].isin(items_to_ignore)].sort_values('recStrength', ascending = False).head(topn)\n",
        "        recommendations_df = recommendations_df.merge(books,on='ISBN',how='inner')\n",
        "        recommendations_df = recommendations_df[['ISBN','Book-Title','recStrength']]\n",
        "\n",
        "        return recommendations_df\n",
        "\n",
        "recommender_model = Recommender(cf_preds_df)"
      ],
      "metadata": {
        "id": "mAfeikC4-Py1"
      },
      "execution_count": null,
      "outputs": []
    },
    {
      "cell_type": "code",
      "source": [
        "books.head(1)"
      ],
      "metadata": {
        "id": "Yrr8Rk3BJPSw"
      },
      "execution_count": null,
      "outputs": []
    },
    {
      "cell_type": "code",
      "source": [
        "#Indexing by personId to speed up the searches during evaluation\n",
        "interactions_full_indexed_df = interactions_full_df.set_index('User-ID')\n",
        "interactions_train_indexed_df = interactions_train_df.set_index('User-ID')\n",
        "interactions_test_indexed_df = interactions_test_df.set_index('User-ID')"
      ],
      "metadata": {
        "id": "p3joqZL5-jw8"
      },
      "execution_count": null,
      "outputs": []
    },
    {
      "cell_type": "code",
      "source": [
        "def get_items_interacted(UserID, interactions_df):\n",
        "    interacted_items = interactions_df.loc[UserID]['ISBN']\n",
        "    return set(interacted_items if type(interacted_items) == pd.Series else [interacted_items])"
      ],
      "metadata": {
        "id": "pbUWAA5n-e3T"
      },
      "execution_count": null,
      "outputs": []
    },
    {
      "cell_type": "code",
      "source": [
        "import random"
      ],
      "metadata": {
        "id": "_oFhV-WrAa0u"
      },
      "execution_count": null,
      "outputs": []
    },
    {
      "cell_type": "code",
      "source": [
        "class ModelRecommender:\n",
        "\n",
        "    # Function for getting the set of items which a user has not interacted with\n",
        "    def get_not_interacted_items_sample(self, UserID, sample_size, seed=42):\n",
        "        interacted_items = get_items_interacted(UserID, interactions_full_indexed_df)\n",
        "        all_items = set(df['ISBN'])\n",
        "        non_interacted_items = all_items - interacted_items\n",
        "\n",
        "        random.seed(seed)\n",
        "        non_interacted_items_sample = random.sample(non_interacted_items, sample_size)\n",
        "        return set(non_interacted_items_sample)\n",
        "\n",
        "    # Function to verify whether a particular item_id was present in the set of top N recommended items\n",
        "    def _verify_hit_top_n(self, item_id, recommended_items, topn):        \n",
        "            try:\n",
        "                index = next(i for i, c in enumerate(recommended_items) if c == item_id)\n",
        "            except:\n",
        "                index = -1\n",
        "            hit = int(index in range(0, topn))\n",
        "            return hit, index\n",
        "    \n",
        "    # Function to evaluate the performance of model for each user\n",
        "    def evaluate_model_for_user(self, model, person_id):\n",
        "        \n",
        "        # Getting the items in test set\n",
        "        interacted_values_testset = interactions_test_indexed_df.loc[person_id]\n",
        "        \n",
        "        if type(interacted_values_testset['ISBN']) == pd.Series:\n",
        "            person_interacted_items_testset = set(interacted_values_testset['ISBN'])\n",
        "        else:\n",
        "            person_interacted_items_testset = set([str(interacted_values_testset['ISBN'])])\n",
        "            \n",
        "        interacted_items_count_testset = len(person_interacted_items_testset) \n",
        "\n",
        "        # Getting a ranked recommendation list from the model for a given user\n",
        "        person_recs_df = model.recommend_items(person_id, items_to_ignore=get_items_interacted(person_id, interactions_train_indexed_df),topn=10000000000)\n",
        "        print('Recommendation for User-ID = ',person_id)\n",
        "        print(person_recs_df.head(10))\n",
        "\n",
        "        # Function to evaluate the performance of model at overall level\n",
        "    def recommend_book(self, model ,userid):\n",
        "        \n",
        "        person_metrics = self.evaluate_model_for_user(model, userid)  \n",
        "        return\n",
        "\n",
        "model_recommender = ModelRecommender()"
      ],
      "metadata": {
        "id": "9NH-jpFpAChE"
      },
      "execution_count": null,
      "outputs": []
    },
    {
      "cell_type": "code",
      "source": [
        "user=int(input(\"Enter User ID from above list for book recommendation:  \"))\n",
        "model_recommender.recommend_book(recommender_model,user)"
      ],
      "metadata": {
        "id": "gAZdsTtCAh1C"
      },
      "execution_count": null,
      "outputs": []
    },
    {
      "cell_type": "code",
      "source": [],
      "metadata": {
        "id": "G_MvBrazICZb"
      },
      "execution_count": null,
      "outputs": []
    }
  ]
}